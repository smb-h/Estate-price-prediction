{
  "nbformat": 4,
  "nbformat_minor": 0,
  "metadata": {
    "colab": {
      "provenance": []
    },
    "kernelspec": {
      "name": "python3",
      "display_name": "Python 3"
    },
    "language_info": {
      "name": "python"
    }
  },
  "cells": [
    {
      "cell_type": "code",
      "source": [
        "!pip install pycalverter\n",
        "!pip install pmdarima\n",
        "\n",
        "from google.colab import files\n",
        "from google.colab import drive\n",
        "drive.mount('/content/drive')"
      ],
      "metadata": {
        "colab": {
          "base_uri": "https://localhost:8080/"
        },
        "id": "ApUVggGndIz7",
        "outputId": "3a013ed3-864d-40b7-e60d-463b7598a9b2"
      },
      "execution_count": null,
      "outputs": [
        {
          "output_type": "stream",
          "name": "stdout",
          "text": [
            "Requirement already satisfied: pycalverter in /usr/local/lib/python3.10/dist-packages (1.6.1)\n",
            "Requirement already satisfied: pmdarima in /usr/local/lib/python3.10/dist-packages (2.0.3)\n",
            "Requirement already satisfied: joblib>=0.11 in /usr/local/lib/python3.10/dist-packages (from pmdarima) (1.2.0)\n",
            "Requirement already satisfied: Cython!=0.29.18,!=0.29.31,>=0.29 in /usr/local/lib/python3.10/dist-packages (from pmdarima) (0.29.35)\n",
            "Requirement already satisfied: numpy>=1.21.2 in /usr/local/lib/python3.10/dist-packages (from pmdarima) (1.22.4)\n",
            "Requirement already satisfied: pandas>=0.19 in /usr/local/lib/python3.10/dist-packages (from pmdarima) (1.5.3)\n",
            "Requirement already satisfied: scikit-learn>=0.22 in /usr/local/lib/python3.10/dist-packages (from pmdarima) (1.2.2)\n",
            "Requirement already satisfied: scipy>=1.3.2 in /usr/local/lib/python3.10/dist-packages (from pmdarima) (1.10.1)\n",
            "Requirement already satisfied: statsmodels>=0.13.2 in /usr/local/lib/python3.10/dist-packages (from pmdarima) (0.13.5)\n",
            "Requirement already satisfied: urllib3 in /usr/local/lib/python3.10/dist-packages (from pmdarima) (1.26.16)\n",
            "Requirement already satisfied: setuptools!=50.0.0,>=38.6.0 in /usr/local/lib/python3.10/dist-packages (from pmdarima) (67.7.2)\n",
            "Requirement already satisfied: python-dateutil>=2.8.1 in /usr/local/lib/python3.10/dist-packages (from pandas>=0.19->pmdarima) (2.8.2)\n",
            "Requirement already satisfied: pytz>=2020.1 in /usr/local/lib/python3.10/dist-packages (from pandas>=0.19->pmdarima) (2022.7.1)\n",
            "Requirement already satisfied: threadpoolctl>=2.0.0 in /usr/local/lib/python3.10/dist-packages (from scikit-learn>=0.22->pmdarima) (3.1.0)\n",
            "Requirement already satisfied: patsy>=0.5.2 in /usr/local/lib/python3.10/dist-packages (from statsmodels>=0.13.2->pmdarima) (0.5.3)\n",
            "Requirement already satisfied: packaging>=21.3 in /usr/local/lib/python3.10/dist-packages (from statsmodels>=0.13.2->pmdarima) (23.1)\n",
            "Requirement already satisfied: six in /usr/local/lib/python3.10/dist-packages (from patsy>=0.5.2->statsmodels>=0.13.2->pmdarima) (1.16.0)\n",
            "Drive already mounted at /content/drive; to attempt to forcibly remount, call drive.mount(\"/content/drive\", force_remount=True).\n"
          ]
        }
      ]
    },
    {
      "cell_type": "code",
      "source": [
        "from calverter import Calverter\n",
        "from datetime import datetime\n",
        "###\n",
        "# jalali_to_gregorian\n",
        "def gregorian_to_jalali(year, month, day):\n",
        "    \"\"\"\n",
        "    Converts a Gregorian date to Jalali.\n",
        "\n",
        "    :param year: the year of the Gregorian date\n",
        "    :param month: the month of the Gregorian date\n",
        "    :param day: the day of the Gregorian date\n",
        "    :return: a tuple (year, month, day) representing the equivalent Jalali date\n",
        "    \"\"\"\n",
        "    converter = Calverter()\n",
        "    julian_date = converter.gregorian_to_jd(year, month, day)\n",
        "    j_tuple = converter.jd_to_jalali(julian_date)\n",
        "    return j_tuple[0], j_tuple[1], j_tuple[2]\n",
        "\n",
        "\n",
        "def jalali_to_gregorian(year, month, day):\n",
        "    \"\"\"\n",
        "    Converts a Jalali date to Gregorian.\n",
        "\n",
        "    :param year: the year of the Jalali date\n",
        "    :param month: the month of the Jalali date\n",
        "    :param day: the day of the Jalali date\n",
        "    :return: a tuple (year, month, day) representing the equivalent Gregorian date\n",
        "    \"\"\"\n",
        "    converter = Calverter()\n",
        "    julian_date = converter.jalali_to_jd(year, month, day)\n",
        "    g_tuple = converter.jd_to_gregorian(julian_date)\n",
        "    return g_tuple[0], g_tuple[1], g_tuple[2]\n",
        "\n",
        "\n",
        "def jalali_to_str(year, month, day, has_time, hour=0, minute=0):\n",
        "    date = '{}/{}/{}'.format(year, month, day)\n",
        "    if has_time:\n",
        "        time = '{:02d}:{:02d}'.format(int(hour), int(minute))\n",
        "        return date+' '+time\n",
        "    return date\n",
        "\n",
        "\n",
        "def str_to_jalali(string, hast_time):\n",
        "    if string is None or string is '':\n",
        "        return ''\n",
        "    if not isinstance(string, str):\n",
        "        string = str(string)\n",
        "    if hast_time:\n",
        "        date, time = string.split(' ')\n",
        "        hour, minute = time.split(':')\n",
        "    else:\n",
        "        date = string\n",
        "        hour, minute = None, None\n",
        "    year, month, day = date.split('/')\n",
        "    if hast_time:\n",
        "        return year, month, day, hour, minute\n",
        "    return year, month, day\n",
        "\n",
        "\n",
        "def gregorian_to_str(year, month, day, hast_time, hour=0, minute=0):\n",
        "    date = '{}-{}-{}'.format(year, month, day)\n",
        "    if hast_time:\n",
        "        time = '{:02d}:{:02d}'.format(int(hour), int(minute))\n",
        "        return date+' '+time\n",
        "    return date\n",
        "\n",
        "\n",
        "def str_to_gregorian(string, hast_time):\n",
        "    if string is None or string is '':\n",
        "        return ''\n",
        "    if not isinstance(string, str):\n",
        "        string = str(string)\n",
        "    if hast_time:\n",
        "        date, time = string.split(' ')\n",
        "        hour, minute = time.split(':')\n",
        "    else:\n",
        "        date = string\n",
        "        hour, minute = None, None\n",
        "    year, month, day = date.split('-')\n",
        "    if hast_time:\n",
        "        return year, month, day, hour, minute\n",
        "    return year, month, day\n",
        "###\n",
        "\n",
        "###\n",
        "# jalali_to_gregorian(year, month, day)\n",
        "def _convert_str_to_date(date_str):\n",
        "  year = int(date_str.split('-')[0])\n",
        "  month = int(date_str.split('-')[1])\n",
        "  day = int(date_str.split('-')[2])\n",
        "  return year, month, day\n",
        "\n",
        "# _convert_str_to_date('1360-06-01')\n",
        "def _convert_to_miladi(year, month, day):\n",
        "  miladi_year, miladi_month, miladi_day =jalali_to_gregorian(year=year, month=month, day=day)\n",
        "  return datetime(year=miladi_year, month=miladi_month, day=miladi_day)\n",
        "\n",
        "def miladi(ff):  #return is like:   miladi('1360-01-01')=datetime.datetime(1981, 3, 21, 0, 0)\n",
        "  return _convert_to_miladi(_convert_str_to_date(ff)[0],_convert_str_to_date(ff)[1],_convert_str_to_date(ff)[2])\n",
        "\n",
        "# for convert '1360-06-01' to miladi date time you just need to run :miladi('1360-06-01')\n",
        "###"
      ],
      "metadata": {
        "colab": {
          "base_uri": "https://localhost:8080/"
        },
        "id": "7TtFPl4hKKOa",
        "outputId": "4d290bbe-4067-49be-f7a0-d4e6ad67fc40"
      },
      "execution_count": null,
      "outputs": [
        {
          "output_type": "stream",
          "name": "stderr",
          "text": [
            "<>:44: SyntaxWarning: \"is\" with a literal. Did you mean \"==\"?\n",
            "<>:69: SyntaxWarning: \"is\" with a literal. Did you mean \"==\"?\n",
            "<>:44: SyntaxWarning: \"is\" with a literal. Did you mean \"==\"?\n",
            "<>:69: SyntaxWarning: \"is\" with a literal. Did you mean \"==\"?\n",
            "<ipython-input-6-a645e5c52515>:44: SyntaxWarning: \"is\" with a literal. Did you mean \"==\"?\n",
            "  if string is None or string is '':\n",
            "<ipython-input-6-a645e5c52515>:69: SyntaxWarning: \"is\" with a literal. Did you mean \"==\"?\n",
            "  if string is None or string is '':\n"
          ]
        }
      ]
    },
    {
      "cell_type": "code",
      "source": [
        "# Generate time series data\n",
        "import pandas as pd\n",
        "import numpy as np\n",
        "economic_df=pd.read_csv(\"drive/My Drive/Master Thesis/Imputation/bfilImputation_df.csv\")\n",
        "date=pd.DataFrame({'Date':economic_df['Date']})\n",
        "date=date['Date'].tolist()\n",
        "date=np.array([miladi(t) for t in date])\n",
        "time = np.array([np.datetime64(t) for t in date])       # Convert time to datetime format\n",
        "\n"
      ],
      "metadata": {
        "id": "97rNfJxYkJAr"
      },
      "execution_count": null,
      "outputs": []
    },
    {
      "cell_type": "code",
      "source": [
        "import pandas as pd\n",
        "import matplotlib.pyplot as plt\n",
        "from sklearn.model_selection import train_test_split\n",
        "from sklearn.metrics import r2_score, mean_squared_error, mean_absolute_error\n",
        "\n",
        "#import the input variable; e.g. b1=eco_var\n",
        "eco_var='b1'    #determine which parameter do you want to predict\n",
        "economic_df=pd.read_csv(\"drive/My Drive/Master Thesis/Imputation/bfilImputation_df.csv\")\n",
        "y_data=economic_df['{}'.format(eco_var)]\n",
        "y_data=np.array(y_data.tolist())\n",
        "\n",
        "\n",
        "# Split the time series into train and test sets\n",
        "#with shuffling(wrong)\n",
        "# time_train, time_test, y_train, y_test = train_test_split(time, y_data, test_size=0.3, random_state=42)\n",
        "\n",
        "#without shuffling(correct)\n",
        "split_ratio = 0.7  # Percentage of data for training (rest is for testing)\n",
        "split_index = int(len(time) * split_ratio)\n",
        "\n",
        "time_train, time_test = time[:split_index], time[split_index:]\n",
        "y_train, y_test = y_data[:split_index], y_data[split_index:]\n",
        "\n",
        "# Define the degree of the polynomial regression\n",
        "degree = 3\n",
        "\n",
        "# Perform polynomial regression on the training data\n",
        "coefficients = np.polyfit(time_train.astype(int), y_train, degree)\n",
        "polynomial = np.poly1d(coefficients)\n",
        "\n",
        "# # Generate forecast data\n",
        "# time_forecast = np.array(['2021-11-01', '2021-12-01', '2022-01-01', '2022-02-01'])\n",
        "# time_forecast = np.array([np.datetime64(date) for date in time_forecast])\n",
        "# y_forecast = polynomial(time_forecast.astype(int))\n",
        "\n",
        "# Calculate R-squared for training set\n",
        "y_train_pred = polynomial(time_train.astype(int))\n",
        "r2 = r2_score(y_train, y_train_pred)\n",
        "\n",
        "# Calculate MSE and MAE on test data\n",
        "y_test_pred = polynomial(time_test.astype(int))\n",
        "mse = mean_squared_error(y_test, y_test_pred)\n",
        "mae = mean_absolute_error(y_test, y_test_pred)\n",
        "\n",
        "# Calculate R-squared for test set\n",
        "r2test = r2_score(y_test, y_test_pred)\n",
        "# Calculate MAPE on test data\n",
        "mape = np.mean(np.abs((y_test - y_test_pred) / y_test)) * 100\n",
        "\n",
        "# Print the evaluation metrics\n",
        "print(\"R-squared (train):\", r2)\n",
        "print(\"R-squared (test):\", r2test)\n",
        "print(\"MSE (test):\", mse)\n",
        "print(\"MAE (test):\", mae)\n",
        "print(\"MAPE (test):\", mape)\n",
        "\n",
        "# Plot the original time series, training data, and forecast\n",
        "plt.plot(time, y_data, label='Original data')\n",
        "plt.plot(time_train, y_train_pred, 'ro', label='Training data')\n",
        "plt.plot(time_test, y_test_pred, 'go', label='Training data')\n",
        "# plt.plot(time_forecast, y_forecast, 'g', label='Forecast')\n",
        "plt.legend()\n",
        "plt.xlabel('Time')\n",
        "plt.ylabel('Y')\n",
        "plt.show()\n",
        "\n",
        "#Result\n",
        "Result=[y for y in y_train_pred]\n",
        "for y in y_test_pred:\n",
        "  Result.append(y)\n"
      ],
      "metadata": {
        "colab": {
          "base_uri": "https://localhost:8080/",
          "height": 536
        },
        "id": "hgKMYlDBnbSs",
        "outputId": "ed9c2fba-bdae-4cca-a203-70e84fe764b9"
      },
      "execution_count": null,
      "outputs": [
        {
          "output_type": "stream",
          "name": "stdout",
          "text": [
            "R-squared (train): 0.24520044865116786\n",
            "R-squared (test): 0.2671133187095729\n",
            "MSE (test): 1.18687342396216\n",
            "MAE (test): 0.8941431933907356\n",
            "MAPE (test): 120.70210136648917\n"
          ]
        },
        {
          "output_type": "display_data",
          "data": {
            "text/plain": [
              "<Figure size 640x480 with 1 Axes>"
            ],
            "image/png": "[encoded data removed]"
          },
          "metadata": {}
        }
      ]
    },
    {
      "cell_type": "code",
      "source": [
        "#Result\n",
        "Result=[y for y in y_train_pred]\n",
        "for y in y_test_pred:\n",
        "  Result.append(y)\n",
        "\n",
        "# print(len(Result))\n",
        "Result_df=pd.DataFrame({'Result':Result})\n",
        "\n",
        "# Result_df\n",
        "Result_df.head()\n",
        "Result_df.to_csv('Result_{}.csv'.format(eco_var),index=False)\n",
        "files.download('Result_{}.csv'.format(eco_var))\n"
      ],
      "metadata": {
        "colab": {
          "base_uri": "https://localhost:8080/",
          "height": 54
        },
        "id": "d5_Y4NNovRhx",
        "outputId": "5d0531b2-03a2-4aa6-dbed-9722846b26c4"
      },
      "execution_count": null,
      "outputs": [
        {
          "output_type": "stream",
          "name": "stdout",
          "text": [
            "[-0.5522128525704613, 0.6581901268853061, -0.5051215700955387, 0.2669711602476088, 0.5309655725431748, -0.09031058408142112, -0.80314549382829, -0.28361545239097374, -0.023073005418550174, -1.04534208367616, -0.11944238282444442, -0.5487286780747693, 0.7174782991356117, -0.039710556438998346, -0.561712666659469, -0.046214368235131253, 0.7153051972339544, 0.4614764398043354, -0.2545132927162008, 0.7124581787451354, 0.7084769738357961, 0.13921655086632345, -0.6565665422767086, -1.1280467829897898, -0.13533022483568757, -0.4871077797062515, 0.49609831905185775, -0.5536223404058846, -0.5268207415120516, 0.6889916269527077, -0.5350562285684397, -0.5163334898308287, 0.6306614479314163, 0.2511748402529177, 0.20616564226872391, 0.3165091494025347, -0.534385724599411, 0.5635264114387457, 0.35979155341036684, -0.8823695388332427, -1.3991809570332183, 0.1461305280722387, -0.4487602175438248, 0.5140926702342252, 0.3385642824438362, -0.1994637643799102, 0.06865777537756568, -0.5608947042014529, 0.7034093950476108, 0.6150366166360444, 0.40356568970001394, -0.17791138800887385, -1.6919424871965933, 0.6914704280831141, 0.7087593100580771, 0.6662122446606, -0.35453306063108503, -0.08051949290554461, 0.6449020371636598, 0.0011351892049367152, -0.7287507027746623, -0.41992112444919893, -0.5560592516477509, 0.22838935112725167, 0.16055835834475474, -0.558962870051591, -0.46200467228644193, -0.15534038085232993, -0.49810374926934387, 0.00018960540938195436, 0.5131459208496922, 0.7040893935541601, 0.45934589526207326, 0.2953719727326254, -0.3859553374717066, -0.44943510002268905, 0.42051743460852276, -0.1891533165380217, -0.33784767056089304, -0.24062607285671866, 0.006909236092625726, 0.5582208947358778, -0.42697147304514793, 0.04520173509792613, -0.14958705727611665, 0.48769636956310514, 0.18778657928117592, -0.5842715959357117, -0.1567550738832546, -0.3364201690966082, 0.6840693732042005, -0.40417687711535955, -1.5903651445603204, -0.2604323916033824, -0.43499269972526555, 0.4001331692918759, -0.49214171125659956, -0.2804813261502588, -1.3083053450304316, 0.5974096970698426, -0.5471844315377732, -0.9640093092189304, 0.09073397590173293, -0.37208350452013494, -0.0946317056388013, 0.5782494513910477, -0.20478106819132247, 0.6451059407850641, 0.5935668561738563, 0.716977701207794, 0.3802487475341607, 0.09212483925621129, 0.6968567986517646, -1.7927795830561388, -0.477717005504088, 0.022790800965102775, 0.6757222554162752, -0.36292377883609284, 0.4775635674220773, 0.6335002680243287, 0.13722024179029546, 0.3713942316173906, -0.26133261525300355, -0.22067414193021406, -0.514281848578432, -1.2169130891135636, 0.3383103272178136, 0.22764519418071316, 0.7169160267864614, -0.5614264870411727, 0.6801039712254644, 0.6982707108593766, -0.518014463092932, 0.440471523890106, 0.05423614168325752, -0.38563184976922926, 0.4339833728453568, -0.5261409701640467, 0.11481894428109563, 0.10117059775108839, -0.5574474377107759, -0.560048438911477, -0.3183824920400964, 0.7152331660050604, -1.4914239761294787, -0.4625338281867126, -0.40660471875627824, 0.6558308582357766, -0.4457831560080985, -0.31110626654742735, 0.3044331269648799, -0.22272121569476244, -0.5411523632255886, 0.670055416891385, 0.1837972740858751, 0.6207315303959886, -0.30007803746405326, -0.5083147618066608, 0.273750602168211, -0.11293614067040281, -0.47494767423140516, 0.044247671897134744, 0.5472806212815327, -0.32254648907666894, 0.7124303423692417, 0.5791212747515084, -0.388326488060196, -0.5426368644716053, -0.041761104160512375, 0.5369519216113465, 0.6072016415108532, -0.06822094430606285]\n"
          ]
        },
        {
          "output_type": "display_data",
          "data": {
            "text/plain": [
              "<IPython.core.display.Javascript object>"
            ],
            "application/javascript": [
              "\n",
              "    async function download(id, filename, size) {\n",
              "      if (!google.colab.kernel.accessAllowed) {\n",
              "        return;\n",
              "      }\n",
              "      const div = document.createElement('div');\n",
              "      const label = document.createElement('label');\n",
              "      label.textContent = `Downloading \"${filename}\": `;\n",
              "      div.appendChild(label);\n",
              "      const progress = document.createElement('progress');\n",
              "      progress.max = size;\n",
              "      div.appendChild(progress);\n",
              "      document.body.appendChild(div);\n",
              "\n",
              "      const buffers = [];\n",
              "      let downloaded = 0;\n",
              "\n",
              "      const channel = await google.colab.kernel.comms.open(id);\n",
              "      // Send a message to notify the kernel that we're ready.\n",
              "      channel.send({})\n",
              "\n",
              "      for await (const message of channel.messages) {\n",
              "        // Send a message to notify the kernel that we're ready.\n",
              "        channel.send({})\n",
              "        if (message.buffers) {\n",
              "          for (const buffer of message.buffers) {\n",
              "            buffers.push(buffer);\n",
              "            downloaded += buffer.byteLength;\n",
              "            progress.value = downloaded;\n",
              "          }\n",
              "        }\n",
              "      }\n",
              "      const blob = new Blob(buffers, {type: 'application/binary'});\n",
              "      const a = document.createElement('a');\n",
              "      a.href = window.URL.createObjectURL(blob);\n",
              "      a.download = filename;\n",
              "      div.appendChild(a);\n",
              "      a.click();\n",
              "      div.remove();\n",
              "    }\n",
              "  "
            ]
          },
          "metadata": {}
        },
        {
          "output_type": "display_data",
          "data": {
            "text/plain": [
              "<IPython.core.display.Javascript object>"
            ],
            "application/javascript": [
              "download(\"download_4a071ab8-e503-4894-b1a6-cdbf1a33586c\", \"Result_b1.csv\", 3420)"
            ]
          },
          "metadata": {}
        },
        {
          "output_type": "display_data",
          "data": {
            "text/plain": [
              "<IPython.core.display.Javascript object>"
            ],
            "application/javascript": [
              "\n",
              "    async function download(id, filename, size) {\n",
              "      if (!google.colab.kernel.accessAllowed) {\n",
              "        return;\n",
              "      }\n",
              "      const div = document.createElement('div');\n",
              "      const label = document.createElement('label');\n",
              "      label.textContent = `Downloading \"${filename}\": `;\n",
              "      div.appendChild(label);\n",
              "      const progress = document.createElement('progress');\n",
              "      progress.max = size;\n",
              "      div.appendChild(progress);\n",
              "      document.body.appendChild(div);\n",
              "\n",
              "      const buffers = [];\n",
              "      let downloaded = 0;\n",
              "\n",
              "      const channel = await google.colab.kernel.comms.open(id);\n",
              "      // Send a message to notify the kernel that we're ready.\n",
              "      channel.send({})\n",
              "\n",
              "      for await (const message of channel.messages) {\n",
              "        // Send a message to notify the kernel that we're ready.\n",
              "        channel.send({})\n",
              "        if (message.buffers) {\n",
              "          for (const buffer of message.buffers) {\n",
              "            buffers.push(buffer);\n",
              "            downloaded += buffer.byteLength;\n",
              "            progress.value = downloaded;\n",
              "          }\n",
              "        }\n",
              "      }\n",
              "      const blob = new Blob(buffers, {type: 'application/binary'});\n",
              "      const a = document.createElement('a');\n",
              "      a.href = window.URL.createObjectURL(blob);\n",
              "      a.download = filename;\n",
              "      div.appendChild(a);\n",
              "      a.click();\n",
              "      div.remove();\n",
              "    }\n",
              "  "
            ]
          },
          "metadata": {}
        },
        {
          "output_type": "display_data",
          "data": {
            "text/plain": [
              "<IPython.core.display.Javascript object>"
            ],
            "application/javascript": [
              "download(\"download_a6c33aad-4252-4d74-8516-4a3d77b66ace\", \"c_b1.csv\", 3364)"
            ]
          },
          "metadata": {}
        }
      ]
    }
  ]
}