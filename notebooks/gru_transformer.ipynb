{
 "cells": [
  {
   "cell_type": "code",
   "execution_count": 1,
   "metadata": {},
   "outputs": [
    {
     "name": "stderr",
     "output_type": "stream",
     "text": [
      "2023-08-12 14:55:18.950003: I tensorflow/core/util/port.cc:110] oneDNN custom operations are on. You may see slightly different numerical results due to floating-point round-off errors from different computation orders. To turn them off, set the environment variable `TF_ENABLE_ONEDNN_OPTS=0`.\n",
      "2023-08-12 14:55:19.000847: I tensorflow/tsl/cuda/cudart_stub.cc:28] Could not find cuda drivers on your machine, GPU will not be used.\n",
      "2023-08-12 14:55:19.233438: I tensorflow/tsl/cuda/cudart_stub.cc:28] Could not find cuda drivers on your machine, GPU will not be used.\n",
      "2023-08-12 14:55:19.234271: I tensorflow/core/platform/cpu_feature_guard.cc:182] This TensorFlow binary is optimized to use available CPU instructions in performance-critical operations.\n",
      "To enable the following instructions: AVX2 AVX512F AVX512_VNNI FMA, in other operations, rebuild TensorFlow with the appropriate compiler flags.\n",
      "2023-08-12 14:55:20.054817: W tensorflow/compiler/tf2tensorrt/utils/py_utils.cc:38] TF-TRT Warning: Could not find TensorRT\n"
     ]
    }
   ],
   "source": [
    "import pandas as pd\n",
    "import numpy as np\n",
    "from datetime import datetime\n",
    "import jdatetime\n",
    "from sklearn.model_selection import train_test_split\n",
    "from sklearn.metrics import (\n",
    "    mean_squared_error, mean_absolute_error, \n",
    "    r2_score, mean_absolute_percentage_error\n",
    ")\n",
    "import plotly.express as px\n",
    "import plotly.graph_objects as go\n",
    "from tqdm import tqdm\n",
    "from tensorflow import keras"
   ]
  },
  {
   "cell_type": "code",
   "execution_count": 2,
   "metadata": {},
   "outputs": [
    {
     "data": {
      "text/html": [
       "<div>\n",
       "<style scoped>\n",
       "    .dataframe tbody tr th:only-of-type {\n",
       "        vertical-align: middle;\n",
       "    }\n",
       "\n",
       "    .dataframe tbody tr th {\n",
       "        vertical-align: top;\n",
       "    }\n",
       "\n",
       "    .dataframe thead th {\n",
       "        text-align: right;\n",
       "    }\n",
       "</style>\n",
       "<table border=\"1\" class=\"dataframe\">\n",
       "  <thead>\n",
       "    <tr style=\"text-align: right;\">\n",
       "      <th></th>\n",
       "      <th>start_date</th>\n",
       "      <th>end_date</th>\n",
       "      <th>project_duration</th>\n",
       "      <th>x1</th>\n",
       "      <th>x2</th>\n",
       "      <th>x3</th>\n",
       "      <th>x5</th>\n",
       "      <th>x51</th>\n",
       "      <th>y</th>\n",
       "    </tr>\n",
       "  </thead>\n",
       "  <tbody>\n",
       "    <tr>\n",
       "      <th>0</th>\n",
       "      <td>1396-01-01</td>\n",
       "      <td>1400-01-01</td>\n",
       "      <td>48</td>\n",
       "      <td>3150.0</td>\n",
       "      <td>920.0</td>\n",
       "      <td>1</td>\n",
       "      <td>1703.672462</td>\n",
       "      <td>16</td>\n",
       "      <td>9979.795043</td>\n",
       "    </tr>\n",
       "    <tr>\n",
       "      <th>1</th>\n",
       "      <td>1395-01-01</td>\n",
       "      <td>1400-10-01</td>\n",
       "      <td>69</td>\n",
       "      <td>7600.0</td>\n",
       "      <td>1140.0</td>\n",
       "      <td>1</td>\n",
       "      <td>1446.077707</td>\n",
       "      <td>23</td>\n",
       "      <td>16362.045147</td>\n",
       "    </tr>\n",
       "    <tr>\n",
       "      <th>2</th>\n",
       "      <td>1398-01-01</td>\n",
       "      <td>1401-10-01</td>\n",
       "      <td>45</td>\n",
       "      <td>4800.0</td>\n",
       "      <td>840.0</td>\n",
       "      <td>1</td>\n",
       "      <td>2376.845399</td>\n",
       "      <td>15</td>\n",
       "      <td>14120.093280</td>\n",
       "    </tr>\n",
       "    <tr>\n",
       "      <th>3</th>\n",
       "      <td>1397-04-01</td>\n",
       "      <td>1398-04-01</td>\n",
       "      <td>12</td>\n",
       "      <td>685.0</td>\n",
       "      <td>202.0</td>\n",
       "      <td>1</td>\n",
       "      <td>1207.741141</td>\n",
       "      <td>4</td>\n",
       "      <td>2560.672748</td>\n",
       "    </tr>\n",
       "    <tr>\n",
       "      <th>4</th>\n",
       "      <td>1387-01-01</td>\n",
       "      <td>1390-04-01</td>\n",
       "      <td>39</td>\n",
       "      <td>3000.0</td>\n",
       "      <td>800.0</td>\n",
       "      <td>1</td>\n",
       "      <td>410.000000</td>\n",
       "      <td>13</td>\n",
       "      <td>700.000000</td>\n",
       "    </tr>\n",
       "  </tbody>\n",
       "</table>\n",
       "</div>"
      ],
      "text/plain": [
       "   start_date    end_date  project_duration      x1      x2  x3           x5  \\\n",
       "0  1396-01-01  1400-01-01                48  3150.0   920.0   1  1703.672462   \n",
       "1  1395-01-01  1400-10-01                69  7600.0  1140.0   1  1446.077707   \n",
       "2  1398-01-01  1401-10-01                45  4800.0   840.0   1  2376.845399   \n",
       "3  1397-04-01  1398-04-01                12   685.0   202.0   1  1207.741141   \n",
       "4  1387-01-01  1390-04-01                39  3000.0   800.0   1   410.000000   \n",
       "\n",
       "   x51             y  \n",
       "0   16   9979.795043  \n",
       "1   23  16362.045147  \n",
       "2   15  14120.093280  \n",
       "3    4   2560.672748  \n",
       "4   13    700.000000  "
      ]
     },
     "execution_count": 2,
     "metadata": {},
     "output_type": "execute_result"
    }
   ],
   "source": [
    "df = pd.read_csv('../data/processed/main_feats.csv')\n",
    "df.head()"
   ]
  },
  {
   "cell_type": "code",
   "execution_count": 3,
   "metadata": {},
   "outputs": [
    {
     "data": {
      "text/html": [
       "<div>\n",
       "<style scoped>\n",
       "    .dataframe tbody tr th:only-of-type {\n",
       "        vertical-align: middle;\n",
       "    }\n",
       "\n",
       "    .dataframe tbody tr th {\n",
       "        vertical-align: top;\n",
       "    }\n",
       "\n",
       "    .dataframe thead th {\n",
       "        text-align: right;\n",
       "    }\n",
       "</style>\n",
       "<table border=\"1\" class=\"dataframe\">\n",
       "  <thead>\n",
       "    <tr style=\"text-align: right;\">\n",
       "      <th></th>\n",
       "      <th>Date</th>\n",
       "      <th>b1</th>\n",
       "      <th>b2</th>\n",
       "      <th>b3</th>\n",
       "      <th>b4</th>\n",
       "      <th>b5</th>\n",
       "      <th>b6</th>\n",
       "      <th>b7</th>\n",
       "      <th>b8</th>\n",
       "      <th>b9</th>\n",
       "      <th>...</th>\n",
       "      <th>Sin b6</th>\n",
       "      <th>Sin b7</th>\n",
       "      <th>Sin b8</th>\n",
       "      <th>Sin b9</th>\n",
       "      <th>Sin b10</th>\n",
       "      <th>Sin b14</th>\n",
       "      <th>Sin b17</th>\n",
       "      <th>Sin b18</th>\n",
       "      <th>Sin B-23</th>\n",
       "      <th>Sin B-24</th>\n",
       "    </tr>\n",
       "  </thead>\n",
       "  <tbody>\n",
       "    <tr>\n",
       "      <th>0</th>\n",
       "      <td>1360-01-01</td>\n",
       "      <td>-0.312302</td>\n",
       "      <td>-0.573053</td>\n",
       "      <td>-1.008179</td>\n",
       "      <td>-0.486658</td>\n",
       "      <td>-0.519259</td>\n",
       "      <td>-0.550486</td>\n",
       "      <td>-0.524004</td>\n",
       "      <td>-0.474211</td>\n",
       "      <td>-0.763966</td>\n",
       "      <td>...</td>\n",
       "      <td>-0.760378</td>\n",
       "      <td>-0.519490</td>\n",
       "      <td>-0.536372</td>\n",
       "      <td>-0.881368</td>\n",
       "      <td>-0.592062</td>\n",
       "      <td>-0.674918</td>\n",
       "      <td>-0.894974</td>\n",
       "      <td>-0.765731</td>\n",
       "      <td>-0.739974</td>\n",
       "      <td>-0.624255</td>\n",
       "    </tr>\n",
       "    <tr>\n",
       "      <th>1</th>\n",
       "      <td>1360-04-01</td>\n",
       "      <td>-0.526017</td>\n",
       "      <td>-0.573053</td>\n",
       "      <td>-1.045895</td>\n",
       "      <td>-0.486639</td>\n",
       "      <td>-0.519352</td>\n",
       "      <td>-0.550486</td>\n",
       "      <td>-0.523908</td>\n",
       "      <td>-0.474211</td>\n",
       "      <td>-0.763704</td>\n",
       "      <td>...</td>\n",
       "      <td>-0.760378</td>\n",
       "      <td>-0.519405</td>\n",
       "      <td>-0.536372</td>\n",
       "      <td>-0.881702</td>\n",
       "      <td>-0.592062</td>\n",
       "      <td>-0.674918</td>\n",
       "      <td>-0.894543</td>\n",
       "      <td>-0.765731</td>\n",
       "      <td>-0.739974</td>\n",
       "      <td>-0.624255</td>\n",
       "    </tr>\n",
       "    <tr>\n",
       "      <th>2</th>\n",
       "      <td>1360-07-01</td>\n",
       "      <td>-0.431611</td>\n",
       "      <td>-0.573053</td>\n",
       "      <td>-1.097080</td>\n",
       "      <td>-0.486628</td>\n",
       "      <td>-0.519297</td>\n",
       "      <td>-0.550486</td>\n",
       "      <td>-0.523908</td>\n",
       "      <td>-0.474146</td>\n",
       "      <td>-0.763828</td>\n",
       "      <td>...</td>\n",
       "      <td>-0.760378</td>\n",
       "      <td>-0.519405</td>\n",
       "      <td>-0.536306</td>\n",
       "      <td>-0.881544</td>\n",
       "      <td>-0.592062</td>\n",
       "      <td>-0.674918</td>\n",
       "      <td>-0.894332</td>\n",
       "      <td>-0.765731</td>\n",
       "      <td>-0.739974</td>\n",
       "      <td>-0.624255</td>\n",
       "    </tr>\n",
       "    <tr>\n",
       "      <th>3</th>\n",
       "      <td>1360-10-01</td>\n",
       "      <td>-0.573509</td>\n",
       "      <td>-0.573053</td>\n",
       "      <td>-1.083610</td>\n",
       "      <td>-0.486563</td>\n",
       "      <td>-0.519403</td>\n",
       "      <td>-0.550486</td>\n",
       "      <td>-0.523716</td>\n",
       "      <td>-0.474211</td>\n",
       "      <td>-0.763741</td>\n",
       "      <td>...</td>\n",
       "      <td>-0.760378</td>\n",
       "      <td>-0.519234</td>\n",
       "      <td>-0.536372</td>\n",
       "      <td>-0.881655</td>\n",
       "      <td>-0.592062</td>\n",
       "      <td>-0.674918</td>\n",
       "      <td>-0.893711</td>\n",
       "      <td>-0.765731</td>\n",
       "      <td>-0.739974</td>\n",
       "      <td>-0.624255</td>\n",
       "    </tr>\n",
       "    <tr>\n",
       "      <th>4</th>\n",
       "      <td>1361-01-01</td>\n",
       "      <td>-0.586830</td>\n",
       "      <td>-0.573053</td>\n",
       "      <td>-1.038711</td>\n",
       "      <td>-0.486562</td>\n",
       "      <td>-0.518833</td>\n",
       "      <td>-0.550486</td>\n",
       "      <td>-0.523716</td>\n",
       "      <td>-0.474015</td>\n",
       "      <td>-0.763624</td>\n",
       "      <td>...</td>\n",
       "      <td>-0.760378</td>\n",
       "      <td>-0.519234</td>\n",
       "      <td>-0.536175</td>\n",
       "      <td>-0.881803</td>\n",
       "      <td>-0.590450</td>\n",
       "      <td>-0.674918</td>\n",
       "      <td>-0.894031</td>\n",
       "      <td>-0.765731</td>\n",
       "      <td>-0.739974</td>\n",
       "      <td>-0.624255</td>\n",
       "    </tr>\n",
       "  </tbody>\n",
       "</table>\n",
       "<p>5 rows × 46 columns</p>\n",
       "</div>"
      ],
      "text/plain": [
       "         Date        b1        b2        b3        b4        b5        b6  \\\n",
       "0  1360-01-01 -0.312302 -0.573053 -1.008179 -0.486658 -0.519259 -0.550486   \n",
       "1  1360-04-01 -0.526017 -0.573053 -1.045895 -0.486639 -0.519352 -0.550486   \n",
       "2  1360-07-01 -0.431611 -0.573053 -1.097080 -0.486628 -0.519297 -0.550486   \n",
       "3  1360-10-01 -0.573509 -0.573053 -1.083610 -0.486563 -0.519403 -0.550486   \n",
       "4  1361-01-01 -0.586830 -0.573053 -1.038711 -0.486562 -0.518833 -0.550486   \n",
       "\n",
       "         b7        b8        b9  ...    Sin b6    Sin b7    Sin b8    Sin b9  \\\n",
       "0 -0.524004 -0.474211 -0.763966  ... -0.760378 -0.519490 -0.536372 -0.881368   \n",
       "1 -0.523908 -0.474211 -0.763704  ... -0.760378 -0.519405 -0.536372 -0.881702   \n",
       "2 -0.523908 -0.474146 -0.763828  ... -0.760378 -0.519405 -0.536306 -0.881544   \n",
       "3 -0.523716 -0.474211 -0.763741  ... -0.760378 -0.519234 -0.536372 -0.881655   \n",
       "4 -0.523716 -0.474015 -0.763624  ... -0.760378 -0.519234 -0.536175 -0.881803   \n",
       "\n",
       "    Sin b10   Sin b14   Sin b17   Sin b18  Sin B-23  Sin B-24  \n",
       "0 -0.592062 -0.674918 -0.894974 -0.765731 -0.739974 -0.624255  \n",
       "1 -0.592062 -0.674918 -0.894543 -0.765731 -0.739974 -0.624255  \n",
       "2 -0.592062 -0.674918 -0.894332 -0.765731 -0.739974 -0.624255  \n",
       "3 -0.592062 -0.674918 -0.893711 -0.765731 -0.739974 -0.624255  \n",
       "4 -0.590450 -0.674918 -0.894031 -0.765731 -0.739974 -0.624255  \n",
       "\n",
       "[5 rows x 46 columns]"
      ]
     },
     "execution_count": 3,
     "metadata": {},
     "output_type": "execute_result"
    }
   ],
   "source": [
    "df_economics = pd.read_csv('../data/processed/cubic_imputated_economics.csv')\n",
    "df_economics.head()"
   ]
  },
  {
   "cell_type": "code",
   "execution_count": 4,
   "metadata": {},
   "outputs": [
    {
     "name": "stdout",
     "output_type": "stream",
     "text": [
      "(400, 54)\n"
     ]
    },
    {
     "data": {
      "text/html": [
       "<div>\n",
       "<style scoped>\n",
       "    .dataframe tbody tr th:only-of-type {\n",
       "        vertical-align: middle;\n",
       "    }\n",
       "\n",
       "    .dataframe tbody tr th {\n",
       "        vertical-align: top;\n",
       "    }\n",
       "\n",
       "    .dataframe thead th {\n",
       "        text-align: right;\n",
       "    }\n",
       "</style>\n",
       "<table border=\"1\" class=\"dataframe\">\n",
       "  <thead>\n",
       "    <tr style=\"text-align: right;\">\n",
       "      <th></th>\n",
       "      <th>start_date</th>\n",
       "      <th>end_date</th>\n",
       "      <th>project_duration</th>\n",
       "      <th>x1</th>\n",
       "      <th>x2</th>\n",
       "      <th>x3</th>\n",
       "      <th>x5</th>\n",
       "      <th>x51</th>\n",
       "      <th>b1</th>\n",
       "      <th>b2</th>\n",
       "      <th>...</th>\n",
       "      <th>Sin b7</th>\n",
       "      <th>Sin b8</th>\n",
       "      <th>Sin b9</th>\n",
       "      <th>Sin b10</th>\n",
       "      <th>Sin b14</th>\n",
       "      <th>Sin b17</th>\n",
       "      <th>Sin b18</th>\n",
       "      <th>Sin B-23</th>\n",
       "      <th>Sin B-24</th>\n",
       "      <th>y</th>\n",
       "    </tr>\n",
       "  </thead>\n",
       "  <tbody>\n",
       "    <tr>\n",
       "      <th>0</th>\n",
       "      <td>1396-01-01</td>\n",
       "      <td>1400-01-01</td>\n",
       "      <td>48</td>\n",
       "      <td>3150.0</td>\n",
       "      <td>920.0</td>\n",
       "      <td>1</td>\n",
       "      <td>1703.672462</td>\n",
       "      <td>16</td>\n",
       "      <td>-0.627952</td>\n",
       "      <td>0.512964</td>\n",
       "      <td>...</td>\n",
       "      <td>0.473973</td>\n",
       "      <td>0.263595</td>\n",
       "      <td>-9.090529e-01</td>\n",
       "      <td>0.294251</td>\n",
       "      <td>-0.124358</td>\n",
       "      <td>0.975063</td>\n",
       "      <td>0.964070</td>\n",
       "      <td>0.954525</td>\n",
       "      <td>0.769512</td>\n",
       "      <td>9979.795043</td>\n",
       "    </tr>\n",
       "    <tr>\n",
       "      <th>1</th>\n",
       "      <td>1395-01-01</td>\n",
       "      <td>1400-10-01</td>\n",
       "      <td>69</td>\n",
       "      <td>7600.0</td>\n",
       "      <td>1140.0</td>\n",
       "      <td>1</td>\n",
       "      <td>1446.077707</td>\n",
       "      <td>23</td>\n",
       "      <td>-0.903059</td>\n",
       "      <td>0.432169</td>\n",
       "      <td>...</td>\n",
       "      <td>0.383201</td>\n",
       "      <td>0.210828</td>\n",
       "      <td>-6.687348e-01</td>\n",
       "      <td>0.225918</td>\n",
       "      <td>-0.221708</td>\n",
       "      <td>0.999795</td>\n",
       "      <td>0.905790</td>\n",
       "      <td>0.901170</td>\n",
       "      <td>0.658368</td>\n",
       "      <td>16362.045147</td>\n",
       "    </tr>\n",
       "    <tr>\n",
       "      <th>2</th>\n",
       "      <td>1398-01-01</td>\n",
       "      <td>1401-10-01</td>\n",
       "      <td>45</td>\n",
       "      <td>4800.0</td>\n",
       "      <td>840.0</td>\n",
       "      <td>1</td>\n",
       "      <td>2376.845399</td>\n",
       "      <td>15</td>\n",
       "      <td>-0.660964</td>\n",
       "      <td>1.126800</td>\n",
       "      <td>...</td>\n",
       "      <td>0.929428</td>\n",
       "      <td>0.999566</td>\n",
       "      <td>-1.262291e-01</td>\n",
       "      <td>0.307541</td>\n",
       "      <td>0.975338</td>\n",
       "      <td>-0.041006</td>\n",
       "      <td>0.865552</td>\n",
       "      <td>0.931351</td>\n",
       "      <td>0.889746</td>\n",
       "      <td>14120.093280</td>\n",
       "    </tr>\n",
       "    <tr>\n",
       "      <th>3</th>\n",
       "      <td>1397-04-01</td>\n",
       "      <td>1398-04-01</td>\n",
       "      <td>12</td>\n",
       "      <td>685.0</td>\n",
       "      <td>202.0</td>\n",
       "      <td>1</td>\n",
       "      <td>1207.741141</td>\n",
       "      <td>4</td>\n",
       "      <td>-0.268284</td>\n",
       "      <td>0.718625</td>\n",
       "      <td>...</td>\n",
       "      <td>0.653622</td>\n",
       "      <td>0.586774</td>\n",
       "      <td>-2.449294e-16</td>\n",
       "      <td>0.756817</td>\n",
       "      <td>0.921560</td>\n",
       "      <td>0.433860</td>\n",
       "      <td>0.996015</td>\n",
       "      <td>0.999972</td>\n",
       "      <td>0.954203</td>\n",
       "      <td>2560.672748</td>\n",
       "    </tr>\n",
       "    <tr>\n",
       "      <th>4</th>\n",
       "      <td>1387-01-01</td>\n",
       "      <td>1390-04-01</td>\n",
       "      <td>39</td>\n",
       "      <td>3000.0</td>\n",
       "      <td>800.0</td>\n",
       "      <td>1</td>\n",
       "      <td>410.000000</td>\n",
       "      <td>13</td>\n",
       "      <td>1.995128</td>\n",
       "      <td>-0.328568</td>\n",
       "      <td>...</td>\n",
       "      <td>-0.258078</td>\n",
       "      <td>-0.278387</td>\n",
       "      <td>-2.820141e-01</td>\n",
       "      <td>-0.397584</td>\n",
       "      <td>-0.609905</td>\n",
       "      <td>-0.503466</td>\n",
       "      <td>-0.134573</td>\n",
       "      <td>-0.134950</td>\n",
       "      <td>-0.311864</td>\n",
       "      <td>700.000000</td>\n",
       "    </tr>\n",
       "  </tbody>\n",
       "</table>\n",
       "<p>5 rows × 54 columns</p>\n",
       "</div>"
      ],
      "text/plain": [
       "   start_date    end_date  project_duration      x1      x2  x3           x5  \\\n",
       "0  1396-01-01  1400-01-01                48  3150.0   920.0   1  1703.672462   \n",
       "1  1395-01-01  1400-10-01                69  7600.0  1140.0   1  1446.077707   \n",
       "2  1398-01-01  1401-10-01                45  4800.0   840.0   1  2376.845399   \n",
       "3  1397-04-01  1398-04-01                12   685.0   202.0   1  1207.741141   \n",
       "4  1387-01-01  1390-04-01                39  3000.0   800.0   1   410.000000   \n",
       "\n",
       "   x51        b1        b2  ...    Sin b7    Sin b8        Sin b9   Sin b10  \\\n",
       "0   16 -0.627952  0.512964  ...  0.473973  0.263595 -9.090529e-01  0.294251   \n",
       "1   23 -0.903059  0.432169  ...  0.383201  0.210828 -6.687348e-01  0.225918   \n",
       "2   15 -0.660964  1.126800  ...  0.929428  0.999566 -1.262291e-01  0.307541   \n",
       "3    4 -0.268284  0.718625  ...  0.653622  0.586774 -2.449294e-16  0.756817   \n",
       "4   13  1.995128 -0.328568  ... -0.258078 -0.278387 -2.820141e-01 -0.397584   \n",
       "\n",
       "    Sin b14   Sin b17   Sin b18  Sin B-23  Sin B-24             y  \n",
       "0 -0.124358  0.975063  0.964070  0.954525  0.769512   9979.795043  \n",
       "1 -0.221708  0.999795  0.905790  0.901170  0.658368  16362.045147  \n",
       "2  0.975338 -0.041006  0.865552  0.931351  0.889746  14120.093280  \n",
       "3  0.921560  0.433860  0.996015  0.999972  0.954203   2560.672748  \n",
       "4 -0.609905 -0.503466 -0.134573 -0.134950 -0.311864    700.000000  \n",
       "\n",
       "[5 rows x 54 columns]"
      ]
     },
     "execution_count": 4,
     "metadata": {},
     "output_type": "execute_result"
    }
   ],
   "source": [
    "# filter df_economics drop extera rows for now (TODO: Add seasonal and  lag later)\n",
    "df_economics = df_economics[df_economics['Date'].isin(df['start_date'])]\n",
    "df = pd.merge(df, df_economics, how='left', left_on='start_date', right_on='Date')\n",
    "del df_economics\n",
    "df = df[[c for c in df if c not in ['y']] + ['y']]\n",
    "# drop Date column\n",
    "df = df.drop(['Date'], axis=1)\n",
    "print(df.shape)\n",
    "df.head()"
   ]
  },
  {
   "cell_type": "code",
   "execution_count": 5,
   "metadata": {},
   "outputs": [
    {
     "name": "stdout",
     "output_type": "stream",
     "text": [
      "(400, 24)\n"
     ]
    },
    {
     "data": {
      "text/html": [
       "<div>\n",
       "<style scoped>\n",
       "    .dataframe tbody tr th:only-of-type {\n",
       "        vertical-align: middle;\n",
       "    }\n",
       "\n",
       "    .dataframe tbody tr th {\n",
       "        vertical-align: top;\n",
       "    }\n",
       "\n",
       "    .dataframe thead th {\n",
       "        text-align: right;\n",
       "    }\n",
       "</style>\n",
       "<table border=\"1\" class=\"dataframe\">\n",
       "  <thead>\n",
       "    <tr style=\"text-align: right;\">\n",
       "      <th></th>\n",
       "      <th>start_date</th>\n",
       "      <th>end_date</th>\n",
       "      <th>project_duration</th>\n",
       "      <th>x1</th>\n",
       "      <th>x2</th>\n",
       "      <th>x3</th>\n",
       "      <th>x5</th>\n",
       "      <th>x51</th>\n",
       "      <th>b1</th>\n",
       "      <th>b2</th>\n",
       "      <th>...</th>\n",
       "      <th>b7</th>\n",
       "      <th>b8</th>\n",
       "      <th>b9</th>\n",
       "      <th>b10</th>\n",
       "      <th>b14</th>\n",
       "      <th>b17</th>\n",
       "      <th>b18</th>\n",
       "      <th>B-23</th>\n",
       "      <th>B-24</th>\n",
       "      <th>y</th>\n",
       "    </tr>\n",
       "  </thead>\n",
       "  <tbody>\n",
       "    <tr>\n",
       "      <th>0</th>\n",
       "      <td>1396-01-01</td>\n",
       "      <td>1400-01-01</td>\n",
       "      <td>48</td>\n",
       "      <td>3150.0</td>\n",
       "      <td>920.0</td>\n",
       "      <td>1</td>\n",
       "      <td>1703.672462</td>\n",
       "      <td>16</td>\n",
       "      <td>-0.627952</td>\n",
       "      <td>0.512964</td>\n",
       "      <td>...</td>\n",
       "      <td>0.473683</td>\n",
       "      <td>0.223436</td>\n",
       "      <td>1.586044</td>\n",
       "      <td>0.212582</td>\n",
       "      <td>-0.078869</td>\n",
       "      <td>1.076990</td>\n",
       "      <td>0.977018</td>\n",
       "      <td>0.980000</td>\n",
       "      <td>0.686014</td>\n",
       "      <td>9979.795043</td>\n",
       "    </tr>\n",
       "    <tr>\n",
       "      <th>1</th>\n",
       "      <td>1395-01-01</td>\n",
       "      <td>1400-10-01</td>\n",
       "      <td>69</td>\n",
       "      <td>7600.0</td>\n",
       "      <td>1140.0</td>\n",
       "      <td>1</td>\n",
       "      <td>1446.077707</td>\n",
       "      <td>23</td>\n",
       "      <td>-0.903059</td>\n",
       "      <td>0.432169</td>\n",
       "      <td>...</td>\n",
       "      <td>0.377241</td>\n",
       "      <td>0.177932</td>\n",
       "      <td>1.434758</td>\n",
       "      <td>0.162199</td>\n",
       "      <td>-0.141420</td>\n",
       "      <td>0.930535</td>\n",
       "      <td>0.850433</td>\n",
       "      <td>0.867476</td>\n",
       "      <td>0.561457</td>\n",
       "      <td>16362.045147</td>\n",
       "    </tr>\n",
       "    <tr>\n",
       "      <th>2</th>\n",
       "      <td>1398-01-01</td>\n",
       "      <td>1401-10-01</td>\n",
       "      <td>45</td>\n",
       "      <td>4800.0</td>\n",
       "      <td>840.0</td>\n",
       "      <td>1</td>\n",
       "      <td>2376.845399</td>\n",
       "      <td>15</td>\n",
       "      <td>-0.660964</td>\n",
       "      <td>1.126800</td>\n",
       "      <td>...</td>\n",
       "      <td>1.144272</td>\n",
       "      <td>1.340417</td>\n",
       "      <td>2.280080</td>\n",
       "      <td>2.013554</td>\n",
       "      <td>1.134411</td>\n",
       "      <td>1.909989</td>\n",
       "      <td>1.572436</td>\n",
       "      <td>1.501990</td>\n",
       "      <td>1.597541</td>\n",
       "      <td>14120.093280</td>\n",
       "    </tr>\n",
       "    <tr>\n",
       "      <th>3</th>\n",
       "      <td>1397-04-01</td>\n",
       "      <td>1398-04-01</td>\n",
       "      <td>12</td>\n",
       "      <td>685.0</td>\n",
       "      <td>202.0</td>\n",
       "      <td>1</td>\n",
       "      <td>1207.741141</td>\n",
       "      <td>4</td>\n",
       "      <td>-0.268284</td>\n",
       "      <td>0.718625</td>\n",
       "      <td>...</td>\n",
       "      <td>0.683344</td>\n",
       "      <td>0.525254</td>\n",
       "      <td>2.326954</td>\n",
       "      <td>1.625061</td>\n",
       "      <td>0.741419</td>\n",
       "      <td>1.616050</td>\n",
       "      <td>1.245815</td>\n",
       "      <td>1.208175</td>\n",
       "      <td>0.989856</td>\n",
       "      <td>2560.672748</td>\n",
       "    </tr>\n",
       "    <tr>\n",
       "      <th>4</th>\n",
       "      <td>1387-01-01</td>\n",
       "      <td>1390-04-01</td>\n",
       "      <td>39</td>\n",
       "      <td>3000.0</td>\n",
       "      <td>800.0</td>\n",
       "      <td>1</td>\n",
       "      <td>410.000000</td>\n",
       "      <td>13</td>\n",
       "      <td>1.995128</td>\n",
       "      <td>-0.328568</td>\n",
       "      <td>...</td>\n",
       "      <td>-0.250400</td>\n",
       "      <td>-0.236309</td>\n",
       "      <td>-0.105879</td>\n",
       "      <td>-0.291025</td>\n",
       "      <td>-0.414927</td>\n",
       "      <td>-0.316633</td>\n",
       "      <td>-0.101297</td>\n",
       "      <td>-0.104613</td>\n",
       "      <td>-0.247783</td>\n",
       "      <td>700.000000</td>\n",
       "    </tr>\n",
       "  </tbody>\n",
       "</table>\n",
       "<p>5 rows × 24 columns</p>\n",
       "</div>"
      ],
      "text/plain": [
       "   start_date    end_date  project_duration      x1      x2  x3           x5  \\\n",
       "0  1396-01-01  1400-01-01                48  3150.0   920.0   1  1703.672462   \n",
       "1  1395-01-01  1400-10-01                69  7600.0  1140.0   1  1446.077707   \n",
       "2  1398-01-01  1401-10-01                45  4800.0   840.0   1  2376.845399   \n",
       "3  1397-04-01  1398-04-01                12   685.0   202.0   1  1207.741141   \n",
       "4  1387-01-01  1390-04-01                39  3000.0   800.0   1   410.000000   \n",
       "\n",
       "   x51        b1        b2  ...        b7        b8        b9       b10  \\\n",
       "0   16 -0.627952  0.512964  ...  0.473683  0.223436  1.586044  0.212582   \n",
       "1   23 -0.903059  0.432169  ...  0.377241  0.177932  1.434758  0.162199   \n",
       "2   15 -0.660964  1.126800  ...  1.144272  1.340417  2.280080  2.013554   \n",
       "3    4 -0.268284  0.718625  ...  0.683344  0.525254  2.326954  1.625061   \n",
       "4   13  1.995128 -0.328568  ... -0.250400 -0.236309 -0.105879 -0.291025   \n",
       "\n",
       "        b14       b17       b18      B-23      B-24             y  \n",
       "0 -0.078869  1.076990  0.977018  0.980000  0.686014   9979.795043  \n",
       "1 -0.141420  0.930535  0.850433  0.867476  0.561457  16362.045147  \n",
       "2  1.134411  1.909989  1.572436  1.501990  1.597541  14120.093280  \n",
       "3  0.741419  1.616050  1.245815  1.208175  0.989856   2560.672748  \n",
       "4 -0.414927 -0.316633 -0.101297 -0.104613 -0.247783    700.000000  \n",
       "\n",
       "[5 rows x 24 columns]"
      ]
     },
     "execution_count": 5,
     "metadata": {},
     "output_type": "execute_result"
    }
   ],
   "source": [
    "df = df[[c for c in df if 'Sin' not in c]]\n",
    "df = df[[c for c in df if 'Cosine' not in c]]\n",
    "print(df.shape)\n",
    "df.head()"
   ]
  },
  {
   "cell_type": "code",
   "execution_count": 6,
   "metadata": {},
   "outputs": [
    {
     "data": {
      "text/html": [
       "<div>\n",
       "<style scoped>\n",
       "    .dataframe tbody tr th:only-of-type {\n",
       "        vertical-align: middle;\n",
       "    }\n",
       "\n",
       "    .dataframe tbody tr th {\n",
       "        vertical-align: top;\n",
       "    }\n",
       "\n",
       "    .dataframe thead th {\n",
       "        text-align: right;\n",
       "    }\n",
       "</style>\n",
       "<table border=\"1\" class=\"dataframe\">\n",
       "  <thead>\n",
       "    <tr style=\"text-align: right;\">\n",
       "      <th></th>\n",
       "      <th>start_date</th>\n",
       "      <th>end_date</th>\n",
       "      <th>project_duration</th>\n",
       "      <th>x1</th>\n",
       "      <th>x2</th>\n",
       "      <th>x3</th>\n",
       "      <th>x5</th>\n",
       "      <th>x51</th>\n",
       "      <th>b1</th>\n",
       "      <th>b2</th>\n",
       "      <th>...</th>\n",
       "      <th>b7</th>\n",
       "      <th>b8</th>\n",
       "      <th>b9</th>\n",
       "      <th>b10</th>\n",
       "      <th>b14</th>\n",
       "      <th>b17</th>\n",
       "      <th>b18</th>\n",
       "      <th>B-23</th>\n",
       "      <th>B-24</th>\n",
       "      <th>y</th>\n",
       "    </tr>\n",
       "  </thead>\n",
       "  <tbody>\n",
       "    <tr>\n",
       "      <th>0</th>\n",
       "      <td>2017-03-21</td>\n",
       "      <td>2021-03-21</td>\n",
       "      <td>48</td>\n",
       "      <td>3150.0</td>\n",
       "      <td>920.0</td>\n",
       "      <td>1</td>\n",
       "      <td>1703.672462</td>\n",
       "      <td>16</td>\n",
       "      <td>-0.627952</td>\n",
       "      <td>0.512964</td>\n",
       "      <td>...</td>\n",
       "      <td>0.473683</td>\n",
       "      <td>0.223436</td>\n",
       "      <td>1.586044</td>\n",
       "      <td>0.212582</td>\n",
       "      <td>-0.078869</td>\n",
       "      <td>1.076990</td>\n",
       "      <td>0.977018</td>\n",
       "      <td>0.980000</td>\n",
       "      <td>0.686014</td>\n",
       "      <td>9979.795043</td>\n",
       "    </tr>\n",
       "    <tr>\n",
       "      <th>1</th>\n",
       "      <td>2016-03-20</td>\n",
       "      <td>2021-12-22</td>\n",
       "      <td>69</td>\n",
       "      <td>7600.0</td>\n",
       "      <td>1140.0</td>\n",
       "      <td>1</td>\n",
       "      <td>1446.077707</td>\n",
       "      <td>23</td>\n",
       "      <td>-0.903059</td>\n",
       "      <td>0.432169</td>\n",
       "      <td>...</td>\n",
       "      <td>0.377241</td>\n",
       "      <td>0.177932</td>\n",
       "      <td>1.434758</td>\n",
       "      <td>0.162199</td>\n",
       "      <td>-0.141420</td>\n",
       "      <td>0.930535</td>\n",
       "      <td>0.850433</td>\n",
       "      <td>0.867476</td>\n",
       "      <td>0.561457</td>\n",
       "      <td>16362.045147</td>\n",
       "    </tr>\n",
       "    <tr>\n",
       "      <th>2</th>\n",
       "      <td>2019-03-21</td>\n",
       "      <td>2022-12-22</td>\n",
       "      <td>45</td>\n",
       "      <td>4800.0</td>\n",
       "      <td>840.0</td>\n",
       "      <td>1</td>\n",
       "      <td>2376.845399</td>\n",
       "      <td>15</td>\n",
       "      <td>-0.660964</td>\n",
       "      <td>1.126800</td>\n",
       "      <td>...</td>\n",
       "      <td>1.144272</td>\n",
       "      <td>1.340417</td>\n",
       "      <td>2.280080</td>\n",
       "      <td>2.013554</td>\n",
       "      <td>1.134411</td>\n",
       "      <td>1.909989</td>\n",
       "      <td>1.572436</td>\n",
       "      <td>1.501990</td>\n",
       "      <td>1.597541</td>\n",
       "      <td>14120.093280</td>\n",
       "    </tr>\n",
       "    <tr>\n",
       "      <th>3</th>\n",
       "      <td>2018-06-22</td>\n",
       "      <td>2019-06-22</td>\n",
       "      <td>12</td>\n",
       "      <td>685.0</td>\n",
       "      <td>202.0</td>\n",
       "      <td>1</td>\n",
       "      <td>1207.741141</td>\n",
       "      <td>4</td>\n",
       "      <td>-0.268284</td>\n",
       "      <td>0.718625</td>\n",
       "      <td>...</td>\n",
       "      <td>0.683344</td>\n",
       "      <td>0.525254</td>\n",
       "      <td>2.326954</td>\n",
       "      <td>1.625061</td>\n",
       "      <td>0.741419</td>\n",
       "      <td>1.616050</td>\n",
       "      <td>1.245815</td>\n",
       "      <td>1.208175</td>\n",
       "      <td>0.989856</td>\n",
       "      <td>2560.672748</td>\n",
       "    </tr>\n",
       "    <tr>\n",
       "      <th>4</th>\n",
       "      <td>2008-03-20</td>\n",
       "      <td>2011-06-22</td>\n",
       "      <td>39</td>\n",
       "      <td>3000.0</td>\n",
       "      <td>800.0</td>\n",
       "      <td>1</td>\n",
       "      <td>410.000000</td>\n",
       "      <td>13</td>\n",
       "      <td>1.995128</td>\n",
       "      <td>-0.328568</td>\n",
       "      <td>...</td>\n",
       "      <td>-0.250400</td>\n",
       "      <td>-0.236309</td>\n",
       "      <td>-0.105879</td>\n",
       "      <td>-0.291025</td>\n",
       "      <td>-0.414927</td>\n",
       "      <td>-0.316633</td>\n",
       "      <td>-0.101297</td>\n",
       "      <td>-0.104613</td>\n",
       "      <td>-0.247783</td>\n",
       "      <td>700.000000</td>\n",
       "    </tr>\n",
       "  </tbody>\n",
       "</table>\n",
       "<p>5 rows × 24 columns</p>\n",
       "</div>"
      ],
      "text/plain": [
       "  start_date   end_date  project_duration      x1      x2  x3           x5  \\\n",
       "0 2017-03-21 2021-03-21                48  3150.0   920.0   1  1703.672462   \n",
       "1 2016-03-20 2021-12-22                69  7600.0  1140.0   1  1446.077707   \n",
       "2 2019-03-21 2022-12-22                45  4800.0   840.0   1  2376.845399   \n",
       "3 2018-06-22 2019-06-22                12   685.0   202.0   1  1207.741141   \n",
       "4 2008-03-20 2011-06-22                39  3000.0   800.0   1   410.000000   \n",
       "\n",
       "   x51        b1        b2  ...        b7        b8        b9       b10  \\\n",
       "0   16 -0.627952  0.512964  ...  0.473683  0.223436  1.586044  0.212582   \n",
       "1   23 -0.903059  0.432169  ...  0.377241  0.177932  1.434758  0.162199   \n",
       "2   15 -0.660964  1.126800  ...  1.144272  1.340417  2.280080  2.013554   \n",
       "3    4 -0.268284  0.718625  ...  0.683344  0.525254  2.326954  1.625061   \n",
       "4   13  1.995128 -0.328568  ... -0.250400 -0.236309 -0.105879 -0.291025   \n",
       "\n",
       "        b14       b17       b18      B-23      B-24             y  \n",
       "0 -0.078869  1.076990  0.977018  0.980000  0.686014   9979.795043  \n",
       "1 -0.141420  0.930535  0.850433  0.867476  0.561457  16362.045147  \n",
       "2  1.134411  1.909989  1.572436  1.501990  1.597541  14120.093280  \n",
       "3  0.741419  1.616050  1.245815  1.208175  0.989856   2560.672748  \n",
       "4 -0.414927 -0.316633 -0.101297 -0.104613 -0.247783    700.000000  \n",
       "\n",
       "[5 rows x 24 columns]"
      ]
     },
     "execution_count": 6,
     "metadata": {},
     "output_type": "execute_result"
    }
   ],
   "source": [
    "# convert start_date and end_date to jdatetime\n",
    "df['start_date'] = df['start_date'].apply(lambda x: jdatetime.datetime.strptime(x, '%Y-%m-%d'))\n",
    "df['end_date'] = df['end_date'].apply(lambda x: jdatetime.datetime.strptime(x, '%Y-%m-%d'))\n",
    "# convert start_date and end_date to gregorian\n",
    "df['start_date'] = df['start_date'].apply(lambda x: x.togregorian())\n",
    "df['end_date'] = df['end_date'].apply(lambda x: x.togregorian())\n",
    "df.head()"
   ]
  },
  {
   "cell_type": "code",
   "execution_count": 7,
   "metadata": {},
   "outputs": [
    {
     "name": "stdout",
     "output_type": "stream",
     "text": [
      "(400, 24)\n"
     ]
    },
    {
     "data": {
      "text/html": [
       "<div>\n",
       "<style scoped>\n",
       "    .dataframe tbody tr th:only-of-type {\n",
       "        vertical-align: middle;\n",
       "    }\n",
       "\n",
       "    .dataframe tbody tr th {\n",
       "        vertical-align: top;\n",
       "    }\n",
       "\n",
       "    .dataframe thead th {\n",
       "        text-align: right;\n",
       "    }\n",
       "</style>\n",
       "<table border=\"1\" class=\"dataframe\">\n",
       "  <thead>\n",
       "    <tr style=\"text-align: right;\">\n",
       "      <th></th>\n",
       "      <th>start_date</th>\n",
       "      <th>end_date</th>\n",
       "      <th>project_duration</th>\n",
       "      <th>x1</th>\n",
       "      <th>x2</th>\n",
       "      <th>x3</th>\n",
       "      <th>x5</th>\n",
       "      <th>x51</th>\n",
       "      <th>b1</th>\n",
       "      <th>b2</th>\n",
       "      <th>...</th>\n",
       "      <th>b7</th>\n",
       "      <th>b8</th>\n",
       "      <th>b9</th>\n",
       "      <th>b10</th>\n",
       "      <th>b14</th>\n",
       "      <th>b17</th>\n",
       "      <th>b18</th>\n",
       "      <th>B-23</th>\n",
       "      <th>B-24</th>\n",
       "      <th>y</th>\n",
       "    </tr>\n",
       "  </thead>\n",
       "  <tbody>\n",
       "    <tr>\n",
       "      <th>0</th>\n",
       "      <td>1490054400</td>\n",
       "      <td>1616284800</td>\n",
       "      <td>48</td>\n",
       "      <td>3150.0</td>\n",
       "      <td>920.0</td>\n",
       "      <td>1</td>\n",
       "      <td>1703.672462</td>\n",
       "      <td>16</td>\n",
       "      <td>-0.627952</td>\n",
       "      <td>0.512964</td>\n",
       "      <td>...</td>\n",
       "      <td>0.473683</td>\n",
       "      <td>0.223436</td>\n",
       "      <td>1.586044</td>\n",
       "      <td>0.212582</td>\n",
       "      <td>-0.078869</td>\n",
       "      <td>1.076990</td>\n",
       "      <td>0.977018</td>\n",
       "      <td>0.980000</td>\n",
       "      <td>0.686014</td>\n",
       "      <td>9979.795043</td>\n",
       "    </tr>\n",
       "    <tr>\n",
       "      <th>1</th>\n",
       "      <td>1458432000</td>\n",
       "      <td>1640131200</td>\n",
       "      <td>69</td>\n",
       "      <td>7600.0</td>\n",
       "      <td>1140.0</td>\n",
       "      <td>1</td>\n",
       "      <td>1446.077707</td>\n",
       "      <td>23</td>\n",
       "      <td>-0.903059</td>\n",
       "      <td>0.432169</td>\n",
       "      <td>...</td>\n",
       "      <td>0.377241</td>\n",
       "      <td>0.177932</td>\n",
       "      <td>1.434758</td>\n",
       "      <td>0.162199</td>\n",
       "      <td>-0.141420</td>\n",
       "      <td>0.930535</td>\n",
       "      <td>0.850433</td>\n",
       "      <td>0.867476</td>\n",
       "      <td>0.561457</td>\n",
       "      <td>16362.045147</td>\n",
       "    </tr>\n",
       "    <tr>\n",
       "      <th>2</th>\n",
       "      <td>1553126400</td>\n",
       "      <td>1671667200</td>\n",
       "      <td>45</td>\n",
       "      <td>4800.0</td>\n",
       "      <td>840.0</td>\n",
       "      <td>1</td>\n",
       "      <td>2376.845399</td>\n",
       "      <td>15</td>\n",
       "      <td>-0.660964</td>\n",
       "      <td>1.126800</td>\n",
       "      <td>...</td>\n",
       "      <td>1.144272</td>\n",
       "      <td>1.340417</td>\n",
       "      <td>2.280080</td>\n",
       "      <td>2.013554</td>\n",
       "      <td>1.134411</td>\n",
       "      <td>1.909989</td>\n",
       "      <td>1.572436</td>\n",
       "      <td>1.501990</td>\n",
       "      <td>1.597541</td>\n",
       "      <td>14120.093280</td>\n",
       "    </tr>\n",
       "    <tr>\n",
       "      <th>3</th>\n",
       "      <td>1529625600</td>\n",
       "      <td>1561161600</td>\n",
       "      <td>12</td>\n",
       "      <td>685.0</td>\n",
       "      <td>202.0</td>\n",
       "      <td>1</td>\n",
       "      <td>1207.741141</td>\n",
       "      <td>4</td>\n",
       "      <td>-0.268284</td>\n",
       "      <td>0.718625</td>\n",
       "      <td>...</td>\n",
       "      <td>0.683344</td>\n",
       "      <td>0.525254</td>\n",
       "      <td>2.326954</td>\n",
       "      <td>1.625061</td>\n",
       "      <td>0.741419</td>\n",
       "      <td>1.616050</td>\n",
       "      <td>1.245815</td>\n",
       "      <td>1.208175</td>\n",
       "      <td>0.989856</td>\n",
       "      <td>2560.672748</td>\n",
       "    </tr>\n",
       "    <tr>\n",
       "      <th>4</th>\n",
       "      <td>1205971200</td>\n",
       "      <td>1308700800</td>\n",
       "      <td>39</td>\n",
       "      <td>3000.0</td>\n",
       "      <td>800.0</td>\n",
       "      <td>1</td>\n",
       "      <td>410.000000</td>\n",
       "      <td>13</td>\n",
       "      <td>1.995128</td>\n",
       "      <td>-0.328568</td>\n",
       "      <td>...</td>\n",
       "      <td>-0.250400</td>\n",
       "      <td>-0.236309</td>\n",
       "      <td>-0.105879</td>\n",
       "      <td>-0.291025</td>\n",
       "      <td>-0.414927</td>\n",
       "      <td>-0.316633</td>\n",
       "      <td>-0.101297</td>\n",
       "      <td>-0.104613</td>\n",
       "      <td>-0.247783</td>\n",
       "      <td>700.000000</td>\n",
       "    </tr>\n",
       "  </tbody>\n",
       "</table>\n",
       "<p>5 rows × 24 columns</p>\n",
       "</div>"
      ],
      "text/plain": [
       "   start_date    end_date  project_duration      x1      x2  x3           x5  \\\n",
       "0  1490054400  1616284800                48  3150.0   920.0   1  1703.672462   \n",
       "1  1458432000  1640131200                69  7600.0  1140.0   1  1446.077707   \n",
       "2  1553126400  1671667200                45  4800.0   840.0   1  2376.845399   \n",
       "3  1529625600  1561161600                12   685.0   202.0   1  1207.741141   \n",
       "4  1205971200  1308700800                39  3000.0   800.0   1   410.000000   \n",
       "\n",
       "   x51        b1        b2  ...        b7        b8        b9       b10  \\\n",
       "0   16 -0.627952  0.512964  ...  0.473683  0.223436  1.586044  0.212582   \n",
       "1   23 -0.903059  0.432169  ...  0.377241  0.177932  1.434758  0.162199   \n",
       "2   15 -0.660964  1.126800  ...  1.144272  1.340417  2.280080  2.013554   \n",
       "3    4 -0.268284  0.718625  ...  0.683344  0.525254  2.326954  1.625061   \n",
       "4   13  1.995128 -0.328568  ... -0.250400 -0.236309 -0.105879 -0.291025   \n",
       "\n",
       "        b14       b17       b18      B-23      B-24             y  \n",
       "0 -0.078869  1.076990  0.977018  0.980000  0.686014   9979.795043  \n",
       "1 -0.141420  0.930535  0.850433  0.867476  0.561457  16362.045147  \n",
       "2  1.134411  1.909989  1.572436  1.501990  1.597541  14120.093280  \n",
       "3  0.741419  1.616050  1.245815  1.208175  0.989856   2560.672748  \n",
       "4 -0.414927 -0.316633 -0.101297 -0.104613 -0.247783    700.000000  \n",
       "\n",
       "[5 rows x 24 columns]"
      ]
     },
     "execution_count": 7,
     "metadata": {},
     "output_type": "execute_result"
    }
   ],
   "source": [
    "# convert start_date and end_date to UNIX timestamp\n",
    "df['start_date'] = pd.to_datetime(df['start_date']).astype(np.int64) // 10**9\n",
    "df['end_date'] = pd.to_datetime(df['end_date']).astype(np.int64) // 10**9\n",
    "print(df.shape)\n",
    "df.head()"
   ]
  },
  {
   "cell_type": "code",
   "execution_count": 8,
   "metadata": {},
   "outputs": [
    {
     "data": {
      "text/plain": [
       "start_date            int64\n",
       "end_date              int64\n",
       "project_duration      int64\n",
       "x1                  float64\n",
       "x2                  float64\n",
       "x3                    int64\n",
       "x5                  float64\n",
       "x51                   int64\n",
       "b1                  float64\n",
       "b2                  float64\n",
       "b3                  float64\n",
       "b4                  float64\n",
       "b5                  float64\n",
       "b6                  float64\n",
       "b7                  float64\n",
       "b8                  float64\n",
       "b9                  float64\n",
       "b10                 float64\n",
       "b14                 float64\n",
       "b17                 float64\n",
       "b18                 float64\n",
       "B-23                float64\n",
       "B-24                float64\n",
       "y                   float64\n",
       "dtype: object"
      ]
     },
     "execution_count": 8,
     "metadata": {},
     "output_type": "execute_result"
    }
   ],
   "source": [
    "df.dtypes"
   ]
  },
  {
   "cell_type": "code",
   "execution_count": 9,
   "metadata": {},
   "outputs": [
    {
     "data": {
      "text/plain": [
       "start_date          float64\n",
       "end_date            float64\n",
       "project_duration    float64\n",
       "x1                  float64\n",
       "x2                  float64\n",
       "x3                  float64\n",
       "x5                  float64\n",
       "x51                 float64\n",
       "b1                  float64\n",
       "b2                  float64\n",
       "b3                  float64\n",
       "b4                  float64\n",
       "b5                  float64\n",
       "b6                  float64\n",
       "b7                  float64\n",
       "b8                  float64\n",
       "b9                  float64\n",
       "b10                 float64\n",
       "b14                 float64\n",
       "b17                 float64\n",
       "b18                 float64\n",
       "B-23                float64\n",
       "B-24                float64\n",
       "y                   float64\n",
       "dtype: object"
      ]
     },
     "execution_count": 9,
     "metadata": {},
     "output_type": "execute_result"
    }
   ],
   "source": [
    "# start_date, end_date, project_duration, x3, x51 to float\n",
    "df['start_date'] = df['start_date'].astype(np.float64)\n",
    "df['end_date'] = df['end_date'].astype(np.float64)\n",
    "df['project_duration'] = df['project_duration'].astype(np.float64)\n",
    "df['x3'] = df['x3'].astype(np.float64)\n",
    "df['x51'] = df['x51'].astype(np.float64)\n",
    "df.dtypes"
   ]
  },
  {
   "cell_type": "code",
   "execution_count": 10,
   "metadata": {},
   "outputs": [
    {
     "name": "stdout",
     "output_type": "stream",
     "text": [
      "(320, 23) (80, 23) (320,) (80,)\n"
     ]
    }
   ],
   "source": [
    "# split data to train and test\n",
    "x_train, x_test, y_train, y_test = train_test_split(\n",
    "    df[[c for c in df if c not in ['y']]], df['y'], test_size=0.2, random_state=42\n",
    ")\n",
    "print(x_train.shape, x_test.shape, y_train.shape, y_test.shape)"
   ]
  },
  {
   "cell_type": "code",
   "execution_count": 11,
   "metadata": {},
   "outputs": [
    {
     "name": "stderr",
     "output_type": "stream",
     "text": [
      "2023-08-12 14:55:22.742393: I tensorflow/core/common_runtime/executor.cc:1197] [/device:CPU:0] (DEBUG INFO) Executor start aborting (this does not indicate an error and you can ignore this message): INVALID_ARGUMENT: You must feed a value for placeholder tensor 'gradients/split_2_grad/concat/split_2/split_dim' with dtype int32\n",
      "\t [[{{node gradients/split_2_grad/concat/split_2/split_dim}}]]\n",
      "2023-08-12 14:55:22.743733: I tensorflow/core/common_runtime/executor.cc:1197] [/device:CPU:0] (DEBUG INFO) Executor start aborting (this does not indicate an error and you can ignore this message): INVALID_ARGUMENT: You must feed a value for placeholder tensor 'gradients/split_grad/concat/split/split_dim' with dtype int32\n",
      "\t [[{{node gradients/split_grad/concat/split/split_dim}}]]\n",
      "2023-08-12 14:55:22.744558: I tensorflow/core/common_runtime/executor.cc:1197] [/device:CPU:0] (DEBUG INFO) Executor start aborting (this does not indicate an error and you can ignore this message): INVALID_ARGUMENT: You must feed a value for placeholder tensor 'gradients/split_1_grad/concat/split_1/split_dim' with dtype int32\n",
      "\t [[{{node gradients/split_1_grad/concat/split_1/split_dim}}]]\n",
      "2023-08-12 14:55:22.940733: I tensorflow/core/common_runtime/executor.cc:1197] [/device:CPU:0] (DEBUG INFO) Executor start aborting (this does not indicate an error and you can ignore this message): INVALID_ARGUMENT: You must feed a value for placeholder tensor 'gradients/split_2_grad/concat/split_2/split_dim' with dtype int32\n",
      "\t [[{{node gradients/split_2_grad/concat/split_2/split_dim}}]]\n",
      "2023-08-12 14:55:22.941724: I tensorflow/core/common_runtime/executor.cc:1197] [/device:CPU:0] (DEBUG INFO) Executor start aborting (this does not indicate an error and you can ignore this message): INVALID_ARGUMENT: You must feed a value for placeholder tensor 'gradients/split_grad/concat/split/split_dim' with dtype int32\n",
      "\t [[{{node gradients/split_grad/concat/split/split_dim}}]]\n",
      "2023-08-12 14:55:22.942685: I tensorflow/core/common_runtime/executor.cc:1197] [/device:CPU:0] (DEBUG INFO) Executor start aborting (this does not indicate an error and you can ignore this message): INVALID_ARGUMENT: You must feed a value for placeholder tensor 'gradients/split_1_grad/concat/split_1/split_dim' with dtype int32\n",
      "\t [[{{node gradients/split_1_grad/concat/split_1/split_dim}}]]\n"
     ]
    },
    {
     "name": "stdout",
     "output_type": "stream",
     "text": [
      "Model: \"model\"\n",
      "__________________________________________________________________________________________________\n",
      " Layer (type)                   Output Shape         Param #     Connected to                     \n",
      "==================================================================================================\n",
      " input_1 (InputLayer)           [(None, 23, 1)]      0           []                               \n",
      "                                                                                                  \n",
      " gru (GRU)                      (None, 23, 128)      50304       ['input_1[0][0]']                \n",
      "                                                                                                  \n",
      " dropout (Dropout)              (None, 23, 128)      0           ['gru[0][0]']                    \n",
      "                                                                                                  \n",
      " multi_head_attention (MultiHea  (None, 23, 128)     527488      ['dropout[0][0]',                \n",
      " dAttention)                                                      'dropout[0][0]']                \n",
      "                                                                                                  \n",
      " add (Add)                      (None, 23, 128)      0           ['dropout[0][0]',                \n",
      "                                                                  'multi_head_attention[0][0]']   \n",
      "                                                                                                  \n",
      " layer_normalization (LayerNorm  (None, 23, 128)     256         ['add[0][0]']                    \n",
      " alization)                                                                                       \n",
      "                                                                                                  \n",
      " sequential (Sequential)        (None, 23, 128)      131712      ['layer_normalization[0][0]']    \n",
      "                                                                                                  \n",
      " add_1 (Add)                    (None, 23, 128)      0           ['layer_normalization[0][0]',    \n",
      "                                                                  'sequential[0][0]']             \n",
      "                                                                                                  \n",
      " layer_normalization_1 (LayerNo  (None, 23, 128)     256         ['add_1[0][0]']                  \n",
      " rmalization)                                                                                     \n",
      "                                                                                                  \n",
      " gru_1 (GRU)                    (None, 64)           37248       ['layer_normalization_1[0][0]']  \n",
      "                                                                                                  \n",
      " dropout_1 (Dropout)            (None, 64)           0           ['gru_1[0][0]']                  \n",
      "                                                                                                  \n",
      " dense_2 (Dense)                (None, 1)            65          ['dropout_1[0][0]']              \n",
      "                                                                                                  \n",
      "==================================================================================================\n",
      "Total params: 747,329\n",
      "Trainable params: 747,329\n",
      "Non-trainable params: 0\n",
      "__________________________________________________________________________________________________\n"
     ]
    }
   ],
   "source": [
    "input_shape = (df.shape[1]-1, 1)\n",
    "\n",
    "# MultiHeadAttention parameters\n",
    "d_model = 128\n",
    "num_heads = 8\n",
    "\n",
    "input_layer = keras.layers.Input(shape=input_shape)\n",
    "\n",
    "x = keras.layers.GRU(128, return_sequences=True)(input_layer)\n",
    "x = keras.layers.Dropout(0.1)(x)\n",
    "\n",
    "# Simple Transformer layer\n",
    "# MultiHead Self Attention\n",
    "attention = keras.layers.MultiHeadAttention(num_heads=num_heads, key_dim=d_model)(x, x)\n",
    "# Add & Norm\n",
    "x = keras.layers.Add()([x, attention])\n",
    "x = keras.layers.LayerNormalization(epsilon=1e-6)(x)\n",
    "\n",
    "ffn = keras.Sequential([\n",
    "    keras.layers.Dense(512, activation='relu'),\n",
    "    keras.layers.Dense(d_model)\n",
    "])\n",
    "ffn_output = ffn(x)\n",
    "# Add & Norm\n",
    "x = keras.layers.Add()([x, ffn_output])\n",
    "x = keras.layers.LayerNormalization(epsilon=1e-6)(x)\n",
    "\n",
    "x = keras.layers.GRU(64, return_sequences=False)(x)\n",
    "x = keras.layers.Dropout(0.1)(x)\n",
    "\n",
    "# Output layer\n",
    "output_layer = keras.layers.Dense(1)(x)\n",
    "\n",
    "model = keras.Model(inputs=input_layer, outputs=output_layer)\n",
    "model.compile(loss='mse', optimizer='adam')\n",
    "model.summary()"
   ]
  },
  {
   "cell_type": "code",
   "execution_count": 12,
   "metadata": {},
   "outputs": [
    {
     "name": "stdout",
     "output_type": "stream",
     "text": [
      "Epoch 1/100\n"
     ]
    },
    {
     "name": "stderr",
     "output_type": "stream",
     "text": [
      "2023-08-12 14:55:32.037701: I tensorflow/core/common_runtime/executor.cc:1197] [/device:CPU:0] (DEBUG INFO) Executor start aborting (this does not indicate an error and you can ignore this message): INVALID_ARGUMENT: You must feed a value for placeholder tensor 'gradients/split_2_grad/concat/split_2/split_dim' with dtype int32\n",
      "\t [[{{node gradients/split_2_grad/concat/split_2/split_dim}}]]\n",
      "2023-08-12 14:55:32.038845: I tensorflow/core/common_runtime/executor.cc:1197] [/device:CPU:0] (DEBUG INFO) Executor start aborting (this does not indicate an error and you can ignore this message): INVALID_ARGUMENT: You must feed a value for placeholder tensor 'gradients/split_grad/concat/split/split_dim' with dtype int32\n",
      "\t [[{{node gradients/split_grad/concat/split/split_dim}}]]\n",
      "2023-08-12 14:55:32.039700: I tensorflow/core/common_runtime/executor.cc:1197] [/device:CPU:0] (DEBUG INFO) Executor start aborting (this does not indicate an error and you can ignore this message): INVALID_ARGUMENT: You must feed a value for placeholder tensor 'gradients/split_1_grad/concat/split_1/split_dim' with dtype int32\n",
      "\t [[{{node gradients/split_1_grad/concat/split_1/split_dim}}]]\n",
      "2023-08-12 14:55:32.180336: I tensorflow/core/common_runtime/executor.cc:1197] [/device:CPU:0] (DEBUG INFO) Executor start aborting (this does not indicate an error and you can ignore this message): INVALID_ARGUMENT: You must feed a value for placeholder tensor 'gradients/split_2_grad/concat/split_2/split_dim' with dtype int32\n",
      "\t [[{{node gradients/split_2_grad/concat/split_2/split_dim}}]]\n",
      "2023-08-12 14:55:32.181287: I tensorflow/core/common_runtime/executor.cc:1197] [/device:CPU:0] (DEBUG INFO) Executor start aborting (this does not indicate an error and you can ignore this message): INVALID_ARGUMENT: You must feed a value for placeholder tensor 'gradients/split_grad/concat/split/split_dim' with dtype int32\n",
      "\t [[{{node gradients/split_grad/concat/split/split_dim}}]]\n",
      "2023-08-12 14:55:32.182121: I tensorflow/core/common_runtime/executor.cc:1197] [/device:CPU:0] (DEBUG INFO) Executor start aborting (this does not indicate an error and you can ignore this message): INVALID_ARGUMENT: You must feed a value for placeholder tensor 'gradients/split_1_grad/concat/split_1/split_dim' with dtype int32\n",
      "\t [[{{node gradients/split_1_grad/concat/split_1/split_dim}}]]\n",
      "2023-08-12 14:55:32.929320: I tensorflow/core/common_runtime/executor.cc:1197] [/device:CPU:0] (DEBUG INFO) Executor start aborting (this does not indicate an error and you can ignore this message): INVALID_ARGUMENT: You must feed a value for placeholder tensor 'gradients/split_2_grad/concat/split_2/split_dim' with dtype int32\n",
      "\t [[{{node gradients/split_2_grad/concat/split_2/split_dim}}]]\n",
      "2023-08-12 14:55:32.930219: I tensorflow/core/common_runtime/executor.cc:1197] [/device:CPU:0] (DEBUG INFO) Executor start aborting (this does not indicate an error and you can ignore this message): INVALID_ARGUMENT: You must feed a value for placeholder tensor 'gradients/split_grad/concat/split/split_dim' with dtype int32\n",
      "\t [[{{node gradients/split_grad/concat/split/split_dim}}]]\n",
      "2023-08-12 14:55:32.931225: I tensorflow/core/common_runtime/executor.cc:1197] [/device:CPU:0] (DEBUG INFO) Executor start aborting (this does not indicate an error and you can ignore this message): INVALID_ARGUMENT: You must feed a value for placeholder tensor 'gradients/split_1_grad/concat/split_1/split_dim' with dtype int32\n",
      "\t [[{{node gradients/split_1_grad/concat/split_1/split_dim}}]]\n",
      "2023-08-12 14:55:33.062634: I tensorflow/core/common_runtime/executor.cc:1197] [/device:CPU:0] (DEBUG INFO) Executor start aborting (this does not indicate an error and you can ignore this message): INVALID_ARGUMENT: You must feed a value for placeholder tensor 'gradients/split_2_grad/concat/split_2/split_dim' with dtype int32\n",
      "\t [[{{node gradients/split_2_grad/concat/split_2/split_dim}}]]\n",
      "2023-08-12 14:55:33.063599: I tensorflow/core/common_runtime/executor.cc:1197] [/device:CPU:0] (DEBUG INFO) Executor start aborting (this does not indicate an error and you can ignore this message): INVALID_ARGUMENT: You must feed a value for placeholder tensor 'gradients/split_grad/concat/split/split_dim' with dtype int32\n",
      "\t [[{{node gradients/split_grad/concat/split/split_dim}}]]\n",
      "2023-08-12 14:55:33.064459: I tensorflow/core/common_runtime/executor.cc:1197] [/device:CPU:0] (DEBUG INFO) Executor start aborting (this does not indicate an error and you can ignore this message): INVALID_ARGUMENT: You must feed a value for placeholder tensor 'gradients/split_1_grad/concat/split_1/split_dim' with dtype int32\n",
      "\t [[{{node gradients/split_1_grad/concat/split_1/split_dim}}]]\n"
     ]
    },
    {
     "name": "stdout",
     "output_type": "stream",
     "text": [
      "3/4 [=====================>........] - ETA: 0s - loss: 45071616.0000"
     ]
    },
    {
     "name": "stderr",
     "output_type": "stream",
     "text": [
      "2023-08-12 14:55:34.651857: I tensorflow/core/common_runtime/executor.cc:1197] [/device:CPU:0] (DEBUG INFO) Executor start aborting (this does not indicate an error and you can ignore this message): INVALID_ARGUMENT: You must feed a value for placeholder tensor 'gradients/split_2_grad/concat/split_2/split_dim' with dtype int32\n",
      "\t [[{{node gradients/split_2_grad/concat/split_2/split_dim}}]]\n",
      "2023-08-12 14:55:34.653014: I tensorflow/core/common_runtime/executor.cc:1197] [/device:CPU:0] (DEBUG INFO) Executor start aborting (this does not indicate an error and you can ignore this message): INVALID_ARGUMENT: You must feed a value for placeholder tensor 'gradients/split_grad/concat/split/split_dim' with dtype int32\n",
      "\t [[{{node gradients/split_grad/concat/split/split_dim}}]]\n",
      "2023-08-12 14:55:34.653804: I tensorflow/core/common_runtime/executor.cc:1197] [/device:CPU:0] (DEBUG INFO) Executor start aborting (this does not indicate an error and you can ignore this message): INVALID_ARGUMENT: You must feed a value for placeholder tensor 'gradients/split_1_grad/concat/split_1/split_dim' with dtype int32\n",
      "\t [[{{node gradients/split_1_grad/concat/split_1/split_dim}}]]\n",
      "2023-08-12 14:55:34.797192: I tensorflow/core/common_runtime/executor.cc:1197] [/device:CPU:0] (DEBUG INFO) Executor start aborting (this does not indicate an error and you can ignore this message): INVALID_ARGUMENT: You must feed a value for placeholder tensor 'gradients/split_2_grad/concat/split_2/split_dim' with dtype int32\n",
      "\t [[{{node gradients/split_2_grad/concat/split_2/split_dim}}]]\n",
      "2023-08-12 14:55:34.798046: I tensorflow/core/common_runtime/executor.cc:1197] [/device:CPU:0] (DEBUG INFO) Executor start aborting (this does not indicate an error and you can ignore this message): INVALID_ARGUMENT: You must feed a value for placeholder tensor 'gradients/split_grad/concat/split/split_dim' with dtype int32\n",
      "\t [[{{node gradients/split_grad/concat/split/split_dim}}]]\n",
      "2023-08-12 14:55:34.798778: I tensorflow/core/common_runtime/executor.cc:1197] [/device:CPU:0] (DEBUG INFO) Executor start aborting (this does not indicate an error and you can ignore this message): INVALID_ARGUMENT: You must feed a value for placeholder tensor 'gradients/split_1_grad/concat/split_1/split_dim' with dtype int32\n",
      "\t [[{{node gradients/split_1_grad/concat/split_1/split_dim}}]]\n"
     ]
    },
    {
     "name": "stdout",
     "output_type": "stream",
     "text": [
      "4/4 [==============================] - 3s 220ms/step - loss: 40370988.0000 - val_loss: 47930752.0000\n",
      "Epoch 2/100\n",
      "4/4 [==============================] - 0s 59ms/step - loss: 40342328.0000 - val_loss: 47922328.0000\n",
      "Epoch 3/100\n",
      "4/4 [==============================] - 0s 55ms/step - loss: 40336752.0000 - val_loss: 47917304.0000\n",
      "Epoch 4/100\n",
      "4/4 [==============================] - 0s 55ms/step - loss: 40331656.0000 - val_loss: 47913924.0000\n",
      "Epoch 5/100\n",
      "4/4 [==============================] - 0s 55ms/step - loss: 40329468.0000 - val_loss: 47911008.0000\n",
      "Epoch 6/100\n",
      "4/4 [==============================] - 0s 55ms/step - loss: 40327192.0000 - val_loss: 47908304.0000\n",
      "Epoch 7/100\n",
      "4/4 [==============================] - 0s 56ms/step - loss: 40324232.0000 - val_loss: 47905756.0000\n",
      "Epoch 8/100\n",
      "4/4 [==============================] - 0s 55ms/step - loss: 40321564.0000 - val_loss: 47903248.0000\n",
      "Epoch 9/100\n",
      "4/4 [==============================] - 0s 57ms/step - loss: 40320192.0000 - val_loss: 47900776.0000\n",
      "Epoch 10/100\n",
      "4/4 [==============================] - 0s 58ms/step - loss: 40316984.0000 - val_loss: 47898352.0000\n",
      "Epoch 11/100\n",
      "4/4 [==============================] - 0s 58ms/step - loss: 40315368.0000 - val_loss: 47895928.0000\n",
      "Epoch 12/100\n",
      "4/4 [==============================] - 0s 58ms/step - loss: 40313772.0000 - val_loss: 47893496.0000\n",
      "Epoch 13/100\n",
      "4/4 [==============================] - 0s 58ms/step - loss: 40311628.0000 - val_loss: 47891088.0000\n",
      "Epoch 14/100\n",
      "4/4 [==============================] - 0s 58ms/step - loss: 40309076.0000 - val_loss: 47888696.0000\n",
      "Epoch 15/100\n",
      "4/4 [==============================] - 0s 58ms/step - loss: 40307512.0000 - val_loss: 47886336.0000\n",
      "Epoch 16/100\n",
      "4/4 [==============================] - 0s 57ms/step - loss: 40304772.0000 - val_loss: 47883944.0000\n",
      "Epoch 17/100\n",
      "4/4 [==============================] - 0s 56ms/step - loss: 40302316.0000 - val_loss: 47881528.0000\n",
      "Epoch 18/100\n",
      "4/4 [==============================] - 0s 56ms/step - loss: 40300184.0000 - val_loss: 47879120.0000\n",
      "Epoch 19/100\n",
      "4/4 [==============================] - 0s 61ms/step - loss: 40298076.0000 - val_loss: 47876676.0000\n",
      "Epoch 20/100\n",
      "4/4 [==============================] - 0s 59ms/step - loss: 40295640.0000 - val_loss: 47874272.0000\n",
      "Epoch 21/100\n",
      "4/4 [==============================] - 0s 57ms/step - loss: 40293328.0000 - val_loss: 47871880.0000\n",
      "Epoch 22/100\n",
      "4/4 [==============================] - 0s 57ms/step - loss: 40292516.0000 - val_loss: 47869440.0000\n",
      "Epoch 23/100\n",
      "4/4 [==============================] - 0s 58ms/step - loss: 40289864.0000 - val_loss: 47867040.0000\n",
      "Epoch 24/100\n",
      "4/4 [==============================] - 0s 57ms/step - loss: 40287160.0000 - val_loss: 47864612.0000\n",
      "Epoch 25/100\n",
      "4/4 [==============================] - 0s 55ms/step - loss: 40284924.0000 - val_loss: 47862168.0000\n",
      "Epoch 26/100\n",
      "4/4 [==============================] - 0s 57ms/step - loss: 40282392.0000 - val_loss: 47859752.0000\n",
      "Epoch 27/100\n",
      "4/4 [==============================] - 0s 57ms/step - loss: 40280204.0000 - val_loss: 47857360.0000\n",
      "Epoch 28/100\n",
      "4/4 [==============================] - 0s 57ms/step - loss: 40280092.0000 - val_loss: 47854936.0000\n",
      "Epoch 29/100\n",
      "4/4 [==============================] - 0s 57ms/step - loss: 40275508.0000 - val_loss: 47852536.0000\n",
      "Epoch 30/100\n",
      "4/4 [==============================] - 0s 58ms/step - loss: 40274480.0000 - val_loss: 47850124.0000\n",
      "Epoch 31/100\n",
      "4/4 [==============================] - 0s 58ms/step - loss: 40272448.0000 - val_loss: 47847728.0000\n",
      "Epoch 32/100\n",
      "4/4 [==============================] - 0s 56ms/step - loss: 40270488.0000 - val_loss: 47845312.0000\n",
      "Epoch 33/100\n",
      "4/4 [==============================] - 0s 57ms/step - loss: 40268308.0000 - val_loss: 47842944.0000\n",
      "Epoch 34/100\n",
      "4/4 [==============================] - 0s 65ms/step - loss: 40265416.0000 - val_loss: 47840560.0000\n",
      "Epoch 35/100\n",
      "4/4 [==============================] - 0s 58ms/step - loss: 40262544.0000 - val_loss: 47838168.0000\n",
      "Epoch 36/100\n",
      "4/4 [==============================] - 0s 58ms/step - loss: 40260908.0000 - val_loss: 47835772.0000\n",
      "Epoch 37/100\n",
      "4/4 [==============================] - 0s 58ms/step - loss: 40258356.0000 - val_loss: 47833372.0000\n",
      "Epoch 38/100\n",
      "4/4 [==============================] - 0s 58ms/step - loss: 40256032.0000 - val_loss: 47831016.0000\n",
      "Epoch 39/100\n",
      "4/4 [==============================] - 0s 57ms/step - loss: 40254672.0000 - val_loss: 47828576.0000\n",
      "Epoch 40/100\n",
      "4/4 [==============================] - 0s 58ms/step - loss: 40253252.0000 - val_loss: 47826208.0000\n",
      "Epoch 41/100\n",
      "4/4 [==============================] - 0s 58ms/step - loss: 40250640.0000 - val_loss: 47823832.0000\n",
      "Epoch 42/100\n",
      "4/4 [==============================] - 0s 58ms/step - loss: 40247628.0000 - val_loss: 47821420.0000\n",
      "Epoch 43/100\n",
      "4/4 [==============================] - 0s 58ms/step - loss: 40246652.0000 - val_loss: 47819064.0000\n",
      "Epoch 44/100\n",
      "4/4 [==============================] - 0s 60ms/step - loss: 40244008.0000 - val_loss: 47816672.0000\n",
      "Epoch 45/100\n",
      "4/4 [==============================] - 0s 60ms/step - loss: 40242476.0000 - val_loss: 47814288.0000\n",
      "Epoch 46/100\n",
      "4/4 [==============================] - 0s 58ms/step - loss: 40239308.0000 - val_loss: 47811896.0000\n",
      "Epoch 47/100\n",
      "4/4 [==============================] - 0s 59ms/step - loss: 40238340.0000 - val_loss: 47809540.0000\n",
      "Epoch 48/100\n",
      "4/4 [==============================] - 0s 58ms/step - loss: 40235968.0000 - val_loss: 47807180.0000\n",
      "Epoch 49/100\n",
      "4/4 [==============================] - 0s 59ms/step - loss: 40232632.0000 - val_loss: 47804800.0000\n",
      "Epoch 50/100\n",
      "4/4 [==============================] - 0s 61ms/step - loss: 40231820.0000 - val_loss: 47802408.0000\n",
      "Epoch 51/100\n",
      "4/4 [==============================] - 0s 61ms/step - loss: 40230744.0000 - val_loss: 47800032.0000\n",
      "Epoch 52/100\n",
      "4/4 [==============================] - 0s 58ms/step - loss: 40227576.0000 - val_loss: 47797672.0000\n",
      "Epoch 53/100\n",
      "4/4 [==============================] - 0s 59ms/step - loss: 40223536.0000 - val_loss: 47795280.0000\n",
      "Epoch 54/100\n",
      "4/4 [==============================] - 0s 59ms/step - loss: 40222188.0000 - val_loss: 47792896.0000\n",
      "Epoch 55/100\n",
      "4/4 [==============================] - 0s 60ms/step - loss: 40220840.0000 - val_loss: 47790520.0000\n",
      "Epoch 56/100\n",
      "4/4 [==============================] - 0s 59ms/step - loss: 40218896.0000 - val_loss: 47788176.0000\n",
      "Epoch 57/100\n",
      "4/4 [==============================] - 0s 59ms/step - loss: 40217084.0000 - val_loss: 47785808.0000\n",
      "Epoch 58/100\n",
      "4/4 [==============================] - 0s 66ms/step - loss: 40215016.0000 - val_loss: 47783456.0000\n",
      "Epoch 59/100\n",
      "4/4 [==============================] - 0s 59ms/step - loss: 40212816.0000 - val_loss: 47781088.0000\n",
      "Epoch 60/100\n",
      "4/4 [==============================] - 0s 60ms/step - loss: 40208664.0000 - val_loss: 47778744.0000\n",
      "Epoch 61/100\n",
      "4/4 [==============================] - 0s 64ms/step - loss: 40208812.0000 - val_loss: 47776384.0000\n",
      "Epoch 62/100\n",
      "4/4 [==============================] - 0s 68ms/step - loss: 40205536.0000 - val_loss: 47774012.0000\n",
      "Epoch 63/100\n",
      "4/4 [==============================] - 0s 62ms/step - loss: 40203956.0000 - val_loss: 47771616.0000\n",
      "Epoch 64/100\n",
      "4/4 [==============================] - 0s 62ms/step - loss: 40201448.0000 - val_loss: 47769240.0000\n",
      "Epoch 65/100\n",
      "4/4 [==============================] - 0s 61ms/step - loss: 40197612.0000 - val_loss: 47766888.0000\n",
      "Epoch 66/100\n",
      "4/4 [==============================] - 0s 61ms/step - loss: 40197624.0000 - val_loss: 47764504.0000\n",
      "Epoch 67/100\n",
      "4/4 [==============================] - 0s 62ms/step - loss: 40194488.0000 - val_loss: 47762144.0000\n",
      "Epoch 68/100\n",
      "4/4 [==============================] - 0s 61ms/step - loss: 40192268.0000 - val_loss: 47759784.0000\n",
      "Epoch 69/100\n",
      "4/4 [==============================] - 0s 62ms/step - loss: 40188928.0000 - val_loss: 47757388.0000\n",
      "Epoch 70/100\n",
      "4/4 [==============================] - 0s 61ms/step - loss: 40190272.0000 - val_loss: 47755016.0000\n",
      "Epoch 71/100\n",
      "4/4 [==============================] - 0s 62ms/step - loss: 40187100.0000 - val_loss: 47752688.0000\n",
      "Epoch 72/100\n",
      "4/4 [==============================] - 0s 63ms/step - loss: 40184772.0000 - val_loss: 47750332.0000\n",
      "Epoch 73/100\n",
      "4/4 [==============================] - 0s 61ms/step - loss: 40181976.0000 - val_loss: 47747968.0000\n",
      "Epoch 74/100\n",
      "4/4 [==============================] - 0s 63ms/step - loss: 40179780.0000 - val_loss: 47745596.0000\n",
      "Epoch 75/100\n",
      "4/4 [==============================] - 0s 62ms/step - loss: 40176380.0000 - val_loss: 47743244.0000\n",
      "Epoch 76/100\n",
      "4/4 [==============================] - 0s 62ms/step - loss: 40178816.0000 - val_loss: 47740872.0000\n",
      "Epoch 77/100\n",
      "4/4 [==============================] - 0s 62ms/step - loss: 40173388.0000 - val_loss: 47738516.0000\n",
      "Epoch 78/100\n",
      "4/4 [==============================] - 0s 63ms/step - loss: 40170420.0000 - val_loss: 47736160.0000\n",
      "Epoch 79/100\n",
      "4/4 [==============================] - 0s 63ms/step - loss: 40168900.0000 - val_loss: 47733772.0000\n",
      "Epoch 80/100\n",
      "4/4 [==============================] - 0s 63ms/step - loss: 40168092.0000 - val_loss: 47731452.0000\n",
      "Epoch 81/100\n",
      "4/4 [==============================] - 0s 62ms/step - loss: 40166776.0000 - val_loss: 47729104.0000\n",
      "Epoch 82/100\n",
      "4/4 [==============================] - 0s 62ms/step - loss: 40162472.0000 - val_loss: 47726748.0000\n",
      "Epoch 83/100\n",
      "4/4 [==============================] - 0s 64ms/step - loss: 40160876.0000 - val_loss: 47724368.0000\n",
      "Epoch 84/100\n",
      "4/4 [==============================] - 0s 62ms/step - loss: 40158124.0000 - val_loss: 47722036.0000\n",
      "Epoch 85/100\n",
      "4/4 [==============================] - 0s 67ms/step - loss: 40158592.0000 - val_loss: 47719684.0000\n",
      "Epoch 86/100\n",
      "4/4 [==============================] - 0s 67ms/step - loss: 40154156.0000 - val_loss: 47717312.0000\n",
      "Epoch 87/100\n",
      "4/4 [==============================] - 0s 75ms/step - loss: 40151908.0000 - val_loss: 47714932.0000\n",
      "Epoch 88/100\n",
      "4/4 [==============================] - 0s 63ms/step - loss: 40150904.0000 - val_loss: 47712568.0000\n",
      "Epoch 89/100\n",
      "4/4 [==============================] - 0s 64ms/step - loss: 40149712.0000 - val_loss: 47710208.0000\n",
      "Epoch 90/100\n",
      "4/4 [==============================] - 0s 64ms/step - loss: 40145652.0000 - val_loss: 47707864.0000\n",
      "Epoch 91/100\n",
      "4/4 [==============================] - 0s 67ms/step - loss: 40143268.0000 - val_loss: 47705520.0000\n",
      "Epoch 92/100\n",
      "4/4 [==============================] - 0s 67ms/step - loss: 40143308.0000 - val_loss: 47703144.0000\n",
      "Epoch 93/100\n",
      "4/4 [==============================] - 0s 65ms/step - loss: 40141860.0000 - val_loss: 47700824.0000\n",
      "Epoch 94/100\n",
      "4/4 [==============================] - 0s 64ms/step - loss: 40137020.0000 - val_loss: 47698492.0000\n",
      "Epoch 95/100\n",
      "4/4 [==============================] - 0s 62ms/step - loss: 40137984.0000 - val_loss: 47696160.0000\n",
      "Epoch 96/100\n",
      "4/4 [==============================] - 0s 63ms/step - loss: 40133264.0000 - val_loss: 47693784.0000\n",
      "Epoch 97/100\n",
      "4/4 [==============================] - 0s 72ms/step - loss: 40131276.0000 - val_loss: 47691416.0000\n",
      "Epoch 98/100\n",
      "4/4 [==============================] - 0s 71ms/step - loss: 40127904.0000 - val_loss: 47689072.0000\n",
      "Epoch 99/100\n",
      "4/4 [==============================] - 0s 66ms/step - loss: 40127312.0000 - val_loss: 47686736.0000\n",
      "Epoch 100/100\n",
      "4/4 [==============================] - 0s 64ms/step - loss: 40126352.0000 - val_loss: 47684416.0000\n"
     ]
    }
   ],
   "source": [
    "# fit model\n",
    "history = model.fit(\n",
    "    x_train.values.reshape(x_train.shape[0], x_train.shape[1], 1), y_train,\n",
    "    epochs=100, batch_size=64, validation_split=0.2, verbose=1,\n",
    "    callbacks=[\n",
    "        keras.callbacks.EarlyStopping(\n",
    "            monitor='val_loss', min_delta=0, patience=10, verbose=1, mode='auto',\n",
    "            baseline=None, restore_best_weights=True\n",
    "        )\n",
    "    ]\n",
    ")"
   ]
  },
  {
   "cell_type": "code",
   "execution_count": 13,
   "metadata": {},
   "outputs": [
    {
     "data": {
      "application/vnd.plotly.v1+json": {
       "config": {
        "plotlyServerURL": "https://plot.ly"
       },
       "data": [
        {
         "mode": "lines",
         "name": "train",
         "type": "scatter",
         "y": [
          40370988,
          40342328,
          40336752,
          40331656,
          40329468,
          40327192,
          40324232,
          40321564,
          40320192,
          40316984,
          40315368,
          40313772,
          40311628,
          40309076,
          40307512,
          40304772,
          40302316,
          40300184,
          40298076,
          40295640,
          40293328,
          40292516,
          40289864,
          40287160,
          40284924,
          40282392,
          40280204,
          40280092,
          40275508,
          40274480,
          40272448,
          40270488,
          40268308,
          40265416,
          40262544,
          40260908,
          40258356,
          40256032,
          40254672,
          40253252,
          40250640,
          40247628,
          40246652,
          40244008,
          40242476,
          40239308,
          40238340,
          40235968,
          40232632,
          40231820,
          40230744,
          40227576,
          40223536,
          40222188,
          40220840,
          40218896,
          40217084,
          40215016,
          40212816,
          40208664,
          40208812,
          40205536,
          40203956,
          40201448,
          40197612,
          40197624,
          40194488,
          40192268,
          40188928,
          40190272,
          40187100,
          40184772,
          40181976,
          40179780,
          40176380,
          40178816,
          40173388,
          40170420,
          40168900,
          40168092,
          40166776,
          40162472,
          40160876,
          40158124,
          40158592,
          40154156,
          40151908,
          40150904,
          40149712,
          40145652,
          40143268,
          40143308,
          40141860,
          40137020,
          40137984,
          40133264,
          40131276,
          40127904,
          40127312,
          40126352
         ]
        },
        {
         "mode": "lines",
         "name": "validation",
         "type": "scatter",
         "y": [
          47930752,
          47922328,
          47917304,
          47913924,
          47911008,
          47908304,
          47905756,
          47903248,
          47900776,
          47898352,
          47895928,
          47893496,
          47891088,
          47888696,
          47886336,
          47883944,
          47881528,
          47879120,
          47876676,
          47874272,
          47871880,
          47869440,
          47867040,
          47864612,
          47862168,
          47859752,
          47857360,
          47854936,
          47852536,
          47850124,
          47847728,
          47845312,
          47842944,
          47840560,
          47838168,
          47835772,
          47833372,
          47831016,
          47828576,
          47826208,
          47823832,
          47821420,
          47819064,
          47816672,
          47814288,
          47811896,
          47809540,
          47807180,
          47804800,
          47802408,
          47800032,
          47797672,
          47795280,
          47792896,
          47790520,
          47788176,
          47785808,
          47783456,
          47781088,
          47778744,
          47776384,
          47774012,
          47771616,
          47769240,
          47766888,
          47764504,
          47762144,
          47759784,
          47757388,
          47755016,
          47752688,
          47750332,
          47747968,
          47745596,
          47743244,
          47740872,
          47738516,
          47736160,
          47733772,
          47731452,
          47729104,
          47726748,
          47724368,
          47722036,
          47719684,
          47717312,
          47714932,
          47712568,
          47710208,
          47707864,
          47705520,
          47703144,
          47700824,
          47698492,
          47696160,
          47693784,
          47691416,
          47689072,
          47686736,
          47684416
         ]
        }
       ],
       "layout": {
        "template": {
         "data": {
          "bar": [
           {
            "error_x": {
             "color": "#2a3f5f"
            },
            "error_y": {
             "color": "#2a3f5f"
            },
            "marker": {
             "line": {
              "color": "#E5ECF6",
              "width": 0.5
             },
             "pattern": {
              "fillmode": "overlay",
              "size": 10,
              "solidity": 0.2
             }
            },
            "type": "bar"
           }
          ],
          "barpolar": [
           {
            "marker": {
             "line": {
              "color": "#E5ECF6",
              "width": 0.5
             },
             "pattern": {
              "fillmode": "overlay",
              "size": 10,
              "solidity": 0.2
             }
            },
            "type": "barpolar"
           }
          ],
          "carpet": [
           {
            "aaxis": {
             "endlinecolor": "#2a3f5f",
             "gridcolor": "white",
             "linecolor": "white",
             "minorgridcolor": "white",
             "startlinecolor": "#2a3f5f"
            },
            "baxis": {
             "endlinecolor": "#2a3f5f",
             "gridcolor": "white",
             "linecolor": "white",
             "minorgridcolor": "white",
             "startlinecolor": "#2a3f5f"
            },
            "type": "carpet"
           }
          ],
          "choropleth": [
           {
            "colorbar": {
             "outlinewidth": 0,
             "ticks": ""
            },
            "type": "choropleth"
           }
          ],
          "contour": [
           {
            "colorbar": {
             "outlinewidth": 0,
             "ticks": ""
            },
            "colorscale": [
             [
              0,
              "#0d0887"
             ],
             [
              0.1111111111111111,
              "#46039f"
             ],
             [
              0.2222222222222222,
              "#7201a8"
             ],
             [
              0.3333333333333333,
              "#9c179e"
             ],
             [
              0.4444444444444444,
              "#bd3786"
             ],
             [
              0.5555555555555556,
              "#d8576b"
             ],
             [
              0.6666666666666666,
              "#ed7953"
             ],
             [
              0.7777777777777778,
              "#fb9f3a"
             ],
             [
              0.8888888888888888,
              "#fdca26"
             ],
             [
              1,
              "#f0f921"
             ]
            ],
            "type": "contour"
           }
          ],
          "contourcarpet": [
           {
            "colorbar": {
             "outlinewidth": 0,
             "ticks": ""
            },
            "type": "contourcarpet"
           }
          ],
          "heatmap": [
           {
            "colorbar": {
             "outlinewidth": 0,
             "ticks": ""
            },
            "colorscale": [
             [
              0,
              "#0d0887"
             ],
             [
              0.1111111111111111,
              "#46039f"
             ],
             [
              0.2222222222222222,
              "#7201a8"
             ],
             [
              0.3333333333333333,
              "#9c179e"
             ],
             [
              0.4444444444444444,
              "#bd3786"
             ],
             [
              0.5555555555555556,
              "#d8576b"
             ],
             [
              0.6666666666666666,
              "#ed7953"
             ],
             [
              0.7777777777777778,
              "#fb9f3a"
             ],
             [
              0.8888888888888888,
              "#fdca26"
             ],
             [
              1,
              "#f0f921"
             ]
            ],
            "type": "heatmap"
           }
          ],
          "heatmapgl": [
           {
            "colorbar": {
             "outlinewidth": 0,
             "ticks": ""
            },
            "colorscale": [
             [
              0,
              "#0d0887"
             ],
             [
              0.1111111111111111,
              "#46039f"
             ],
             [
              0.2222222222222222,
              "#7201a8"
             ],
             [
              0.3333333333333333,
              "#9c179e"
             ],
             [
              0.4444444444444444,
              "#bd3786"
             ],
             [
              0.5555555555555556,
              "#d8576b"
             ],
             [
              0.6666666666666666,
              "#ed7953"
             ],
             [
              0.7777777777777778,
              "#fb9f3a"
             ],
             [
              0.8888888888888888,
              "#fdca26"
             ],
             [
              1,
              "#f0f921"
             ]
            ],
            "type": "heatmapgl"
           }
          ],
          "histogram": [
           {
            "marker": {
             "pattern": {
              "fillmode": "overlay",
              "size": 10,
              "solidity": 0.2
             }
            },
            "type": "histogram"
           }
          ],
          "histogram2d": [
           {
            "colorbar": {
             "outlinewidth": 0,
             "ticks": ""
            },
            "colorscale": [
             [
              0,
              "#0d0887"
             ],
             [
              0.1111111111111111,
              "#46039f"
             ],
             [
              0.2222222222222222,
              "#7201a8"
             ],
             [
              0.3333333333333333,
              "#9c179e"
             ],
             [
              0.4444444444444444,
              "#bd3786"
             ],
             [
              0.5555555555555556,
              "#d8576b"
             ],
             [
              0.6666666666666666,
              "#ed7953"
             ],
             [
              0.7777777777777778,
              "#fb9f3a"
             ],
             [
              0.8888888888888888,
              "#fdca26"
             ],
             [
              1,
              "#f0f921"
             ]
            ],
            "type": "histogram2d"
           }
          ],
          "histogram2dcontour": [
           {
            "colorbar": {
             "outlinewidth": 0,
             "ticks": ""
            },
            "colorscale": [
             [
              0,
              "#0d0887"
             ],
             [
              0.1111111111111111,
              "#46039f"
             ],
             [
              0.2222222222222222,
              "#7201a8"
             ],
             [
              0.3333333333333333,
              "#9c179e"
             ],
             [
              0.4444444444444444,
              "#bd3786"
             ],
             [
              0.5555555555555556,
              "#d8576b"
             ],
             [
              0.6666666666666666,
              "#ed7953"
             ],
             [
              0.7777777777777778,
              "#fb9f3a"
             ],
             [
              0.8888888888888888,
              "#fdca26"
             ],
             [
              1,
              "#f0f921"
             ]
            ],
            "type": "histogram2dcontour"
           }
          ],
          "mesh3d": [
           {
            "colorbar": {
             "outlinewidth": 0,
             "ticks": ""
            },
            "type": "mesh3d"
           }
          ],
          "parcoords": [
           {
            "line": {
             "colorbar": {
              "outlinewidth": 0,
              "ticks": ""
             }
            },
            "type": "parcoords"
           }
          ],
          "pie": [
           {
            "automargin": true,
            "type": "pie"
           }
          ],
          "scatter": [
           {
            "fillpattern": {
             "fillmode": "overlay",
             "size": 10,
             "solidity": 0.2
            },
            "type": "scatter"
           }
          ],
          "scatter3d": [
           {
            "line": {
             "colorbar": {
              "outlinewidth": 0,
              "ticks": ""
             }
            },
            "marker": {
             "colorbar": {
              "outlinewidth": 0,
              "ticks": ""
             }
            },
            "type": "scatter3d"
           }
          ],
          "scattercarpet": [
           {
            "marker": {
             "colorbar": {
              "outlinewidth": 0,
              "ticks": ""
             }
            },
            "type": "scattercarpet"
           }
          ],
          "scattergeo": [
           {
            "marker": {
             "colorbar": {
              "outlinewidth": 0,
              "ticks": ""
             }
            },
            "type": "scattergeo"
           }
          ],
          "scattergl": [
           {
            "marker": {
             "colorbar": {
              "outlinewidth": 0,
              "ticks": ""
             }
            },
            "type": "scattergl"
           }
          ],
          "scattermapbox": [
           {
            "marker": {
             "colorbar": {
              "outlinewidth": 0,
              "ticks": ""
             }
            },
            "type": "scattermapbox"
           }
          ],
          "scatterpolar": [
           {
            "marker": {
             "colorbar": {
              "outlinewidth": 0,
              "ticks": ""
             }
            },
            "type": "scatterpolar"
           }
          ],
          "scatterpolargl": [
           {
            "marker": {
             "colorbar": {
              "outlinewidth": 0,
              "ticks": ""
             }
            },
            "type": "scatterpolargl"
           }
          ],
          "scatterternary": [
           {
            "marker": {
             "colorbar": {
              "outlinewidth": 0,
              "ticks": ""
             }
            },
            "type": "scatterternary"
           }
          ],
          "surface": [
           {
            "colorbar": {
             "outlinewidth": 0,
             "ticks": ""
            },
            "colorscale": [
             [
              0,
              "#0d0887"
             ],
             [
              0.1111111111111111,
              "#46039f"
             ],
             [
              0.2222222222222222,
              "#7201a8"
             ],
             [
              0.3333333333333333,
              "#9c179e"
             ],
             [
              0.4444444444444444,
              "#bd3786"
             ],
             [
              0.5555555555555556,
              "#d8576b"
             ],
             [
              0.6666666666666666,
              "#ed7953"
             ],
             [
              0.7777777777777778,
              "#fb9f3a"
             ],
             [
              0.8888888888888888,
              "#fdca26"
             ],
             [
              1,
              "#f0f921"
             ]
            ],
            "type": "surface"
           }
          ],
          "table": [
           {
            "cells": {
             "fill": {
              "color": "#EBF0F8"
             },
             "line": {
              "color": "white"
             }
            },
            "header": {
             "fill": {
              "color": "#C8D4E3"
             },
             "line": {
              "color": "white"
             }
            },
            "type": "table"
           }
          ]
         },
         "layout": {
          "annotationdefaults": {
           "arrowcolor": "#2a3f5f",
           "arrowhead": 0,
           "arrowwidth": 1
          },
          "autotypenumbers": "strict",
          "coloraxis": {
           "colorbar": {
            "outlinewidth": 0,
            "ticks": ""
           }
          },
          "colorscale": {
           "diverging": [
            [
             0,
             "#8e0152"
            ],
            [
             0.1,
             "#c51b7d"
            ],
            [
             0.2,
             "#de77ae"
            ],
            [
             0.3,
             "#f1b6da"
            ],
            [
             0.4,
             "#fde0ef"
            ],
            [
             0.5,
             "#f7f7f7"
            ],
            [
             0.6,
             "#e6f5d0"
            ],
            [
             0.7,
             "#b8e186"
            ],
            [
             0.8,
             "#7fbc41"
            ],
            [
             0.9,
             "#4d9221"
            ],
            [
             1,
             "#276419"
            ]
           ],
           "sequential": [
            [
             0,
             "#0d0887"
            ],
            [
             0.1111111111111111,
             "#46039f"
            ],
            [
             0.2222222222222222,
             "#7201a8"
            ],
            [
             0.3333333333333333,
             "#9c179e"
            ],
            [
             0.4444444444444444,
             "#bd3786"
            ],
            [
             0.5555555555555556,
             "#d8576b"
            ],
            [
             0.6666666666666666,
             "#ed7953"
            ],
            [
             0.7777777777777778,
             "#fb9f3a"
            ],
            [
             0.8888888888888888,
             "#fdca26"
            ],
            [
             1,
             "#f0f921"
            ]
           ],
           "sequentialminus": [
            [
             0,
             "#0d0887"
            ],
            [
             0.1111111111111111,
             "#46039f"
            ],
            [
             0.2222222222222222,
             "#7201a8"
            ],
            [
             0.3333333333333333,
             "#9c179e"
            ],
            [
             0.4444444444444444,
             "#bd3786"
            ],
            [
             0.5555555555555556,
             "#d8576b"
            ],
            [
             0.6666666666666666,
             "#ed7953"
            ],
            [
             0.7777777777777778,
             "#fb9f3a"
            ],
            [
             0.8888888888888888,
             "#fdca26"
            ],
            [
             1,
             "#f0f921"
            ]
           ]
          },
          "colorway": [
           "#636efa",
           "#EF553B",
           "#00cc96",
           "#ab63fa",
           "#FFA15A",
           "#19d3f3",
           "#FF6692",
           "#B6E880",
           "#FF97FF",
           "#FECB52"
          ],
          "font": {
           "color": "#2a3f5f"
          },
          "geo": {
           "bgcolor": "white",
           "lakecolor": "white",
           "landcolor": "#E5ECF6",
           "showlakes": true,
           "showland": true,
           "subunitcolor": "white"
          },
          "hoverlabel": {
           "align": "left"
          },
          "hovermode": "closest",
          "mapbox": {
           "style": "light"
          },
          "paper_bgcolor": "white",
          "plot_bgcolor": "#E5ECF6",
          "polar": {
           "angularaxis": {
            "gridcolor": "white",
            "linecolor": "white",
            "ticks": ""
           },
           "bgcolor": "#E5ECF6",
           "radialaxis": {
            "gridcolor": "white",
            "linecolor": "white",
            "ticks": ""
           }
          },
          "scene": {
           "xaxis": {
            "backgroundcolor": "#E5ECF6",
            "gridcolor": "white",
            "gridwidth": 2,
            "linecolor": "white",
            "showbackground": true,
            "ticks": "",
            "zerolinecolor": "white"
           },
           "yaxis": {
            "backgroundcolor": "#E5ECF6",
            "gridcolor": "white",
            "gridwidth": 2,
            "linecolor": "white",
            "showbackground": true,
            "ticks": "",
            "zerolinecolor": "white"
           },
           "zaxis": {
            "backgroundcolor": "#E5ECF6",
            "gridcolor": "white",
            "gridwidth": 2,
            "linecolor": "white",
            "showbackground": true,
            "ticks": "",
            "zerolinecolor": "white"
           }
          },
          "shapedefaults": {
           "line": {
            "color": "#2a3f5f"
           }
          },
          "ternary": {
           "aaxis": {
            "gridcolor": "white",
            "linecolor": "white",
            "ticks": ""
           },
           "baxis": {
            "gridcolor": "white",
            "linecolor": "white",
            "ticks": ""
           },
           "bgcolor": "#E5ECF6",
           "caxis": {
            "gridcolor": "white",
            "linecolor": "white",
            "ticks": ""
           }
          },
          "title": {
           "x": 0.05
          },
          "xaxis": {
           "automargin": true,
           "gridcolor": "white",
           "linecolor": "white",
           "ticks": "",
           "title": {
            "standoff": 15
           },
           "zerolinecolor": "white",
           "zerolinewidth": 2
          },
          "yaxis": {
           "automargin": true,
           "gridcolor": "white",
           "linecolor": "white",
           "ticks": "",
           "title": {
            "standoff": 15
           },
           "zerolinecolor": "white",
           "zerolinewidth": 2
          }
         }
        },
        "title": {
         "text": "Loss"
        },
        "xaxis": {
         "title": {
          "text": "Epoch"
         }
        },
        "yaxis": {
         "title": {
          "text": "Loss"
         }
        }
       }
      }
     },
     "metadata": {},
     "output_type": "display_data"
    }
   ],
   "source": [
    "# plot loss\n",
    "fig = go.Figure()\n",
    "fig.add_trace(go.Scatter(y=history.history['loss'], mode='lines', name='train'))\n",
    "fig.add_trace(go.Scatter(y=history.history['val_loss'], mode='lines', name='validation'))\n",
    "fig.update_layout(title='Loss', xaxis_title='Epoch', yaxis_title='Loss')\n",
    "fig.show()"
   ]
  },
  {
   "cell_type": "code",
   "execution_count": 28,
   "metadata": {},
   "outputs": [
    {
     "name": "stderr",
     "output_type": "stream",
     "text": [
      "2023-07-16 22:13:20.297035: I tensorflow/core/common_runtime/executor.cc:1197] [/device:CPU:0] (DEBUG INFO) Executor start aborting (this does not indicate an error and you can ignore this message): INVALID_ARGUMENT: You must feed a value for placeholder tensor 'gradients/split_2_grad/concat/split_2/split_dim' with dtype int32\n",
      "\t [[{{node gradients/split_2_grad/concat/split_2/split_dim}}]]\n",
      "2023-07-16 22:13:20.298038: I tensorflow/core/common_runtime/executor.cc:1197] [/device:CPU:0] (DEBUG INFO) Executor start aborting (this does not indicate an error and you can ignore this message): INVALID_ARGUMENT: You must feed a value for placeholder tensor 'gradients/split_grad/concat/split/split_dim' with dtype int32\n",
      "\t [[{{node gradients/split_grad/concat/split/split_dim}}]]\n",
      "2023-07-16 22:13:20.298768: I tensorflow/core/common_runtime/executor.cc:1197] [/device:CPU:0] (DEBUG INFO) Executor start aborting (this does not indicate an error and you can ignore this message): INVALID_ARGUMENT: You must feed a value for placeholder tensor 'gradients/split_1_grad/concat/split_1/split_dim' with dtype int32\n",
      "\t [[{{node gradients/split_1_grad/concat/split_1/split_dim}}]]\n",
      "2023-07-16 22:13:20.401111: I tensorflow/core/common_runtime/executor.cc:1197] [/device:CPU:0] (DEBUG INFO) Executor start aborting (this does not indicate an error and you can ignore this message): INVALID_ARGUMENT: You must feed a value for placeholder tensor 'gradients/split_2_grad/concat/split_2/split_dim' with dtype int32\n",
      "\t [[{{node gradients/split_2_grad/concat/split_2/split_dim}}]]\n",
      "2023-07-16 22:13:20.401926: I tensorflow/core/common_runtime/executor.cc:1197] [/device:CPU:0] (DEBUG INFO) Executor start aborting (this does not indicate an error and you can ignore this message): INVALID_ARGUMENT: You must feed a value for placeholder tensor 'gradients/split_grad/concat/split/split_dim' with dtype int32\n",
      "\t [[{{node gradients/split_grad/concat/split/split_dim}}]]\n",
      "2023-07-16 22:13:20.402703: I tensorflow/core/common_runtime/executor.cc:1197] [/device:CPU:0] (DEBUG INFO) Executor start aborting (this does not indicate an error and you can ignore this message): INVALID_ARGUMENT: You must feed a value for placeholder tensor 'gradients/split_1_grad/concat/split_1/split_dim' with dtype int32\n",
      "\t [[{{node gradients/split_1_grad/concat/split_1/split_dim}}]]\n"
     ]
    },
    {
     "name": "stdout",
     "output_type": "stream",
     "text": [
      "3/3 [==============================] - 0s 4ms/step\n",
      "MSE: 26584682.877065472\n",
      "MAE: 3973.231064874143\n",
      "R2: -1.4619737782689772\n",
      "MAPE: 0.9679333225846165\n"
     ]
    }
   ],
   "source": [
    "# evaluate model\n",
    "y_pred = model.predict(x_test.values.reshape(x_test.shape[0], x_test.shape[1], 1))\n",
    "print('MSE:', mean_squared_error(y_test, y_pred))\n",
    "print('MAE:', mean_absolute_error(y_test, y_pred))\n",
    "print('R2:', r2_score(y_test, y_pred))\n",
    "print('MAPE:', mean_absolute_percentage_error(y_test, y_pred))"
   ]
  },
  {
   "cell_type": "code",
   "execution_count": null,
   "metadata": {},
   "outputs": [],
   "source": []
  }
 ],
 "metadata": {
  "kernelspec": {
   "display_name": "house-price-prediction",
   "language": "python",
   "name": "python3"
  },
  "language_info": {
   "codemirror_mode": {
    "name": "ipython",
    "version": 3
   },
   "file_extension": ".py",
   "mimetype": "text/x-python",
   "name": "python",
   "nbconvert_exporter": "python",
   "pygments_lexer": "ipython3",
   "version": "3.11.3"
  },
  "orig_nbformat": 4
 },
 "nbformat": 4,
 "nbformat_minor": 2
}
