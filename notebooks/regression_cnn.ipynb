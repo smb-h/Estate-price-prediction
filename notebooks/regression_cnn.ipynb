{
 "cells": [
  {
   "cell_type": "code",
   "execution_count": 44,
   "metadata": {},
   "outputs": [],
   "source": [
    "import os\n",
    "import glob\n",
    "import pandas as pd\n",
    "import numpy as np\n",
    "import cv2\n",
    "import locale\n",
    "import tensorflow as tf\n",
    "from tensorflow.keras.models import Model\n",
    "from tensorflow.keras import Input\n",
    "from tensorflow.keras.layers import (\n",
    "    Conv2D, MaxPooling2D, Activation, \n",
    "    Flatten, Dropout, Dense, \n",
    "    Input, BatchNormalization\n",
    ")\n",
    "from tensorflow.keras.optimizers import Adam\n",
    "from sklearn.preprocessing import LabelBinarizer, MinMaxScaler\n",
    "from sklearn.model_selection import train_test_split\n",
    "from matplotlib import pyplot as plt\n",
    "\n",
    "import plotly.express as px\n",
    "import plotly.graph_objects as go"
   ]
  },
  {
   "cell_type": "code",
   "execution_count": 23,
   "metadata": {},
   "outputs": [],
   "source": [
    "dataset_path = \"/home/smbh/Projects/house-price-prediction/data/raw/houses-dataset/houses_dataset\""
   ]
  },
  {
   "cell_type": "code",
   "execution_count": 24,
   "metadata": {},
   "outputs": [
    {
     "data": {
      "text/html": [
       "<div>\n",
       "<style scoped>\n",
       "    .dataframe tbody tr th:only-of-type {\n",
       "        vertical-align: middle;\n",
       "    }\n",
       "\n",
       "    .dataframe tbody tr th {\n",
       "        vertical-align: top;\n",
       "    }\n",
       "\n",
       "    .dataframe thead th {\n",
       "        text-align: right;\n",
       "    }\n",
       "</style>\n",
       "<table border=\"1\" class=\"dataframe\">\n",
       "  <thead>\n",
       "    <tr style=\"text-align: right;\">\n",
       "      <th></th>\n",
       "      <th>bedrooms</th>\n",
       "      <th>bathrooms</th>\n",
       "      <th>area</th>\n",
       "      <th>zipcode</th>\n",
       "      <th>price</th>\n",
       "    </tr>\n",
       "  </thead>\n",
       "  <tbody>\n",
       "    <tr>\n",
       "      <th>0</th>\n",
       "      <td>4</td>\n",
       "      <td>4.0</td>\n",
       "      <td>4053</td>\n",
       "      <td>85255</td>\n",
       "      <td>869500</td>\n",
       "    </tr>\n",
       "    <tr>\n",
       "      <th>1</th>\n",
       "      <td>4</td>\n",
       "      <td>3.0</td>\n",
       "      <td>3343</td>\n",
       "      <td>36372</td>\n",
       "      <td>865200</td>\n",
       "    </tr>\n",
       "    <tr>\n",
       "      <th>2</th>\n",
       "      <td>3</td>\n",
       "      <td>4.0</td>\n",
       "      <td>3923</td>\n",
       "      <td>85266</td>\n",
       "      <td>889000</td>\n",
       "    </tr>\n",
       "    <tr>\n",
       "      <th>3</th>\n",
       "      <td>5</td>\n",
       "      <td>5.0</td>\n",
       "      <td>4022</td>\n",
       "      <td>85262</td>\n",
       "      <td>910000</td>\n",
       "    </tr>\n",
       "    <tr>\n",
       "      <th>4</th>\n",
       "      <td>3</td>\n",
       "      <td>4.0</td>\n",
       "      <td>4116</td>\n",
       "      <td>85266</td>\n",
       "      <td>971226</td>\n",
       "    </tr>\n",
       "  </tbody>\n",
       "</table>\n",
       "</div>"
      ],
      "text/plain": [
       "   bedrooms  bathrooms  area  zipcode   price\n",
       "0         4        4.0  4053    85255  869500\n",
       "1         4        3.0  3343    36372  865200\n",
       "2         3        4.0  3923    85266  889000\n",
       "3         5        5.0  4022    85262  910000\n",
       "4         3        4.0  4116    85266  971226"
      ]
     },
     "execution_count": 24,
     "metadata": {},
     "output_type": "execute_result"
    }
   ],
   "source": [
    "cols = [\n",
    "    \"bedrooms\",\n",
    "    \"bathrooms\",\n",
    "    \"area\",\n",
    "    \"zipcode\",\n",
    "    \"price\"\n",
    "]\n",
    "df = pd.read_csv(dataset_path + \"/HousesInfo.txt\", sep=\" \", header=None, names=cols)\n",
    "df.head()"
   ]
  },
  {
   "cell_type": "code",
   "execution_count": 25,
   "metadata": {},
   "outputs": [],
   "source": [
    "# zipcode to categorical\n",
    "df[\"zipcode\"] = df[\"zipcode\"].astype(\"str\")"
   ]
  },
  {
   "cell_type": "code",
   "execution_count": 26,
   "metadata": {},
   "outputs": [
    {
     "data": {
      "text/plain": [
       "(535, 5)"
      ]
     },
     "execution_count": 26,
     "metadata": {},
     "output_type": "execute_result"
    }
   ],
   "source": [
    "zipcodes, count = np.unique(\n",
    "    df[\"zipcode\"],\n",
    "    return_counts=True\n",
    ")\n",
    "# dict(zip(zipcodes, count))\n",
    "df.shape"
   ]
  },
  {
   "cell_type": "code",
   "execution_count": 27,
   "metadata": {},
   "outputs": [
    {
     "data": {
      "application/vnd.plotly.v1+json": {
       "config": {
        "plotlyServerURL": "https://plot.ly"
       },
       "data": [
        {
         "alignmentgroup": "True",
         "bingroup": "x",
         "hovertemplate": "zipcode=%{x}<br>count=%{y}<extra></extra>",
         "legendgroup": "",
         "marker": {
          "color": "#636efa",
          "pattern": {
           "shape": ""
          }
         },
         "name": "",
         "nbinsx": 70,
         "offsetgroup": "",
         "orientation": "v",
         "showlegend": false,
         "type": "histogram",
         "x": [
          "85255",
          "36372",
          "85266",
          "85262",
          "85266",
          "85266",
          "85262",
          "85266",
          "85255",
          "85262",
          "85266",
          "85255",
          "85266",
          "85266",
          "85266",
          "85255",
          "85331",
          "85255",
          "85255",
          "85266",
          "85255",
          "85262",
          "85255",
          "85377",
          "85262",
          "85262",
          "85262",
          "85266",
          "85377",
          "85266",
          "93446",
          "85255",
          "93446",
          "85262",
          "85377",
          "85255",
          "85262",
          "85255",
          "85255",
          "93446",
          "98021",
          "98021",
          "98021",
          "98021",
          "81524",
          "81524",
          "81524",
          "81524",
          "81418",
          "81418",
          "81521",
          "81524",
          "81524",
          "81524",
          "81524",
          "81524",
          "81524",
          "81524",
          "62214",
          "62234",
          "62034",
          "62025",
          "62025",
          "62088",
          "62234",
          "62234",
          "62234",
          "62234",
          "62234",
          "62249",
          "62234",
          "62214",
          "62214",
          "60002",
          "60002",
          "62214",
          "60002",
          "60046",
          "60016",
          "60016",
          "91901",
          "91901",
          "91901",
          "91901",
          "91901",
          "91901",
          "91901",
          "91901",
          "91901",
          "91901",
          "91901",
          "91901",
          "91901",
          "91901",
          "91901",
          "91901",
          "91901",
          "91901",
          "93446",
          "91901",
          "91901",
          "91901",
          "91901",
          "91901",
          "91901",
          "91901",
          "93446",
          "91901",
          "91901",
          "91901",
          "91901",
          "91901",
          "91901",
          "91901",
          "92021",
          "92021",
          "92021",
          "92021",
          "92021",
          "92021",
          "92021",
          "92021",
          "92021",
          "92021",
          "92021",
          "92677",
          "92677",
          "92677",
          "92677",
          "92677",
          "92677",
          "92677",
          "92677",
          "92677",
          "92677",
          "92677",
          "92677",
          "92677",
          "92677",
          "92677",
          "92677",
          "92677",
          "92677",
          "92677",
          "92677",
          "92677",
          "92677",
          "92677",
          "92677",
          "92677",
          "92677",
          "96019",
          "96019",
          "96019",
          "96019",
          "96019",
          "96019",
          "96019",
          "96019",
          "96019",
          "96019",
          "96019",
          "96019",
          "95220",
          "95220",
          "95220",
          "95220",
          "95220",
          "95220",
          "95220",
          "95220",
          "95220",
          "95220",
          "94501",
          "94501",
          "94501",
          "94501",
          "94501",
          "94501",
          "94501",
          "94501",
          "94501",
          "94501",
          "94501",
          "94501",
          "94501",
          "94501",
          "94501",
          "94501",
          "94501",
          "94501",
          "94501",
          "94501",
          "94501",
          "94501",
          "94501",
          "94501",
          "94501",
          "94501",
          "94501",
          "94501",
          "93446",
          "94501",
          "94501",
          "94501",
          "94501",
          "94501",
          "94501",
          "94501",
          "94501",
          "94501",
          "94501",
          "94501",
          "94501",
          "94501",
          "93111",
          "93111",
          "93111",
          "93111",
          "93111",
          "93111",
          "93105",
          "93111",
          "93111",
          "93111",
          "93111",
          "93111",
          "92880",
          "92880",
          "92880",
          "92880",
          "92880",
          "92880",
          "92880",
          "92880",
          "91752",
          "92880",
          "92880",
          "92880",
          "92880",
          "92880",
          "92880",
          "92880",
          "92880",
          "92880",
          "92880",
          "92880",
          "92880",
          "92880",
          "92880",
          "92880",
          "92880",
          "92543",
          "92253",
          "94568",
          "90211",
          "92040",
          "93720",
          "92880",
          "92692",
          "93924",
          "90265",
          "92692",
          "92253",
          "93314",
          "92880",
          "90038",
          "92880",
          "90803",
          "92880",
          "95008",
          "94565",
          "92880",
          "91915",
          "92880",
          "92880",
          "91752",
          "92880",
          "92880",
          "92880",
          "92880",
          "92880",
          "91752",
          "92880",
          "92880",
          "92276",
          "92276",
          "92276",
          "92276",
          "92276",
          "92276",
          "92276",
          "92276",
          "92276",
          "92276",
          "92880",
          "92880",
          "92880",
          "92880",
          "92880",
          "92880",
          "92880",
          "92880",
          "92880",
          "92880",
          "92880",
          "93510",
          "93510",
          "93510",
          "93510",
          "93510",
          "93510",
          "93510",
          "93510",
          "93510",
          "93510",
          "93510",
          "93510",
          "93510",
          "93510",
          "93510",
          "93510",
          "93510",
          "93510",
          "93510",
          "93510",
          "93510",
          "93510",
          "93510",
          "93510",
          "92276",
          "92276",
          "92276",
          "92276",
          "92276",
          "92276",
          "92276",
          "92276",
          "92276",
          "92276",
          "92276",
          "92276",
          "92276",
          "92276",
          "92276",
          "92276",
          "92276",
          "92276",
          "92276",
          "92276",
          "92276",
          "92276",
          "92276",
          "92276",
          "92276",
          "92276",
          "92276",
          "92276",
          "92276",
          "92276",
          "92276",
          "92276",
          "92276",
          "92276",
          "92276",
          "92276",
          "92276",
          "92276",
          "92276",
          "92276",
          "92276",
          "92276",
          "92276",
          "92276",
          "92276",
          "92276",
          "92276",
          "92276",
          "92276",
          "92276",
          "92276",
          "92276",
          "92276",
          "92276",
          "92276",
          "92276",
          "92276",
          "92276",
          "92276",
          "92276",
          "92276",
          "92276",
          "92276",
          "92276",
          "92276",
          "93446",
          "92276",
          "92276",
          "92276",
          "92276",
          "92276",
          "92276",
          "92276",
          "92276",
          "92276",
          "92276",
          "92276",
          "92276",
          "92276",
          "92276",
          "92276",
          "92276",
          "92276",
          "92276",
          "92276",
          "92276",
          "92276",
          "92276",
          "92276",
          "92276",
          "92276",
          "93510",
          "93510",
          "93510",
          "93510",
          "93510",
          "93510",
          "93510",
          "93510",
          "93510",
          "93510",
          "93510",
          "93510",
          "93510",
          "93510",
          "93510",
          "93510",
          "93510",
          "93510",
          "93510",
          "93510",
          "93510",
          "93510",
          "93510",
          "93510",
          "93510",
          "93510",
          "93510",
          "93510",
          "93510",
          "93510",
          "93510",
          "93510",
          "93510",
          "93510",
          "93510",
          "93510",
          "93446",
          "93446",
          "93446",
          "93446",
          "93446",
          "93446",
          "93446",
          "93446",
          "93446",
          "93446",
          "93446",
          "93446",
          "93446",
          "93446",
          "93446",
          "93446",
          "93446",
          "93446",
          "93446",
          "93446",
          "93446",
          "93446",
          "93446",
          "93446",
          "93446",
          "93446",
          "93446",
          "93446",
          "93446",
          "93446",
          "93446",
          "93446",
          "93446",
          "93446",
          "93446",
          "93446",
          "93446",
          "93446",
          "93446",
          "93446",
          "93446",
          "93446",
          "93446",
          "93446",
          "93446",
          "93446",
          "93446",
          "92802",
          "92802",
          "92802",
          "92802",
          "92802",
          "92802",
          "92802",
          "92802",
          "92802",
          "94531",
          "94531",
          "94531",
          "94531",
          "94531",
          "94531",
          "94531",
          "94531",
          "94531",
          "94531",
          "94531",
          "94531",
          "94531",
          "94531",
          "94531",
          "94531",
          "94531",
          "94531",
          "94531",
          "94531",
          "94531",
          "94531"
         ],
         "xaxis": "x",
         "yaxis": "y"
        }
       ],
       "layout": {
        "barmode": "relative",
        "legend": {
         "tracegroupgap": 0
        },
        "template": {
         "data": {
          "bar": [
           {
            "error_x": {
             "color": "#2a3f5f"
            },
            "error_y": {
             "color": "#2a3f5f"
            },
            "marker": {
             "line": {
              "color": "#E5ECF6",
              "width": 0.5
             },
             "pattern": {
              "fillmode": "overlay",
              "size": 10,
              "solidity": 0.2
             }
            },
            "type": "bar"
           }
          ],
          "barpolar": [
           {
            "marker": {
             "line": {
              "color": "#E5ECF6",
              "width": 0.5
             },
             "pattern": {
              "fillmode": "overlay",
              "size": 10,
              "solidity": 0.2
             }
            },
            "type": "barpolar"
           }
          ],
          "carpet": [
           {
            "aaxis": {
             "endlinecolor": "#2a3f5f",
             "gridcolor": "white",
             "linecolor": "white",
             "minorgridcolor": "white",
             "startlinecolor": "#2a3f5f"
            },
            "baxis": {
             "endlinecolor": "#2a3f5f",
             "gridcolor": "white",
             "linecolor": "white",
             "minorgridcolor": "white",
             "startlinecolor": "#2a3f5f"
            },
            "type": "carpet"
           }
          ],
          "choropleth": [
           {
            "colorbar": {
             "outlinewidth": 0,
             "ticks": ""
            },
            "type": "choropleth"
           }
          ],
          "contour": [
           {
            "colorbar": {
             "outlinewidth": 0,
             "ticks": ""
            },
            "colorscale": [
             [
              0,
              "#0d0887"
             ],
             [
              0.1111111111111111,
              "#46039f"
             ],
             [
              0.2222222222222222,
              "#7201a8"
             ],
             [
              0.3333333333333333,
              "#9c179e"
             ],
             [
              0.4444444444444444,
              "#bd3786"
             ],
             [
              0.5555555555555556,
              "#d8576b"
             ],
             [
              0.6666666666666666,
              "#ed7953"
             ],
             [
              0.7777777777777778,
              "#fb9f3a"
             ],
             [
              0.8888888888888888,
              "#fdca26"
             ],
             [
              1,
              "#f0f921"
             ]
            ],
            "type": "contour"
           }
          ],
          "contourcarpet": [
           {
            "colorbar": {
             "outlinewidth": 0,
             "ticks": ""
            },
            "type": "contourcarpet"
           }
          ],
          "heatmap": [
           {
            "colorbar": {
             "outlinewidth": 0,
             "ticks": ""
            },
            "colorscale": [
             [
              0,
              "#0d0887"
             ],
             [
              0.1111111111111111,
              "#46039f"
             ],
             [
              0.2222222222222222,
              "#7201a8"
             ],
             [
              0.3333333333333333,
              "#9c179e"
             ],
             [
              0.4444444444444444,
              "#bd3786"
             ],
             [
              0.5555555555555556,
              "#d8576b"
             ],
             [
              0.6666666666666666,
              "#ed7953"
             ],
             [
              0.7777777777777778,
              "#fb9f3a"
             ],
             [
              0.8888888888888888,
              "#fdca26"
             ],
             [
              1,
              "#f0f921"
             ]
            ],
            "type": "heatmap"
           }
          ],
          "heatmapgl": [
           {
            "colorbar": {
             "outlinewidth": 0,
             "ticks": ""
            },
            "colorscale": [
             [
              0,
              "#0d0887"
             ],
             [
              0.1111111111111111,
              "#46039f"
             ],
             [
              0.2222222222222222,
              "#7201a8"
             ],
             [
              0.3333333333333333,
              "#9c179e"
             ],
             [
              0.4444444444444444,
              "#bd3786"
             ],
             [
              0.5555555555555556,
              "#d8576b"
             ],
             [
              0.6666666666666666,
              "#ed7953"
             ],
             [
              0.7777777777777778,
              "#fb9f3a"
             ],
             [
              0.8888888888888888,
              "#fdca26"
             ],
             [
              1,
              "#f0f921"
             ]
            ],
            "type": "heatmapgl"
           }
          ],
          "histogram": [
           {
            "marker": {
             "pattern": {
              "fillmode": "overlay",
              "size": 10,
              "solidity": 0.2
             }
            },
            "type": "histogram"
           }
          ],
          "histogram2d": [
           {
            "colorbar": {
             "outlinewidth": 0,
             "ticks": ""
            },
            "colorscale": [
             [
              0,
              "#0d0887"
             ],
             [
              0.1111111111111111,
              "#46039f"
             ],
             [
              0.2222222222222222,
              "#7201a8"
             ],
             [
              0.3333333333333333,
              "#9c179e"
             ],
             [
              0.4444444444444444,
              "#bd3786"
             ],
             [
              0.5555555555555556,
              "#d8576b"
             ],
             [
              0.6666666666666666,
              "#ed7953"
             ],
             [
              0.7777777777777778,
              "#fb9f3a"
             ],
             [
              0.8888888888888888,
              "#fdca26"
             ],
             [
              1,
              "#f0f921"
             ]
            ],
            "type": "histogram2d"
           }
          ],
          "histogram2dcontour": [
           {
            "colorbar": {
             "outlinewidth": 0,
             "ticks": ""
            },
            "colorscale": [
             [
              0,
              "#0d0887"
             ],
             [
              0.1111111111111111,
              "#46039f"
             ],
             [
              0.2222222222222222,
              "#7201a8"
             ],
             [
              0.3333333333333333,
              "#9c179e"
             ],
             [
              0.4444444444444444,
              "#bd3786"
             ],
             [
              0.5555555555555556,
              "#d8576b"
             ],
             [
              0.6666666666666666,
              "#ed7953"
             ],
             [
              0.7777777777777778,
              "#fb9f3a"
             ],
             [
              0.8888888888888888,
              "#fdca26"
             ],
             [
              1,
              "#f0f921"
             ]
            ],
            "type": "histogram2dcontour"
           }
          ],
          "mesh3d": [
           {
            "colorbar": {
             "outlinewidth": 0,
             "ticks": ""
            },
            "type": "mesh3d"
           }
          ],
          "parcoords": [
           {
            "line": {
             "colorbar": {
              "outlinewidth": 0,
              "ticks": ""
             }
            },
            "type": "parcoords"
           }
          ],
          "pie": [
           {
            "automargin": true,
            "type": "pie"
           }
          ],
          "scatter": [
           {
            "fillpattern": {
             "fillmode": "overlay",
             "size": 10,
             "solidity": 0.2
            },
            "type": "scatter"
           }
          ],
          "scatter3d": [
           {
            "line": {
             "colorbar": {
              "outlinewidth": 0,
              "ticks": ""
             }
            },
            "marker": {
             "colorbar": {
              "outlinewidth": 0,
              "ticks": ""
             }
            },
            "type": "scatter3d"
           }
          ],
          "scattercarpet": [
           {
            "marker": {
             "colorbar": {
              "outlinewidth": 0,
              "ticks": ""
             }
            },
            "type": "scattercarpet"
           }
          ],
          "scattergeo": [
           {
            "marker": {
             "colorbar": {
              "outlinewidth": 0,
              "ticks": ""
             }
            },
            "type": "scattergeo"
           }
          ],
          "scattergl": [
           {
            "marker": {
             "colorbar": {
              "outlinewidth": 0,
              "ticks": ""
             }
            },
            "type": "scattergl"
           }
          ],
          "scattermapbox": [
           {
            "marker": {
             "colorbar": {
              "outlinewidth": 0,
              "ticks": ""
             }
            },
            "type": "scattermapbox"
           }
          ],
          "scatterpolar": [
           {
            "marker": {
             "colorbar": {
              "outlinewidth": 0,
              "ticks": ""
             }
            },
            "type": "scatterpolar"
           }
          ],
          "scatterpolargl": [
           {
            "marker": {
             "colorbar": {
              "outlinewidth": 0,
              "ticks": ""
             }
            },
            "type": "scatterpolargl"
           }
          ],
          "scatterternary": [
           {
            "marker": {
             "colorbar": {
              "outlinewidth": 0,
              "ticks": ""
             }
            },
            "type": "scatterternary"
           }
          ],
          "surface": [
           {
            "colorbar": {
             "outlinewidth": 0,
             "ticks": ""
            },
            "colorscale": [
             [
              0,
              "#0d0887"
             ],
             [
              0.1111111111111111,
              "#46039f"
             ],
             [
              0.2222222222222222,
              "#7201a8"
             ],
             [
              0.3333333333333333,
              "#9c179e"
             ],
             [
              0.4444444444444444,
              "#bd3786"
             ],
             [
              0.5555555555555556,
              "#d8576b"
             ],
             [
              0.6666666666666666,
              "#ed7953"
             ],
             [
              0.7777777777777778,
              "#fb9f3a"
             ],
             [
              0.8888888888888888,
              "#fdca26"
             ],
             [
              1,
              "#f0f921"
             ]
            ],
            "type": "surface"
           }
          ],
          "table": [
           {
            "cells": {
             "fill": {
              "color": "#EBF0F8"
             },
             "line": {
              "color": "white"
             }
            },
            "header": {
             "fill": {
              "color": "#C8D4E3"
             },
             "line": {
              "color": "white"
             }
            },
            "type": "table"
           }
          ]
         },
         "layout": {
          "annotationdefaults": {
           "arrowcolor": "#2a3f5f",
           "arrowhead": 0,
           "arrowwidth": 1
          },
          "autotypenumbers": "strict",
          "coloraxis": {
           "colorbar": {
            "outlinewidth": 0,
            "ticks": ""
           }
          },
          "colorscale": {
           "diverging": [
            [
             0,
             "#8e0152"
            ],
            [
             0.1,
             "#c51b7d"
            ],
            [
             0.2,
             "#de77ae"
            ],
            [
             0.3,
             "#f1b6da"
            ],
            [
             0.4,
             "#fde0ef"
            ],
            [
             0.5,
             "#f7f7f7"
            ],
            [
             0.6,
             "#e6f5d0"
            ],
            [
             0.7,
             "#b8e186"
            ],
            [
             0.8,
             "#7fbc41"
            ],
            [
             0.9,
             "#4d9221"
            ],
            [
             1,
             "#276419"
            ]
           ],
           "sequential": [
            [
             0,
             "#0d0887"
            ],
            [
             0.1111111111111111,
             "#46039f"
            ],
            [
             0.2222222222222222,
             "#7201a8"
            ],
            [
             0.3333333333333333,
             "#9c179e"
            ],
            [
             0.4444444444444444,
             "#bd3786"
            ],
            [
             0.5555555555555556,
             "#d8576b"
            ],
            [
             0.6666666666666666,
             "#ed7953"
            ],
            [
             0.7777777777777778,
             "#fb9f3a"
            ],
            [
             0.8888888888888888,
             "#fdca26"
            ],
            [
             1,
             "#f0f921"
            ]
           ],
           "sequentialminus": [
            [
             0,
             "#0d0887"
            ],
            [
             0.1111111111111111,
             "#46039f"
            ],
            [
             0.2222222222222222,
             "#7201a8"
            ],
            [
             0.3333333333333333,
             "#9c179e"
            ],
            [
             0.4444444444444444,
             "#bd3786"
            ],
            [
             0.5555555555555556,
             "#d8576b"
            ],
            [
             0.6666666666666666,
             "#ed7953"
            ],
            [
             0.7777777777777778,
             "#fb9f3a"
            ],
            [
             0.8888888888888888,
             "#fdca26"
            ],
            [
             1,
             "#f0f921"
            ]
           ]
          },
          "colorway": [
           "#636efa",
           "#EF553B",
           "#00cc96",
           "#ab63fa",
           "#FFA15A",
           "#19d3f3",
           "#FF6692",
           "#B6E880",
           "#FF97FF",
           "#FECB52"
          ],
          "font": {
           "color": "#2a3f5f"
          },
          "geo": {
           "bgcolor": "white",
           "lakecolor": "white",
           "landcolor": "#E5ECF6",
           "showlakes": true,
           "showland": true,
           "subunitcolor": "white"
          },
          "hoverlabel": {
           "align": "left"
          },
          "hovermode": "closest",
          "mapbox": {
           "style": "light"
          },
          "paper_bgcolor": "white",
          "plot_bgcolor": "#E5ECF6",
          "polar": {
           "angularaxis": {
            "gridcolor": "white",
            "linecolor": "white",
            "ticks": ""
           },
           "bgcolor": "#E5ECF6",
           "radialaxis": {
            "gridcolor": "white",
            "linecolor": "white",
            "ticks": ""
           }
          },
          "scene": {
           "xaxis": {
            "backgroundcolor": "#E5ECF6",
            "gridcolor": "white",
            "gridwidth": 2,
            "linecolor": "white",
            "showbackground": true,
            "ticks": "",
            "zerolinecolor": "white"
           },
           "yaxis": {
            "backgroundcolor": "#E5ECF6",
            "gridcolor": "white",
            "gridwidth": 2,
            "linecolor": "white",
            "showbackground": true,
            "ticks": "",
            "zerolinecolor": "white"
           },
           "zaxis": {
            "backgroundcolor": "#E5ECF6",
            "gridcolor": "white",
            "gridwidth": 2,
            "linecolor": "white",
            "showbackground": true,
            "ticks": "",
            "zerolinecolor": "white"
           }
          },
          "shapedefaults": {
           "line": {
            "color": "#2a3f5f"
           }
          },
          "ternary": {
           "aaxis": {
            "gridcolor": "white",
            "linecolor": "white",
            "ticks": ""
           },
           "baxis": {
            "gridcolor": "white",
            "linecolor": "white",
            "ticks": ""
           },
           "bgcolor": "#E5ECF6",
           "caxis": {
            "gridcolor": "white",
            "linecolor": "white",
            "ticks": ""
           }
          },
          "title": {
           "x": 0.05
          },
          "xaxis": {
           "automargin": true,
           "gridcolor": "white",
           "linecolor": "white",
           "ticks": "",
           "title": {
            "standoff": 15
           },
           "zerolinecolor": "white",
           "zerolinewidth": 2
          },
          "yaxis": {
           "automargin": true,
           "gridcolor": "white",
           "linecolor": "white",
           "ticks": "",
           "title": {
            "standoff": 15
           },
           "zerolinecolor": "white",
           "zerolinewidth": 2
          }
         }
        },
        "title": {
         "text": "Histogram of Zip Codes"
        },
        "xaxis": {
         "anchor": "y",
         "domain": [
          0,
          1
         ],
         "title": {
          "text": "zipcode"
         }
        },
        "yaxis": {
         "anchor": "x",
         "domain": [
          0,
          1
         ],
         "title": {
          "text": "count"
         }
        }
       }
      }
     },
     "metadata": {},
     "output_type": "display_data"
    }
   ],
   "source": [
    "# plot histogram of zip codes\n",
    "fig = px.histogram(\n",
    "    df,\n",
    "    x=\"zipcode\",\n",
    "    nbins=70,\n",
    "    title=\"Histogram of Zip Codes\"\n",
    ")\n",
    "fig.show()"
   ]
  },
  {
   "cell_type": "code",
   "execution_count": 28,
   "metadata": {},
   "outputs": [
    {
     "data": {
      "text/plain": [
       "(362, 5)"
      ]
     },
     "execution_count": 28,
     "metadata": {},
     "output_type": "execute_result"
    }
   ],
   "source": [
    "# delete zip codes with less than 25 houses\n",
    "for (zipcode, count) in zip(zipcodes, count):\n",
    "    if count < 25:\n",
    "        idxs = df[df[\"zipcode\"] == zipcode].index\n",
    "        df.drop(idxs, inplace=True)\n",
    "df.shape"
   ]
  },
  {
   "cell_type": "code",
   "execution_count": 29,
   "metadata": {},
   "outputs": [
    {
     "data": {
      "application/vnd.plotly.v1+json": {
       "config": {
        "plotlyServerURL": "https://plot.ly"
       },
       "data": [
        {
         "alignmentgroup": "True",
         "bingroup": "x",
         "hovertemplate": "zipcode=%{x}<br>count=%{y}<extra></extra>",
         "legendgroup": "",
         "marker": {
          "color": "#636efa",
          "pattern": {
           "shape": ""
          }
         },
         "name": "",
         "nbinsx": 70,
         "offsetgroup": "",
         "orientation": "v",
         "showlegend": false,
         "type": "histogram",
         "x": [
          "93446",
          "93446",
          "93446",
          "91901",
          "91901",
          "91901",
          "91901",
          "91901",
          "91901",
          "91901",
          "91901",
          "91901",
          "91901",
          "91901",
          "91901",
          "91901",
          "91901",
          "91901",
          "91901",
          "91901",
          "91901",
          "93446",
          "91901",
          "91901",
          "91901",
          "91901",
          "91901",
          "91901",
          "91901",
          "93446",
          "91901",
          "91901",
          "91901",
          "91901",
          "91901",
          "91901",
          "91901",
          "92677",
          "92677",
          "92677",
          "92677",
          "92677",
          "92677",
          "92677",
          "92677",
          "92677",
          "92677",
          "92677",
          "92677",
          "92677",
          "92677",
          "92677",
          "92677",
          "92677",
          "92677",
          "92677",
          "92677",
          "92677",
          "92677",
          "92677",
          "92677",
          "92677",
          "92677",
          "94501",
          "94501",
          "94501",
          "94501",
          "94501",
          "94501",
          "94501",
          "94501",
          "94501",
          "94501",
          "94501",
          "94501",
          "94501",
          "94501",
          "94501",
          "94501",
          "94501",
          "94501",
          "94501",
          "94501",
          "94501",
          "94501",
          "94501",
          "94501",
          "94501",
          "94501",
          "94501",
          "94501",
          "93446",
          "94501",
          "94501",
          "94501",
          "94501",
          "94501",
          "94501",
          "94501",
          "94501",
          "94501",
          "94501",
          "94501",
          "94501",
          "94501",
          "92880",
          "92880",
          "92880",
          "92880",
          "92880",
          "92880",
          "92880",
          "92880",
          "92880",
          "92880",
          "92880",
          "92880",
          "92880",
          "92880",
          "92880",
          "92880",
          "92880",
          "92880",
          "92880",
          "92880",
          "92880",
          "92880",
          "92880",
          "92880",
          "92880",
          "92880",
          "92880",
          "92880",
          "92880",
          "92880",
          "92880",
          "92880",
          "92880",
          "92880",
          "92880",
          "92880",
          "92880",
          "92880",
          "92276",
          "92276",
          "92276",
          "92276",
          "92276",
          "92276",
          "92276",
          "92276",
          "92276",
          "92276",
          "92880",
          "92880",
          "92880",
          "92880",
          "92880",
          "92880",
          "92880",
          "92880",
          "92880",
          "92880",
          "92880",
          "93510",
          "93510",
          "93510",
          "93510",
          "93510",
          "93510",
          "93510",
          "93510",
          "93510",
          "93510",
          "93510",
          "93510",
          "93510",
          "93510",
          "93510",
          "93510",
          "93510",
          "93510",
          "93510",
          "93510",
          "93510",
          "93510",
          "93510",
          "93510",
          "92276",
          "92276",
          "92276",
          "92276",
          "92276",
          "92276",
          "92276",
          "92276",
          "92276",
          "92276",
          "92276",
          "92276",
          "92276",
          "92276",
          "92276",
          "92276",
          "92276",
          "92276",
          "92276",
          "92276",
          "92276",
          "92276",
          "92276",
          "92276",
          "92276",
          "92276",
          "92276",
          "92276",
          "92276",
          "92276",
          "92276",
          "92276",
          "92276",
          "92276",
          "92276",
          "92276",
          "92276",
          "92276",
          "92276",
          "92276",
          "92276",
          "92276",
          "92276",
          "92276",
          "92276",
          "92276",
          "92276",
          "92276",
          "92276",
          "92276",
          "92276",
          "92276",
          "92276",
          "92276",
          "92276",
          "92276",
          "92276",
          "92276",
          "92276",
          "92276",
          "92276",
          "92276",
          "92276",
          "92276",
          "92276",
          "93446",
          "92276",
          "92276",
          "92276",
          "92276",
          "92276",
          "92276",
          "92276",
          "92276",
          "92276",
          "92276",
          "92276",
          "92276",
          "92276",
          "92276",
          "92276",
          "92276",
          "92276",
          "92276",
          "92276",
          "92276",
          "92276",
          "92276",
          "92276",
          "92276",
          "92276",
          "93510",
          "93510",
          "93510",
          "93510",
          "93510",
          "93510",
          "93510",
          "93510",
          "93510",
          "93510",
          "93510",
          "93510",
          "93510",
          "93510",
          "93510",
          "93510",
          "93510",
          "93510",
          "93510",
          "93510",
          "93510",
          "93510",
          "93510",
          "93510",
          "93510",
          "93510",
          "93510",
          "93510",
          "93510",
          "93510",
          "93510",
          "93510",
          "93510",
          "93510",
          "93510",
          "93510",
          "93446",
          "93446",
          "93446",
          "93446",
          "93446",
          "93446",
          "93446",
          "93446",
          "93446",
          "93446",
          "93446",
          "93446",
          "93446",
          "93446",
          "93446",
          "93446",
          "93446",
          "93446",
          "93446",
          "93446",
          "93446",
          "93446",
          "93446",
          "93446",
          "93446",
          "93446",
          "93446",
          "93446",
          "93446",
          "93446",
          "93446",
          "93446",
          "93446",
          "93446",
          "93446",
          "93446",
          "93446",
          "93446",
          "93446",
          "93446",
          "93446",
          "93446",
          "93446",
          "93446",
          "93446",
          "93446",
          "93446"
         ],
         "xaxis": "x",
         "yaxis": "y"
        }
       ],
       "layout": {
        "barmode": "relative",
        "legend": {
         "tracegroupgap": 0
        },
        "template": {
         "data": {
          "bar": [
           {
            "error_x": {
             "color": "#2a3f5f"
            },
            "error_y": {
             "color": "#2a3f5f"
            },
            "marker": {
             "line": {
              "color": "#E5ECF6",
              "width": 0.5
             },
             "pattern": {
              "fillmode": "overlay",
              "size": 10,
              "solidity": 0.2
             }
            },
            "type": "bar"
           }
          ],
          "barpolar": [
           {
            "marker": {
             "line": {
              "color": "#E5ECF6",
              "width": 0.5
             },
             "pattern": {
              "fillmode": "overlay",
              "size": 10,
              "solidity": 0.2
             }
            },
            "type": "barpolar"
           }
          ],
          "carpet": [
           {
            "aaxis": {
             "endlinecolor": "#2a3f5f",
             "gridcolor": "white",
             "linecolor": "white",
             "minorgridcolor": "white",
             "startlinecolor": "#2a3f5f"
            },
            "baxis": {
             "endlinecolor": "#2a3f5f",
             "gridcolor": "white",
             "linecolor": "white",
             "minorgridcolor": "white",
             "startlinecolor": "#2a3f5f"
            },
            "type": "carpet"
           }
          ],
          "choropleth": [
           {
            "colorbar": {
             "outlinewidth": 0,
             "ticks": ""
            },
            "type": "choropleth"
           }
          ],
          "contour": [
           {
            "colorbar": {
             "outlinewidth": 0,
             "ticks": ""
            },
            "colorscale": [
             [
              0,
              "#0d0887"
             ],
             [
              0.1111111111111111,
              "#46039f"
             ],
             [
              0.2222222222222222,
              "#7201a8"
             ],
             [
              0.3333333333333333,
              "#9c179e"
             ],
             [
              0.4444444444444444,
              "#bd3786"
             ],
             [
              0.5555555555555556,
              "#d8576b"
             ],
             [
              0.6666666666666666,
              "#ed7953"
             ],
             [
              0.7777777777777778,
              "#fb9f3a"
             ],
             [
              0.8888888888888888,
              "#fdca26"
             ],
             [
              1,
              "#f0f921"
             ]
            ],
            "type": "contour"
           }
          ],
          "contourcarpet": [
           {
            "colorbar": {
             "outlinewidth": 0,
             "ticks": ""
            },
            "type": "contourcarpet"
           }
          ],
          "heatmap": [
           {
            "colorbar": {
             "outlinewidth": 0,
             "ticks": ""
            },
            "colorscale": [
             [
              0,
              "#0d0887"
             ],
             [
              0.1111111111111111,
              "#46039f"
             ],
             [
              0.2222222222222222,
              "#7201a8"
             ],
             [
              0.3333333333333333,
              "#9c179e"
             ],
             [
              0.4444444444444444,
              "#bd3786"
             ],
             [
              0.5555555555555556,
              "#d8576b"
             ],
             [
              0.6666666666666666,
              "#ed7953"
             ],
             [
              0.7777777777777778,
              "#fb9f3a"
             ],
             [
              0.8888888888888888,
              "#fdca26"
             ],
             [
              1,
              "#f0f921"
             ]
            ],
            "type": "heatmap"
           }
          ],
          "heatmapgl": [
           {
            "colorbar": {
             "outlinewidth": 0,
             "ticks": ""
            },
            "colorscale": [
             [
              0,
              "#0d0887"
             ],
             [
              0.1111111111111111,
              "#46039f"
             ],
             [
              0.2222222222222222,
              "#7201a8"
             ],
             [
              0.3333333333333333,
              "#9c179e"
             ],
             [
              0.4444444444444444,
              "#bd3786"
             ],
             [
              0.5555555555555556,
              "#d8576b"
             ],
             [
              0.6666666666666666,
              "#ed7953"
             ],
             [
              0.7777777777777778,
              "#fb9f3a"
             ],
             [
              0.8888888888888888,
              "#fdca26"
             ],
             [
              1,
              "#f0f921"
             ]
            ],
            "type": "heatmapgl"
           }
          ],
          "histogram": [
           {
            "marker": {
             "pattern": {
              "fillmode": "overlay",
              "size": 10,
              "solidity": 0.2
             }
            },
            "type": "histogram"
           }
          ],
          "histogram2d": [
           {
            "colorbar": {
             "outlinewidth": 0,
             "ticks": ""
            },
            "colorscale": [
             [
              0,
              "#0d0887"
             ],
             [
              0.1111111111111111,
              "#46039f"
             ],
             [
              0.2222222222222222,
              "#7201a8"
             ],
             [
              0.3333333333333333,
              "#9c179e"
             ],
             [
              0.4444444444444444,
              "#bd3786"
             ],
             [
              0.5555555555555556,
              "#d8576b"
             ],
             [
              0.6666666666666666,
              "#ed7953"
             ],
             [
              0.7777777777777778,
              "#fb9f3a"
             ],
             [
              0.8888888888888888,
              "#fdca26"
             ],
             [
              1,
              "#f0f921"
             ]
            ],
            "type": "histogram2d"
           }
          ],
          "histogram2dcontour": [
           {
            "colorbar": {
             "outlinewidth": 0,
             "ticks": ""
            },
            "colorscale": [
             [
              0,
              "#0d0887"
             ],
             [
              0.1111111111111111,
              "#46039f"
             ],
             [
              0.2222222222222222,
              "#7201a8"
             ],
             [
              0.3333333333333333,
              "#9c179e"
             ],
             [
              0.4444444444444444,
              "#bd3786"
             ],
             [
              0.5555555555555556,
              "#d8576b"
             ],
             [
              0.6666666666666666,
              "#ed7953"
             ],
             [
              0.7777777777777778,
              "#fb9f3a"
             ],
             [
              0.8888888888888888,
              "#fdca26"
             ],
             [
              1,
              "#f0f921"
             ]
            ],
            "type": "histogram2dcontour"
           }
          ],
          "mesh3d": [
           {
            "colorbar": {
             "outlinewidth": 0,
             "ticks": ""
            },
            "type": "mesh3d"
           }
          ],
          "parcoords": [
           {
            "line": {
             "colorbar": {
              "outlinewidth": 0,
              "ticks": ""
             }
            },
            "type": "parcoords"
           }
          ],
          "pie": [
           {
            "automargin": true,
            "type": "pie"
           }
          ],
          "scatter": [
           {
            "fillpattern": {
             "fillmode": "overlay",
             "size": 10,
             "solidity": 0.2
            },
            "type": "scatter"
           }
          ],
          "scatter3d": [
           {
            "line": {
             "colorbar": {
              "outlinewidth": 0,
              "ticks": ""
             }
            },
            "marker": {
             "colorbar": {
              "outlinewidth": 0,
              "ticks": ""
             }
            },
            "type": "scatter3d"
           }
          ],
          "scattercarpet": [
           {
            "marker": {
             "colorbar": {
              "outlinewidth": 0,
              "ticks": ""
             }
            },
            "type": "scattercarpet"
           }
          ],
          "scattergeo": [
           {
            "marker": {
             "colorbar": {
              "outlinewidth": 0,
              "ticks": ""
             }
            },
            "type": "scattergeo"
           }
          ],
          "scattergl": [
           {
            "marker": {
             "colorbar": {
              "outlinewidth": 0,
              "ticks": ""
             }
            },
            "type": "scattergl"
           }
          ],
          "scattermapbox": [
           {
            "marker": {
             "colorbar": {
              "outlinewidth": 0,
              "ticks": ""
             }
            },
            "type": "scattermapbox"
           }
          ],
          "scatterpolar": [
           {
            "marker": {
             "colorbar": {
              "outlinewidth": 0,
              "ticks": ""
             }
            },
            "type": "scatterpolar"
           }
          ],
          "scatterpolargl": [
           {
            "marker": {
             "colorbar": {
              "outlinewidth": 0,
              "ticks": ""
             }
            },
            "type": "scatterpolargl"
           }
          ],
          "scatterternary": [
           {
            "marker": {
             "colorbar": {
              "outlinewidth": 0,
              "ticks": ""
             }
            },
            "type": "scatterternary"
           }
          ],
          "surface": [
           {
            "colorbar": {
             "outlinewidth": 0,
             "ticks": ""
            },
            "colorscale": [
             [
              0,
              "#0d0887"
             ],
             [
              0.1111111111111111,
              "#46039f"
             ],
             [
              0.2222222222222222,
              "#7201a8"
             ],
             [
              0.3333333333333333,
              "#9c179e"
             ],
             [
              0.4444444444444444,
              "#bd3786"
             ],
             [
              0.5555555555555556,
              "#d8576b"
             ],
             [
              0.6666666666666666,
              "#ed7953"
             ],
             [
              0.7777777777777778,
              "#fb9f3a"
             ],
             [
              0.8888888888888888,
              "#fdca26"
             ],
             [
              1,
              "#f0f921"
             ]
            ],
            "type": "surface"
           }
          ],
          "table": [
           {
            "cells": {
             "fill": {
              "color": "#EBF0F8"
             },
             "line": {
              "color": "white"
             }
            },
            "header": {
             "fill": {
              "color": "#C8D4E3"
             },
             "line": {
              "color": "white"
             }
            },
            "type": "table"
           }
          ]
         },
         "layout": {
          "annotationdefaults": {
           "arrowcolor": "#2a3f5f",
           "arrowhead": 0,
           "arrowwidth": 1
          },
          "autotypenumbers": "strict",
          "coloraxis": {
           "colorbar": {
            "outlinewidth": 0,
            "ticks": ""
           }
          },
          "colorscale": {
           "diverging": [
            [
             0,
             "#8e0152"
            ],
            [
             0.1,
             "#c51b7d"
            ],
            [
             0.2,
             "#de77ae"
            ],
            [
             0.3,
             "#f1b6da"
            ],
            [
             0.4,
             "#fde0ef"
            ],
            [
             0.5,
             "#f7f7f7"
            ],
            [
             0.6,
             "#e6f5d0"
            ],
            [
             0.7,
             "#b8e186"
            ],
            [
             0.8,
             "#7fbc41"
            ],
            [
             0.9,
             "#4d9221"
            ],
            [
             1,
             "#276419"
            ]
           ],
           "sequential": [
            [
             0,
             "#0d0887"
            ],
            [
             0.1111111111111111,
             "#46039f"
            ],
            [
             0.2222222222222222,
             "#7201a8"
            ],
            [
             0.3333333333333333,
             "#9c179e"
            ],
            [
             0.4444444444444444,
             "#bd3786"
            ],
            [
             0.5555555555555556,
             "#d8576b"
            ],
            [
             0.6666666666666666,
             "#ed7953"
            ],
            [
             0.7777777777777778,
             "#fb9f3a"
            ],
            [
             0.8888888888888888,
             "#fdca26"
            ],
            [
             1,
             "#f0f921"
            ]
           ],
           "sequentialminus": [
            [
             0,
             "#0d0887"
            ],
            [
             0.1111111111111111,
             "#46039f"
            ],
            [
             0.2222222222222222,
             "#7201a8"
            ],
            [
             0.3333333333333333,
             "#9c179e"
            ],
            [
             0.4444444444444444,
             "#bd3786"
            ],
            [
             0.5555555555555556,
             "#d8576b"
            ],
            [
             0.6666666666666666,
             "#ed7953"
            ],
            [
             0.7777777777777778,
             "#fb9f3a"
            ],
            [
             0.8888888888888888,
             "#fdca26"
            ],
            [
             1,
             "#f0f921"
            ]
           ]
          },
          "colorway": [
           "#636efa",
           "#EF553B",
           "#00cc96",
           "#ab63fa",
           "#FFA15A",
           "#19d3f3",
           "#FF6692",
           "#B6E880",
           "#FF97FF",
           "#FECB52"
          ],
          "font": {
           "color": "#2a3f5f"
          },
          "geo": {
           "bgcolor": "white",
           "lakecolor": "white",
           "landcolor": "#E5ECF6",
           "showlakes": true,
           "showland": true,
           "subunitcolor": "white"
          },
          "hoverlabel": {
           "align": "left"
          },
          "hovermode": "closest",
          "mapbox": {
           "style": "light"
          },
          "paper_bgcolor": "white",
          "plot_bgcolor": "#E5ECF6",
          "polar": {
           "angularaxis": {
            "gridcolor": "white",
            "linecolor": "white",
            "ticks": ""
           },
           "bgcolor": "#E5ECF6",
           "radialaxis": {
            "gridcolor": "white",
            "linecolor": "white",
            "ticks": ""
           }
          },
          "scene": {
           "xaxis": {
            "backgroundcolor": "#E5ECF6",
            "gridcolor": "white",
            "gridwidth": 2,
            "linecolor": "white",
            "showbackground": true,
            "ticks": "",
            "zerolinecolor": "white"
           },
           "yaxis": {
            "backgroundcolor": "#E5ECF6",
            "gridcolor": "white",
            "gridwidth": 2,
            "linecolor": "white",
            "showbackground": true,
            "ticks": "",
            "zerolinecolor": "white"
           },
           "zaxis": {
            "backgroundcolor": "#E5ECF6",
            "gridcolor": "white",
            "gridwidth": 2,
            "linecolor": "white",
            "showbackground": true,
            "ticks": "",
            "zerolinecolor": "white"
           }
          },
          "shapedefaults": {
           "line": {
            "color": "#2a3f5f"
           }
          },
          "ternary": {
           "aaxis": {
            "gridcolor": "white",
            "linecolor": "white",
            "ticks": ""
           },
           "baxis": {
            "gridcolor": "white",
            "linecolor": "white",
            "ticks": ""
           },
           "bgcolor": "#E5ECF6",
           "caxis": {
            "gridcolor": "white",
            "linecolor": "white",
            "ticks": ""
           }
          },
          "title": {
           "x": 0.05
          },
          "xaxis": {
           "automargin": true,
           "gridcolor": "white",
           "linecolor": "white",
           "ticks": "",
           "title": {
            "standoff": 15
           },
           "zerolinecolor": "white",
           "zerolinewidth": 2
          },
          "yaxis": {
           "automargin": true,
           "gridcolor": "white",
           "linecolor": "white",
           "ticks": "",
           "title": {
            "standoff": 15
           },
           "zerolinecolor": "white",
           "zerolinewidth": 2
          }
         }
        },
        "title": {
         "text": "Histogram of Zip Codes"
        },
        "xaxis": {
         "anchor": "y",
         "domain": [
          0,
          1
         ],
         "title": {
          "text": "zipcode"
         }
        },
        "yaxis": {
         "anchor": "x",
         "domain": [
          0,
          1
         ],
         "title": {
          "text": "count"
         }
        }
       }
      }
     },
     "metadata": {},
     "output_type": "display_data"
    }
   ],
   "source": [
    "# plot histogram of zip codes\n",
    "fig = px.histogram(\n",
    "    df,\n",
    "    x=\"zipcode\",\n",
    "    nbins=70,\n",
    "    title=\"Histogram of Zip Codes\"\n",
    ")\n",
    "fig.show()"
   ]
  },
  {
   "cell_type": "code",
   "execution_count": 30,
   "metadata": {},
   "outputs": [
    {
     "data": {
      "text/plain": [
       "(362, 64, 64, 3)"
      ]
     },
     "execution_count": 30,
     "metadata": {},
     "output_type": "execute_result"
    }
   ],
   "source": [
    "images = []\n",
    "\n",
    "for i in df.index.values:\n",
    "    base_path = os.path.sep.join([dataset_path, \"{}_*\".format(i + 1)])\n",
    "    house_paths = sorted(list(glob.glob(base_path)))\n",
    "    input_images = []\n",
    "    output_images = np.zeros((64, 64, 3), dtype=\"uint8\")\n",
    "    for house_path in house_paths:\n",
    "        image = cv2.imread(house_path)\n",
    "        image = cv2.resize(image, (32, 32))\n",
    "        input_images.append(image)\n",
    "    output_images[0:32, 0:32] = input_images[0]\n",
    "    output_images[0:32, 32:64] = input_images[1]\n",
    "    output_images[32:64, 32:64] = input_images[2]\n",
    "    output_images[32:64, 0:32] = input_images[3]\n",
    "    images.append(output_images)\n",
    "images = np.array(images)\n",
    "images.shape"
   ]
  },
  {
   "cell_type": "code",
   "execution_count": 31,
   "metadata": {},
   "outputs": [
    {
     "data": {
      "text/plain": [
       "<matplotlib.image.AxesImage at 0x7f5ce5733370>"
      ]
     },
     "execution_count": 31,
     "metadata": {},
     "output_type": "execute_result"
    },
    {
     "data": {
      "image/png": "[encoded data removed]",
      "text/plain": [
       "<Figure size 640x480 with 1 Axes>"
      ]
     },
     "metadata": {},
     "output_type": "display_data"
    }
   ],
   "source": [
    "plt.imshow(images[37][..., ::-1])"
   ]
  },
  {
   "cell_type": "code",
   "execution_count": 32,
   "metadata": {},
   "outputs": [],
   "source": [
    "images = images / 255.0"
   ]
  },
  {
   "cell_type": "code",
   "execution_count": 33,
   "metadata": {},
   "outputs": [
    {
     "data": {
      "text/plain": [
       "((271, 5), (91, 5), (271, 64, 64, 3), (91, 64, 64, 3))"
      ]
     },
     "execution_count": 33,
     "metadata": {},
     "output_type": "execute_result"
    }
   ],
   "source": [
    "x_train_attr, x_test_attr, x_train_images, x_test_images = train_test_split(\n",
    "    df,\n",
    "    images,\n",
    "    test_size=0.25,\n",
    "    random_state=42\n",
    ")\n",
    "x_train_attr.shape, x_test_attr.shape, x_train_images.shape, x_test_images.shape"
   ]
  },
  {
   "cell_type": "code",
   "execution_count": 34,
   "metadata": {},
   "outputs": [],
   "source": [
    "# Normalization\n",
    "max_price = df[\"price\"].max()\n",
    "y_train = x_train_attr[\"price\"] / max_price\n",
    "y_test = x_test_attr[\"price\"] / max_price\n",
    "# drop price from x_train_attr and x_test_attr\n",
    "x_train_attr.drop(\"price\", axis=1, inplace=True)\n",
    "x_test_attr.drop(\"price\", axis=1, inplace=True)"
   ]
  },
  {
   "cell_type": "code",
   "execution_count": 37,
   "metadata": {},
   "outputs": [
    {
     "data": {
      "text/plain": [
       "(64, 64, 3)"
      ]
     },
     "execution_count": 37,
     "metadata": {},
     "output_type": "execute_result"
    }
   ],
   "source": [
    "width, height, depth = x_train_images.shape[1:]\n",
    "width, height, depth"
   ]
  },
  {
   "cell_type": "code",
   "execution_count": 39,
   "metadata": {},
   "outputs": [],
   "source": [
    "filters = (16, 32, 64)\n",
    "input_shape = (width, height, depth)\n",
    "channel_dim = -1"
   ]
  },
  {
   "cell_type": "code",
   "execution_count": 46,
   "metadata": {},
   "outputs": [
    {
     "name": "stdout",
     "output_type": "stream",
     "text": [
      "Model: \"model_1\"\n",
      "_________________________________________________________________\n",
      " Layer (type)                Output Shape              Param #   \n",
      "=================================================================\n",
      " input_2 (InputLayer)        [(None, 64, 64, 3)]       0         \n",
      "                                                                 \n",
      " conv2d_3 (Conv2D)           (None, 64, 64, 16)        448       \n",
      "                                                                 \n",
      " activation_5 (Activation)   (None, 64, 64, 16)        0         \n",
      "                                                                 \n",
      " batch_normalization_4 (Batc  (None, 64, 64, 16)       64        \n",
      " hNormalization)                                                 \n",
      "                                                                 \n",
      " max_pooling2d_3 (MaxPooling  (None, 32, 32, 16)       0         \n",
      " 2D)                                                             \n",
      "                                                                 \n",
      " conv2d_4 (Conv2D)           (None, 32, 32, 32)        4640      \n",
      "                                                                 \n",
      " activation_6 (Activation)   (None, 32, 32, 32)        0         \n",
      "                                                                 \n",
      " batch_normalization_5 (Batc  (None, 32, 32, 32)       128       \n",
      " hNormalization)                                                 \n",
      "                                                                 \n",
      " max_pooling2d_4 (MaxPooling  (None, 16, 16, 32)       0         \n",
      " 2D)                                                             \n",
      "                                                                 \n",
      " conv2d_5 (Conv2D)           (None, 16, 16, 64)        18496     \n",
      "                                                                 \n",
      " activation_7 (Activation)   (None, 16, 16, 64)        0         \n",
      "                                                                 \n",
      " batch_normalization_6 (Batc  (None, 16, 16, 64)       256       \n",
      " hNormalization)                                                 \n",
      "                                                                 \n",
      " max_pooling2d_5 (MaxPooling  (None, 8, 8, 64)         0         \n",
      " 2D)                                                             \n",
      "                                                                 \n",
      " flatten_1 (Flatten)         (None, 4096)              0         \n",
      "                                                                 \n",
      " dense_3 (Dense)             (None, 16)                65552     \n",
      "                                                                 \n",
      " activation_8 (Activation)   (None, 16)                0         \n",
      "                                                                 \n",
      " batch_normalization_7 (Batc  (None, 16)               64        \n",
      " hNormalization)                                                 \n",
      "                                                                 \n",
      " dropout_1 (Dropout)         (None, 16)                0         \n",
      "                                                                 \n",
      " dense_4 (Dense)             (None, 4)                 68        \n",
      "                                                                 \n",
      " activation_9 (Activation)   (None, 4)                 0         \n",
      "                                                                 \n",
      " dense_5 (Dense)             (None, 1)                 5         \n",
      "                                                                 \n",
      "=================================================================\n",
      "Total params: 89,721\n",
      "Trainable params: 89,465\n",
      "Non-trainable params: 256\n",
      "_________________________________________________________________\n"
     ]
    }
   ],
   "source": [
    "inputs = Input(shape=input_shape)\n",
    "\n",
    "for (i, f) in enumerate(filters):\n",
    "    if i == 0:\n",
    "        x = inputs\n",
    "    # CONV => RELU => BN => POOL\n",
    "    x = Conv2D(f, (3, 3), padding=\"same\")(x)\n",
    "    x = Activation(\"relu\")(x)\n",
    "    x = BatchNormalization(axis=channel_dim)(x)\n",
    "    x = MaxPooling2D(pool_size=(2, 2))(x)\n",
    "\n",
    "# flatten the volume, then FC => RELU => BN => DROPOUT\n",
    "x = Flatten()(x)\n",
    "x = Dense(16)(x)\n",
    "x = Activation(\"relu\")(x)\n",
    "x = BatchNormalization()(x)\n",
    "x = Dropout(0.5)(x)\n",
    "\n",
    "# apply another FC layer, this one to match the number of nodes\n",
    "# coming out of the MLP\n",
    "x = Dense(4)(x)\n",
    "x = Activation(\"relu\")(x)\n",
    "\n",
    "x = Dense(1, activation=\"linear\")(x)\n",
    "\n",
    "model = Model(inputs, x)\n",
    "model.summary()"
   ]
  },
  {
   "cell_type": "code",
   "execution_count": 47,
   "metadata": {},
   "outputs": [],
   "source": [
    "opt = Adam(learning_rate=1e-3, weight_decay=1e-3 / 200)\n",
    "model.compile(loss=\"mean_absolute_percentage_error\", optimizer=opt)"
   ]
  },
  {
   "cell_type": "code",
   "execution_count": 48,
   "metadata": {},
   "outputs": [
    {
     "name": "stdout",
     "output_type": "stream",
     "text": [
      "Epoch 1/200\n",
      "17/17 [==============================] - 1s 19ms/step - loss: 1301.3887 - val_loss: 362.5304\n",
      "Epoch 2/200\n",
      "17/17 [==============================] - 0s 12ms/step - loss: 1041.0563 - val_loss: 107.8356\n",
      "Epoch 3/200\n",
      "17/17 [==============================] - 0s 11ms/step - loss: 860.6103 - val_loss: 96.6201\n",
      "Epoch 4/200\n",
      "17/17 [==============================] - 0s 12ms/step - loss: 615.0280 - val_loss: 118.8261\n",
      "Epoch 5/200\n",
      "17/17 [==============================] - 0s 11ms/step - loss: 652.7861 - val_loss: 277.7156\n",
      "Epoch 6/200\n",
      "17/17 [==============================] - 0s 11ms/step - loss: 471.3102 - val_loss: 269.9859\n",
      "Epoch 7/200\n",
      "17/17 [==============================] - 0s 11ms/step - loss: 529.7211 - val_loss: 168.0555\n",
      "Epoch 8/200\n",
      "17/17 [==============================] - 0s 11ms/step - loss: 464.1613 - val_loss: 143.4172\n",
      "Epoch 9/200\n",
      "17/17 [==============================] - 0s 11ms/step - loss: 477.4701 - val_loss: 332.8501\n",
      "Epoch 10/200\n",
      "17/17 [==============================] - 0s 11ms/step - loss: 398.8878 - val_loss: 560.4820\n",
      "Epoch 11/200\n",
      "17/17 [==============================] - 0s 11ms/step - loss: 320.3828 - val_loss: 867.3005\n",
      "Epoch 12/200\n",
      "17/17 [==============================] - 0s 11ms/step - loss: 364.1798 - val_loss: 1003.2187\n",
      "Epoch 13/200\n",
      "17/17 [==============================] - 0s 11ms/step - loss: 339.6977 - val_loss: 1117.1482\n",
      "Epoch 14/200\n",
      "17/17 [==============================] - 0s 11ms/step - loss: 359.2414 - val_loss: 1361.1315\n",
      "Epoch 15/200\n",
      "17/17 [==============================] - 0s 12ms/step - loss: 274.3801 - val_loss: 1393.3424\n",
      "Epoch 16/200\n",
      "17/17 [==============================] - 0s 11ms/step - loss: 257.3685 - val_loss: 1433.2556\n",
      "Epoch 17/200\n",
      "17/17 [==============================] - 0s 11ms/step - loss: 284.4634 - val_loss: 3055.9817\n",
      "Epoch 18/200\n",
      "17/17 [==============================] - 0s 11ms/step - loss: 239.3548 - val_loss: 3999.0618\n",
      "Epoch 19/200\n",
      "17/17 [==============================] - 0s 11ms/step - loss: 240.5694 - val_loss: 4461.8472\n",
      "Epoch 20/200\n",
      "17/17 [==============================] - 0s 11ms/step - loss: 205.1034 - val_loss: 4298.9448\n",
      "Epoch 21/200\n",
      "17/17 [==============================] - 0s 11ms/step - loss: 217.0707 - val_loss: 2993.2354\n",
      "Epoch 22/200\n",
      "17/17 [==============================] - 0s 14ms/step - loss: 182.3959 - val_loss: 2465.8174\n",
      "Epoch 23/200\n",
      "17/17 [==============================] - 0s 11ms/step - loss: 161.4832 - val_loss: 2095.5715\n",
      "Epoch 24/200\n",
      "17/17 [==============================] - 0s 12ms/step - loss: 163.2656 - val_loss: 1542.4015\n",
      "Epoch 25/200\n",
      "17/17 [==============================] - 0s 11ms/step - loss: 153.8824 - val_loss: 1249.2979\n",
      "Epoch 26/200\n",
      "17/17 [==============================] - 0s 11ms/step - loss: 133.9223 - val_loss: 772.9479\n",
      "Epoch 27/200\n",
      "17/17 [==============================] - 0s 12ms/step - loss: 133.0947 - val_loss: 567.4495\n",
      "Epoch 28/200\n",
      "17/17 [==============================] - 0s 11ms/step - loss: 125.6100 - val_loss: 440.1809\n",
      "Epoch 29/200\n",
      "17/17 [==============================] - 0s 11ms/step - loss: 123.3152 - val_loss: 360.2299\n",
      "Epoch 30/200\n",
      "17/17 [==============================] - 0s 11ms/step - loss: 144.2474 - val_loss: 319.6979\n",
      "Epoch 31/200\n",
      "17/17 [==============================] - 0s 11ms/step - loss: 120.4900 - val_loss: 188.3841\n",
      "Epoch 32/200\n",
      "17/17 [==============================] - 0s 11ms/step - loss: 89.4600 - val_loss: 122.0871\n",
      "Epoch 33/200\n",
      "17/17 [==============================] - 0s 11ms/step - loss: 112.4614 - val_loss: 89.6343\n",
      "Epoch 34/200\n",
      "17/17 [==============================] - 0s 11ms/step - loss: 91.0208 - val_loss: 69.4425\n",
      "Epoch 35/200\n",
      "17/17 [==============================] - 0s 11ms/step - loss: 118.7903 - val_loss: 69.3321\n",
      "Epoch 36/200\n",
      "17/17 [==============================] - 0s 11ms/step - loss: 101.0938 - val_loss: 68.7924\n",
      "Epoch 37/200\n",
      "17/17 [==============================] - 0s 13ms/step - loss: 101.3929 - val_loss: 66.2518\n",
      "Epoch 38/200\n",
      "17/17 [==============================] - 0s 12ms/step - loss: 85.7411 - val_loss: 65.7380\n",
      "Epoch 39/200\n",
      "17/17 [==============================] - 0s 11ms/step - loss: 81.5224 - val_loss: 66.1592\n",
      "Epoch 40/200\n",
      "17/17 [==============================] - 0s 12ms/step - loss: 75.0377 - val_loss: 65.6304\n",
      "Epoch 41/200\n",
      "17/17 [==============================] - 0s 11ms/step - loss: 92.6042 - val_loss: 65.3800\n",
      "Epoch 42/200\n",
      "17/17 [==============================] - 0s 11ms/step - loss: 84.2482 - val_loss: 62.4959\n",
      "Epoch 43/200\n",
      "17/17 [==============================] - 0s 11ms/step - loss: 70.3623 - val_loss: 62.3353\n",
      "Epoch 44/200\n",
      "17/17 [==============================] - 0s 13ms/step - loss: 71.3844 - val_loss: 61.3210\n",
      "Epoch 45/200\n",
      "17/17 [==============================] - 0s 11ms/step - loss: 79.8489 - val_loss: 62.6225\n",
      "Epoch 46/200\n",
      "17/17 [==============================] - 0s 11ms/step - loss: 70.0438 - val_loss: 64.5198\n",
      "Epoch 47/200\n",
      "17/17 [==============================] - 0s 11ms/step - loss: 68.4745 - val_loss: 65.1159\n",
      "Epoch 48/200\n",
      "17/17 [==============================] - 0s 11ms/step - loss: 67.8916 - val_loss: 65.3883\n",
      "Epoch 49/200\n",
      "17/17 [==============================] - 0s 11ms/step - loss: 61.9136 - val_loss: 66.5893\n",
      "Epoch 50/200\n",
      "17/17 [==============================] - 0s 11ms/step - loss: 74.5846 - val_loss: 65.0518\n",
      "Epoch 51/200\n",
      "17/17 [==============================] - 0s 11ms/step - loss: 67.2480 - val_loss: 62.6194\n",
      "Epoch 52/200\n",
      "17/17 [==============================] - 0s 11ms/step - loss: 66.8731 - val_loss: 61.5685\n",
      "Epoch 53/200\n",
      "17/17 [==============================] - 0s 11ms/step - loss: 63.5105 - val_loss: 60.4413\n",
      "Epoch 54/200\n",
      "17/17 [==============================] - 0s 11ms/step - loss: 62.8591 - val_loss: 59.7433\n",
      "Epoch 55/200\n",
      "17/17 [==============================] - 0s 11ms/step - loss: 60.8555 - val_loss: 58.9156\n",
      "Epoch 56/200\n",
      "17/17 [==============================] - 0s 11ms/step - loss: 66.3517 - val_loss: 59.6891\n",
      "Epoch 57/200\n",
      "17/17 [==============================] - 0s 11ms/step - loss: 59.9379 - val_loss: 59.2910\n",
      "Epoch 58/200\n",
      "17/17 [==============================] - 0s 11ms/step - loss: 67.5516 - val_loss: 59.9345\n",
      "Epoch 59/200\n",
      "17/17 [==============================] - 0s 12ms/step - loss: 61.0685 - val_loss: 62.0218\n",
      "Epoch 60/200\n",
      "17/17 [==============================] - 0s 11ms/step - loss: 57.8170 - val_loss: 64.3727\n",
      "Epoch 61/200\n",
      "17/17 [==============================] - 0s 11ms/step - loss: 58.0876 - val_loss: 60.7276\n",
      "Epoch 62/200\n",
      "17/17 [==============================] - 0s 11ms/step - loss: 65.9384 - val_loss: 59.5587\n",
      "Epoch 63/200\n",
      "17/17 [==============================] - 0s 12ms/step - loss: 61.3206 - val_loss: 60.3039\n",
      "Epoch 64/200\n",
      "17/17 [==============================] - 0s 11ms/step - loss: 57.2963 - val_loss: 59.1649\n",
      "Epoch 65/200\n",
      "17/17 [==============================] - 0s 13ms/step - loss: 55.9463 - val_loss: 58.5383\n",
      "Epoch 66/200\n",
      "17/17 [==============================] - 0s 11ms/step - loss: 61.6298 - val_loss: 59.6005\n",
      "Epoch 67/200\n",
      "17/17 [==============================] - 0s 13ms/step - loss: 57.9746 - val_loss: 59.7997\n",
      "Epoch 68/200\n",
      "17/17 [==============================] - 0s 13ms/step - loss: 56.6906 - val_loss: 59.9785\n",
      "Epoch 69/200\n",
      "17/17 [==============================] - 0s 11ms/step - loss: 53.4432 - val_loss: 60.2081\n",
      "Epoch 70/200\n",
      "17/17 [==============================] - 0s 13ms/step - loss: 54.9791 - val_loss: 60.3730\n",
      "Epoch 71/200\n",
      "17/17 [==============================] - 0s 11ms/step - loss: 53.3870 - val_loss: 60.1534\n",
      "Epoch 72/200\n",
      "17/17 [==============================] - 0s 12ms/step - loss: 64.9297 - val_loss: 58.2494\n",
      "Epoch 73/200\n",
      "17/17 [==============================] - 0s 11ms/step - loss: 54.4596 - val_loss: 58.4137\n",
      "Epoch 74/200\n",
      "17/17 [==============================] - 0s 11ms/step - loss: 51.3651 - val_loss: 58.6736\n",
      "Epoch 75/200\n",
      "17/17 [==============================] - 0s 11ms/step - loss: 57.0458 - val_loss: 59.6746\n",
      "Epoch 76/200\n",
      "17/17 [==============================] - 0s 11ms/step - loss: 55.7025 - val_loss: 59.8110\n",
      "Epoch 77/200\n",
      "17/17 [==============================] - 0s 11ms/step - loss: 55.3777 - val_loss: 57.9105\n",
      "Epoch 78/200\n",
      "17/17 [==============================] - 0s 11ms/step - loss: 53.0856 - val_loss: 58.8304\n",
      "Epoch 79/200\n",
      "17/17 [==============================] - 0s 11ms/step - loss: 58.5344 - val_loss: 61.5751\n",
      "Epoch 80/200\n",
      "17/17 [==============================] - 0s 11ms/step - loss: 53.5991 - val_loss: 60.9538\n",
      "Epoch 81/200\n",
      "17/17 [==============================] - 0s 11ms/step - loss: 52.4588 - val_loss: 59.7046\n",
      "Epoch 82/200\n",
      "17/17 [==============================] - 0s 11ms/step - loss: 52.3527 - val_loss: 61.0145\n",
      "Epoch 83/200\n",
      "17/17 [==============================] - 0s 11ms/step - loss: 59.7362 - val_loss: 60.4183\n",
      "Epoch 84/200\n",
      "17/17 [==============================] - 0s 11ms/step - loss: 56.1416 - val_loss: 61.0591\n",
      "Epoch 85/200\n",
      "17/17 [==============================] - 0s 11ms/step - loss: 51.5778 - val_loss: 59.9017\n",
      "Epoch 86/200\n",
      "17/17 [==============================] - 0s 12ms/step - loss: 51.1679 - val_loss: 61.4402\n",
      "Epoch 87/200\n",
      "17/17 [==============================] - 0s 11ms/step - loss: 51.2123 - val_loss: 62.8383\n",
      "Epoch 88/200\n",
      "17/17 [==============================] - 0s 11ms/step - loss: 49.5834 - val_loss: 63.7477\n",
      "Epoch 89/200\n",
      "17/17 [==============================] - 0s 11ms/step - loss: 49.8497 - val_loss: 60.8590\n",
      "Epoch 90/200\n",
      "17/17 [==============================] - 0s 11ms/step - loss: 49.0779 - val_loss: 61.2874\n",
      "Epoch 91/200\n",
      "17/17 [==============================] - 0s 13ms/step - loss: 53.1612 - val_loss: 60.8817\n",
      "Epoch 92/200\n",
      "17/17 [==============================] - 0s 11ms/step - loss: 46.2573 - val_loss: 59.5169\n",
      "Epoch 93/200\n",
      "17/17 [==============================] - 0s 12ms/step - loss: 49.7641 - val_loss: 58.7201\n",
      "Epoch 94/200\n",
      "17/17 [==============================] - 0s 11ms/step - loss: 47.6842 - val_loss: 58.4601\n",
      "Epoch 95/200\n",
      "17/17 [==============================] - 0s 11ms/step - loss: 51.9408 - val_loss: 59.2818\n",
      "Epoch 96/200\n",
      "17/17 [==============================] - 0s 11ms/step - loss: 48.8530 - val_loss: 58.5978\n",
      "Epoch 97/200\n",
      "17/17 [==============================] - 0s 11ms/step - loss: 46.1727 - val_loss: 57.2745\n",
      "Epoch 98/200\n",
      "17/17 [==============================] - 0s 11ms/step - loss: 47.4798 - val_loss: 58.9970\n",
      "Epoch 99/200\n",
      "17/17 [==============================] - 0s 11ms/step - loss: 52.6308 - val_loss: 56.7800\n",
      "Epoch 100/200\n",
      "17/17 [==============================] - 0s 12ms/step - loss: 49.5129 - val_loss: 55.7916\n",
      "Epoch 101/200\n",
      "17/17 [==============================] - 0s 11ms/step - loss: 48.9778 - val_loss: 56.2049\n",
      "Epoch 102/200\n",
      "17/17 [==============================] - 0s 11ms/step - loss: 49.6792 - val_loss: 57.2090\n",
      "Epoch 103/200\n",
      "17/17 [==============================] - 0s 11ms/step - loss: 50.0837 - val_loss: 58.5134\n",
      "Epoch 104/200\n",
      "17/17 [==============================] - 0s 11ms/step - loss: 51.6061 - val_loss: 60.1699\n",
      "Epoch 105/200\n",
      "17/17 [==============================] - 0s 11ms/step - loss: 49.3683 - val_loss: 63.6420\n",
      "Epoch 106/200\n",
      "17/17 [==============================] - 0s 11ms/step - loss: 50.6113 - val_loss: 62.6483\n",
      "Epoch 107/200\n",
      "17/17 [==============================] - 0s 12ms/step - loss: 44.5664 - val_loss: 63.9370\n",
      "Epoch 108/200\n",
      "17/17 [==============================] - 0s 11ms/step - loss: 47.1508 - val_loss: 61.6901\n",
      "Epoch 109/200\n",
      "17/17 [==============================] - 0s 12ms/step - loss: 47.4435 - val_loss: 60.0074\n",
      "Epoch 110/200\n",
      "17/17 [==============================] - 0s 11ms/step - loss: 46.4546 - val_loss: 62.3826\n",
      "Epoch 111/200\n",
      "17/17 [==============================] - 0s 11ms/step - loss: 44.0982 - val_loss: 63.4135\n",
      "Epoch 112/200\n",
      "17/17 [==============================] - 0s 11ms/step - loss: 44.9788 - val_loss: 59.2570\n",
      "Epoch 113/200\n",
      "17/17 [==============================] - 0s 11ms/step - loss: 47.7639 - val_loss: 57.5777\n",
      "Epoch 114/200\n",
      "17/17 [==============================] - 0s 12ms/step - loss: 46.6711 - val_loss: 56.5143\n",
      "Epoch 115/200\n",
      "17/17 [==============================] - 0s 12ms/step - loss: 43.7197 - val_loss: 56.6807\n",
      "Epoch 116/200\n",
      "17/17 [==============================] - 0s 12ms/step - loss: 43.6975 - val_loss: 56.4558\n",
      "Epoch 117/200\n",
      "17/17 [==============================] - 0s 11ms/step - loss: 45.2072 - val_loss: 56.6912\n",
      "Epoch 118/200\n",
      "17/17 [==============================] - 0s 11ms/step - loss: 42.7001 - val_loss: 57.6270\n",
      "Epoch 119/200\n",
      "17/17 [==============================] - 0s 11ms/step - loss: 41.9389 - val_loss: 57.6304\n",
      "Epoch 120/200\n",
      "17/17 [==============================] - 0s 11ms/step - loss: 43.8988 - val_loss: 55.7280\n",
      "Epoch 121/200\n",
      "17/17 [==============================] - 0s 12ms/step - loss: 41.5564 - val_loss: 56.2488\n",
      "Epoch 122/200\n",
      "17/17 [==============================] - 0s 11ms/step - loss: 42.2246 - val_loss: 55.7234\n",
      "Epoch 123/200\n",
      "17/17 [==============================] - 0s 12ms/step - loss: 48.8505 - val_loss: 54.6008\n",
      "Epoch 124/200\n",
      "17/17 [==============================] - 0s 12ms/step - loss: 41.9575 - val_loss: 53.9208\n",
      "Epoch 125/200\n",
      "17/17 [==============================] - 0s 12ms/step - loss: 44.1161 - val_loss: 55.2537\n",
      "Epoch 126/200\n",
      "17/17 [==============================] - 0s 11ms/step - loss: 43.3872 - val_loss: 54.0391\n",
      "Epoch 127/200\n",
      "17/17 [==============================] - 0s 11ms/step - loss: 44.4392 - val_loss: 56.1102\n",
      "Epoch 128/200\n",
      "17/17 [==============================] - 0s 12ms/step - loss: 41.4441 - val_loss: 55.2238\n",
      "Epoch 129/200\n",
      "17/17 [==============================] - 0s 13ms/step - loss: 42.0618 - val_loss: 55.6701\n",
      "Epoch 130/200\n",
      "17/17 [==============================] - 0s 12ms/step - loss: 46.0185 - val_loss: 63.2530\n",
      "Epoch 131/200\n",
      "17/17 [==============================] - 0s 14ms/step - loss: 42.0597 - val_loss: 64.3542\n",
      "Epoch 132/200\n",
      "17/17 [==============================] - 0s 12ms/step - loss: 45.5591 - val_loss: 57.1825\n",
      "Epoch 133/200\n",
      "17/17 [==============================] - 0s 11ms/step - loss: 41.3506 - val_loss: 56.4071\n",
      "Epoch 134/200\n",
      "17/17 [==============================] - 0s 12ms/step - loss: 38.8323 - val_loss: 56.0535\n",
      "Epoch 135/200\n",
      "17/17 [==============================] - 0s 12ms/step - loss: 42.7295 - val_loss: 56.2275\n",
      "Epoch 136/200\n",
      "17/17 [==============================] - 0s 12ms/step - loss: 37.9762 - val_loss: 55.5356\n",
      "Epoch 137/200\n",
      "17/17 [==============================] - 0s 12ms/step - loss: 39.9628 - val_loss: 56.5125\n",
      "Epoch 138/200\n",
      "17/17 [==============================] - 0s 12ms/step - loss: 39.7691 - val_loss: 60.3848\n",
      "Epoch 139/200\n",
      "17/17 [==============================] - 0s 12ms/step - loss: 39.9738 - val_loss: 60.5159\n",
      "Epoch 140/200\n",
      "17/17 [==============================] - 0s 12ms/step - loss: 43.9963 - val_loss: 61.2099\n",
      "Epoch 141/200\n",
      "17/17 [==============================] - 0s 12ms/step - loss: 42.3096 - val_loss: 56.9128\n",
      "Epoch 142/200\n",
      "17/17 [==============================] - 0s 12ms/step - loss: 37.3724 - val_loss: 54.2613\n",
      "Epoch 143/200\n",
      "17/17 [==============================] - 0s 12ms/step - loss: 37.0695 - val_loss: 53.9831\n",
      "Epoch 144/200\n",
      "17/17 [==============================] - 0s 12ms/step - loss: 39.0662 - val_loss: 56.0939\n",
      "Epoch 145/200\n",
      "17/17 [==============================] - 0s 12ms/step - loss: 41.0631 - val_loss: 55.7530\n",
      "Epoch 146/200\n",
      "17/17 [==============================] - 0s 12ms/step - loss: 35.6284 - val_loss: 56.1147\n",
      "Epoch 147/200\n",
      "17/17 [==============================] - 0s 12ms/step - loss: 38.6200 - val_loss: 56.1355\n",
      "Epoch 148/200\n",
      "17/17 [==============================] - 0s 12ms/step - loss: 36.9724 - val_loss: 54.9706\n",
      "Epoch 149/200\n",
      "17/17 [==============================] - 0s 12ms/step - loss: 38.7785 - val_loss: 54.8924\n",
      "Epoch 150/200\n",
      "17/17 [==============================] - 0s 12ms/step - loss: 34.3089 - val_loss: 55.2390\n",
      "Epoch 151/200\n",
      "17/17 [==============================] - 0s 11ms/step - loss: 39.7527 - val_loss: 56.4409\n",
      "Epoch 152/200\n",
      "17/17 [==============================] - 0s 11ms/step - loss: 40.6882 - val_loss: 56.1216\n",
      "Epoch 153/200\n",
      "17/17 [==============================] - 0s 12ms/step - loss: 37.2153 - val_loss: 55.0379\n",
      "Epoch 154/200\n",
      "17/17 [==============================] - 0s 11ms/step - loss: 36.3967 - val_loss: 55.1116\n",
      "Epoch 155/200\n",
      "17/17 [==============================] - 0s 12ms/step - loss: 38.1697 - val_loss: 55.2098\n",
      "Epoch 156/200\n",
      "17/17 [==============================] - 0s 11ms/step - loss: 37.4364 - val_loss: 56.1495\n",
      "Epoch 157/200\n",
      "17/17 [==============================] - 0s 12ms/step - loss: 37.2838 - val_loss: 56.1388\n",
      "Epoch 158/200\n",
      "17/17 [==============================] - 0s 12ms/step - loss: 37.4305 - val_loss: 55.0367\n",
      "Epoch 159/200\n",
      "17/17 [==============================] - 0s 11ms/step - loss: 41.8563 - val_loss: 63.6824\n",
      "Epoch 160/200\n",
      "17/17 [==============================] - 0s 12ms/step - loss: 34.6645 - val_loss: 57.3622\n",
      "Epoch 161/200\n",
      "17/17 [==============================] - 0s 11ms/step - loss: 36.1088 - val_loss: 54.9678\n",
      "Epoch 162/200\n",
      "17/17 [==============================] - 0s 12ms/step - loss: 38.7461 - val_loss: 55.8901\n",
      "Epoch 163/200\n",
      "17/17 [==============================] - 0s 12ms/step - loss: 36.6525 - val_loss: 54.5568\n",
      "Epoch 164/200\n",
      "17/17 [==============================] - 0s 12ms/step - loss: 39.0021 - val_loss: 56.0229\n",
      "Epoch 165/200\n",
      "17/17 [==============================] - 0s 11ms/step - loss: 37.8837 - val_loss: 56.0059\n",
      "Epoch 166/200\n",
      "17/17 [==============================] - 0s 11ms/step - loss: 34.4548 - val_loss: 56.3398\n",
      "Epoch 167/200\n",
      "17/17 [==============================] - 0s 11ms/step - loss: 35.0853 - val_loss: 56.4086\n",
      "Epoch 168/200\n",
      "17/17 [==============================] - 0s 12ms/step - loss: 36.2767 - val_loss: 54.7966\n",
      "Epoch 169/200\n",
      "17/17 [==============================] - 0s 11ms/step - loss: 35.1297 - val_loss: 56.3235\n",
      "Epoch 170/200\n",
      "17/17 [==============================] - 0s 12ms/step - loss: 35.8224 - val_loss: 57.0522\n",
      "Epoch 171/200\n",
      "17/17 [==============================] - 0s 12ms/step - loss: 39.5534 - val_loss: 62.1399\n",
      "Epoch 172/200\n",
      "17/17 [==============================] - 0s 12ms/step - loss: 34.9996 - val_loss: 60.5449\n",
      "Epoch 173/200\n",
      "17/17 [==============================] - 0s 14ms/step - loss: 38.2489 - val_loss: 55.6740\n",
      "Epoch 174/200\n",
      "17/17 [==============================] - 0s 12ms/step - loss: 33.8371 - val_loss: 56.0093\n",
      "Epoch 175/200\n",
      "17/17 [==============================] - 0s 11ms/step - loss: 37.8889 - val_loss: 56.3393\n",
      "Epoch 176/200\n",
      "17/17 [==============================] - 0s 11ms/step - loss: 35.1172 - val_loss: 57.2605\n",
      "Epoch 177/200\n",
      "17/17 [==============================] - 0s 12ms/step - loss: 35.2233 - val_loss: 58.0040\n",
      "Epoch 178/200\n",
      "17/17 [==============================] - 0s 12ms/step - loss: 35.6571 - val_loss: 62.6435\n",
      "Epoch 179/200\n",
      "17/17 [==============================] - 0s 12ms/step - loss: 33.7686 - val_loss: 56.4029\n",
      "Epoch 180/200\n",
      "17/17 [==============================] - 0s 12ms/step - loss: 32.0089 - val_loss: 56.7740\n",
      "Epoch 181/200\n",
      "17/17 [==============================] - 0s 12ms/step - loss: 32.5179 - val_loss: 56.2014\n",
      "Epoch 182/200\n",
      "17/17 [==============================] - 0s 12ms/step - loss: 34.2595 - val_loss: 56.9571\n",
      "Epoch 183/200\n",
      "17/17 [==============================] - 0s 12ms/step - loss: 37.8364 - val_loss: 54.4878\n",
      "Epoch 184/200\n",
      "17/17 [==============================] - 0s 12ms/step - loss: 33.1218 - val_loss: 56.6966\n",
      "Epoch 185/200\n",
      "17/17 [==============================] - 0s 12ms/step - loss: 31.2922 - val_loss: 54.0304\n",
      "Epoch 186/200\n",
      "17/17 [==============================] - 0s 12ms/step - loss: 31.3739 - val_loss: 56.7145\n",
      "Epoch 187/200\n",
      "17/17 [==============================] - 0s 12ms/step - loss: 36.0734 - val_loss: 56.8200\n",
      "Epoch 188/200\n",
      "17/17 [==============================] - 0s 12ms/step - loss: 35.1444 - val_loss: 50.3568\n",
      "Epoch 189/200\n",
      "17/17 [==============================] - 0s 11ms/step - loss: 32.9950 - val_loss: 53.2147\n",
      "Epoch 190/200\n",
      "17/17 [==============================] - 0s 12ms/step - loss: 31.6415 - val_loss: 55.6864\n",
      "Epoch 191/200\n",
      "17/17 [==============================] - 0s 12ms/step - loss: 31.0008 - val_loss: 53.9939\n",
      "Epoch 192/200\n",
      "17/17 [==============================] - 0s 11ms/step - loss: 34.6953 - val_loss: 56.0479\n",
      "Epoch 193/200\n",
      "17/17 [==============================] - 0s 12ms/step - loss: 33.7865 - val_loss: 56.8987\n",
      "Epoch 194/200\n",
      "17/17 [==============================] - 0s 12ms/step - loss: 32.7120 - val_loss: 54.2126\n",
      "Epoch 195/200\n",
      "17/17 [==============================] - 0s 12ms/step - loss: 32.5881 - val_loss: 56.3468\n",
      "Epoch 196/200\n",
      "17/17 [==============================] - 0s 11ms/step - loss: 32.3738 - val_loss: 57.3404\n",
      "Epoch 197/200\n",
      "17/17 [==============================] - 0s 12ms/step - loss: 31.7640 - val_loss: 52.5118\n",
      "Epoch 198/200\n",
      "17/17 [==============================] - 0s 12ms/step - loss: 33.8081 - val_loss: 51.3509\n",
      "Epoch 199/200\n",
      "17/17 [==============================] - 0s 12ms/step - loss: 29.2277 - val_loss: 50.9377\n",
      "Epoch 200/200\n",
      "17/17 [==============================] - 0s 11ms/step - loss: 31.7882 - val_loss: 50.2332\n"
     ]
    }
   ],
   "source": [
    "history = model.fit(\n",
    "    x_train_images,\n",
    "    y_train,\n",
    "    validation_data=(x_test_images, y_test),\n",
    "    epochs=200,\n",
    "    batch_size=16\n",
    ")"
   ]
  },
  {
   "cell_type": "code",
   "execution_count": 49,
   "metadata": {},
   "outputs": [
    {
     "data": {
      "application/vnd.plotly.v1+json": {
       "config": {
        "plotlyServerURL": "https://plot.ly"
       },
       "data": [
        {
         "name": "Training Loss",
         "type": "scatter",
         "y": [
          1301.388671875,
          1041.0562744140625,
          860.6102905273438,
          615.0279541015625,
          652.7861328125,
          471.31024169921875,
          529.7210693359375,
          464.1612854003906,
          477.4701232910156,
          398.88775634765625,
          320.3827819824219,
          364.1798400878906,
          339.69769287109375,
          359.2414245605469,
          274.3800964355469,
          257.3684997558594,
          284.46343994140625,
          239.35482788085938,
          240.5694122314453,
          205.10337829589844,
          217.07070922851562,
          182.39593505859375,
          161.48316955566406,
          163.2655792236328,
          153.88241577148438,
          133.92230224609375,
          133.0947265625,
          125.6099624633789,
          123.31517791748047,
          144.24742126464844,
          120.48995971679688,
          89.4599838256836,
          112.46144104003906,
          91.02083587646484,
          118.79025268554688,
          101.09375762939453,
          101.39290618896484,
          85.74111938476562,
          81.52241516113281,
          75.0377197265625,
          92.60420989990234,
          84.24822998046875,
          70.3623275756836,
          71.38439178466797,
          79.84888458251953,
          70.04383850097656,
          68.47447967529297,
          67.8916015625,
          61.9135856628418,
          74.58464813232422,
          67.24800872802734,
          66.87309265136719,
          63.510501861572266,
          62.85908126831055,
          60.85548400878906,
          66.35173034667969,
          59.9378547668457,
          67.55156707763672,
          61.0684814453125,
          57.81699752807617,
          58.087646484375,
          65.93840026855469,
          61.320594787597656,
          57.29634475708008,
          55.946292877197266,
          61.6297721862793,
          57.97464370727539,
          56.690589904785156,
          53.443199157714844,
          54.9791374206543,
          53.387001037597656,
          64.92970275878906,
          54.459564208984375,
          51.36505889892578,
          57.045806884765625,
          55.70250701904297,
          55.377723693847656,
          53.08557891845703,
          58.53443908691406,
          53.599082946777344,
          52.458805084228516,
          52.35272979736328,
          59.73616409301758,
          56.1416130065918,
          51.57781219482422,
          51.16787338256836,
          51.212337493896484,
          49.58341598510742,
          49.84968566894531,
          49.077857971191406,
          53.16120147705078,
          46.25727462768555,
          49.76414489746094,
          47.684173583984375,
          51.94082260131836,
          48.852962493896484,
          46.17271041870117,
          47.479820251464844,
          52.63082504272461,
          49.512916564941406,
          48.97781753540039,
          49.67924499511719,
          50.08369445800781,
          51.606136322021484,
          49.36832809448242,
          50.611270904541016,
          44.56642150878906,
          47.1507568359375,
          47.44351577758789,
          46.45459747314453,
          44.098182678222656,
          44.978755950927734,
          47.76390838623047,
          46.67107391357422,
          43.719703674316406,
          43.697486877441406,
          45.20718002319336,
          42.700077056884766,
          41.938865661621094,
          43.898765563964844,
          41.55637741088867,
          42.22455596923828,
          48.85053253173828,
          41.957489013671875,
          44.11609649658203,
          43.38723373413086,
          44.43917465209961,
          41.4441032409668,
          42.061767578125,
          46.018489837646484,
          42.05971908569336,
          45.55908966064453,
          41.35055160522461,
          38.8322868347168,
          42.72945785522461,
          37.976226806640625,
          39.9627799987793,
          39.76911544799805,
          39.973793029785156,
          43.996253967285156,
          42.30961608886719,
          37.37240219116211,
          37.0694694519043,
          39.06621551513672,
          41.06309127807617,
          35.62838363647461,
          38.61995315551758,
          36.97244644165039,
          38.77853775024414,
          34.30892562866211,
          39.75266647338867,
          40.68817138671875,
          37.21528244018555,
          36.39673614501953,
          38.16973876953125,
          37.43635177612305,
          37.283843994140625,
          37.43052673339844,
          41.8563232421875,
          34.664459228515625,
          36.108821868896484,
          38.7460823059082,
          36.65250778198242,
          39.00212478637695,
          37.883705139160156,
          34.45484924316406,
          35.08531951904297,
          36.2767333984375,
          35.1296501159668,
          35.82244873046875,
          39.55335235595703,
          34.99964141845703,
          38.24885177612305,
          33.837120056152344,
          37.8889045715332,
          35.11723709106445,
          35.223323822021484,
          35.657142639160156,
          33.76859664916992,
          32.008941650390625,
          32.51792907714844,
          34.25945281982422,
          37.83635711669922,
          33.12179946899414,
          31.29218292236328,
          31.373943328857422,
          36.07341766357422,
          35.14440155029297,
          32.99495315551758,
          31.641525268554688,
          31.00076675415039,
          34.69533920288086,
          33.78648376464844,
          32.71196746826172,
          32.58811950683594,
          32.37379837036133,
          31.76401138305664,
          33.80811309814453,
          29.227705001831055,
          31.788162231445312
         ]
        },
        {
         "name": "Validation Loss",
         "type": "scatter",
         "y": [
          362.5304260253906,
          107.83563995361328,
          96.62008666992188,
          118.82614135742188,
          277.715576171875,
          269.9859313964844,
          168.0554656982422,
          143.4171905517578,
          332.8500671386719,
          560.4819946289062,
          867.300537109375,
          1003.2186889648438,
          1117.148193359375,
          1361.1314697265625,
          1393.3424072265625,
          1433.255615234375,
          3055.981689453125,
          3999.061767578125,
          4461.84716796875,
          4298.94482421875,
          2993.2353515625,
          2465.8173828125,
          2095.571533203125,
          1542.4014892578125,
          1249.2978515625,
          772.9478759765625,
          567.449462890625,
          440.1809387207031,
          360.2299499511719,
          319.6978759765625,
          188.38414001464844,
          122.08706665039062,
          89.63429260253906,
          69.44254302978516,
          69.33206176757812,
          68.79242706298828,
          66.25177764892578,
          65.738037109375,
          66.1592025756836,
          65.63041687011719,
          65.3799819946289,
          62.495872497558594,
          62.33527755737305,
          61.32103729248047,
          62.62250518798828,
          64.519775390625,
          65.1159439086914,
          65.38832092285156,
          66.58928680419922,
          65.05180358886719,
          62.61940002441406,
          61.568477630615234,
          60.441314697265625,
          59.74327087402344,
          58.91557693481445,
          59.689056396484375,
          59.291046142578125,
          59.93448257446289,
          62.02176284790039,
          64.37267303466797,
          60.727596282958984,
          59.5587272644043,
          60.303932189941406,
          59.16493606567383,
          58.53828048706055,
          59.60049819946289,
          59.79972839355469,
          59.9785041809082,
          60.20812225341797,
          60.37296676635742,
          60.15342712402344,
          58.24939727783203,
          58.413692474365234,
          58.673606872558594,
          59.67464828491211,
          59.81095504760742,
          57.91047668457031,
          58.830448150634766,
          61.57510757446289,
          60.95378112792969,
          59.70460510253906,
          61.01453399658203,
          60.418296813964844,
          61.05905532836914,
          59.90165328979492,
          61.440162658691406,
          62.83829879760742,
          63.74773406982422,
          60.858978271484375,
          61.28741455078125,
          60.8817024230957,
          59.51694107055664,
          58.72006607055664,
          58.460105895996094,
          59.281829833984375,
          58.59775161743164,
          57.27454376220703,
          58.99702072143555,
          56.77995681762695,
          55.79161071777344,
          56.20490264892578,
          57.209041595458984,
          58.51335525512695,
          60.169918060302734,
          63.642024993896484,
          62.64828109741211,
          63.936981201171875,
          61.69010925292969,
          60.007442474365234,
          62.382625579833984,
          63.41345977783203,
          59.25700378417969,
          57.57771682739258,
          56.514320373535156,
          56.68074035644531,
          56.45576095581055,
          56.69119644165039,
          57.626953125,
          57.6303825378418,
          55.72797393798828,
          56.248775482177734,
          55.72343826293945,
          54.60079574584961,
          53.920833587646484,
          55.25367736816406,
          54.03911590576172,
          56.11019515991211,
          55.223777770996094,
          55.67008972167969,
          63.253021240234375,
          64.35420227050781,
          57.182525634765625,
          56.40711975097656,
          56.05352783203125,
          56.227516174316406,
          55.535579681396484,
          56.512481689453125,
          60.384765625,
          60.515892028808594,
          61.209930419921875,
          56.91279983520508,
          54.261322021484375,
          53.98313903808594,
          56.09390640258789,
          55.75300979614258,
          56.11473083496094,
          56.13550567626953,
          54.970584869384766,
          54.89238357543945,
          55.239044189453125,
          56.44086456298828,
          56.12156677246094,
          55.03788757324219,
          55.111595153808594,
          55.20981216430664,
          56.14946746826172,
          56.1388053894043,
          55.0367431640625,
          63.68244171142578,
          57.36216354370117,
          54.967803955078125,
          55.8901481628418,
          54.556827545166016,
          56.02290725708008,
          56.00590896606445,
          56.339847564697266,
          56.408634185791016,
          54.79658889770508,
          56.32349395751953,
          57.052207946777344,
          62.139896392822266,
          60.54485321044922,
          55.67396926879883,
          56.00929260253906,
          56.339263916015625,
          57.26047897338867,
          58.0040397644043,
          62.64347839355469,
          56.40285873413086,
          56.77397537231445,
          56.20143508911133,
          56.95712661743164,
          54.487831115722656,
          56.69657516479492,
          54.03041458129883,
          56.71446990966797,
          56.82004928588867,
          50.35678482055664,
          53.214725494384766,
          55.6864013671875,
          53.99387741088867,
          56.04787826538086,
          56.89870071411133,
          54.21261215209961,
          56.34679412841797,
          57.34040069580078,
          52.51177215576172,
          51.350852966308594,
          50.93766784667969,
          50.233184814453125
         ]
        }
       ],
       "layout": {
        "template": {
         "data": {
          "bar": [
           {
            "error_x": {
             "color": "#2a3f5f"
            },
            "error_y": {
             "color": "#2a3f5f"
            },
            "marker": {
             "line": {
              "color": "#E5ECF6",
              "width": 0.5
             },
             "pattern": {
              "fillmode": "overlay",
              "size": 10,
              "solidity": 0.2
             }
            },
            "type": "bar"
           }
          ],
          "barpolar": [
           {
            "marker": {
             "line": {
              "color": "#E5ECF6",
              "width": 0.5
             },
             "pattern": {
              "fillmode": "overlay",
              "size": 10,
              "solidity": 0.2
             }
            },
            "type": "barpolar"
           }
          ],
          "carpet": [
           {
            "aaxis": {
             "endlinecolor": "#2a3f5f",
             "gridcolor": "white",
             "linecolor": "white",
             "minorgridcolor": "white",
             "startlinecolor": "#2a3f5f"
            },
            "baxis": {
             "endlinecolor": "#2a3f5f",
             "gridcolor": "white",
             "linecolor": "white",
             "minorgridcolor": "white",
             "startlinecolor": "#2a3f5f"
            },
            "type": "carpet"
           }
          ],
          "choropleth": [
           {
            "colorbar": {
             "outlinewidth": 0,
             "ticks": ""
            },
            "type": "choropleth"
           }
          ],
          "contour": [
           {
            "colorbar": {
             "outlinewidth": 0,
             "ticks": ""
            },
            "colorscale": [
             [
              0,
              "#0d0887"
             ],
             [
              0.1111111111111111,
              "#46039f"
             ],
             [
              0.2222222222222222,
              "#7201a8"
             ],
             [
              0.3333333333333333,
              "#9c179e"
             ],
             [
              0.4444444444444444,
              "#bd3786"
             ],
             [
              0.5555555555555556,
              "#d8576b"
             ],
             [
              0.6666666666666666,
              "#ed7953"
             ],
             [
              0.7777777777777778,
              "#fb9f3a"
             ],
             [
              0.8888888888888888,
              "#fdca26"
             ],
             [
              1,
              "#f0f921"
             ]
            ],
            "type": "contour"
           }
          ],
          "contourcarpet": [
           {
            "colorbar": {
             "outlinewidth": 0,
             "ticks": ""
            },
            "type": "contourcarpet"
           }
          ],
          "heatmap": [
           {
            "colorbar": {
             "outlinewidth": 0,
             "ticks": ""
            },
            "colorscale": [
             [
              0,
              "#0d0887"
             ],
             [
              0.1111111111111111,
              "#46039f"
             ],
             [
              0.2222222222222222,
              "#7201a8"
             ],
             [
              0.3333333333333333,
              "#9c179e"
             ],
             [
              0.4444444444444444,
              "#bd3786"
             ],
             [
              0.5555555555555556,
              "#d8576b"
             ],
             [
              0.6666666666666666,
              "#ed7953"
             ],
             [
              0.7777777777777778,
              "#fb9f3a"
             ],
             [
              0.8888888888888888,
              "#fdca26"
             ],
             [
              1,
              "#f0f921"
             ]
            ],
            "type": "heatmap"
           }
          ],
          "heatmapgl": [
           {
            "colorbar": {
             "outlinewidth": 0,
             "ticks": ""
            },
            "colorscale": [
             [
              0,
              "#0d0887"
             ],
             [
              0.1111111111111111,
              "#46039f"
             ],
             [
              0.2222222222222222,
              "#7201a8"
             ],
             [
              0.3333333333333333,
              "#9c179e"
             ],
             [
              0.4444444444444444,
              "#bd3786"
             ],
             [
              0.5555555555555556,
              "#d8576b"
             ],
             [
              0.6666666666666666,
              "#ed7953"
             ],
             [
              0.7777777777777778,
              "#fb9f3a"
             ],
             [
              0.8888888888888888,
              "#fdca26"
             ],
             [
              1,
              "#f0f921"
             ]
            ],
            "type": "heatmapgl"
           }
          ],
          "histogram": [
           {
            "marker": {
             "pattern": {
              "fillmode": "overlay",
              "size": 10,
              "solidity": 0.2
             }
            },
            "type": "histogram"
           }
          ],
          "histogram2d": [
           {
            "colorbar": {
             "outlinewidth": 0,
             "ticks": ""
            },
            "colorscale": [
             [
              0,
              "#0d0887"
             ],
             [
              0.1111111111111111,
              "#46039f"
             ],
             [
              0.2222222222222222,
              "#7201a8"
             ],
             [
              0.3333333333333333,
              "#9c179e"
             ],
             [
              0.4444444444444444,
              "#bd3786"
             ],
             [
              0.5555555555555556,
              "#d8576b"
             ],
             [
              0.6666666666666666,
              "#ed7953"
             ],
             [
              0.7777777777777778,
              "#fb9f3a"
             ],
             [
              0.8888888888888888,
              "#fdca26"
             ],
             [
              1,
              "#f0f921"
             ]
            ],
            "type": "histogram2d"
           }
          ],
          "histogram2dcontour": [
           {
            "colorbar": {
             "outlinewidth": 0,
             "ticks": ""
            },
            "colorscale": [
             [
              0,
              "#0d0887"
             ],
             [
              0.1111111111111111,
              "#46039f"
             ],
             [
              0.2222222222222222,
              "#7201a8"
             ],
             [
              0.3333333333333333,
              "#9c179e"
             ],
             [
              0.4444444444444444,
              "#bd3786"
             ],
             [
              0.5555555555555556,
              "#d8576b"
             ],
             [
              0.6666666666666666,
              "#ed7953"
             ],
             [
              0.7777777777777778,
              "#fb9f3a"
             ],
             [
              0.8888888888888888,
              "#fdca26"
             ],
             [
              1,
              "#f0f921"
             ]
            ],
            "type": "histogram2dcontour"
           }
          ],
          "mesh3d": [
           {
            "colorbar": {
             "outlinewidth": 0,
             "ticks": ""
            },
            "type": "mesh3d"
           }
          ],
          "parcoords": [
           {
            "line": {
             "colorbar": {
              "outlinewidth": 0,
              "ticks": ""
             }
            },
            "type": "parcoords"
           }
          ],
          "pie": [
           {
            "automargin": true,
            "type": "pie"
           }
          ],
          "scatter": [
           {
            "fillpattern": {
             "fillmode": "overlay",
             "size": 10,
             "solidity": 0.2
            },
            "type": "scatter"
           }
          ],
          "scatter3d": [
           {
            "line": {
             "colorbar": {
              "outlinewidth": 0,
              "ticks": ""
             }
            },
            "marker": {
             "colorbar": {
              "outlinewidth": 0,
              "ticks": ""
             }
            },
            "type": "scatter3d"
           }
          ],
          "scattercarpet": [
           {
            "marker": {
             "colorbar": {
              "outlinewidth": 0,
              "ticks": ""
             }
            },
            "type": "scattercarpet"
           }
          ],
          "scattergeo": [
           {
            "marker": {
             "colorbar": {
              "outlinewidth": 0,
              "ticks": ""
             }
            },
            "type": "scattergeo"
           }
          ],
          "scattergl": [
           {
            "marker": {
             "colorbar": {
              "outlinewidth": 0,
              "ticks": ""
             }
            },
            "type": "scattergl"
           }
          ],
          "scattermapbox": [
           {
            "marker": {
             "colorbar": {
              "outlinewidth": 0,
              "ticks": ""
             }
            },
            "type": "scattermapbox"
           }
          ],
          "scatterpolar": [
           {
            "marker": {
             "colorbar": {
              "outlinewidth": 0,
              "ticks": ""
             }
            },
            "type": "scatterpolar"
           }
          ],
          "scatterpolargl": [
           {
            "marker": {
             "colorbar": {
              "outlinewidth": 0,
              "ticks": ""
             }
            },
            "type": "scatterpolargl"
           }
          ],
          "scatterternary": [
           {
            "marker": {
             "colorbar": {
              "outlinewidth": 0,
              "ticks": ""
             }
            },
            "type": "scatterternary"
           }
          ],
          "surface": [
           {
            "colorbar": {
             "outlinewidth": 0,
             "ticks": ""
            },
            "colorscale": [
             [
              0,
              "#0d0887"
             ],
             [
              0.1111111111111111,
              "#46039f"
             ],
             [
              0.2222222222222222,
              "#7201a8"
             ],
             [
              0.3333333333333333,
              "#9c179e"
             ],
             [
              0.4444444444444444,
              "#bd3786"
             ],
             [
              0.5555555555555556,
              "#d8576b"
             ],
             [
              0.6666666666666666,
              "#ed7953"
             ],
             [
              0.7777777777777778,
              "#fb9f3a"
             ],
             [
              0.8888888888888888,
              "#fdca26"
             ],
             [
              1,
              "#f0f921"
             ]
            ],
            "type": "surface"
           }
          ],
          "table": [
           {
            "cells": {
             "fill": {
              "color": "#EBF0F8"
             },
             "line": {
              "color": "white"
             }
            },
            "header": {
             "fill": {
              "color": "#C8D4E3"
             },
             "line": {
              "color": "white"
             }
            },
            "type": "table"
           }
          ]
         },
         "layout": {
          "annotationdefaults": {
           "arrowcolor": "#2a3f5f",
           "arrowhead": 0,
           "arrowwidth": 1
          },
          "autotypenumbers": "strict",
          "coloraxis": {
           "colorbar": {
            "outlinewidth": 0,
            "ticks": ""
           }
          },
          "colorscale": {
           "diverging": [
            [
             0,
             "#8e0152"
            ],
            [
             0.1,
             "#c51b7d"
            ],
            [
             0.2,
             "#de77ae"
            ],
            [
             0.3,
             "#f1b6da"
            ],
            [
             0.4,
             "#fde0ef"
            ],
            [
             0.5,
             "#f7f7f7"
            ],
            [
             0.6,
             "#e6f5d0"
            ],
            [
             0.7,
             "#b8e186"
            ],
            [
             0.8,
             "#7fbc41"
            ],
            [
             0.9,
             "#4d9221"
            ],
            [
             1,
             "#276419"
            ]
           ],
           "sequential": [
            [
             0,
             "#0d0887"
            ],
            [
             0.1111111111111111,
             "#46039f"
            ],
            [
             0.2222222222222222,
             "#7201a8"
            ],
            [
             0.3333333333333333,
             "#9c179e"
            ],
            [
             0.4444444444444444,
             "#bd3786"
            ],
            [
             0.5555555555555556,
             "#d8576b"
            ],
            [
             0.6666666666666666,
             "#ed7953"
            ],
            [
             0.7777777777777778,
             "#fb9f3a"
            ],
            [
             0.8888888888888888,
             "#fdca26"
            ],
            [
             1,
             "#f0f921"
            ]
           ],
           "sequentialminus": [
            [
             0,
             "#0d0887"
            ],
            [
             0.1111111111111111,
             "#46039f"
            ],
            [
             0.2222222222222222,
             "#7201a8"
            ],
            [
             0.3333333333333333,
             "#9c179e"
            ],
            [
             0.4444444444444444,
             "#bd3786"
            ],
            [
             0.5555555555555556,
             "#d8576b"
            ],
            [
             0.6666666666666666,
             "#ed7953"
            ],
            [
             0.7777777777777778,
             "#fb9f3a"
            ],
            [
             0.8888888888888888,
             "#fdca26"
            ],
            [
             1,
             "#f0f921"
            ]
           ]
          },
          "colorway": [
           "#636efa",
           "#EF553B",
           "#00cc96",
           "#ab63fa",
           "#FFA15A",
           "#19d3f3",
           "#FF6692",
           "#B6E880",
           "#FF97FF",
           "#FECB52"
          ],
          "font": {
           "color": "#2a3f5f"
          },
          "geo": {
           "bgcolor": "white",
           "lakecolor": "white",
           "landcolor": "#E5ECF6",
           "showlakes": true,
           "showland": true,
           "subunitcolor": "white"
          },
          "hoverlabel": {
           "align": "left"
          },
          "hovermode": "closest",
          "mapbox": {
           "style": "light"
          },
          "paper_bgcolor": "white",
          "plot_bgcolor": "#E5ECF6",
          "polar": {
           "angularaxis": {
            "gridcolor": "white",
            "linecolor": "white",
            "ticks": ""
           },
           "bgcolor": "#E5ECF6",
           "radialaxis": {
            "gridcolor": "white",
            "linecolor": "white",
            "ticks": ""
           }
          },
          "scene": {
           "xaxis": {
            "backgroundcolor": "#E5ECF6",
            "gridcolor": "white",
            "gridwidth": 2,
            "linecolor": "white",
            "showbackground": true,
            "ticks": "",
            "zerolinecolor": "white"
           },
           "yaxis": {
            "backgroundcolor": "#E5ECF6",
            "gridcolor": "white",
            "gridwidth": 2,
            "linecolor": "white",
            "showbackground": true,
            "ticks": "",
            "zerolinecolor": "white"
           },
           "zaxis": {
            "backgroundcolor": "#E5ECF6",
            "gridcolor": "white",
            "gridwidth": 2,
            "linecolor": "white",
            "showbackground": true,
            "ticks": "",
            "zerolinecolor": "white"
           }
          },
          "shapedefaults": {
           "line": {
            "color": "#2a3f5f"
           }
          },
          "ternary": {
           "aaxis": {
            "gridcolor": "white",
            "linecolor": "white",
            "ticks": ""
           },
           "baxis": {
            "gridcolor": "white",
            "linecolor": "white",
            "ticks": ""
           },
           "bgcolor": "#E5ECF6",
           "caxis": {
            "gridcolor": "white",
            "linecolor": "white",
            "ticks": ""
           }
          },
          "title": {
           "x": 0.05
          },
          "xaxis": {
           "automargin": true,
           "gridcolor": "white",
           "linecolor": "white",
           "ticks": "",
           "title": {
            "standoff": 15
           },
           "zerolinecolor": "white",
           "zerolinewidth": 2
          },
          "yaxis": {
           "automargin": true,
           "gridcolor": "white",
           "linecolor": "white",
           "ticks": "",
           "title": {
            "standoff": 15
           },
           "zerolinecolor": "white",
           "zerolinewidth": 2
          }
         }
        },
        "title": {
         "text": "Training and Validation Loss"
        },
        "xaxis": {
         "title": {
          "text": "Epoch"
         }
        },
        "yaxis": {
         "title": {
          "text": "Loss"
         }
        }
       }
      }
     },
     "metadata": {},
     "output_type": "display_data"
    }
   ],
   "source": [
    "# Plot training and validation loss\n",
    "fig = go.Figure()\n",
    "fig.add_trace(go.Scatter(\n",
    "    y=history.history[\"loss\"],\n",
    "    name=\"Training Loss\"\n",
    "))\n",
    "fig.add_trace(go.Scatter(\n",
    "    y=history.history[\"val_loss\"],\n",
    "    name=\"Validation Loss\"\n",
    "))\n",
    "fig.update_layout(\n",
    "    title=\"Training and Validation Loss\",\n",
    "    xaxis_title=\"Epoch\",\n",
    "    yaxis_title=\"Loss\"\n",
    ")\n",
    "fig.show()"
   ]
  },
  {
   "cell_type": "code",
   "execution_count": 50,
   "metadata": {},
   "outputs": [
    {
     "name": "stdout",
     "output_type": "stream",
     "text": [
      "3/3 [==============================] - 0s 7ms/step\n"
     ]
    }
   ],
   "source": [
    "preds = model.predict(x_test_images)"
   ]
  },
  {
   "cell_type": "code",
   "execution_count": 51,
   "metadata": {},
   "outputs": [],
   "source": [
    "diff = preds.flatten() - y_test\n",
    "percent_diff = (diff / y_test) * 100\n",
    "abs_percent_diff = np.abs(percent_diff)\n",
    "\n",
    "mean = np.mean(abs_percent_diff)\n",
    "std = np.std(abs_percent_diff)"
   ]
  },
  {
   "cell_type": "code",
   "execution_count": 52,
   "metadata": {},
   "outputs": [
    {
     "name": "stdout",
     "output_type": "stream",
     "text": [
      "avg. house price: $533,388.27\n",
      "mean: 50.23%, std: 85.25%\n"
     ]
    }
   ],
   "source": [
    "locale.setlocale(locale.LC_ALL, \"en_US.UTF-8\")\n",
    "print(f\"avg. house price: {locale.currency(df['price'].mean(), grouping=True)}\")\n",
    "print(f\"mean: {mean:.2f}%, std: {std:.2f}%\")"
   ]
  },
  {
   "cell_type": "code",
   "execution_count": null,
   "metadata": {},
   "outputs": [],
   "source": []
  }
 ],
 "metadata": {
  "kernelspec": {
   "display_name": "house_price_prediction",
   "language": "python",
   "name": "python3"
  },
  "language_info": {
   "codemirror_mode": {
    "name": "ipython",
    "version": 3
   },
   "file_extension": ".py",
   "mimetype": "text/x-python",
   "name": "python",
   "nbconvert_exporter": "python",
   "pygments_lexer": "ipython3",
   "version": "3.10.9"
  },
  "orig_nbformat": 4,
  "vscode": {
   "interpreter": {
    "hash": "88e49f460336e1c7d0a72da31c4f88d2cb5680c60f51d185b02bf3e0f879382d"
   }
  }
 },
 "nbformat": 4,
 "nbformat_minor": 2
}
