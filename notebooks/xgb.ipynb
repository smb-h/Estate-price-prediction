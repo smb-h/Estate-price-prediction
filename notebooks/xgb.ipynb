{
 "cells": [
  {
   "cell_type": "code",
   "execution_count": 28,
   "metadata": {},
   "outputs": [],
   "source": [
    "import pandas as pd\n",
    "import numpy as np\n",
    "import xgboost as xgb\n",
    "from sklearn.model_selection import train_test_split\n",
    "from sklearn.metrics import (\n",
    "    mean_squared_error, mean_absolute_error, \n",
    "    r2_score, mean_absolute_percentage_error\n",
    ")\n",
    "import plotly.express as px\n",
    "import plotly.graph_objects as go"
   ]
  },
  {
   "cell_type": "code",
   "execution_count": 29,
   "metadata": {},
   "outputs": [
    {
     "data": {
      "text/html": [
       "<div>\n",
       "<style scoped>\n",
       "    .dataframe tbody tr th:only-of-type {\n",
       "        vertical-align: middle;\n",
       "    }\n",
       "\n",
       "    .dataframe tbody tr th {\n",
       "        vertical-align: top;\n",
       "    }\n",
       "\n",
       "    .dataframe thead th {\n",
       "        text-align: right;\n",
       "    }\n",
       "</style>\n",
       "<table border=\"1\" class=\"dataframe\">\n",
       "  <thead>\n",
       "    <tr style=\"text-align: right;\">\n",
       "      <th></th>\n",
       "      <th>start_date</th>\n",
       "      <th>end_date</th>\n",
       "      <th>project_duration</th>\n",
       "      <th>x1</th>\n",
       "      <th>x2</th>\n",
       "      <th>x3</th>\n",
       "      <th>x5</th>\n",
       "      <th>x51</th>\n",
       "      <th>y</th>\n",
       "    </tr>\n",
       "  </thead>\n",
       "  <tbody>\n",
       "    <tr>\n",
       "      <th>0</th>\n",
       "      <td>1396-01-01</td>\n",
       "      <td>1400-01-01</td>\n",
       "      <td>48</td>\n",
       "      <td>3150.0</td>\n",
       "      <td>920.0</td>\n",
       "      <td>1</td>\n",
       "      <td>1703.672462</td>\n",
       "      <td>16</td>\n",
       "      <td>9979.795043</td>\n",
       "    </tr>\n",
       "    <tr>\n",
       "      <th>1</th>\n",
       "      <td>1395-01-01</td>\n",
       "      <td>1400-10-01</td>\n",
       "      <td>69</td>\n",
       "      <td>7600.0</td>\n",
       "      <td>1140.0</td>\n",
       "      <td>1</td>\n",
       "      <td>1446.077707</td>\n",
       "      <td>23</td>\n",
       "      <td>16362.045147</td>\n",
       "    </tr>\n",
       "    <tr>\n",
       "      <th>2</th>\n",
       "      <td>1398-01-01</td>\n",
       "      <td>1401-10-01</td>\n",
       "      <td>45</td>\n",
       "      <td>4800.0</td>\n",
       "      <td>840.0</td>\n",
       "      <td>1</td>\n",
       "      <td>2376.845399</td>\n",
       "      <td>15</td>\n",
       "      <td>14120.093280</td>\n",
       "    </tr>\n",
       "    <tr>\n",
       "      <th>3</th>\n",
       "      <td>1397-04-01</td>\n",
       "      <td>1398-04-01</td>\n",
       "      <td>12</td>\n",
       "      <td>685.0</td>\n",
       "      <td>202.0</td>\n",
       "      <td>1</td>\n",
       "      <td>1207.741141</td>\n",
       "      <td>4</td>\n",
       "      <td>2560.672748</td>\n",
       "    </tr>\n",
       "    <tr>\n",
       "      <th>4</th>\n",
       "      <td>1387-01-01</td>\n",
       "      <td>1390-04-01</td>\n",
       "      <td>39</td>\n",
       "      <td>3000.0</td>\n",
       "      <td>800.0</td>\n",
       "      <td>1</td>\n",
       "      <td>410.000000</td>\n",
       "      <td>13</td>\n",
       "      <td>700.000000</td>\n",
       "    </tr>\n",
       "  </tbody>\n",
       "</table>\n",
       "</div>"
      ],
      "text/plain": [
       "   start_date    end_date  project_duration      x1      x2  x3           x5  \\\n",
       "0  1396-01-01  1400-01-01                48  3150.0   920.0   1  1703.672462   \n",
       "1  1395-01-01  1400-10-01                69  7600.0  1140.0   1  1446.077707   \n",
       "2  1398-01-01  1401-10-01                45  4800.0   840.0   1  2376.845399   \n",
       "3  1397-04-01  1398-04-01                12   685.0   202.0   1  1207.741141   \n",
       "4  1387-01-01  1390-04-01                39  3000.0   800.0   1   410.000000   \n",
       "\n",
       "   x51             y  \n",
       "0   16   9979.795043  \n",
       "1   23  16362.045147  \n",
       "2   15  14120.093280  \n",
       "3    4   2560.672748  \n",
       "4   13    700.000000  "
      ]
     },
     "execution_count": 29,
     "metadata": {},
     "output_type": "execute_result"
    }
   ],
   "source": [
    "df = pd.read_csv('../data/processed/main_feats.csv')\n",
    "df.head()"
   ]
  },
  {
   "cell_type": "code",
   "execution_count": 30,
   "metadata": {},
   "outputs": [
    {
     "data": {
      "text/html": [
       "<div>\n",
       "<style scoped>\n",
       "    .dataframe tbody tr th:only-of-type {\n",
       "        vertical-align: middle;\n",
       "    }\n",
       "\n",
       "    .dataframe tbody tr th {\n",
       "        vertical-align: top;\n",
       "    }\n",
       "\n",
       "    .dataframe thead th {\n",
       "        text-align: right;\n",
       "    }\n",
       "</style>\n",
       "<table border=\"1\" class=\"dataframe\">\n",
       "  <thead>\n",
       "    <tr style=\"text-align: right;\">\n",
       "      <th></th>\n",
       "      <th>Date</th>\n",
       "      <th>b1</th>\n",
       "      <th>b2</th>\n",
       "      <th>b3</th>\n",
       "      <th>b4</th>\n",
       "      <th>b5</th>\n",
       "      <th>b7</th>\n",
       "      <th>b8</th>\n",
       "      <th>b9</th>\n",
       "      <th>b10</th>\n",
       "      <th>b14</th>\n",
       "      <th>b17</th>\n",
       "      <th>b18</th>\n",
       "      <th>B-23</th>\n",
       "      <th>B-24</th>\n",
       "    </tr>\n",
       "  </thead>\n",
       "  <tbody>\n",
       "    <tr>\n",
       "      <th>0</th>\n",
       "      <td>1360-01-01</td>\n",
       "      <td>2806.0</td>\n",
       "      <td>NaN</td>\n",
       "      <td>918.0</td>\n",
       "      <td>4380.0</td>\n",
       "      <td>25.1</td>\n",
       "      <td>17.0</td>\n",
       "      <td>19.0</td>\n",
       "      <td>77.7</td>\n",
       "      <td>270.0</td>\n",
       "      <td>1078.5</td>\n",
       "      <td>NaN</td>\n",
       "      <td>NaN</td>\n",
       "      <td>NaN</td>\n",
       "      <td>NaN</td>\n",
       "    </tr>\n",
       "    <tr>\n",
       "      <th>1</th>\n",
       "      <td>1360-04-01</td>\n",
       "      <td>2437.0</td>\n",
       "      <td>NaN</td>\n",
       "      <td>834.0</td>\n",
       "      <td>4552.0</td>\n",
       "      <td>20.8</td>\n",
       "      <td>18.0</td>\n",
       "      <td>19.0</td>\n",
       "      <td>81.3</td>\n",
       "      <td>270.0</td>\n",
       "      <td>1191.1</td>\n",
       "      <td>NaN</td>\n",
       "      <td>NaN</td>\n",
       "      <td>NaN</td>\n",
       "      <td>NaN</td>\n",
       "    </tr>\n",
       "    <tr>\n",
       "      <th>2</th>\n",
       "      <td>1360-07-01</td>\n",
       "      <td>2600.0</td>\n",
       "      <td>NaN</td>\n",
       "      <td>720.0</td>\n",
       "      <td>4653.8</td>\n",
       "      <td>23.3</td>\n",
       "      <td>18.0</td>\n",
       "      <td>20.0</td>\n",
       "      <td>79.6</td>\n",
       "      <td>270.0</td>\n",
       "      <td>1246.2</td>\n",
       "      <td>NaN</td>\n",
       "      <td>NaN</td>\n",
       "      <td>NaN</td>\n",
       "      <td>NaN</td>\n",
       "    </tr>\n",
       "    <tr>\n",
       "      <th>3</th>\n",
       "      <td>1360-10-01</td>\n",
       "      <td>2355.0</td>\n",
       "      <td>NaN</td>\n",
       "      <td>750.0</td>\n",
       "      <td>5236.1</td>\n",
       "      <td>18.4</td>\n",
       "      <td>20.0</td>\n",
       "      <td>19.0</td>\n",
       "      <td>80.8</td>\n",
       "      <td>270.0</td>\n",
       "      <td>1408.1</td>\n",
       "      <td>NaN</td>\n",
       "      <td>NaN</td>\n",
       "      <td>NaN</td>\n",
       "      <td>NaN</td>\n",
       "    </tr>\n",
       "    <tr>\n",
       "      <th>4</th>\n",
       "      <td>1361-01-01</td>\n",
       "      <td>2332.0</td>\n",
       "      <td>NaN</td>\n",
       "      <td>850.0</td>\n",
       "      <td>5250.2</td>\n",
       "      <td>44.8</td>\n",
       "      <td>20.0</td>\n",
       "      <td>22.0</td>\n",
       "      <td>82.4</td>\n",
       "      <td>350.0</td>\n",
       "      <td>1324.9</td>\n",
       "      <td>0.5</td>\n",
       "      <td>0.5</td>\n",
       "      <td>0.233333</td>\n",
       "      <td>NaN</td>\n",
       "    </tr>\n",
       "  </tbody>\n",
       "</table>\n",
       "</div>"
      ],
      "text/plain": [
       "         Date      b1  b2     b3      b4    b5    b7    b8    b9    b10  \\\n",
       "0  1360-01-01  2806.0 NaN  918.0  4380.0  25.1  17.0  19.0  77.7  270.0   \n",
       "1  1360-04-01  2437.0 NaN  834.0  4552.0  20.8  18.0  19.0  81.3  270.0   \n",
       "2  1360-07-01  2600.0 NaN  720.0  4653.8  23.3  18.0  20.0  79.6  270.0   \n",
       "3  1360-10-01  2355.0 NaN  750.0  5236.1  18.4  20.0  19.0  80.8  270.0   \n",
       "4  1361-01-01  2332.0 NaN  850.0  5250.2  44.8  20.0  22.0  82.4  350.0   \n",
       "\n",
       "      b14  b17  b18      B-23  B-24  \n",
       "0  1078.5  NaN  NaN       NaN   NaN  \n",
       "1  1191.1  NaN  NaN       NaN   NaN  \n",
       "2  1246.2  NaN  NaN       NaN   NaN  \n",
       "3  1408.1  NaN  NaN       NaN   NaN  \n",
       "4  1324.9  0.5  0.5  0.233333   NaN  "
      ]
     },
     "execution_count": 30,
     "metadata": {},
     "output_type": "execute_result"
    }
   ],
   "source": [
    "df_economics = pd.read_csv('../data/processed/economics.csv')\n",
    "df_economics.head()"
   ]
  },
  {
   "cell_type": "code",
   "execution_count": 31,
   "metadata": {},
   "outputs": [
    {
     "name": "stdout",
     "output_type": "stream",
     "text": [
      "(400, 21)\n"
     ]
    },
    {
     "data": {
      "text/html": [
       "<div>\n",
       "<style scoped>\n",
       "    .dataframe tbody tr th:only-of-type {\n",
       "        vertical-align: middle;\n",
       "    }\n",
       "\n",
       "    .dataframe tbody tr th {\n",
       "        vertical-align: top;\n",
       "    }\n",
       "\n",
       "    .dataframe thead th {\n",
       "        text-align: right;\n",
       "    }\n",
       "</style>\n",
       "<table border=\"1\" class=\"dataframe\">\n",
       "  <thead>\n",
       "    <tr style=\"text-align: right;\">\n",
       "      <th></th>\n",
       "      <th>project_duration</th>\n",
       "      <th>x1</th>\n",
       "      <th>x2</th>\n",
       "      <th>x3</th>\n",
       "      <th>x5</th>\n",
       "      <th>x51</th>\n",
       "      <th>b1</th>\n",
       "      <th>b2</th>\n",
       "      <th>b3</th>\n",
       "      <th>b4</th>\n",
       "      <th>...</th>\n",
       "      <th>b7</th>\n",
       "      <th>b8</th>\n",
       "      <th>b9</th>\n",
       "      <th>b10</th>\n",
       "      <th>b14</th>\n",
       "      <th>b17</th>\n",
       "      <th>b18</th>\n",
       "      <th>B-23</th>\n",
       "      <th>B-24</th>\n",
       "      <th>y</th>\n",
       "    </tr>\n",
       "  </thead>\n",
       "  <tbody>\n",
       "    <tr>\n",
       "      <th>0</th>\n",
       "      <td>48</td>\n",
       "      <td>3150.0</td>\n",
       "      <td>920.0</td>\n",
       "      <td>1</td>\n",
       "      <td>1703.672462</td>\n",
       "      <td>16</td>\n",
       "      <td>2261.0</td>\n",
       "      <td>104.4</td>\n",
       "      <td>2684.5</td>\n",
       "      <td>13149100.0</td>\n",
       "      <td>...</td>\n",
       "      <td>10424.0</td>\n",
       "      <td>10705.0</td>\n",
       "      <td>32441.800000</td>\n",
       "      <td>37564.200000</td>\n",
       "      <td>340100.0</td>\n",
       "      <td>104.9</td>\n",
       "      <td>104.4</td>\n",
       "      <td>107.333333</td>\n",
       "      <td>159717.794562</td>\n",
       "      <td>9979.795043</td>\n",
       "    </tr>\n",
       "    <tr>\n",
       "      <th>1</th>\n",
       "      <td>69</td>\n",
       "      <td>7600.0</td>\n",
       "      <td>1140.0</td>\n",
       "      <td>1</td>\n",
       "      <td>1446.077707</td>\n",
       "      <td>23</td>\n",
       "      <td>1786.0</td>\n",
       "      <td>96.7</td>\n",
       "      <td>3804.4</td>\n",
       "      <td>10595000.0</td>\n",
       "      <td>...</td>\n",
       "      <td>9418.0</td>\n",
       "      <td>10008.0</td>\n",
       "      <td>30358.300000</td>\n",
       "      <td>34732.500000</td>\n",
       "      <td>311600.0</td>\n",
       "      <td>96.8</td>\n",
       "      <td>97.2</td>\n",
       "      <td>96.333333</td>\n",
       "      <td>138459.842550</td>\n",
       "      <td>16362.045147</td>\n",
       "    </tr>\n",
       "    <tr>\n",
       "      <th>2</th>\n",
       "      <td>45</td>\n",
       "      <td>4800.0</td>\n",
       "      <td>840.0</td>\n",
       "      <td>1</td>\n",
       "      <td>2376.845399</td>\n",
       "      <td>15</td>\n",
       "      <td>2204.0</td>\n",
       "      <td>162.9</td>\n",
       "      <td>2780.5</td>\n",
       "      <td>19799100.0</td>\n",
       "      <td>...</td>\n",
       "      <td>17419.0</td>\n",
       "      <td>27814.0</td>\n",
       "      <td>42000.000000</td>\n",
       "      <td>138784.000000</td>\n",
       "      <td>502200.0</td>\n",
       "      <td>143.0</td>\n",
       "      <td>137.8</td>\n",
       "      <td>187.833333</td>\n",
       "      <td>303149.844961</td>\n",
       "      <td>14120.093280</td>\n",
       "    </tr>\n",
       "    <tr>\n",
       "      <th>3</th>\n",
       "      <td>12</td>\n",
       "      <td>685.0</td>\n",
       "      <td>202.0</td>\n",
       "      <td>1</td>\n",
       "      <td>1207.741141</td>\n",
       "      <td>4</td>\n",
       "      <td>2882.0</td>\n",
       "      <td>124.0</td>\n",
       "      <td>3897.1</td>\n",
       "      <td>16723700.0</td>\n",
       "      <td>...</td>\n",
       "      <td>12611.0</td>\n",
       "      <td>15328.0</td>\n",
       "      <td>42645.537634</td>\n",
       "      <td>116949.557127</td>\n",
       "      <td>445000.0</td>\n",
       "      <td>122.1</td>\n",
       "      <td>119.0</td>\n",
       "      <td>134.166667</td>\n",
       "      <td>262670.093748</td>\n",
       "      <td>2560.672748</td>\n",
       "    </tr>\n",
       "    <tr>\n",
       "      <th>4</th>\n",
       "      <td>39</td>\n",
       "      <td>3000.0</td>\n",
       "      <td>800.0</td>\n",
       "      <td>1</td>\n",
       "      <td>410.000000</td>\n",
       "      <td>13</td>\n",
       "      <td>6790.0</td>\n",
       "      <td>24.2</td>\n",
       "      <td>6728.0</td>\n",
       "      <td>1622664.0</td>\n",
       "      <td>...</td>\n",
       "      <td>2871.0</td>\n",
       "      <td>3663.0</td>\n",
       "      <td>9140.800000</td>\n",
       "      <td>9260.000000</td>\n",
       "      <td>68903.3</td>\n",
       "      <td>35.9</td>\n",
       "      <td>35.0</td>\n",
       "      <td>24.866667</td>\n",
       "      <td>44709.541069</td>\n",
       "      <td>700.000000</td>\n",
       "    </tr>\n",
       "  </tbody>\n",
       "</table>\n",
       "<p>5 rows × 21 columns</p>\n",
       "</div>"
      ],
      "text/plain": [
       "   project_duration      x1      x2  x3           x5  x51      b1     b2  \\\n",
       "0                48  3150.0   920.0   1  1703.672462   16  2261.0  104.4   \n",
       "1                69  7600.0  1140.0   1  1446.077707   23  1786.0   96.7   \n",
       "2                45  4800.0   840.0   1  2376.845399   15  2204.0  162.9   \n",
       "3                12   685.0   202.0   1  1207.741141    4  2882.0  124.0   \n",
       "4                39  3000.0   800.0   1   410.000000   13  6790.0   24.2   \n",
       "\n",
       "       b3          b4  ...       b7       b8            b9            b10  \\\n",
       "0  2684.5  13149100.0  ...  10424.0  10705.0  32441.800000   37564.200000   \n",
       "1  3804.4  10595000.0  ...   9418.0  10008.0  30358.300000   34732.500000   \n",
       "2  2780.5  19799100.0  ...  17419.0  27814.0  42000.000000  138784.000000   \n",
       "3  3897.1  16723700.0  ...  12611.0  15328.0  42645.537634  116949.557127   \n",
       "4  6728.0   1622664.0  ...   2871.0   3663.0   9140.800000    9260.000000   \n",
       "\n",
       "        b14    b17    b18        B-23           B-24             y  \n",
       "0  340100.0  104.9  104.4  107.333333  159717.794562   9979.795043  \n",
       "1  311600.0   96.8   97.2   96.333333  138459.842550  16362.045147  \n",
       "2  502200.0  143.0  137.8  187.833333  303149.844961  14120.093280  \n",
       "3  445000.0  122.1  119.0  134.166667  262670.093748   2560.672748  \n",
       "4   68903.3   35.9   35.0   24.866667   44709.541069    700.000000  \n",
       "\n",
       "[5 rows x 21 columns]"
      ]
     },
     "execution_count": 31,
     "metadata": {},
     "output_type": "execute_result"
    }
   ],
   "source": [
    "# filter df_economics drop extera rows for now (TODO: Add seasonal and  lag later)\n",
    "df_economics = df_economics[df_economics['Date'].isin(df['start_date'])]\n",
    "df = pd.merge(df, df_economics, how='left', left_on='start_date', right_on='Date')\n",
    "del df_economics\n",
    "df.drop(columns=['Date'], inplace=True)\n",
    "df.drop(columns=['start_date', 'end_date'], inplace=True)\n",
    "df = df[[c for c in df if c not in ['y']] + ['y']]\n",
    "print(df.shape)\n",
    "df.head()"
   ]
  },
  {
   "cell_type": "code",
   "execution_count": 32,
   "metadata": {},
   "outputs": [
    {
     "name": "stdout",
     "output_type": "stream",
     "text": [
      "[0]\tvalidation_0-rmse:3640.05914\n"
     ]
    },
    {
     "name": "stdout",
     "output_type": "stream",
     "text": [
      "[100]\tvalidation_0-rmse:756.69629\n",
      "[115]\tvalidation_0-rmse:748.36369\n"
     ]
    },
    {
     "data": {
      "text/html": [
       "<style>#sk-container-id-4 {color: black;}#sk-container-id-4 pre{padding: 0;}#sk-container-id-4 div.sk-toggleable {background-color: white;}#sk-container-id-4 label.sk-toggleable__label {cursor: pointer;display: block;width: 100%;margin-bottom: 0;padding: 0.3em;box-sizing: border-box;text-align: center;}#sk-container-id-4 label.sk-toggleable__label-arrow:before {content: \"▸\";float: left;margin-right: 0.25em;color: #696969;}#sk-container-id-4 label.sk-toggleable__label-arrow:hover:before {color: black;}#sk-container-id-4 div.sk-estimator:hover label.sk-toggleable__label-arrow:before {color: black;}#sk-container-id-4 div.sk-toggleable__content {max-height: 0;max-width: 0;overflow: hidden;text-align: left;background-color: #f0f8ff;}#sk-container-id-4 div.sk-toggleable__content pre {margin: 0.2em;color: black;border-radius: 0.25em;background-color: #f0f8ff;}#sk-container-id-4 input.sk-toggleable__control:checked~div.sk-toggleable__content {max-height: 200px;max-width: 100%;overflow: auto;}#sk-container-id-4 input.sk-toggleable__control:checked~label.sk-toggleable__label-arrow:before {content: \"▾\";}#sk-container-id-4 div.sk-estimator input.sk-toggleable__control:checked~label.sk-toggleable__label {background-color: #d4ebff;}#sk-container-id-4 div.sk-label input.sk-toggleable__control:checked~label.sk-toggleable__label {background-color: #d4ebff;}#sk-container-id-4 input.sk-hidden--visually {border: 0;clip: rect(1px 1px 1px 1px);clip: rect(1px, 1px, 1px, 1px);height: 1px;margin: -1px;overflow: hidden;padding: 0;position: absolute;width: 1px;}#sk-container-id-4 div.sk-estimator {font-family: monospace;background-color: #f0f8ff;border: 1px dotted black;border-radius: 0.25em;box-sizing: border-box;margin-bottom: 0.5em;}#sk-container-id-4 div.sk-estimator:hover {background-color: #d4ebff;}#sk-container-id-4 div.sk-parallel-item::after {content: \"\";width: 100%;border-bottom: 1px solid gray;flex-grow: 1;}#sk-container-id-4 div.sk-label:hover label.sk-toggleable__label {background-color: #d4ebff;}#sk-container-id-4 div.sk-serial::before {content: \"\";position: absolute;border-left: 1px solid gray;box-sizing: border-box;top: 0;bottom: 0;left: 50%;z-index: 0;}#sk-container-id-4 div.sk-serial {display: flex;flex-direction: column;align-items: center;background-color: white;padding-right: 0.2em;padding-left: 0.2em;position: relative;}#sk-container-id-4 div.sk-item {position: relative;z-index: 1;}#sk-container-id-4 div.sk-parallel {display: flex;align-items: stretch;justify-content: center;background-color: white;position: relative;}#sk-container-id-4 div.sk-item::before, #sk-container-id-4 div.sk-parallel-item::before {content: \"\";position: absolute;border-left: 1px solid gray;box-sizing: border-box;top: 0;bottom: 0;left: 50%;z-index: -1;}#sk-container-id-4 div.sk-parallel-item {display: flex;flex-direction: column;z-index: 1;position: relative;background-color: white;}#sk-container-id-4 div.sk-parallel-item:first-child::after {align-self: flex-end;width: 50%;}#sk-container-id-4 div.sk-parallel-item:last-child::after {align-self: flex-start;width: 50%;}#sk-container-id-4 div.sk-parallel-item:only-child::after {width: 0;}#sk-container-id-4 div.sk-dashed-wrapped {border: 1px dashed gray;margin: 0 0.4em 0.5em 0.4em;box-sizing: border-box;padding-bottom: 0.4em;background-color: white;}#sk-container-id-4 div.sk-label label {font-family: monospace;font-weight: bold;display: inline-block;line-height: 1.2em;}#sk-container-id-4 div.sk-label-container {text-align: center;}#sk-container-id-4 div.sk-container {/* jupyter's `normalize.less` sets `[hidden] { display: none; }` but bootstrap.min.css set `[hidden] { display: none !important; }` so we also need the `!important` here to be able to override the default hidden behavior on the sphinx rendered scikit-learn.org. See: https://github.com/scikit-learn/scikit-learn/issues/21755 */display: inline-block !important;position: relative;}#sk-container-id-4 div.sk-text-repr-fallback {display: none;}</style><div id=\"sk-container-id-4\" class=\"sk-top-container\"><div class=\"sk-text-repr-fallback\"><pre>XGBRegressor(base_score=None, booster=None, callbacks=None,\n",
       "             colsample_bylevel=None, colsample_bynode=None,\n",
       "             colsample_bytree=0.9, early_stopping_rounds=50,\n",
       "             enable_categorical=False, eval_metric=None, feature_types=None,\n",
       "             gamma=None, gpu_id=None, grow_policy=None, importance_type=None,\n",
       "             interaction_constraints=None, learning_rate=0.05, max_bin=None,\n",
       "             max_cat_threshold=None, max_cat_to_onehot=None,\n",
       "             max_delta_step=None, max_depth=8, max_leaves=None,\n",
       "             min_child_weight=None, missing=nan, monotone_constraints=None,\n",
       "             n_estimators=1000, n_jobs=None, num_parallel_tree=None,\n",
       "             predictor=None, random_state=42, ...)</pre><b>In a Jupyter environment, please rerun this cell to show the HTML representation or trust the notebook. <br />On GitHub, the HTML representation is unable to render, please try loading this page with nbviewer.org.</b></div><div class=\"sk-container\" hidden><div class=\"sk-item\"><div class=\"sk-estimator sk-toggleable\"><input class=\"sk-toggleable__control sk-hidden--visually\" id=\"sk-estimator-id-4\" type=\"checkbox\" checked><label for=\"sk-estimator-id-4\" class=\"sk-toggleable__label sk-toggleable__label-arrow\">XGBRegressor</label><div class=\"sk-toggleable__content\"><pre>XGBRegressor(base_score=None, booster=None, callbacks=None,\n",
       "             colsample_bylevel=None, colsample_bynode=None,\n",
       "             colsample_bytree=0.9, early_stopping_rounds=50,\n",
       "             enable_categorical=False, eval_metric=None, feature_types=None,\n",
       "             gamma=None, gpu_id=None, grow_policy=None, importance_type=None,\n",
       "             interaction_constraints=None, learning_rate=0.05, max_bin=None,\n",
       "             max_cat_threshold=None, max_cat_to_onehot=None,\n",
       "             max_delta_step=None, max_depth=8, max_leaves=None,\n",
       "             min_child_weight=None, missing=nan, monotone_constraints=None,\n",
       "             n_estimators=1000, n_jobs=None, num_parallel_tree=None,\n",
       "             predictor=None, random_state=42, ...)</pre></div></div></div></div></div>"
      ],
      "text/plain": [
       "XGBRegressor(base_score=None, booster=None, callbacks=None,\n",
       "             colsample_bylevel=None, colsample_bynode=None,\n",
       "             colsample_bytree=0.9, early_stopping_rounds=50,\n",
       "             enable_categorical=False, eval_metric=None, feature_types=None,\n",
       "             gamma=None, gpu_id=None, grow_policy=None, importance_type=None,\n",
       "             interaction_constraints=None, learning_rate=0.05, max_bin=None,\n",
       "             max_cat_threshold=None, max_cat_to_onehot=None,\n",
       "             max_delta_step=None, max_depth=8, max_leaves=None,\n",
       "             min_child_weight=None, missing=nan, monotone_constraints=None,\n",
       "             n_estimators=1000, n_jobs=None, num_parallel_tree=None,\n",
       "             predictor=None, random_state=42, ...)"
      ]
     },
     "execution_count": 32,
     "metadata": {},
     "output_type": "execute_result"
    }
   ],
   "source": [
    "model = xgb.XGBRegressor(\n",
    "    n_estimators=1000,\n",
    "    learning_rate=0.05,\n",
    "    max_depth=8,\n",
    "    subsample=0.8,\n",
    "    colsample_bytree=0.9,\n",
    "    random_state=42,\n",
    "    early_stopping_rounds=50,\n",
    ")\n",
    "\n",
    "x = df[[c for c in df if c not in ['y']]]\n",
    "y = df['y']\n",
    "\n",
    "# x_train, x_test, y_train, y_test = train_test_split(x, y, test_size=0.2, random_state=42)\n",
    "x_train, x_valid, x_test = x.iloc[:int(len(x)*0.7)], x.iloc[int(len(x)*0.7):int(len(x)*0.9)], x.iloc[int(len(x)*0.9):]\n",
    "y_train, y_valid, y_test = y.iloc[:int(len(y)*0.7)], y.iloc[int(len(y)*0.7):int(len(y)*0.9)], y.iloc[int(len(y)*0.9):]\n",
    "model.fit(x_train, y_train, eval_set=[(x_valid, y_valid)], verbose=100)"
   ]
  },
  {
   "cell_type": "code",
   "execution_count": 34,
   "metadata": {},
   "outputs": [
    {
     "data": {
      "application/vnd.plotly.v1+json": {
       "config": {
        "plotlyServerURL": "https://plot.ly"
       },
       "data": [
        {
         "mode": "lines",
         "name": "Train",
         "type": "scatter",
         "x": [
          0,
          1,
          2,
          3,
          4,
          5,
          6,
          7,
          8,
          9,
          10,
          11,
          12,
          13,
          14,
          15,
          16,
          17,
          18,
          19,
          20,
          21,
          22,
          23,
          24,
          25,
          26,
          27,
          28,
          29,
          30,
          31,
          32,
          33,
          34,
          35,
          36,
          37,
          38,
          39,
          40,
          41,
          42,
          43,
          44,
          45,
          46,
          47,
          48,
          49,
          50,
          51,
          52,
          53,
          54,
          55,
          56,
          57,
          58,
          59,
          60,
          61,
          62,
          63,
          64,
          65,
          66,
          67,
          68,
          69,
          70,
          71,
          72,
          73,
          74,
          75,
          76,
          77,
          78,
          79,
          80,
          81,
          82,
          83,
          84,
          85,
          86,
          87,
          88,
          89,
          90,
          91,
          92,
          93,
          94,
          95,
          96,
          97,
          98,
          99,
          100,
          101,
          102,
          103,
          104,
          105,
          106,
          107,
          108,
          109,
          110,
          111,
          112,
          113,
          114,
          115
         ],
         "y": [
          3640.0591415128047,
          3439.2374110733563,
          3290.309846316244,
          3121.7637488153982,
          2987.674703508462,
          2837.6616831258902,
          2691.768180590058,
          2568.68230283552,
          2441.81041429617,
          2343.139308003565,
          2224.0158960364365,
          2113.7871716398718,
          2012.6579888215042,
          1918.1992972537041,
          1822.4345238797512,
          1750.566210940431,
          1674.7586442595036,
          1599.3667487625921,
          1523.948872616985,
          1452.135193709178,
          1395.2913897305611,
          1337.8784180293935,
          1283.822161994735,
          1238.942783381742,
          1205.5687400838715,
          1161.2012263946942,
          1134.6515205200894,
          1106.1675220515124,
          1081.9281848431324,
          1042.6208767388073,
          1016.7710912936373,
          989.6025082930178,
          974.2634521566658,
          955.4759162610383,
          938.8751680223409,
          921.8307601317019,
          905.3567947395431,
          891.3275456836285,
          874.1468642761795,
          861.705294605332,
          846.7718309085831,
          838.7488199497935,
          831.0714088267969,
          822.266591159802,
          810.8347736300633,
          797.1216821394096,
          791.830814178966,
          788.0827356860686,
          781.5647429704417,
          772.5084635843123,
          767.6048673448605,
          765.9489913572635,
          765.9710679776219,
          763.0060103342206,
          764.4326165635961,
          763.5398754622686,
          758.4218119700292,
          755.3393849900555,
          755.0177120928371,
          755.4557853053044,
          747.8521930998094,
          746.0482163549766,
          746.0912737473222,
          748.2763547707347,
          746.3691543922615,
          745.673783387317,
          747.8631361587019,
          746.2472623310639,
          746.4666470056502,
          746.4625626837994,
          747.7290954563402,
          747.6351081542394,
          747.9081171154558,
          747.3379159060412,
          749.7246785189171,
          749.3799200742785,
          750.075036965907,
          750.794309386615,
          750.3408829682112,
          748.713266791932,
          749.545586748295,
          748.7402343288918,
          748.8770372358262,
          749.8819765326308,
          748.7780940786516,
          750.7640396156999,
          750.5809425553808,
          751.5579703232638,
          751.9353194201253,
          751.7356001615586,
          752.0074230927553,
          751.9520650335277,
          751.5681426834743,
          752.2677254859979,
          752.0516450108421,
          751.1891496341232,
          751.9891576693234,
          753.1242046772093,
          753.4128222130321,
          755.579483580668,
          756.6962948004224,
          754.437286466357,
          755.4137332682423,
          753.4860380075232,
          753.1968281211402,
          752.7129102462562,
          752.2088211305075,
          751.4536218384195,
          752.147475992393,
          750.9669390508922,
          751.0903517146693,
          751.6768466896773,
          751.6706061600926,
          749.2315616078315,
          748.9975660219612,
          748.3636931467923
         ]
        },
        {
         "mode": "lines",
         "name": "Valid",
         "type": "scatter",
         "x": [
          0,
          1,
          2,
          3,
          4,
          5,
          6,
          7,
          8,
          9,
          10,
          11,
          12,
          13,
          14,
          15,
          16,
          17,
          18,
          19,
          20,
          21,
          22,
          23,
          24,
          25,
          26,
          27,
          28,
          29,
          30,
          31,
          32,
          33,
          34,
          35,
          36,
          37,
          38,
          39,
          40,
          41,
          42,
          43,
          44,
          45,
          46,
          47,
          48,
          49,
          50,
          51,
          52,
          53,
          54,
          55,
          56,
          57,
          58,
          59,
          60,
          61,
          62,
          63,
          64,
          65,
          66,
          67,
          68,
          69,
          70,
          71,
          72,
          73,
          74,
          75,
          76,
          77,
          78,
          79,
          80,
          81,
          82,
          83,
          84,
          85,
          86,
          87,
          88,
          89,
          90,
          91,
          92,
          93,
          94,
          95,
          96,
          97,
          98,
          99,
          100,
          101,
          102,
          103,
          104,
          105,
          106,
          107,
          108,
          109,
          110,
          111,
          112,
          113,
          114,
          115
         ],
         "y": [
          3640.0591415128047,
          3439.2374110733563,
          3290.309846316244,
          3121.7637488153982,
          2987.674703508462,
          2837.6616831258902,
          2691.768180590058,
          2568.68230283552,
          2441.81041429617,
          2343.139308003565,
          2224.0158960364365,
          2113.7871716398718,
          2012.6579888215042,
          1918.1992972537041,
          1822.4345238797512,
          1750.566210940431,
          1674.7586442595036,
          1599.3667487625921,
          1523.948872616985,
          1452.135193709178,
          1395.2913897305611,
          1337.8784180293935,
          1283.822161994735,
          1238.942783381742,
          1205.5687400838715,
          1161.2012263946942,
          1134.6515205200894,
          1106.1675220515124,
          1081.9281848431324,
          1042.6208767388073,
          1016.7710912936373,
          989.6025082930178,
          974.2634521566658,
          955.4759162610383,
          938.8751680223409,
          921.8307601317019,
          905.3567947395431,
          891.3275456836285,
          874.1468642761795,
          861.705294605332,
          846.7718309085831,
          838.7488199497935,
          831.0714088267969,
          822.266591159802,
          810.8347736300633,
          797.1216821394096,
          791.830814178966,
          788.0827356860686,
          781.5647429704417,
          772.5084635843123,
          767.6048673448605,
          765.9489913572635,
          765.9710679776219,
          763.0060103342206,
          764.4326165635961,
          763.5398754622686,
          758.4218119700292,
          755.3393849900555,
          755.0177120928371,
          755.4557853053044,
          747.8521930998094,
          746.0482163549766,
          746.0912737473222,
          748.2763547707347,
          746.3691543922615,
          745.673783387317,
          747.8631361587019,
          746.2472623310639,
          746.4666470056502,
          746.4625626837994,
          747.7290954563402,
          747.6351081542394,
          747.9081171154558,
          747.3379159060412,
          749.7246785189171,
          749.3799200742785,
          750.075036965907,
          750.794309386615,
          750.3408829682112,
          748.713266791932,
          749.545586748295,
          748.7402343288918,
          748.8770372358262,
          749.8819765326308,
          748.7780940786516,
          750.7640396156999,
          750.5809425553808,
          751.5579703232638,
          751.9353194201253,
          751.7356001615586,
          752.0074230927553,
          751.9520650335277,
          751.5681426834743,
          752.2677254859979,
          752.0516450108421,
          751.1891496341232,
          751.9891576693234,
          753.1242046772093,
          753.4128222130321,
          755.579483580668,
          756.6962948004224,
          754.437286466357,
          755.4137332682423,
          753.4860380075232,
          753.1968281211402,
          752.7129102462562,
          752.2088211305075,
          751.4536218384195,
          752.147475992393,
          750.9669390508922,
          751.0903517146693,
          751.6768466896773,
          751.6706061600926,
          749.2315616078315,
          748.9975660219612,
          748.3636931467923
         ]
        }
       ],
       "layout": {
        "template": {
         "data": {
          "bar": [
           {
            "error_x": {
             "color": "#2a3f5f"
            },
            "error_y": {
             "color": "#2a3f5f"
            },
            "marker": {
             "line": {
              "color": "#E5ECF6",
              "width": 0.5
             },
             "pattern": {
              "fillmode": "overlay",
              "size": 10,
              "solidity": 0.2
             }
            },
            "type": "bar"
           }
          ],
          "barpolar": [
           {
            "marker": {
             "line": {
              "color": "#E5ECF6",
              "width": 0.5
             },
             "pattern": {
              "fillmode": "overlay",
              "size": 10,
              "solidity": 0.2
             }
            },
            "type": "barpolar"
           }
          ],
          "carpet": [
           {
            "aaxis": {
             "endlinecolor": "#2a3f5f",
             "gridcolor": "white",
             "linecolor": "white",
             "minorgridcolor": "white",
             "startlinecolor": "#2a3f5f"
            },
            "baxis": {
             "endlinecolor": "#2a3f5f",
             "gridcolor": "white",
             "linecolor": "white",
             "minorgridcolor": "white",
             "startlinecolor": "#2a3f5f"
            },
            "type": "carpet"
           }
          ],
          "choropleth": [
           {
            "colorbar": {
             "outlinewidth": 0,
             "ticks": ""
            },
            "type": "choropleth"
           }
          ],
          "contour": [
           {
            "colorbar": {
             "outlinewidth": 0,
             "ticks": ""
            },
            "colorscale": [
             [
              0,
              "#0d0887"
             ],
             [
              0.1111111111111111,
              "#46039f"
             ],
             [
              0.2222222222222222,
              "#7201a8"
             ],
             [
              0.3333333333333333,
              "#9c179e"
             ],
             [
              0.4444444444444444,
              "#bd3786"
             ],
             [
              0.5555555555555556,
              "#d8576b"
             ],
             [
              0.6666666666666666,
              "#ed7953"
             ],
             [
              0.7777777777777778,
              "#fb9f3a"
             ],
             [
              0.8888888888888888,
              "#fdca26"
             ],
             [
              1,
              "#f0f921"
             ]
            ],
            "type": "contour"
           }
          ],
          "contourcarpet": [
           {
            "colorbar": {
             "outlinewidth": 0,
             "ticks": ""
            },
            "type": "contourcarpet"
           }
          ],
          "heatmap": [
           {
            "colorbar": {
             "outlinewidth": 0,
             "ticks": ""
            },
            "colorscale": [
             [
              0,
              "#0d0887"
             ],
             [
              0.1111111111111111,
              "#46039f"
             ],
             [
              0.2222222222222222,
              "#7201a8"
             ],
             [
              0.3333333333333333,
              "#9c179e"
             ],
             [
              0.4444444444444444,
              "#bd3786"
             ],
             [
              0.5555555555555556,
              "#d8576b"
             ],
             [
              0.6666666666666666,
              "#ed7953"
             ],
             [
              0.7777777777777778,
              "#fb9f3a"
             ],
             [
              0.8888888888888888,
              "#fdca26"
             ],
             [
              1,
              "#f0f921"
             ]
            ],
            "type": "heatmap"
           }
          ],
          "heatmapgl": [
           {
            "colorbar": {
             "outlinewidth": 0,
             "ticks": ""
            },
            "colorscale": [
             [
              0,
              "#0d0887"
             ],
             [
              0.1111111111111111,
              "#46039f"
             ],
             [
              0.2222222222222222,
              "#7201a8"
             ],
             [
              0.3333333333333333,
              "#9c179e"
             ],
             [
              0.4444444444444444,
              "#bd3786"
             ],
             [
              0.5555555555555556,
              "#d8576b"
             ],
             [
              0.6666666666666666,
              "#ed7953"
             ],
             [
              0.7777777777777778,
              "#fb9f3a"
             ],
             [
              0.8888888888888888,
              "#fdca26"
             ],
             [
              1,
              "#f0f921"
             ]
            ],
            "type": "heatmapgl"
           }
          ],
          "histogram": [
           {
            "marker": {
             "pattern": {
              "fillmode": "overlay",
              "size": 10,
              "solidity": 0.2
             }
            },
            "type": "histogram"
           }
          ],
          "histogram2d": [
           {
            "colorbar": {
             "outlinewidth": 0,
             "ticks": ""
            },
            "colorscale": [
             [
              0,
              "#0d0887"
             ],
             [
              0.1111111111111111,
              "#46039f"
             ],
             [
              0.2222222222222222,
              "#7201a8"
             ],
             [
              0.3333333333333333,
              "#9c179e"
             ],
             [
              0.4444444444444444,
              "#bd3786"
             ],
             [
              0.5555555555555556,
              "#d8576b"
             ],
             [
              0.6666666666666666,
              "#ed7953"
             ],
             [
              0.7777777777777778,
              "#fb9f3a"
             ],
             [
              0.8888888888888888,
              "#fdca26"
             ],
             [
              1,
              "#f0f921"
             ]
            ],
            "type": "histogram2d"
           }
          ],
          "histogram2dcontour": [
           {
            "colorbar": {
             "outlinewidth": 0,
             "ticks": ""
            },
            "colorscale": [
             [
              0,
              "#0d0887"
             ],
             [
              0.1111111111111111,
              "#46039f"
             ],
             [
              0.2222222222222222,
              "#7201a8"
             ],
             [
              0.3333333333333333,
              "#9c179e"
             ],
             [
              0.4444444444444444,
              "#bd3786"
             ],
             [
              0.5555555555555556,
              "#d8576b"
             ],
             [
              0.6666666666666666,
              "#ed7953"
             ],
             [
              0.7777777777777778,
              "#fb9f3a"
             ],
             [
              0.8888888888888888,
              "#fdca26"
             ],
             [
              1,
              "#f0f921"
             ]
            ],
            "type": "histogram2dcontour"
           }
          ],
          "mesh3d": [
           {
            "colorbar": {
             "outlinewidth": 0,
             "ticks": ""
            },
            "type": "mesh3d"
           }
          ],
          "parcoords": [
           {
            "line": {
             "colorbar": {
              "outlinewidth": 0,
              "ticks": ""
             }
            },
            "type": "parcoords"
           }
          ],
          "pie": [
           {
            "automargin": true,
            "type": "pie"
           }
          ],
          "scatter": [
           {
            "fillpattern": {
             "fillmode": "overlay",
             "size": 10,
             "solidity": 0.2
            },
            "type": "scatter"
           }
          ],
          "scatter3d": [
           {
            "line": {
             "colorbar": {
              "outlinewidth": 0,
              "ticks": ""
             }
            },
            "marker": {
             "colorbar": {
              "outlinewidth": 0,
              "ticks": ""
             }
            },
            "type": "scatter3d"
           }
          ],
          "scattercarpet": [
           {
            "marker": {
             "colorbar": {
              "outlinewidth": 0,
              "ticks": ""
             }
            },
            "type": "scattercarpet"
           }
          ],
          "scattergeo": [
           {
            "marker": {
             "colorbar": {
              "outlinewidth": 0,
              "ticks": ""
             }
            },
            "type": "scattergeo"
           }
          ],
          "scattergl": [
           {
            "marker": {
             "colorbar": {
              "outlinewidth": 0,
              "ticks": ""
             }
            },
            "type": "scattergl"
           }
          ],
          "scattermapbox": [
           {
            "marker": {
             "colorbar": {
              "outlinewidth": 0,
              "ticks": ""
             }
            },
            "type": "scattermapbox"
           }
          ],
          "scatterpolar": [
           {
            "marker": {
             "colorbar": {
              "outlinewidth": 0,
              "ticks": ""
             }
            },
            "type": "scatterpolar"
           }
          ],
          "scatterpolargl": [
           {
            "marker": {
             "colorbar": {
              "outlinewidth": 0,
              "ticks": ""
             }
            },
            "type": "scatterpolargl"
           }
          ],
          "scatterternary": [
           {
            "marker": {
             "colorbar": {
              "outlinewidth": 0,
              "ticks": ""
             }
            },
            "type": "scatterternary"
           }
          ],
          "surface": [
           {
            "colorbar": {
             "outlinewidth": 0,
             "ticks": ""
            },
            "colorscale": [
             [
              0,
              "#0d0887"
             ],
             [
              0.1111111111111111,
              "#46039f"
             ],
             [
              0.2222222222222222,
              "#7201a8"
             ],
             [
              0.3333333333333333,
              "#9c179e"
             ],
             [
              0.4444444444444444,
              "#bd3786"
             ],
             [
              0.5555555555555556,
              "#d8576b"
             ],
             [
              0.6666666666666666,
              "#ed7953"
             ],
             [
              0.7777777777777778,
              "#fb9f3a"
             ],
             [
              0.8888888888888888,
              "#fdca26"
             ],
             [
              1,
              "#f0f921"
             ]
            ],
            "type": "surface"
           }
          ],
          "table": [
           {
            "cells": {
             "fill": {
              "color": "#EBF0F8"
             },
             "line": {
              "color": "white"
             }
            },
            "header": {
             "fill": {
              "color": "#C8D4E3"
             },
             "line": {
              "color": "white"
             }
            },
            "type": "table"
           }
          ]
         },
         "layout": {
          "annotationdefaults": {
           "arrowcolor": "#2a3f5f",
           "arrowhead": 0,
           "arrowwidth": 1
          },
          "autotypenumbers": "strict",
          "coloraxis": {
           "colorbar": {
            "outlinewidth": 0,
            "ticks": ""
           }
          },
          "colorscale": {
           "diverging": [
            [
             0,
             "#8e0152"
            ],
            [
             0.1,
             "#c51b7d"
            ],
            [
             0.2,
             "#de77ae"
            ],
            [
             0.3,
             "#f1b6da"
            ],
            [
             0.4,
             "#fde0ef"
            ],
            [
             0.5,
             "#f7f7f7"
            ],
            [
             0.6,
             "#e6f5d0"
            ],
            [
             0.7,
             "#b8e186"
            ],
            [
             0.8,
             "#7fbc41"
            ],
            [
             0.9,
             "#4d9221"
            ],
            [
             1,
             "#276419"
            ]
           ],
           "sequential": [
            [
             0,
             "#0d0887"
            ],
            [
             0.1111111111111111,
             "#46039f"
            ],
            [
             0.2222222222222222,
             "#7201a8"
            ],
            [
             0.3333333333333333,
             "#9c179e"
            ],
            [
             0.4444444444444444,
             "#bd3786"
            ],
            [
             0.5555555555555556,
             "#d8576b"
            ],
            [
             0.6666666666666666,
             "#ed7953"
            ],
            [
             0.7777777777777778,
             "#fb9f3a"
            ],
            [
             0.8888888888888888,
             "#fdca26"
            ],
            [
             1,
             "#f0f921"
            ]
           ],
           "sequentialminus": [
            [
             0,
             "#0d0887"
            ],
            [
             0.1111111111111111,
             "#46039f"
            ],
            [
             0.2222222222222222,
             "#7201a8"
            ],
            [
             0.3333333333333333,
             "#9c179e"
            ],
            [
             0.4444444444444444,
             "#bd3786"
            ],
            [
             0.5555555555555556,
             "#d8576b"
            ],
            [
             0.6666666666666666,
             "#ed7953"
            ],
            [
             0.7777777777777778,
             "#fb9f3a"
            ],
            [
             0.8888888888888888,
             "#fdca26"
            ],
            [
             1,
             "#f0f921"
            ]
           ]
          },
          "colorway": [
           "#636efa",
           "#EF553B",
           "#00cc96",
           "#ab63fa",
           "#FFA15A",
           "#19d3f3",
           "#FF6692",
           "#B6E880",
           "#FF97FF",
           "#FECB52"
          ],
          "font": {
           "color": "#2a3f5f"
          },
          "geo": {
           "bgcolor": "white",
           "lakecolor": "white",
           "landcolor": "#E5ECF6",
           "showlakes": true,
           "showland": true,
           "subunitcolor": "white"
          },
          "hoverlabel": {
           "align": "left"
          },
          "hovermode": "closest",
          "mapbox": {
           "style": "light"
          },
          "paper_bgcolor": "white",
          "plot_bgcolor": "#E5ECF6",
          "polar": {
           "angularaxis": {
            "gridcolor": "white",
            "linecolor": "white",
            "ticks": ""
           },
           "bgcolor": "#E5ECF6",
           "radialaxis": {
            "gridcolor": "white",
            "linecolor": "white",
            "ticks": ""
           }
          },
          "scene": {
           "xaxis": {
            "backgroundcolor": "#E5ECF6",
            "gridcolor": "white",
            "gridwidth": 2,
            "linecolor": "white",
            "showbackground": true,
            "ticks": "",
            "zerolinecolor": "white"
           },
           "yaxis": {
            "backgroundcolor": "#E5ECF6",
            "gridcolor": "white",
            "gridwidth": 2,
            "linecolor": "white",
            "showbackground": true,
            "ticks": "",
            "zerolinecolor": "white"
           },
           "zaxis": {
            "backgroundcolor": "#E5ECF6",
            "gridcolor": "white",
            "gridwidth": 2,
            "linecolor": "white",
            "showbackground": true,
            "ticks": "",
            "zerolinecolor": "white"
           }
          },
          "shapedefaults": {
           "line": {
            "color": "#2a3f5f"
           }
          },
          "ternary": {
           "aaxis": {
            "gridcolor": "white",
            "linecolor": "white",
            "ticks": ""
           },
           "baxis": {
            "gridcolor": "white",
            "linecolor": "white",
            "ticks": ""
           },
           "bgcolor": "#E5ECF6",
           "caxis": {
            "gridcolor": "white",
            "linecolor": "white",
            "ticks": ""
           }
          },
          "title": {
           "x": 0.05
          },
          "xaxis": {
           "automargin": true,
           "gridcolor": "white",
           "linecolor": "white",
           "ticks": "",
           "title": {
            "standoff": 15
           },
           "zerolinecolor": "white",
           "zerolinewidth": 2
          },
          "yaxis": {
           "automargin": true,
           "gridcolor": "white",
           "linecolor": "white",
           "ticks": "",
           "title": {
            "standoff": 15
           },
           "zerolinecolor": "white",
           "zerolinewidth": 2
          }
         }
        },
        "title": {
         "text": "Training and Validation RMSE"
        },
        "xaxis": {
         "title": {
          "text": "Epochs"
         }
        },
        "yaxis": {
         "title": {
          "text": "RMSE"
         }
        }
       }
      }
     },
     "metadata": {},
     "output_type": "display_data"
    }
   ],
   "source": [
    "# plot training and validation accuracy and loss\n",
    "results = model.evals_result()\n",
    "epochs = len(results['validation_0']['rmse'])\n",
    "x_axis = [i for i in range(0, epochs)]\n",
    "fig = go.Figure()\n",
    "fig.add_trace(go.Scatter(x=x_axis, y=results['validation_0']['rmse'], mode='lines', name='Train'))\n",
    "fig.add_trace(go.Scatter(x=x_axis, y=results['validation_0']['rmse'], mode='lines', name='Valid'))\n",
    "fig.update_layout(title='Training and Validation RMSE', xaxis_title='Epochs', yaxis_title='RMSE')\n",
    "fig.show()"
   ]
  },
  {
   "cell_type": "code",
   "execution_count": 35,
   "metadata": {},
   "outputs": [
    {
     "name": "stdout",
     "output_type": "stream",
     "text": [
      "MSE: 42885650.602, MAE: 2281.781, R2: 0.637, MAPE: 1.411\n"
     ]
    }
   ],
   "source": [
    "# evaluate the model\n",
    "y_pred = model.predict(x_test)\n",
    "mse = mean_squared_error(y_test, y_pred)\n",
    "mae = mean_absolute_error(y_test, y_pred)\n",
    "r2 = r2_score(y_test, y_pred)\n",
    "mape = mean_absolute_percentage_error(y_test, y_pred)\n",
    "print('MSE: %.3f, MAE: %.3f, R2: %.3f, MAPE: %.3f' % (mse, mae, r2, mape))"
   ]
  },
  {
   "cell_type": "code",
   "execution_count": null,
   "metadata": {},
   "outputs": [],
   "source": []
  }
 ],
 "metadata": {
  "kernelspec": {
   "display_name": "house-price-prediction",
   "language": "python",
   "name": "python3"
  },
  "language_info": {
   "codemirror_mode": {
    "name": "ipython",
    "version": 3
   },
   "file_extension": ".py",
   "mimetype": "text/x-python",
   "name": "python",
   "nbconvert_exporter": "python",
   "pygments_lexer": "ipython3",
   "version": "3.11.3"
  },
  "orig_nbformat": 4
 },
 "nbformat": 4,
 "nbformat_minor": 2
}
