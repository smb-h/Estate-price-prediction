{
  "nbformat": 4,
  "nbformat_minor": 0,
  "metadata": {
    "colab": {
      "provenance": [],
      "collapsed_sections": [
        "BdrauK9NYu98"
      ]
    },
    "kernelspec": {
      "name": "python3",
      "display_name": "Python 3"
    },
    "language_info": {
      "name": "python"
    }
  },
  "cells": [
    {
      "cell_type": "markdown",
      "source": [
        "#priliminary"
      ],
      "metadata": {
        "id": "BdrauK9NYu98"
      }
    },
    {
      "cell_type": "code",
      "source": [
        "!pip install pycalverter\n",
        "from calverter import Calverter\n",
        "!pip install pmdarima"
      ],
      "metadata": {
        "colab": {
          "base_uri": "https://localhost:8080/"
        },
        "id": "ApUVggGndIz7",
        "outputId": "971158a2-9269-423a-92b8-a1534a8e609d"
      },
      "execution_count": null,
      "outputs": [
        {
          "output_type": "stream",
          "name": "stdout",
          "text": [
            "Collecting pycalverter\n",
            "  Downloading pyCalverter-1.6.1.tar.gz (3.5 kB)\n",
            "  Preparing metadata (setup.py) ... \u001b[?25l\u001b[?25hdone\n",
            "Building wheels for collected packages: pycalverter\n",
            "  Building wheel for pycalverter (setup.py) ... \u001b[?25l\u001b[?25hdone\n",
            "  Created wheel for pycalverter: filename=pyCalverter-1.6.1-py3-none-any.whl size=4183 sha256=8bb09005010a99e694d7492701c7225993fd0f2e0f9ade94b2683b7525ab27c3\n",
            "  Stored in directory: /root/.cache/pip/wheels/53/b8/3c/d8109c790d56e3f9d64d27f66e99c0c87763d6034af0a58af8\n",
            "Successfully built pycalverter\n",
            "Installing collected packages: pycalverter\n",
            "Successfully installed pycalverter-1.6.1\n",
            "Collecting pmdarima\n",
            "  Downloading pmdarima-2.0.3-cp310-cp310-manylinux_2_17_x86_64.manylinux2014_x86_64.manylinux_2_28_x86_64.whl (1.8 MB)\n",
            "\u001b[2K     \u001b[90m━━━━━━━━━━━━━━━━━━━━━━━━━━━━━━━━━━━━━━━━\u001b[0m \u001b[32m1.8/1.8 MB\u001b[0m \u001b[31m21.9 MB/s\u001b[0m eta \u001b[36m0:00:00\u001b[0m\n",
            "\u001b[?25hRequirement already satisfied: joblib>=0.11 in /usr/local/lib/python3.10/dist-packages (from pmdarima) (1.3.1)\n",
            "Requirement already satisfied: Cython!=0.29.18,!=0.29.31,>=0.29 in /usr/local/lib/python3.10/dist-packages (from pmdarima) (0.29.36)\n",
            "Requirement already satisfied: numpy>=1.21.2 in /usr/local/lib/python3.10/dist-packages (from pmdarima) (1.22.4)\n",
            "Requirement already satisfied: pandas>=0.19 in /usr/local/lib/python3.10/dist-packages (from pmdarima) (1.5.3)\n",
            "Requirement already satisfied: scikit-learn>=0.22 in /usr/local/lib/python3.10/dist-packages (from pmdarima) (1.2.2)\n",
            "Requirement already satisfied: scipy>=1.3.2 in /usr/local/lib/python3.10/dist-packages (from pmdarima) (1.10.1)\n",
            "Requirement already satisfied: statsmodels>=0.13.2 in /usr/local/lib/python3.10/dist-packages (from pmdarima) (0.13.5)\n",
            "Requirement already satisfied: urllib3 in /usr/local/lib/python3.10/dist-packages (from pmdarima) (1.26.16)\n",
            "Requirement already satisfied: setuptools!=50.0.0,>=38.6.0 in /usr/local/lib/python3.10/dist-packages (from pmdarima) (67.7.2)\n",
            "Requirement already satisfied: python-dateutil>=2.8.1 in /usr/local/lib/python3.10/dist-packages (from pandas>=0.19->pmdarima) (2.8.2)\n",
            "Requirement already satisfied: pytz>=2020.1 in /usr/local/lib/python3.10/dist-packages (from pandas>=0.19->pmdarima) (2022.7.1)\n",
            "Requirement already satisfied: threadpoolctl>=2.0.0 in /usr/local/lib/python3.10/dist-packages (from scikit-learn>=0.22->pmdarima) (3.1.0)\n",
            "Requirement already satisfied: patsy>=0.5.2 in /usr/local/lib/python3.10/dist-packages (from statsmodels>=0.13.2->pmdarima) (0.5.3)\n",
            "Requirement already satisfied: packaging>=21.3 in /usr/local/lib/python3.10/dist-packages (from statsmodels>=0.13.2->pmdarima) (23.1)\n",
            "Requirement already satisfied: six in /usr/local/lib/python3.10/dist-packages (from patsy>=0.5.2->statsmodels>=0.13.2->pmdarima) (1.16.0)\n",
            "Installing collected packages: pmdarima\n",
            "Successfully installed pmdarima-2.0.3\n"
          ]
        }
      ]
    },
    {
      "cell_type": "code",
      "source": [
        "from google.colab import files\n",
        "from google.colab import drive\n",
        "drive.mount('/content/drive')"
      ],
      "metadata": {
        "colab": {
          "base_uri": "https://localhost:8080/"
        },
        "id": "vm8gGcnAT4T4",
        "outputId": "0275f3e9-9b61-4ab3-80b0-4e821d99d16e"
      },
      "execution_count": null,
      "outputs": [
        {
          "output_type": "stream",
          "name": "stdout",
          "text": [
            "Mounted at /content/drive\n"
          ]
        }
      ]
    },
    {
      "cell_type": "code",
      "source": [
        "# import calverter\n",
        "\n",
        "\n",
        "def gregorian_to_jalali(year, month, day):\n",
        "    \"\"\"\n",
        "    Converts a Gregorian date to Jalali.\n",
        "\n",
        "    :param year: the year of the Gregorian date\n",
        "    :param month: the month of the Gregorian date\n",
        "    :param day: the day of the Gregorian date\n",
        "    :return: a tuple (year, month, day) representing the equivalent Jalali date\n",
        "    \"\"\"\n",
        "    converter = Calverter()\n",
        "    julian_date = converter.gregorian_to_jd(year, month, day)\n",
        "    j_tuple = converter.jd_to_jalali(julian_date)\n",
        "    return j_tuple[0], j_tuple[1], j_tuple[2]\n",
        "\n",
        "\n",
        "def jalali_to_gregorian(year, month, day):\n",
        "    \"\"\"\n",
        "    Converts a Jalali date to Gregorian.\n",
        "\n",
        "    :param year: the year of the Jalali date\n",
        "    :param month: the month of the Jalali date\n",
        "    :param day: the day of the Jalali date\n",
        "    :return: a tuple (year, month, day) representing the equivalent Gregorian date\n",
        "    \"\"\"\n",
        "    converter = Calverter()\n",
        "    julian_date = converter.jalali_to_jd(year, month, day)\n",
        "    g_tuple = converter.jd_to_gregorian(julian_date)\n",
        "    return g_tuple[0], g_tuple[1], g_tuple[2]\n",
        "\n",
        "\n",
        "def jalali_to_str(year, month, day, has_time, hour=0, minute=0):\n",
        "    date = '{}/{}/{}'.format(year, month, day)\n",
        "    if has_time:\n",
        "        time = '{:02d}:{:02d}'.format(int(hour), int(minute))\n",
        "        return date+' '+time\n",
        "    return date\n",
        "\n",
        "\n",
        "def str_to_jalali(string, hast_time):\n",
        "    if string is None or string is '':\n",
        "        return ''\n",
        "    if not isinstance(string, str):\n",
        "        string = str(string)\n",
        "    if hast_time:\n",
        "        date, time = string.split(' ')\n",
        "        hour, minute = time.split(':')\n",
        "    else:\n",
        "        date = string\n",
        "        hour, minute = None, None\n",
        "    year, month, day = date.split('/')\n",
        "    if hast_time:\n",
        "        return year, month, day, hour, minute\n",
        "    return year, month, day\n",
        "\n",
        "\n",
        "def gregorian_to_str(year, month, day, hast_time, hour=0, minute=0):\n",
        "    date = '{}-{}-{}'.format(year, month, day)\n",
        "    if hast_time:\n",
        "        time = '{:02d}:{:02d}'.format(int(hour), int(minute))\n",
        "        return date+' '+time\n",
        "    return date\n",
        "\n",
        "\n",
        "def str_to_gregorian(string, hast_time):\n",
        "    if string is None or string is '':\n",
        "        return ''\n",
        "    if not isinstance(string, str):\n",
        "        string = str(string)\n",
        "    if hast_time:\n",
        "        date, time = string.split(' ')\n",
        "        hour, minute = time.split(':')\n",
        "    else:\n",
        "        date = string\n",
        "        hour, minute = None, None\n",
        "    year, month, day = date.split('-')\n",
        "    if hast_time:\n",
        "        return year, month, day, hour, minute\n",
        "    return year, month, day\n"
      ],
      "metadata": {
        "colab": {
          "base_uri": "https://localhost:8080/"
        },
        "id": "7TtFPl4hKKOa",
        "outputId": "2e6162b8-6003-4f51-bf81-dc1892eb47a4"
      },
      "execution_count": null,
      "outputs": [
        {
          "output_type": "stream",
          "name": "stderr",
          "text": [
            "<>:43: SyntaxWarning: \"is\" with a literal. Did you mean \"==\"?\n",
            "<>:68: SyntaxWarning: \"is\" with a literal. Did you mean \"==\"?\n",
            "<>:43: SyntaxWarning: \"is\" with a literal. Did you mean \"==\"?\n",
            "<>:68: SyntaxWarning: \"is\" with a literal. Did you mean \"==\"?\n",
            "<ipython-input-3-e7cdb5bbdae0>:43: SyntaxWarning: \"is\" with a literal. Did you mean \"==\"?\n",
            "  if string is None or string is '':\n",
            "<ipython-input-3-e7cdb5bbdae0>:68: SyntaxWarning: \"is\" with a literal. Did you mean \"==\"?\n",
            "  if string is None or string is '':\n"
          ]
        }
      ]
    },
    {
      "cell_type": "markdown",
      "source": [
        "#ARIMA"
      ],
      "metadata": {
        "id": "m51rlCoCY3Rd"
      }
    },
    {
      "cell_type": "code",
      "execution_count": null,
      "metadata": {
        "id": "EczsKyn03-zT",
        "colab": {
          "base_uri": "https://localhost:8080/",
          "height": 869
        },
        "outputId": "21a3930c-5347-4239-b72f-a71e99d4222d"
      },
      "outputs": [
        {
          "output_type": "stream",
          "name": "stdout",
          "text": [
            "Performing stepwise search to minimize aic\n",
            " ARIMA(2,2,2)(1,0,1)[12]             : AIC=-832.939, Time=0.79 sec\n",
            " ARIMA(0,2,0)(0,0,0)[12]             : AIC=-821.007, Time=0.04 sec\n",
            " ARIMA(1,2,0)(1,0,0)[12]             : AIC=-822.165, Time=0.19 sec\n",
            " ARIMA(0,2,1)(0,0,1)[12]             : AIC=-826.916, Time=0.08 sec\n",
            " ARIMA(2,2,2)(0,0,1)[12]             : AIC=-834.871, Time=0.46 sec\n",
            " ARIMA(2,2,2)(0,0,0)[12]             : AIC=-836.527, Time=0.13 sec\n",
            " ARIMA(2,2,2)(1,0,0)[12]             : AIC=-835.135, Time=0.33 sec\n",
            " ARIMA(1,2,2)(0,0,0)[12]             : AIC=-832.858, Time=0.05 sec\n",
            " ARIMA(2,2,1)(0,0,0)[12]             : AIC=-834.130, Time=0.06 sec\n",
            " ARIMA(3,2,2)(0,0,0)[12]             : AIC=-835.140, Time=0.14 sec\n",
            " ARIMA(2,2,3)(0,0,0)[12]             : AIC=-834.335, Time=0.07 sec\n",
            " ARIMA(1,2,1)(0,0,0)[12]             : AIC=-833.610, Time=0.08 sec\n",
            " ARIMA(1,2,3)(0,0,0)[12]             : AIC=-831.201, Time=0.06 sec\n",
            " ARIMA(3,2,1)(0,0,0)[12]             : AIC=-832.943, Time=0.11 sec\n",
            " ARIMA(3,2,3)(0,0,0)[12]             : AIC=-832.488, Time=0.08 sec\n",
            " ARIMA(2,2,2)(0,0,0)[12] intercept   : AIC=-834.600, Time=0.11 sec\n",
            "\n",
            "Best model:  ARIMA(2,2,2)(0,0,0)[12]          \n",
            "Total fit time: 2.838 seconds\n"
          ]
        },
        {
          "output_type": "display_data",
          "data": {
            "text/plain": [
              "<Figure size 640x480 with 1 Axes>"
            ],
            "image/png": "[encoded data removed]"
          },
          "metadata": {}
        },
        {
          "output_type": "stream",
          "name": "stdout",
          "text": [
            "R-squared (test): 0.11994457639607659\n",
            "MSE (test): 0.20101304937506181\n",
            "MAE (test): 0.33963618652750516\n",
            "MAPE (test): 32.512095334175015\n"
          ]
        }
      ],
      "source": [
        "import pandas as pd\n",
        "import pmdarima as pm\n",
        "import numpy as np\n",
        "from matplotlib import pyplot as plt\n",
        "from datetime import datetime\n",
        "import math\n",
        "from sklearn.metrics import r2_score, mean_squared_error, mean_absolute_error\n",
        "\n",
        "#Represents the economical feature you want to work on it (like b18)\n",
        "eco_var=\"b18\"\n",
        "\n",
        "class Q1:\n",
        "\tdef __init__(self):\n",
        "\t\tself.min_year_train = 1360\n",
        "\t\tself.max_year_train = 1391\n",
        "\t\tself.min_year_test = 1391\n",
        "\t\tself.max_year_test = 1402\n",
        "\t\tself.ouput_label = '{}'.format(eco_var)\n",
        "\n",
        "\tdef main(self):\n",
        "\t\tself.calc_time_series()\n",
        "\n",
        "\tdef calc_time_series(self):\n",
        "\t\tdata_df = self._read_econ_data()\n",
        "\t\ttrain_data_df, test_data_df = self._split_train_test(data_df=data_df)\n",
        "\t\tmodel = self._train(train_data_df)\n",
        "\t\tself._test(model=model, data_df=test_data_df)\n",
        "\n",
        "\tdef _train(self, data_df):\n",
        "\t\tarima = pm.auto_arima(np.array(data_df[self.ouput_label]), error_action='ignore', trace=True,\n",
        "\t\t\t\t\t\t\t  suppress_warnings=True, maxiter=5,\n",
        "\t\t\t\t\t\t\t  seasonal=True, m=12)\n",
        "\t\treturn arima\n",
        "\n",
        "\tdef _test(self, model, data_df):\n",
        "\t\ttest_data = np.array(data_df[self.ouput_label])\n",
        "\t\tx = np.arange(test_data.shape[0])\n",
        "\t\tplt.scatter(x, test_data, marker='x')\n",
        "\t\tplt.plot(x, model.predict(n_periods=test_data.shape[0]))\n",
        "\t\tplt.title(self.ouput_label)\n",
        "\t\tplt.show()\n",
        "\t\t##\n",
        "\t\tresult=pd.DataFrame({\"Real\":test_data.tolist(),\"ARIMA_Result\":model.predict(n_periods=test_data.shape[0]).tolist()})\n",
        "\t\tresult.to_csv('result|{}.csv'.format(eco_var),index=False)\n",
        "\t\tfiles.download('result|{}.csv'.format(eco_var))\n",
        "\n",
        "\t\t# Calculate MSE and MAE on test data\n",
        "\t\ty_test=test_data.tolist()\n",
        "\t\ty_test_pred = model.predict(n_periods=test_data.shape[0]).tolist()\n",
        "\t\tmse = mean_squared_error(y_test, y_test_pred)\n",
        "\t\tmae = mean_absolute_error(y_test, y_test_pred)\n",
        "\t\t# Calculate R-squared for test set\n",
        "\t\tr2test = r2_score(y_test, y_test_pred)\n",
        "\n",
        "\t\t# Calculate MAPE on test data\n",
        "\t\tmape=[]\n",
        "\t\tfor i in range(len(y_test)):\n",
        "\t\t\tmape.append((np.abs((y_test[i] - y_test_pred[i]) / y_test[i])) * 100)\n",
        "\t \tmapes = np.mean(mape)\n",
        "\n",
        "\t\t# Print the evaluation metrics\n",
        "\t\tprint(\"R-squared (test):\", r2test)\n",
        "\t\tprint(\"MSE (test):\", mse)\n",
        "\t\tprint(\"MAE (test):\", mae)\n",
        "\t\tprint(\"MAPE (test):\", np.mean(mape))\n",
        "\n",
        "\t\t##\n",
        "\n",
        "\tdef _split_train_test(self, data_df):\n",
        "\t\ttrain_date = []\n",
        "\t\ttrain_dollar = []\n",
        "\t\ttest_date = []\n",
        "\t\ttest_dollar = []\n",
        "\t\tfor index, row in data_df.iterrows():\n",
        "\t\t\tyear, month, day = self._convert_str_to_date(row['Date'])\n",
        "\t\t\tmiladi_date = self._convert_to_miladi(year=int(year), month=int(month), day=int(day))\n",
        "\t\t\tif self.min_year_train <= int(year) < self.max_year_train:\n",
        "\t\t\t\ttrain_date.append(miladi_date)\n",
        "\t\t\t\ttrain_dollar.append(math.log(row[self.ouput_label]))\n",
        "\t\t\telif self.min_year_test <= int(year) < self.max_year_test:\n",
        "\t\t\t\ttest_date.append(miladi_date)\n",
        "\t\t\t\ttest_dollar.append(math.log(row[self.ouput_label]))\n",
        "\t\tdata_df_train = pd.DataFrame({'Date': train_date, self.ouput_label: train_dollar})\n",
        "\t\tdata_df_test = pd.DataFrame({'Date': test_date, self.ouput_label: test_dollar})\n",
        "\t\treturn data_df_train, data_df_test\n",
        "\n",
        "\tdef _convert_str_to_date(self, date_str):\n",
        "\t\tyear = date_str.split('-')[0]\n",
        "\t\tmonth = date_str.split('-')[1]\n",
        "\t\tday = date_str.split('-')[2]\n",
        "\t\treturn year, month, day\n",
        "\n",
        "\tdef _convert_to_miladi(self, year, month, day):\n",
        "\t\tmiladi_year, miladi_month, miladi_day =jalali_to_gregorian(year=year, month=month, day=day)\n",
        "\t\treturn datetime(year=miladi_year, month=miladi_month, day=miladi_day)\n",
        "\n",
        "\tdef _read_econ_data(self, file_path=\"drive/My Drive/Master Thesis/Time Series Prediction/nbw.csv\"):\n",
        "\t\tdata = pd.read_csv(file_path)\n",
        "\t\treturn data\n",
        "\n",
        "\n",
        "def main():\n",
        "\tq = Q1()\n",
        "\tq.main()\n",
        "\n",
        "main()\n"
      ]
    }
  ]
}