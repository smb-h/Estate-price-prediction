{
 "cells": [
  {
   "cell_type": "code",
   "execution_count": 54,
   "metadata": {},
   "outputs": [],
   "source": [
    "import os\n",
    "import glob\n",
    "import pandas as pd\n",
    "import numpy as np\n",
    "import cv2\n",
    "import locale\n",
    "import tensorflow as tf\n",
    "from tensorflow.keras.models import Sequential\n",
    "from tensorflow.keras.layers import Dense, Dropout, Activation\n",
    "from tensorflow.keras.optimizers import Adam\n",
    "from sklearn.preprocessing import LabelBinarizer, MinMaxScaler\n",
    "from sklearn.model_selection import train_test_split\n",
    "\n",
    "import plotly.express as px\n",
    "import plotly.graph_objects as go"
   ]
  },
  {
   "cell_type": "code",
   "execution_count": 55,
   "metadata": {},
   "outputs": [],
   "source": [
    "dataset_path = \"../data/raw/houses-dataset/houses_dataset/\""
   ]
  },
  {
   "cell_type": "code",
   "execution_count": 56,
   "metadata": {},
   "outputs": [
    {
     "data": {
      "text/html": [
       "<div>\n",
       "<style scoped>\n",
       "    .dataframe tbody tr th:only-of-type {\n",
       "        vertical-align: middle;\n",
       "    }\n",
       "\n",
       "    .dataframe tbody tr th {\n",
       "        vertical-align: top;\n",
       "    }\n",
       "\n",
       "    .dataframe thead th {\n",
       "        text-align: right;\n",
       "    }\n",
       "</style>\n",
       "<table border=\"1\" class=\"dataframe\">\n",
       "  <thead>\n",
       "    <tr style=\"text-align: right;\">\n",
       "      <th></th>\n",
       "      <th>bedrooms</th>\n",
       "      <th>bathrooms</th>\n",
       "      <th>area</th>\n",
       "      <th>zipcode</th>\n",
       "      <th>price</th>\n",
       "    </tr>\n",
       "  </thead>\n",
       "  <tbody>\n",
       "    <tr>\n",
       "      <th>0</th>\n",
       "      <td>4</td>\n",
       "      <td>4.0</td>\n",
       "      <td>4053</td>\n",
       "      <td>85255</td>\n",
       "      <td>869500</td>\n",
       "    </tr>\n",
       "    <tr>\n",
       "      <th>1</th>\n",
       "      <td>4</td>\n",
       "      <td>3.0</td>\n",
       "      <td>3343</td>\n",
       "      <td>36372</td>\n",
       "      <td>865200</td>\n",
       "    </tr>\n",
       "    <tr>\n",
       "      <th>2</th>\n",
       "      <td>3</td>\n",
       "      <td>4.0</td>\n",
       "      <td>3923</td>\n",
       "      <td>85266</td>\n",
       "      <td>889000</td>\n",
       "    </tr>\n",
       "    <tr>\n",
       "      <th>3</th>\n",
       "      <td>5</td>\n",
       "      <td>5.0</td>\n",
       "      <td>4022</td>\n",
       "      <td>85262</td>\n",
       "      <td>910000</td>\n",
       "    </tr>\n",
       "    <tr>\n",
       "      <th>4</th>\n",
       "      <td>3</td>\n",
       "      <td>4.0</td>\n",
       "      <td>4116</td>\n",
       "      <td>85266</td>\n",
       "      <td>971226</td>\n",
       "    </tr>\n",
       "  </tbody>\n",
       "</table>\n",
       "</div>"
      ],
      "text/plain": [
       "   bedrooms  bathrooms  area  zipcode   price\n",
       "0         4        4.0  4053    85255  869500\n",
       "1         4        3.0  3343    36372  865200\n",
       "2         3        4.0  3923    85266  889000\n",
       "3         5        5.0  4022    85262  910000\n",
       "4         3        4.0  4116    85266  971226"
      ]
     },
     "execution_count": 56,
     "metadata": {},
     "output_type": "execute_result"
    }
   ],
   "source": [
    "cols = [\n",
    "    \"bedrooms\",\n",
    "    \"bathrooms\",\n",
    "    \"area\",\n",
    "    \"zipcode\",\n",
    "    \"price\"\n",
    "]\n",
    "df = pd.read_csv(dataset_path + \"HousesInfo.txt\", sep=\" \", header=None, names=cols)\n",
    "df.head()"
   ]
  },
  {
   "cell_type": "code",
   "execution_count": 57,
   "metadata": {},
   "outputs": [],
   "source": [
    "# zipcode to categorical\n",
    "df[\"zipcode\"] = df[\"zipcode\"].astype(\"str\")"
   ]
  },
  {
   "cell_type": "code",
   "execution_count": 58,
   "metadata": {},
   "outputs": [
    {
     "data": {
      "text/plain": [
       "(535, 5)"
      ]
     },
     "execution_count": 58,
     "metadata": {},
     "output_type": "execute_result"
    }
   ],
   "source": [
    "zipcodes, count = np.unique(\n",
    "    df[\"zipcode\"],\n",
    "    return_counts=True\n",
    ")\n",
    "# dict(zip(zipcodes, count))\n",
    "df.shape"
   ]
  },
  {
   "cell_type": "code",
   "execution_count": 59,
   "metadata": {},
   "outputs": [
    {
     "data": {
      "application/vnd.plotly.v1+json": {
       "config": {
        "plotlyServerURL": "https://plot.ly"
       },
       "data": [
        {
         "alignmentgroup": "True",
         "bingroup": "x",
         "hovertemplate": "zipcode=%{x}<br>count=%{y}<extra></extra>",
         "legendgroup": "",
         "marker": {
          "color": "#636efa",
          "pattern": {
           "shape": ""
          }
         },
         "name": "",
         "nbinsx": 70,
         "offsetgroup": "",
         "orientation": "v",
         "showlegend": false,
         "type": "histogram",
         "x": [
          "85255",
          "36372",
          "85266",
          "85262",
          "85266",
          "85266",
          "85262",
          "85266",
          "85255",
          "85262",
          "85266",
          "85255",
          "85266",
          "85266",
          "85266",
          "85255",
          "85331",
          "85255",
          "85255",
          "85266",
          "85255",
          "85262",
          "85255",
          "85377",
          "85262",
          "85262",
          "85262",
          "85266",
          "85377",
          "85266",
          "93446",
          "85255",
          "93446",
          "85262",
          "85377",
          "85255",
          "85262",
          "85255",
          "85255",
          "93446",
          "98021",
          "98021",
          "98021",
          "98021",
          "81524",
          "81524",
          "81524",
          "81524",
          "81418",
          "81418",
          "81521",
          "81524",
          "81524",
          "81524",
          "81524",
          "81524",
          "81524",
          "81524",
          "62214",
          "62234",
          "62034",
          "62025",
          "62025",
          "62088",
          "62234",
          "62234",
          "62234",
          "62234",
          "62234",
          "62249",
          "62234",
          "62214",
          "62214",
          "60002",
          "60002",
          "62214",
          "60002",
          "60046",
          "60016",
          "60016",
          "91901",
          "91901",
          "91901",
          "91901",
          "91901",
          "91901",
          "91901",
          "91901",
          "91901",
          "91901",
          "91901",
          "91901",
          "91901",
          "91901",
          "91901",
          "91901",
          "91901",
          "91901",
          "93446",
          "91901",
          "91901",
          "91901",
          "91901",
          "91901",
          "91901",
          "91901",
          "93446",
          "91901",
          "91901",
          "91901",
          "91901",
          "91901",
          "91901",
          "91901",
          "92021",
          "92021",
          "92021",
          "92021",
          "92021",
          "92021",
          "92021",
          "92021",
          "92021",
          "92021",
          "92021",
          "92677",
          "92677",
          "92677",
          "92677",
          "92677",
          "92677",
          "92677",
          "92677",
          "92677",
          "92677",
          "92677",
          "92677",
          "92677",
          "92677",
          "92677",
          "92677",
          "92677",
          "92677",
          "92677",
          "92677",
          "92677",
          "92677",
          "92677",
          "92677",
          "92677",
          "92677",
          "96019",
          "96019",
          "96019",
          "96019",
          "96019",
          "96019",
          "96019",
          "96019",
          "96019",
          "96019",
          "96019",
          "96019",
          "95220",
          "95220",
          "95220",
          "95220",
          "95220",
          "95220",
          "95220",
          "95220",
          "95220",
          "95220",
          "94501",
          "94501",
          "94501",
          "94501",
          "94501",
          "94501",
          "94501",
          "94501",
          "94501",
          "94501",
          "94501",
          "94501",
          "94501",
          "94501",
          "94501",
          "94501",
          "94501",
          "94501",
          "94501",
          "94501",
          "94501",
          "94501",
          "94501",
          "94501",
          "94501",
          "94501",
          "94501",
          "94501",
          "93446",
          "94501",
          "94501",
          "94501",
          "94501",
          "94501",
          "94501",
          "94501",
          "94501",
          "94501",
          "94501",
          "94501",
          "94501",
          "94501",
          "93111",
          "93111",
          "93111",
          "93111",
          "93111",
          "93111",
          "93105",
          "93111",
          "93111",
          "93111",
          "93111",
          "93111",
          "92880",
          "92880",
          "92880",
          "92880",
          "92880",
          "92880",
          "92880",
          "92880",
          "91752",
          "92880",
          "92880",
          "92880",
          "92880",
          "92880",
          "92880",
          "92880",
          "92880",
          "92880",
          "92880",
          "92880",
          "92880",
          "92880",
          "92880",
          "92880",
          "92880",
          "92543",
          "92253",
          "94568",
          "90211",
          "92040",
          "93720",
          "92880",
          "92692",
          "93924",
          "90265",
          "92692",
          "92253",
          "93314",
          "92880",
          "90038",
          "92880",
          "90803",
          "92880",
          "95008",
          "94565",
          "92880",
          "91915",
          "92880",
          "92880",
          "91752",
          "92880",
          "92880",
          "92880",
          "92880",
          "92880",
          "91752",
          "92880",
          "92880",
          "92276",
          "92276",
          "92276",
          "92276",
          "92276",
          "92276",
          "92276",
          "92276",
          "92276",
          "92276",
          "92880",
          "92880",
          "92880",
          "92880",
          "92880",
          "92880",
          "92880",
          "92880",
          "92880",
          "92880",
          "92880",
          "93510",
          "93510",
          "93510",
          "93510",
          "93510",
          "93510",
          "93510",
          "93510",
          "93510",
          "93510",
          "93510",
          "93510",
          "93510",
          "93510",
          "93510",
          "93510",
          "93510",
          "93510",
          "93510",
          "93510",
          "93510",
          "93510",
          "93510",
          "93510",
          "92276",
          "92276",
          "92276",
          "92276",
          "92276",
          "92276",
          "92276",
          "92276",
          "92276",
          "92276",
          "92276",
          "92276",
          "92276",
          "92276",
          "92276",
          "92276",
          "92276",
          "92276",
          "92276",
          "92276",
          "92276",
          "92276",
          "92276",
          "92276",
          "92276",
          "92276",
          "92276",
          "92276",
          "92276",
          "92276",
          "92276",
          "92276",
          "92276",
          "92276",
          "92276",
          "92276",
          "92276",
          "92276",
          "92276",
          "92276",
          "92276",
          "92276",
          "92276",
          "92276",
          "92276",
          "92276",
          "92276",
          "92276",
          "92276",
          "92276",
          "92276",
          "92276",
          "92276",
          "92276",
          "92276",
          "92276",
          "92276",
          "92276",
          "92276",
          "92276",
          "92276",
          "92276",
          "92276",
          "92276",
          "92276",
          "93446",
          "92276",
          "92276",
          "92276",
          "92276",
          "92276",
          "92276",
          "92276",
          "92276",
          "92276",
          "92276",
          "92276",
          "92276",
          "92276",
          "92276",
          "92276",
          "92276",
          "92276",
          "92276",
          "92276",
          "92276",
          "92276",
          "92276",
          "92276",
          "92276",
          "92276",
          "93510",
          "93510",
          "93510",
          "93510",
          "93510",
          "93510",
          "93510",
          "93510",
          "93510",
          "93510",
          "93510",
          "93510",
          "93510",
          "93510",
          "93510",
          "93510",
          "93510",
          "93510",
          "93510",
          "93510",
          "93510",
          "93510",
          "93510",
          "93510",
          "93510",
          "93510",
          "93510",
          "93510",
          "93510",
          "93510",
          "93510",
          "93510",
          "93510",
          "93510",
          "93510",
          "93510",
          "93446",
          "93446",
          "93446",
          "93446",
          "93446",
          "93446",
          "93446",
          "93446",
          "93446",
          "93446",
          "93446",
          "93446",
          "93446",
          "93446",
          "93446",
          "93446",
          "93446",
          "93446",
          "93446",
          "93446",
          "93446",
          "93446",
          "93446",
          "93446",
          "93446",
          "93446",
          "93446",
          "93446",
          "93446",
          "93446",
          "93446",
          "93446",
          "93446",
          "93446",
          "93446",
          "93446",
          "93446",
          "93446",
          "93446",
          "93446",
          "93446",
          "93446",
          "93446",
          "93446",
          "93446",
          "93446",
          "93446",
          "92802",
          "92802",
          "92802",
          "92802",
          "92802",
          "92802",
          "92802",
          "92802",
          "92802",
          "94531",
          "94531",
          "94531",
          "94531",
          "94531",
          "94531",
          "94531",
          "94531",
          "94531",
          "94531",
          "94531",
          "94531",
          "94531",
          "94531",
          "94531",
          "94531",
          "94531",
          "94531",
          "94531",
          "94531",
          "94531",
          "94531"
         ],
         "xaxis": "x",
         "yaxis": "y"
        }
       ],
       "layout": {
        "barmode": "relative",
        "legend": {
         "tracegroupgap": 0
        },
        "template": {
         "data": {
          "bar": [
           {
            "error_x": {
             "color": "#2a3f5f"
            },
            "error_y": {
             "color": "#2a3f5f"
            },
            "marker": {
             "line": {
              "color": "#E5ECF6",
              "width": 0.5
             },
             "pattern": {
              "fillmode": "overlay",
              "size": 10,
              "solidity": 0.2
             }
            },
            "type": "bar"
           }
          ],
          "barpolar": [
           {
            "marker": {
             "line": {
              "color": "#E5ECF6",
              "width": 0.5
             },
             "pattern": {
              "fillmode": "overlay",
              "size": 10,
              "solidity": 0.2
             }
            },
            "type": "barpolar"
           }
          ],
          "carpet": [
           {
            "aaxis": {
             "endlinecolor": "#2a3f5f",
             "gridcolor": "white",
             "linecolor": "white",
             "minorgridcolor": "white",
             "startlinecolor": "#2a3f5f"
            },
            "baxis": {
             "endlinecolor": "#2a3f5f",
             "gridcolor": "white",
             "linecolor": "white",
             "minorgridcolor": "white",
             "startlinecolor": "#2a3f5f"
            },
            "type": "carpet"
           }
          ],
          "choropleth": [
           {
            "colorbar": {
             "outlinewidth": 0,
             "ticks": ""
            },
            "type": "choropleth"
           }
          ],
          "contour": [
           {
            "colorbar": {
             "outlinewidth": 0,
             "ticks": ""
            },
            "colorscale": [
             [
              0,
              "#0d0887"
             ],
             [
              0.1111111111111111,
              "#46039f"
             ],
             [
              0.2222222222222222,
              "#7201a8"
             ],
             [
              0.3333333333333333,
              "#9c179e"
             ],
             [
              0.4444444444444444,
              "#bd3786"
             ],
             [
              0.5555555555555556,
              "#d8576b"
             ],
             [
              0.6666666666666666,
              "#ed7953"
             ],
             [
              0.7777777777777778,
              "#fb9f3a"
             ],
             [
              0.8888888888888888,
              "#fdca26"
             ],
             [
              1,
              "#f0f921"
             ]
            ],
            "type": "contour"
           }
          ],
          "contourcarpet": [
           {
            "colorbar": {
             "outlinewidth": 0,
             "ticks": ""
            },
            "type": "contourcarpet"
           }
          ],
          "heatmap": [
           {
            "colorbar": {
             "outlinewidth": 0,
             "ticks": ""
            },
            "colorscale": [
             [
              0,
              "#0d0887"
             ],
             [
              0.1111111111111111,
              "#46039f"
             ],
             [
              0.2222222222222222,
              "#7201a8"
             ],
             [
              0.3333333333333333,
              "#9c179e"
             ],
             [
              0.4444444444444444,
              "#bd3786"
             ],
             [
              0.5555555555555556,
              "#d8576b"
             ],
             [
              0.6666666666666666,
              "#ed7953"
             ],
             [
              0.7777777777777778,
              "#fb9f3a"
             ],
             [
              0.8888888888888888,
              "#fdca26"
             ],
             [
              1,
              "#f0f921"
             ]
            ],
            "type": "heatmap"
           }
          ],
          "heatmapgl": [
           {
            "colorbar": {
             "outlinewidth": 0,
             "ticks": ""
            },
            "colorscale": [
             [
              0,
              "#0d0887"
             ],
             [
              0.1111111111111111,
              "#46039f"
             ],
             [
              0.2222222222222222,
              "#7201a8"
             ],
             [
              0.3333333333333333,
              "#9c179e"
             ],
             [
              0.4444444444444444,
              "#bd3786"
             ],
             [
              0.5555555555555556,
              "#d8576b"
             ],
             [
              0.6666666666666666,
              "#ed7953"
             ],
             [
              0.7777777777777778,
              "#fb9f3a"
             ],
             [
              0.8888888888888888,
              "#fdca26"
             ],
             [
              1,
              "#f0f921"
             ]
            ],
            "type": "heatmapgl"
           }
          ],
          "histogram": [
           {
            "marker": {
             "pattern": {
              "fillmode": "overlay",
              "size": 10,
              "solidity": 0.2
             }
            },
            "type": "histogram"
           }
          ],
          "histogram2d": [
           {
            "colorbar": {
             "outlinewidth": 0,
             "ticks": ""
            },
            "colorscale": [
             [
              0,
              "#0d0887"
             ],
             [
              0.1111111111111111,
              "#46039f"
             ],
             [
              0.2222222222222222,
              "#7201a8"
             ],
             [
              0.3333333333333333,
              "#9c179e"
             ],
             [
              0.4444444444444444,
              "#bd3786"
             ],
             [
              0.5555555555555556,
              "#d8576b"
             ],
             [
              0.6666666666666666,
              "#ed7953"
             ],
             [
              0.7777777777777778,
              "#fb9f3a"
             ],
             [
              0.8888888888888888,
              "#fdca26"
             ],
             [
              1,
              "#f0f921"
             ]
            ],
            "type": "histogram2d"
           }
          ],
          "histogram2dcontour": [
           {
            "colorbar": {
             "outlinewidth": 0,
             "ticks": ""
            },
            "colorscale": [
             [
              0,
              "#0d0887"
             ],
             [
              0.1111111111111111,
              "#46039f"
             ],
             [
              0.2222222222222222,
              "#7201a8"
             ],
             [
              0.3333333333333333,
              "#9c179e"
             ],
             [
              0.4444444444444444,
              "#bd3786"
             ],
             [
              0.5555555555555556,
              "#d8576b"
             ],
             [
              0.6666666666666666,
              "#ed7953"
             ],
             [
              0.7777777777777778,
              "#fb9f3a"
             ],
             [
              0.8888888888888888,
              "#fdca26"
             ],
             [
              1,
              "#f0f921"
             ]
            ],
            "type": "histogram2dcontour"
           }
          ],
          "mesh3d": [
           {
            "colorbar": {
             "outlinewidth": 0,
             "ticks": ""
            },
            "type": "mesh3d"
           }
          ],
          "parcoords": [
           {
            "line": {
             "colorbar": {
              "outlinewidth": 0,
              "ticks": ""
             }
            },
            "type": "parcoords"
           }
          ],
          "pie": [
           {
            "automargin": true,
            "type": "pie"
           }
          ],
          "scatter": [
           {
            "fillpattern": {
             "fillmode": "overlay",
             "size": 10,
             "solidity": 0.2
            },
            "type": "scatter"
           }
          ],
          "scatter3d": [
           {
            "line": {
             "colorbar": {
              "outlinewidth": 0,
              "ticks": ""
             }
            },
            "marker": {
             "colorbar": {
              "outlinewidth": 0,
              "ticks": ""
             }
            },
            "type": "scatter3d"
           }
          ],
          "scattercarpet": [
           {
            "marker": {
             "colorbar": {
              "outlinewidth": 0,
              "ticks": ""
             }
            },
            "type": "scattercarpet"
           }
          ],
          "scattergeo": [
           {
            "marker": {
             "colorbar": {
              "outlinewidth": 0,
              "ticks": ""
             }
            },
            "type": "scattergeo"
           }
          ],
          "scattergl": [
           {
            "marker": {
             "colorbar": {
              "outlinewidth": 0,
              "ticks": ""
             }
            },
            "type": "scattergl"
           }
          ],
          "scattermapbox": [
           {
            "marker": {
             "colorbar": {
              "outlinewidth": 0,
              "ticks": ""
             }
            },
            "type": "scattermapbox"
           }
          ],
          "scatterpolar": [
           {
            "marker": {
             "colorbar": {
              "outlinewidth": 0,
              "ticks": ""
             }
            },
            "type": "scatterpolar"
           }
          ],
          "scatterpolargl": [
           {
            "marker": {
             "colorbar": {
              "outlinewidth": 0,
              "ticks": ""
             }
            },
            "type": "scatterpolargl"
           }
          ],
          "scatterternary": [
           {
            "marker": {
             "colorbar": {
              "outlinewidth": 0,
              "ticks": ""
             }
            },
            "type": "scatterternary"
           }
          ],
          "surface": [
           {
            "colorbar": {
             "outlinewidth": 0,
             "ticks": ""
            },
            "colorscale": [
             [
              0,
              "#0d0887"
             ],
             [
              0.1111111111111111,
              "#46039f"
             ],
             [
              0.2222222222222222,
              "#7201a8"
             ],
             [
              0.3333333333333333,
              "#9c179e"
             ],
             [
              0.4444444444444444,
              "#bd3786"
             ],
             [
              0.5555555555555556,
              "#d8576b"
             ],
             [
              0.6666666666666666,
              "#ed7953"
             ],
             [
              0.7777777777777778,
              "#fb9f3a"
             ],
             [
              0.8888888888888888,
              "#fdca26"
             ],
             [
              1,
              "#f0f921"
             ]
            ],
            "type": "surface"
           }
          ],
          "table": [
           {
            "cells": {
             "fill": {
              "color": "#EBF0F8"
             },
             "line": {
              "color": "white"
             }
            },
            "header": {
             "fill": {
              "color": "#C8D4E3"
             },
             "line": {
              "color": "white"
             }
            },
            "type": "table"
           }
          ]
         },
         "layout": {
          "annotationdefaults": {
           "arrowcolor": "#2a3f5f",
           "arrowhead": 0,
           "arrowwidth": 1
          },
          "autotypenumbers": "strict",
          "coloraxis": {
           "colorbar": {
            "outlinewidth": 0,
            "ticks": ""
           }
          },
          "colorscale": {
           "diverging": [
            [
             0,
             "#8e0152"
            ],
            [
             0.1,
             "#c51b7d"
            ],
            [
             0.2,
             "#de77ae"
            ],
            [
             0.3,
             "#f1b6da"
            ],
            [
             0.4,
             "#fde0ef"
            ],
            [
             0.5,
             "#f7f7f7"
            ],
            [
             0.6,
             "#e6f5d0"
            ],
            [
             0.7,
             "#b8e186"
            ],
            [
             0.8,
             "#7fbc41"
            ],
            [
             0.9,
             "#4d9221"
            ],
            [
             1,
             "#276419"
            ]
           ],
           "sequential": [
            [
             0,
             "#0d0887"
            ],
            [
             0.1111111111111111,
             "#46039f"
            ],
            [
             0.2222222222222222,
             "#7201a8"
            ],
            [
             0.3333333333333333,
             "#9c179e"
            ],
            [
             0.4444444444444444,
             "#bd3786"
            ],
            [
             0.5555555555555556,
             "#d8576b"
            ],
            [
             0.6666666666666666,
             "#ed7953"
            ],
            [
             0.7777777777777778,
             "#fb9f3a"
            ],
            [
             0.8888888888888888,
             "#fdca26"
            ],
            [
             1,
             "#f0f921"
            ]
           ],
           "sequentialminus": [
            [
             0,
             "#0d0887"
            ],
            [
             0.1111111111111111,
             "#46039f"
            ],
            [
             0.2222222222222222,
             "#7201a8"
            ],
            [
             0.3333333333333333,
             "#9c179e"
            ],
            [
             0.4444444444444444,
             "#bd3786"
            ],
            [
             0.5555555555555556,
             "#d8576b"
            ],
            [
             0.6666666666666666,
             "#ed7953"
            ],
            [
             0.7777777777777778,
             "#fb9f3a"
            ],
            [
             0.8888888888888888,
             "#fdca26"
            ],
            [
             1,
             "#f0f921"
            ]
           ]
          },
          "colorway": [
           "#636efa",
           "#EF553B",
           "#00cc96",
           "#ab63fa",
           "#FFA15A",
           "#19d3f3",
           "#FF6692",
           "#B6E880",
           "#FF97FF",
           "#FECB52"
          ],
          "font": {
           "color": "#2a3f5f"
          },
          "geo": {
           "bgcolor": "white",
           "lakecolor": "white",
           "landcolor": "#E5ECF6",
           "showlakes": true,
           "showland": true,
           "subunitcolor": "white"
          },
          "hoverlabel": {
           "align": "left"
          },
          "hovermode": "closest",
          "mapbox": {
           "style": "light"
          },
          "paper_bgcolor": "white",
          "plot_bgcolor": "#E5ECF6",
          "polar": {
           "angularaxis": {
            "gridcolor": "white",
            "linecolor": "white",
            "ticks": ""
           },
           "bgcolor": "#E5ECF6",
           "radialaxis": {
            "gridcolor": "white",
            "linecolor": "white",
            "ticks": ""
           }
          },
          "scene": {
           "xaxis": {
            "backgroundcolor": "#E5ECF6",
            "gridcolor": "white",
            "gridwidth": 2,
            "linecolor": "white",
            "showbackground": true,
            "ticks": "",
            "zerolinecolor": "white"
           },
           "yaxis": {
            "backgroundcolor": "#E5ECF6",
            "gridcolor": "white",
            "gridwidth": 2,
            "linecolor": "white",
            "showbackground": true,
            "ticks": "",
            "zerolinecolor": "white"
           },
           "zaxis": {
            "backgroundcolor": "#E5ECF6",
            "gridcolor": "white",
            "gridwidth": 2,
            "linecolor": "white",
            "showbackground": true,
            "ticks": "",
            "zerolinecolor": "white"
           }
          },
          "shapedefaults": {
           "line": {
            "color": "#2a3f5f"
           }
          },
          "ternary": {
           "aaxis": {
            "gridcolor": "white",
            "linecolor": "white",
            "ticks": ""
           },
           "baxis": {
            "gridcolor": "white",
            "linecolor": "white",
            "ticks": ""
           },
           "bgcolor": "#E5ECF6",
           "caxis": {
            "gridcolor": "white",
            "linecolor": "white",
            "ticks": ""
           }
          },
          "title": {
           "x": 0.05
          },
          "xaxis": {
           "automargin": true,
           "gridcolor": "white",
           "linecolor": "white",
           "ticks": "",
           "title": {
            "standoff": 15
           },
           "zerolinecolor": "white",
           "zerolinewidth": 2
          },
          "yaxis": {
           "automargin": true,
           "gridcolor": "white",
           "linecolor": "white",
           "ticks": "",
           "title": {
            "standoff": 15
           },
           "zerolinecolor": "white",
           "zerolinewidth": 2
          }
         }
        },
        "title": {
         "text": "Histogram of Zip Codes"
        },
        "xaxis": {
         "anchor": "y",
         "domain": [
          0,
          1
         ],
         "title": {
          "text": "zipcode"
         }
        },
        "yaxis": {
         "anchor": "x",
         "domain": [
          0,
          1
         ],
         "title": {
          "text": "count"
         }
        }
       }
      }
     },
     "metadata": {},
     "output_type": "display_data"
    }
   ],
   "source": [
    "# plot histogram of zip codes\n",
    "fig = px.histogram(\n",
    "    df,\n",
    "    x=\"zipcode\",\n",
    "    nbins=70,\n",
    "    title=\"Histogram of Zip Codes\"\n",
    ")\n",
    "fig.show()"
   ]
  },
  {
   "cell_type": "code",
   "execution_count": 60,
   "metadata": {},
   "outputs": [
    {
     "data": {
      "text/plain": [
       "(362, 5)"
      ]
     },
     "execution_count": 60,
     "metadata": {},
     "output_type": "execute_result"
    }
   ],
   "source": [
    "# delete zip codes with less than 25 houses\n",
    "for (zipcode, count) in zip(zipcodes, count):\n",
    "    if count < 25:\n",
    "        idxs = df[df[\"zipcode\"] == zipcode].index\n",
    "        df.drop(idxs, inplace=True)\n",
    "df.shape"
   ]
  },
  {
   "cell_type": "code",
   "execution_count": 61,
   "metadata": {},
   "outputs": [
    {
     "data": {
      "application/vnd.plotly.v1+json": {
       "config": {
        "plotlyServerURL": "https://plot.ly"
       },
       "data": [
        {
         "alignmentgroup": "True",
         "bingroup": "x",
         "hovertemplate": "zipcode=%{x}<br>count=%{y}<extra></extra>",
         "legendgroup": "",
         "marker": {
          "color": "#636efa",
          "pattern": {
           "shape": ""
          }
         },
         "name": "",
         "nbinsx": 70,
         "offsetgroup": "",
         "orientation": "v",
         "showlegend": false,
         "type": "histogram",
         "x": [
          "93446",
          "93446",
          "93446",
          "91901",
          "91901",
          "91901",
          "91901",
          "91901",
          "91901",
          "91901",
          "91901",
          "91901",
          "91901",
          "91901",
          "91901",
          "91901",
          "91901",
          "91901",
          "91901",
          "91901",
          "91901",
          "93446",
          "91901",
          "91901",
          "91901",
          "91901",
          "91901",
          "91901",
          "91901",
          "93446",
          "91901",
          "91901",
          "91901",
          "91901",
          "91901",
          "91901",
          "91901",
          "92677",
          "92677",
          "92677",
          "92677",
          "92677",
          "92677",
          "92677",
          "92677",
          "92677",
          "92677",
          "92677",
          "92677",
          "92677",
          "92677",
          "92677",
          "92677",
          "92677",
          "92677",
          "92677",
          "92677",
          "92677",
          "92677",
          "92677",
          "92677",
          "92677",
          "92677",
          "94501",
          "94501",
          "94501",
          "94501",
          "94501",
          "94501",
          "94501",
          "94501",
          "94501",
          "94501",
          "94501",
          "94501",
          "94501",
          "94501",
          "94501",
          "94501",
          "94501",
          "94501",
          "94501",
          "94501",
          "94501",
          "94501",
          "94501",
          "94501",
          "94501",
          "94501",
          "94501",
          "94501",
          "93446",
          "94501",
          "94501",
          "94501",
          "94501",
          "94501",
          "94501",
          "94501",
          "94501",
          "94501",
          "94501",
          "94501",
          "94501",
          "94501",
          "92880",
          "92880",
          "92880",
          "92880",
          "92880",
          "92880",
          "92880",
          "92880",
          "92880",
          "92880",
          "92880",
          "92880",
          "92880",
          "92880",
          "92880",
          "92880",
          "92880",
          "92880",
          "92880",
          "92880",
          "92880",
          "92880",
          "92880",
          "92880",
          "92880",
          "92880",
          "92880",
          "92880",
          "92880",
          "92880",
          "92880",
          "92880",
          "92880",
          "92880",
          "92880",
          "92880",
          "92880",
          "92880",
          "92276",
          "92276",
          "92276",
          "92276",
          "92276",
          "92276",
          "92276",
          "92276",
          "92276",
          "92276",
          "92880",
          "92880",
          "92880",
          "92880",
          "92880",
          "92880",
          "92880",
          "92880",
          "92880",
          "92880",
          "92880",
          "93510",
          "93510",
          "93510",
          "93510",
          "93510",
          "93510",
          "93510",
          "93510",
          "93510",
          "93510",
          "93510",
          "93510",
          "93510",
          "93510",
          "93510",
          "93510",
          "93510",
          "93510",
          "93510",
          "93510",
          "93510",
          "93510",
          "93510",
          "93510",
          "92276",
          "92276",
          "92276",
          "92276",
          "92276",
          "92276",
          "92276",
          "92276",
          "92276",
          "92276",
          "92276",
          "92276",
          "92276",
          "92276",
          "92276",
          "92276",
          "92276",
          "92276",
          "92276",
          "92276",
          "92276",
          "92276",
          "92276",
          "92276",
          "92276",
          "92276",
          "92276",
          "92276",
          "92276",
          "92276",
          "92276",
          "92276",
          "92276",
          "92276",
          "92276",
          "92276",
          "92276",
          "92276",
          "92276",
          "92276",
          "92276",
          "92276",
          "92276",
          "92276",
          "92276",
          "92276",
          "92276",
          "92276",
          "92276",
          "92276",
          "92276",
          "92276",
          "92276",
          "92276",
          "92276",
          "92276",
          "92276",
          "92276",
          "92276",
          "92276",
          "92276",
          "92276",
          "92276",
          "92276",
          "92276",
          "93446",
          "92276",
          "92276",
          "92276",
          "92276",
          "92276",
          "92276",
          "92276",
          "92276",
          "92276",
          "92276",
          "92276",
          "92276",
          "92276",
          "92276",
          "92276",
          "92276",
          "92276",
          "92276",
          "92276",
          "92276",
          "92276",
          "92276",
          "92276",
          "92276",
          "92276",
          "93510",
          "93510",
          "93510",
          "93510",
          "93510",
          "93510",
          "93510",
          "93510",
          "93510",
          "93510",
          "93510",
          "93510",
          "93510",
          "93510",
          "93510",
          "93510",
          "93510",
          "93510",
          "93510",
          "93510",
          "93510",
          "93510",
          "93510",
          "93510",
          "93510",
          "93510",
          "93510",
          "93510",
          "93510",
          "93510",
          "93510",
          "93510",
          "93510",
          "93510",
          "93510",
          "93510",
          "93446",
          "93446",
          "93446",
          "93446",
          "93446",
          "93446",
          "93446",
          "93446",
          "93446",
          "93446",
          "93446",
          "93446",
          "93446",
          "93446",
          "93446",
          "93446",
          "93446",
          "93446",
          "93446",
          "93446",
          "93446",
          "93446",
          "93446",
          "93446",
          "93446",
          "93446",
          "93446",
          "93446",
          "93446",
          "93446",
          "93446",
          "93446",
          "93446",
          "93446",
          "93446",
          "93446",
          "93446",
          "93446",
          "93446",
          "93446",
          "93446",
          "93446",
          "93446",
          "93446",
          "93446",
          "93446",
          "93446"
         ],
         "xaxis": "x",
         "yaxis": "y"
        }
       ],
       "layout": {
        "barmode": "relative",
        "legend": {
         "tracegroupgap": 0
        },
        "template": {
         "data": {
          "bar": [
           {
            "error_x": {
             "color": "#2a3f5f"
            },
            "error_y": {
             "color": "#2a3f5f"
            },
            "marker": {
             "line": {
              "color": "#E5ECF6",
              "width": 0.5
             },
             "pattern": {
              "fillmode": "overlay",
              "size": 10,
              "solidity": 0.2
             }
            },
            "type": "bar"
           }
          ],
          "barpolar": [
           {
            "marker": {
             "line": {
              "color": "#E5ECF6",
              "width": 0.5
             },
             "pattern": {
              "fillmode": "overlay",
              "size": 10,
              "solidity": 0.2
             }
            },
            "type": "barpolar"
           }
          ],
          "carpet": [
           {
            "aaxis": {
             "endlinecolor": "#2a3f5f",
             "gridcolor": "white",
             "linecolor": "white",
             "minorgridcolor": "white",
             "startlinecolor": "#2a3f5f"
            },
            "baxis": {
             "endlinecolor": "#2a3f5f",
             "gridcolor": "white",
             "linecolor": "white",
             "minorgridcolor": "white",
             "startlinecolor": "#2a3f5f"
            },
            "type": "carpet"
           }
          ],
          "choropleth": [
           {
            "colorbar": {
             "outlinewidth": 0,
             "ticks": ""
            },
            "type": "choropleth"
           }
          ],
          "contour": [
           {
            "colorbar": {
             "outlinewidth": 0,
             "ticks": ""
            },
            "colorscale": [
             [
              0,
              "#0d0887"
             ],
             [
              0.1111111111111111,
              "#46039f"
             ],
             [
              0.2222222222222222,
              "#7201a8"
             ],
             [
              0.3333333333333333,
              "#9c179e"
             ],
             [
              0.4444444444444444,
              "#bd3786"
             ],
             [
              0.5555555555555556,
              "#d8576b"
             ],
             [
              0.6666666666666666,
              "#ed7953"
             ],
             [
              0.7777777777777778,
              "#fb9f3a"
             ],
             [
              0.8888888888888888,
              "#fdca26"
             ],
             [
              1,
              "#f0f921"
             ]
            ],
            "type": "contour"
           }
          ],
          "contourcarpet": [
           {
            "colorbar": {
             "outlinewidth": 0,
             "ticks": ""
            },
            "type": "contourcarpet"
           }
          ],
          "heatmap": [
           {
            "colorbar": {
             "outlinewidth": 0,
             "ticks": ""
            },
            "colorscale": [
             [
              0,
              "#0d0887"
             ],
             [
              0.1111111111111111,
              "#46039f"
             ],
             [
              0.2222222222222222,
              "#7201a8"
             ],
             [
              0.3333333333333333,
              "#9c179e"
             ],
             [
              0.4444444444444444,
              "#bd3786"
             ],
             [
              0.5555555555555556,
              "#d8576b"
             ],
             [
              0.6666666666666666,
              "#ed7953"
             ],
             [
              0.7777777777777778,
              "#fb9f3a"
             ],
             [
              0.8888888888888888,
              "#fdca26"
             ],
             [
              1,
              "#f0f921"
             ]
            ],
            "type": "heatmap"
           }
          ],
          "heatmapgl": [
           {
            "colorbar": {
             "outlinewidth": 0,
             "ticks": ""
            },
            "colorscale": [
             [
              0,
              "#0d0887"
             ],
             [
              0.1111111111111111,
              "#46039f"
             ],
             [
              0.2222222222222222,
              "#7201a8"
             ],
             [
              0.3333333333333333,
              "#9c179e"
             ],
             [
              0.4444444444444444,
              "#bd3786"
             ],
             [
              0.5555555555555556,
              "#d8576b"
             ],
             [
              0.6666666666666666,
              "#ed7953"
             ],
             [
              0.7777777777777778,
              "#fb9f3a"
             ],
             [
              0.8888888888888888,
              "#fdca26"
             ],
             [
              1,
              "#f0f921"
             ]
            ],
            "type": "heatmapgl"
           }
          ],
          "histogram": [
           {
            "marker": {
             "pattern": {
              "fillmode": "overlay",
              "size": 10,
              "solidity": 0.2
             }
            },
            "type": "histogram"
           }
          ],
          "histogram2d": [
           {
            "colorbar": {
             "outlinewidth": 0,
             "ticks": ""
            },
            "colorscale": [
             [
              0,
              "#0d0887"
             ],
             [
              0.1111111111111111,
              "#46039f"
             ],
             [
              0.2222222222222222,
              "#7201a8"
             ],
             [
              0.3333333333333333,
              "#9c179e"
             ],
             [
              0.4444444444444444,
              "#bd3786"
             ],
             [
              0.5555555555555556,
              "#d8576b"
             ],
             [
              0.6666666666666666,
              "#ed7953"
             ],
             [
              0.7777777777777778,
              "#fb9f3a"
             ],
             [
              0.8888888888888888,
              "#fdca26"
             ],
             [
              1,
              "#f0f921"
             ]
            ],
            "type": "histogram2d"
           }
          ],
          "histogram2dcontour": [
           {
            "colorbar": {
             "outlinewidth": 0,
             "ticks": ""
            },
            "colorscale": [
             [
              0,
              "#0d0887"
             ],
             [
              0.1111111111111111,
              "#46039f"
             ],
             [
              0.2222222222222222,
              "#7201a8"
             ],
             [
              0.3333333333333333,
              "#9c179e"
             ],
             [
              0.4444444444444444,
              "#bd3786"
             ],
             [
              0.5555555555555556,
              "#d8576b"
             ],
             [
              0.6666666666666666,
              "#ed7953"
             ],
             [
              0.7777777777777778,
              "#fb9f3a"
             ],
             [
              0.8888888888888888,
              "#fdca26"
             ],
             [
              1,
              "#f0f921"
             ]
            ],
            "type": "histogram2dcontour"
           }
          ],
          "mesh3d": [
           {
            "colorbar": {
             "outlinewidth": 0,
             "ticks": ""
            },
            "type": "mesh3d"
           }
          ],
          "parcoords": [
           {
            "line": {
             "colorbar": {
              "outlinewidth": 0,
              "ticks": ""
             }
            },
            "type": "parcoords"
           }
          ],
          "pie": [
           {
            "automargin": true,
            "type": "pie"
           }
          ],
          "scatter": [
           {
            "fillpattern": {
             "fillmode": "overlay",
             "size": 10,
             "solidity": 0.2
            },
            "type": "scatter"
           }
          ],
          "scatter3d": [
           {
            "line": {
             "colorbar": {
              "outlinewidth": 0,
              "ticks": ""
             }
            },
            "marker": {
             "colorbar": {
              "outlinewidth": 0,
              "ticks": ""
             }
            },
            "type": "scatter3d"
           }
          ],
          "scattercarpet": [
           {
            "marker": {
             "colorbar": {
              "outlinewidth": 0,
              "ticks": ""
             }
            },
            "type": "scattercarpet"
           }
          ],
          "scattergeo": [
           {
            "marker": {
             "colorbar": {
              "outlinewidth": 0,
              "ticks": ""
             }
            },
            "type": "scattergeo"
           }
          ],
          "scattergl": [
           {
            "marker": {
             "colorbar": {
              "outlinewidth": 0,
              "ticks": ""
             }
            },
            "type": "scattergl"
           }
          ],
          "scattermapbox": [
           {
            "marker": {
             "colorbar": {
              "outlinewidth": 0,
              "ticks": ""
             }
            },
            "type": "scattermapbox"
           }
          ],
          "scatterpolar": [
           {
            "marker": {
             "colorbar": {
              "outlinewidth": 0,
              "ticks": ""
             }
            },
            "type": "scatterpolar"
           }
          ],
          "scatterpolargl": [
           {
            "marker": {
             "colorbar": {
              "outlinewidth": 0,
              "ticks": ""
             }
            },
            "type": "scatterpolargl"
           }
          ],
          "scatterternary": [
           {
            "marker": {
             "colorbar": {
              "outlinewidth": 0,
              "ticks": ""
             }
            },
            "type": "scatterternary"
           }
          ],
          "surface": [
           {
            "colorbar": {
             "outlinewidth": 0,
             "ticks": ""
            },
            "colorscale": [
             [
              0,
              "#0d0887"
             ],
             [
              0.1111111111111111,
              "#46039f"
             ],
             [
              0.2222222222222222,
              "#7201a8"
             ],
             [
              0.3333333333333333,
              "#9c179e"
             ],
             [
              0.4444444444444444,
              "#bd3786"
             ],
             [
              0.5555555555555556,
              "#d8576b"
             ],
             [
              0.6666666666666666,
              "#ed7953"
             ],
             [
              0.7777777777777778,
              "#fb9f3a"
             ],
             [
              0.8888888888888888,
              "#fdca26"
             ],
             [
              1,
              "#f0f921"
             ]
            ],
            "type": "surface"
           }
          ],
          "table": [
           {
            "cells": {
             "fill": {
              "color": "#EBF0F8"
             },
             "line": {
              "color": "white"
             }
            },
            "header": {
             "fill": {
              "color": "#C8D4E3"
             },
             "line": {
              "color": "white"
             }
            },
            "type": "table"
           }
          ]
         },
         "layout": {
          "annotationdefaults": {
           "arrowcolor": "#2a3f5f",
           "arrowhead": 0,
           "arrowwidth": 1
          },
          "autotypenumbers": "strict",
          "coloraxis": {
           "colorbar": {
            "outlinewidth": 0,
            "ticks": ""
           }
          },
          "colorscale": {
           "diverging": [
            [
             0,
             "#8e0152"
            ],
            [
             0.1,
             "#c51b7d"
            ],
            [
             0.2,
             "#de77ae"
            ],
            [
             0.3,
             "#f1b6da"
            ],
            [
             0.4,
             "#fde0ef"
            ],
            [
             0.5,
             "#f7f7f7"
            ],
            [
             0.6,
             "#e6f5d0"
            ],
            [
             0.7,
             "#b8e186"
            ],
            [
             0.8,
             "#7fbc41"
            ],
            [
             0.9,
             "#4d9221"
            ],
            [
             1,
             "#276419"
            ]
           ],
           "sequential": [
            [
             0,
             "#0d0887"
            ],
            [
             0.1111111111111111,
             "#46039f"
            ],
            [
             0.2222222222222222,
             "#7201a8"
            ],
            [
             0.3333333333333333,
             "#9c179e"
            ],
            [
             0.4444444444444444,
             "#bd3786"
            ],
            [
             0.5555555555555556,
             "#d8576b"
            ],
            [
             0.6666666666666666,
             "#ed7953"
            ],
            [
             0.7777777777777778,
             "#fb9f3a"
            ],
            [
             0.8888888888888888,
             "#fdca26"
            ],
            [
             1,
             "#f0f921"
            ]
           ],
           "sequentialminus": [
            [
             0,
             "#0d0887"
            ],
            [
             0.1111111111111111,
             "#46039f"
            ],
            [
             0.2222222222222222,
             "#7201a8"
            ],
            [
             0.3333333333333333,
             "#9c179e"
            ],
            [
             0.4444444444444444,
             "#bd3786"
            ],
            [
             0.5555555555555556,
             "#d8576b"
            ],
            [
             0.6666666666666666,
             "#ed7953"
            ],
            [
             0.7777777777777778,
             "#fb9f3a"
            ],
            [
             0.8888888888888888,
             "#fdca26"
            ],
            [
             1,
             "#f0f921"
            ]
           ]
          },
          "colorway": [
           "#636efa",
           "#EF553B",
           "#00cc96",
           "#ab63fa",
           "#FFA15A",
           "#19d3f3",
           "#FF6692",
           "#B6E880",
           "#FF97FF",
           "#FECB52"
          ],
          "font": {
           "color": "#2a3f5f"
          },
          "geo": {
           "bgcolor": "white",
           "lakecolor": "white",
           "landcolor": "#E5ECF6",
           "showlakes": true,
           "showland": true,
           "subunitcolor": "white"
          },
          "hoverlabel": {
           "align": "left"
          },
          "hovermode": "closest",
          "mapbox": {
           "style": "light"
          },
          "paper_bgcolor": "white",
          "plot_bgcolor": "#E5ECF6",
          "polar": {
           "angularaxis": {
            "gridcolor": "white",
            "linecolor": "white",
            "ticks": ""
           },
           "bgcolor": "#E5ECF6",
           "radialaxis": {
            "gridcolor": "white",
            "linecolor": "white",
            "ticks": ""
           }
          },
          "scene": {
           "xaxis": {
            "backgroundcolor": "#E5ECF6",
            "gridcolor": "white",
            "gridwidth": 2,
            "linecolor": "white",
            "showbackground": true,
            "ticks": "",
            "zerolinecolor": "white"
           },
           "yaxis": {
            "backgroundcolor": "#E5ECF6",
            "gridcolor": "white",
            "gridwidth": 2,
            "linecolor": "white",
            "showbackground": true,
            "ticks": "",
            "zerolinecolor": "white"
           },
           "zaxis": {
            "backgroundcolor": "#E5ECF6",
            "gridcolor": "white",
            "gridwidth": 2,
            "linecolor": "white",
            "showbackground": true,
            "ticks": "",
            "zerolinecolor": "white"
           }
          },
          "shapedefaults": {
           "line": {
            "color": "#2a3f5f"
           }
          },
          "ternary": {
           "aaxis": {
            "gridcolor": "white",
            "linecolor": "white",
            "ticks": ""
           },
           "baxis": {
            "gridcolor": "white",
            "linecolor": "white",
            "ticks": ""
           },
           "bgcolor": "#E5ECF6",
           "caxis": {
            "gridcolor": "white",
            "linecolor": "white",
            "ticks": ""
           }
          },
          "title": {
           "x": 0.05
          },
          "xaxis": {
           "automargin": true,
           "gridcolor": "white",
           "linecolor": "white",
           "ticks": "",
           "title": {
            "standoff": 15
           },
           "zerolinecolor": "white",
           "zerolinewidth": 2
          },
          "yaxis": {
           "automargin": true,
           "gridcolor": "white",
           "linecolor": "white",
           "ticks": "",
           "title": {
            "standoff": 15
           },
           "zerolinecolor": "white",
           "zerolinewidth": 2
          }
         }
        },
        "title": {
         "text": "Histogram of Zip Codes"
        },
        "xaxis": {
         "anchor": "y",
         "domain": [
          0,
          1
         ],
         "title": {
          "text": "zipcode"
         }
        },
        "yaxis": {
         "anchor": "x",
         "domain": [
          0,
          1
         ],
         "title": {
          "text": "count"
         }
        }
       }
      }
     },
     "metadata": {},
     "output_type": "display_data"
    }
   ],
   "source": [
    "# plot histogram of zip codes\n",
    "fig = px.histogram(\n",
    "    df,\n",
    "    x=\"zipcode\",\n",
    "    nbins=70,\n",
    "    title=\"Histogram of Zip Codes\"\n",
    ")\n",
    "fig.show()"
   ]
  },
  {
   "cell_type": "code",
   "execution_count": 62,
   "metadata": {},
   "outputs": [
    {
     "data": {
      "text/plain": [
       "((271, 4), (91, 4), (271,), (91,))"
      ]
     },
     "execution_count": 62,
     "metadata": {},
     "output_type": "execute_result"
    }
   ],
   "source": [
    "x_train, x_test, y_train, y_test = train_test_split(\n",
    "    df.drop(\"price\", axis=1),\n",
    "    df[\"price\"],\n",
    "    test_size=0.25,\n",
    "    random_state=42\n",
    ")\n",
    "x_train.shape, x_test.shape, y_train.shape, y_test.shape"
   ]
  },
  {
   "cell_type": "code",
   "execution_count": 63,
   "metadata": {},
   "outputs": [],
   "source": [
    "# Normalization\n",
    "max_price = df[\"price\"].max()\n",
    "y_train = y_train / max_price\n",
    "y_test = y_test / max_price"
   ]
  },
  {
   "cell_type": "code",
   "execution_count": 64,
   "metadata": {},
   "outputs": [],
   "source": [
    "# Normalization\n",
    "scaler = MinMaxScaler()\n",
    "continues_cols = [\"bedrooms\", \"bathrooms\", \"area\"]\n",
    "x_train_continues = scaler.fit_transform(x_train[continues_cols])\n",
    "x_test_continues = scaler.transform(x_test[continues_cols])"
   ]
  },
  {
   "cell_type": "code",
   "execution_count": 65,
   "metadata": {},
   "outputs": [],
   "source": [
    "# one hot encoding of zip codes\n",
    "lb = LabelBinarizer().fit(df[\"zipcode\"])\n",
    "x_train_discrete = lb.transform(x_train[\"zipcode\"])\n",
    "x_test_discrete = lb.transform(x_test[\"zipcode\"])"
   ]
  },
  {
   "cell_type": "code",
   "execution_count": 66,
   "metadata": {},
   "outputs": [
    {
     "name": "stdout",
     "output_type": "stream",
     "text": [
      "(271, 10) (91, 10)\n"
     ]
    }
   ],
   "source": [
    "x_train = np.hstack([x_train_continues, x_train_discrete])\n",
    "x_test = np.hstack([x_test_continues, x_test_discrete])\n",
    "\n",
    "print(x_train.shape, x_test.shape)"
   ]
  },
  {
   "cell_type": "code",
   "execution_count": 67,
   "metadata": {},
   "outputs": [
    {
     "name": "stdout",
     "output_type": "stream",
     "text": [
      "Model: \"sequential\"\n",
      "_________________________________________________________________\n",
      " Layer (type)                Output Shape              Param #   \n",
      "=================================================================\n",
      " dense (Dense)               (None, 8)                 88        \n",
      "                                                                 \n",
      " dense_1 (Dense)             (None, 4)                 36        \n",
      "                                                                 \n",
      " dense_2 (Dense)             (None, 1)                 5         \n",
      "                                                                 \n",
      "=================================================================\n",
      "Total params: 129\n",
      "Trainable params: 129\n",
      "Non-trainable params: 0\n",
      "_________________________________________________________________\n"
     ]
    },
    {
     "name": "stderr",
     "output_type": "stream",
     "text": [
      "2023-01-28 21:03:38.270119: W tensorflow/compiler/xla/stream_executor/platform/default/dso_loader.cc:64] Could not load dynamic library 'libcuda.so.1'; dlerror: libcuda.so.1: cannot open shared object file: No such file or directory; LD_LIBRARY_PATH: /home/smbh/venvs/house_price_prediction/lib/python3.10/site-packages/cv2/../../lib64:\n",
      "2023-01-28 21:03:38.270369: W tensorflow/compiler/xla/stream_executor/cuda/cuda_driver.cc:265] failed call to cuInit: UNKNOWN ERROR (303)\n",
      "2023-01-28 21:03:38.270384: I tensorflow/compiler/xla/stream_executor/cuda/cuda_diagnostics.cc:156] kernel driver does not appear to be running on this host (hope): /proc/driver/nvidia/version does not exist\n",
      "2023-01-28 21:03:38.271030: I tensorflow/core/platform/cpu_feature_guard.cc:193] This TensorFlow binary is optimized with oneAPI Deep Neural Network Library (oneDNN) to use the following CPU instructions in performance-critical operations:  AVX2 AVX512F AVX512_VNNI FMA\n",
      "To enable them in other operations, rebuild TensorFlow with the appropriate compiler flags.\n"
     ]
    }
   ],
   "source": [
    "model = Sequential()\n",
    "model.add(Dense(8, input_shape=(x_train.shape[1],), activation=\"relu\"))\n",
    "model.add(Dense(4, activation=\"relu\"))\n",
    "model.add(Dense(1, activation=\"linear\"))\n",
    "model.summary()"
   ]
  },
  {
   "cell_type": "code",
   "execution_count": 69,
   "metadata": {},
   "outputs": [],
   "source": [
    "opt = Adam(learning_rate=1e-3, weight_decay=1e-3 / 200)\n",
    "model.compile(loss=\"mean_absolute_percentage_error\", optimizer=opt)"
   ]
  },
  {
   "cell_type": "code",
   "execution_count": 71,
   "metadata": {},
   "outputs": [
    {
     "name": "stdout",
     "output_type": "stream",
     "text": [
      "Epoch 1/200\n",
      "17/17 [==============================] - 0s 3ms/step - loss: 22.0274 - val_loss: 25.2471\n",
      "Epoch 2/200\n",
      "17/17 [==============================] - 0s 2ms/step - loss: 20.7101 - val_loss: 25.0041\n",
      "Epoch 3/200\n",
      "17/17 [==============================] - 0s 2ms/step - loss: 21.5492 - val_loss: 24.2439\n",
      "Epoch 4/200\n",
      "17/17 [==============================] - 0s 2ms/step - loss: 20.8971 - val_loss: 25.8179\n",
      "Epoch 5/200\n",
      "17/17 [==============================] - 0s 2ms/step - loss: 20.6416 - val_loss: 24.2647\n",
      "Epoch 6/200\n",
      "17/17 [==============================] - 0s 3ms/step - loss: 20.9103 - val_loss: 25.7382\n",
      "Epoch 7/200\n",
      "17/17 [==============================] - 0s 2ms/step - loss: 22.4227 - val_loss: 26.6255\n",
      "Epoch 8/200\n",
      "17/17 [==============================] - 0s 2ms/step - loss: 22.8008 - val_loss: 26.9771\n",
      "Epoch 9/200\n",
      "17/17 [==============================] - 0s 2ms/step - loss: 22.9308 - val_loss: 24.7052\n",
      "Epoch 10/200\n",
      "17/17 [==============================] - 0s 2ms/step - loss: 20.9637 - val_loss: 24.6588\n",
      "Epoch 11/200\n",
      "17/17 [==============================] - 0s 2ms/step - loss: 22.0543 - val_loss: 24.6276\n",
      "Epoch 12/200\n",
      "17/17 [==============================] - 0s 2ms/step - loss: 23.2540 - val_loss: 24.3676\n",
      "Epoch 13/200\n",
      "17/17 [==============================] - 0s 2ms/step - loss: 21.0528 - val_loss: 24.1634\n",
      "Epoch 14/200\n",
      "17/17 [==============================] - 0s 2ms/step - loss: 20.1010 - val_loss: 24.3095\n",
      "Epoch 15/200\n",
      "17/17 [==============================] - 0s 2ms/step - loss: 20.2923 - val_loss: 24.5201\n",
      "Epoch 16/200\n",
      "17/17 [==============================] - 0s 2ms/step - loss: 20.8722 - val_loss: 24.6902\n",
      "Epoch 17/200\n",
      "17/17 [==============================] - 0s 2ms/step - loss: 20.4770 - val_loss: 23.9036\n",
      "Epoch 18/200\n",
      "17/17 [==============================] - 0s 2ms/step - loss: 20.2973 - val_loss: 24.9732\n",
      "Epoch 19/200\n",
      "17/17 [==============================] - 0s 2ms/step - loss: 20.9367 - val_loss: 24.7421\n",
      "Epoch 20/200\n",
      "17/17 [==============================] - 0s 2ms/step - loss: 21.2212 - val_loss: 26.3292\n",
      "Epoch 21/200\n",
      "17/17 [==============================] - 0s 2ms/step - loss: 21.6821 - val_loss: 26.0575\n",
      "Epoch 22/200\n",
      "17/17 [==============================] - 0s 2ms/step - loss: 20.7771 - val_loss: 24.7286\n",
      "Epoch 23/200\n",
      "17/17 [==============================] - 0s 2ms/step - loss: 21.3664 - val_loss: 24.2386\n",
      "Epoch 24/200\n",
      "17/17 [==============================] - 0s 2ms/step - loss: 21.6127 - val_loss: 25.0697\n",
      "Epoch 25/200\n",
      "17/17 [==============================] - 0s 2ms/step - loss: 20.9771 - val_loss: 25.1720\n",
      "Epoch 26/200\n",
      "17/17 [==============================] - 0s 2ms/step - loss: 22.1201 - val_loss: 24.0539\n",
      "Epoch 27/200\n",
      "17/17 [==============================] - 0s 2ms/step - loss: 20.4660 - val_loss: 24.5369\n",
      "Epoch 28/200\n",
      "17/17 [==============================] - 0s 2ms/step - loss: 20.2568 - val_loss: 24.3600\n",
      "Epoch 29/200\n",
      "17/17 [==============================] - 0s 2ms/step - loss: 20.8269 - val_loss: 24.5274\n",
      "Epoch 30/200\n",
      "17/17 [==============================] - 0s 2ms/step - loss: 21.4405 - val_loss: 24.0859\n",
      "Epoch 31/200\n",
      "17/17 [==============================] - 0s 2ms/step - loss: 22.0510 - val_loss: 24.0137\n",
      "Epoch 32/200\n",
      "17/17 [==============================] - 0s 2ms/step - loss: 20.0145 - val_loss: 25.2849\n",
      "Epoch 33/200\n",
      "17/17 [==============================] - 0s 2ms/step - loss: 20.5644 - val_loss: 25.3345\n",
      "Epoch 34/200\n",
      "17/17 [==============================] - 0s 2ms/step - loss: 21.2512 - val_loss: 24.2162\n",
      "Epoch 35/200\n",
      "17/17 [==============================] - 0s 2ms/step - loss: 20.4668 - val_loss: 26.1922\n",
      "Epoch 36/200\n",
      "17/17 [==============================] - 0s 2ms/step - loss: 22.9804 - val_loss: 24.9114\n",
      "Epoch 37/200\n",
      "17/17 [==============================] - 0s 2ms/step - loss: 20.5123 - val_loss: 24.3377\n",
      "Epoch 38/200\n",
      "17/17 [==============================] - 0s 2ms/step - loss: 20.7038 - val_loss: 23.6491\n",
      "Epoch 39/200\n",
      "17/17 [==============================] - 0s 2ms/step - loss: 20.7659 - val_loss: 25.2416\n",
      "Epoch 40/200\n",
      "17/17 [==============================] - 0s 2ms/step - loss: 20.9387 - val_loss: 23.9285\n",
      "Epoch 41/200\n",
      "17/17 [==============================] - 0s 2ms/step - loss: 21.1542 - val_loss: 26.1367\n",
      "Epoch 42/200\n",
      "17/17 [==============================] - 0s 2ms/step - loss: 20.6908 - val_loss: 26.8534\n",
      "Epoch 43/200\n",
      "17/17 [==============================] - 0s 2ms/step - loss: 20.4310 - val_loss: 25.6983\n",
      "Epoch 44/200\n",
      "17/17 [==============================] - 0s 2ms/step - loss: 21.2391 - val_loss: 24.2504\n",
      "Epoch 45/200\n",
      "17/17 [==============================] - 0s 2ms/step - loss: 21.0860 - val_loss: 26.5663\n",
      "Epoch 46/200\n",
      "17/17 [==============================] - 0s 2ms/step - loss: 21.2666 - val_loss: 24.1603\n",
      "Epoch 47/200\n",
      "17/17 [==============================] - 0s 2ms/step - loss: 21.4699 - val_loss: 25.4595\n",
      "Epoch 48/200\n",
      "17/17 [==============================] - 0s 3ms/step - loss: 20.6615 - val_loss: 26.2029\n",
      "Epoch 49/200\n",
      "17/17 [==============================] - 0s 2ms/step - loss: 21.2900 - val_loss: 26.3514\n",
      "Epoch 50/200\n",
      "17/17 [==============================] - 0s 2ms/step - loss: 21.2667 - val_loss: 24.0050\n",
      "Epoch 51/200\n",
      "17/17 [==============================] - 0s 2ms/step - loss: 21.0299 - val_loss: 26.5211\n",
      "Epoch 52/200\n",
      "17/17 [==============================] - 0s 2ms/step - loss: 21.0439 - val_loss: 24.8980\n",
      "Epoch 53/200\n",
      "17/17 [==============================] - 0s 2ms/step - loss: 20.2362 - val_loss: 23.5110\n",
      "Epoch 54/200\n",
      "17/17 [==============================] - 0s 2ms/step - loss: 21.6255 - val_loss: 27.6105\n",
      "Epoch 55/200\n",
      "17/17 [==============================] - 0s 2ms/step - loss: 22.4028 - val_loss: 27.9702\n",
      "Epoch 56/200\n",
      "17/17 [==============================] - 0s 2ms/step - loss: 24.1906 - val_loss: 24.8274\n",
      "Epoch 57/200\n",
      "17/17 [==============================] - 0s 2ms/step - loss: 20.6038 - val_loss: 25.3196\n",
      "Epoch 58/200\n",
      "17/17 [==============================] - 0s 2ms/step - loss: 20.9626 - val_loss: 24.8082\n",
      "Epoch 59/200\n",
      "17/17 [==============================] - 0s 2ms/step - loss: 19.6423 - val_loss: 24.0317\n",
      "Epoch 60/200\n",
      "17/17 [==============================] - 0s 2ms/step - loss: 20.4157 - val_loss: 24.0336\n",
      "Epoch 61/200\n",
      "17/17 [==============================] - 0s 2ms/step - loss: 20.0308 - val_loss: 25.0896\n",
      "Epoch 62/200\n",
      "17/17 [==============================] - 0s 2ms/step - loss: 19.9086 - val_loss: 24.7210\n",
      "Epoch 63/200\n",
      "17/17 [==============================] - 0s 2ms/step - loss: 20.3321 - val_loss: 25.2290\n",
      "Epoch 64/200\n",
      "17/17 [==============================] - 0s 2ms/step - loss: 20.9083 - val_loss: 24.1585\n",
      "Epoch 65/200\n",
      "17/17 [==============================] - 0s 2ms/step - loss: 19.9673 - val_loss: 24.5668\n",
      "Epoch 66/200\n",
      "17/17 [==============================] - 0s 2ms/step - loss: 20.5466 - val_loss: 24.2106\n",
      "Epoch 67/200\n",
      "17/17 [==============================] - 0s 2ms/step - loss: 21.2638 - val_loss: 23.7244\n",
      "Epoch 68/200\n",
      "17/17 [==============================] - 0s 2ms/step - loss: 21.3574 - val_loss: 24.0139\n",
      "Epoch 69/200\n",
      "17/17 [==============================] - 0s 2ms/step - loss: 19.8193 - val_loss: 24.9188\n",
      "Epoch 70/200\n",
      "17/17 [==============================] - 0s 2ms/step - loss: 20.9461 - val_loss: 25.3013\n",
      "Epoch 71/200\n",
      "17/17 [==============================] - 0s 2ms/step - loss: 20.3731 - val_loss: 27.0128\n",
      "Epoch 72/200\n",
      "17/17 [==============================] - 0s 2ms/step - loss: 22.2189 - val_loss: 24.8543\n",
      "Epoch 73/200\n",
      "17/17 [==============================] - 0s 2ms/step - loss: 21.3707 - val_loss: 23.8348\n",
      "Epoch 74/200\n",
      "17/17 [==============================] - 0s 2ms/step - loss: 20.2083 - val_loss: 24.7505\n",
      "Epoch 75/200\n",
      "17/17 [==============================] - 0s 2ms/step - loss: 19.8548 - val_loss: 24.4006\n",
      "Epoch 76/200\n",
      "17/17 [==============================] - 0s 2ms/step - loss: 19.5107 - val_loss: 25.3569\n",
      "Epoch 77/200\n",
      "17/17 [==============================] - 0s 2ms/step - loss: 19.8224 - val_loss: 24.3716\n",
      "Epoch 78/200\n",
      "17/17 [==============================] - 0s 2ms/step - loss: 19.7689 - val_loss: 24.3835\n",
      "Epoch 79/200\n",
      "17/17 [==============================] - 0s 2ms/step - loss: 19.9631 - val_loss: 24.2005\n",
      "Epoch 80/200\n",
      "17/17 [==============================] - 0s 2ms/step - loss: 20.2709 - val_loss: 24.0726\n",
      "Epoch 81/200\n",
      "17/17 [==============================] - 0s 2ms/step - loss: 20.8327 - val_loss: 24.0824\n",
      "Epoch 82/200\n",
      "17/17 [==============================] - 0s 2ms/step - loss: 20.3779 - val_loss: 24.4519\n",
      "Epoch 83/200\n",
      "17/17 [==============================] - 0s 2ms/step - loss: 21.7440 - val_loss: 24.7413\n",
      "Epoch 84/200\n",
      "17/17 [==============================] - 0s 2ms/step - loss: 21.5105 - val_loss: 24.0571\n",
      "Epoch 85/200\n",
      "17/17 [==============================] - 0s 2ms/step - loss: 20.5515 - val_loss: 24.3884\n",
      "Epoch 86/200\n",
      "17/17 [==============================] - 0s 2ms/step - loss: 21.2134 - val_loss: 24.7874\n",
      "Epoch 87/200\n",
      "17/17 [==============================] - 0s 2ms/step - loss: 20.2379 - val_loss: 23.5911\n",
      "Epoch 88/200\n",
      "17/17 [==============================] - 0s 2ms/step - loss: 21.4854 - val_loss: 24.5918\n",
      "Epoch 89/200\n",
      "17/17 [==============================] - 0s 2ms/step - loss: 20.0225 - val_loss: 24.1989\n",
      "Epoch 90/200\n",
      "17/17 [==============================] - 0s 2ms/step - loss: 20.1393 - val_loss: 25.9239\n",
      "Epoch 91/200\n",
      "17/17 [==============================] - 0s 2ms/step - loss: 21.5836 - val_loss: 24.3261\n",
      "Epoch 92/200\n",
      "17/17 [==============================] - 0s 2ms/step - loss: 19.9033 - val_loss: 26.5648\n",
      "Epoch 93/200\n",
      "17/17 [==============================] - 0s 2ms/step - loss: 21.8410 - val_loss: 25.4744\n",
      "Epoch 94/200\n",
      "17/17 [==============================] - 0s 2ms/step - loss: 20.3360 - val_loss: 24.1209\n",
      "Epoch 95/200\n",
      "17/17 [==============================] - 0s 2ms/step - loss: 19.8021 - val_loss: 25.6882\n",
      "Epoch 96/200\n",
      "17/17 [==============================] - 0s 2ms/step - loss: 19.8722 - val_loss: 24.7447\n",
      "Epoch 97/200\n",
      "17/17 [==============================] - 0s 2ms/step - loss: 20.0191 - val_loss: 24.6629\n",
      "Epoch 98/200\n",
      "17/17 [==============================] - 0s 2ms/step - loss: 19.9716 - val_loss: 26.0841\n",
      "Epoch 99/200\n",
      "17/17 [==============================] - 0s 2ms/step - loss: 20.3108 - val_loss: 24.5397\n",
      "Epoch 100/200\n",
      "17/17 [==============================] - 0s 2ms/step - loss: 20.7146 - val_loss: 26.5222\n",
      "Epoch 101/200\n",
      "17/17 [==============================] - 0s 2ms/step - loss: 20.8821 - val_loss: 24.7821\n",
      "Epoch 102/200\n",
      "17/17 [==============================] - 0s 2ms/step - loss: 19.7849 - val_loss: 24.0166\n",
      "Epoch 103/200\n",
      "17/17 [==============================] - 0s 2ms/step - loss: 19.9896 - val_loss: 24.4153\n",
      "Epoch 104/200\n",
      "17/17 [==============================] - 0s 2ms/step - loss: 21.7747 - val_loss: 24.2570\n",
      "Epoch 105/200\n",
      "17/17 [==============================] - 0s 2ms/step - loss: 20.0266 - val_loss: 24.2238\n",
      "Epoch 106/200\n",
      "17/17 [==============================] - 0s 2ms/step - loss: 20.3240 - val_loss: 24.5264\n",
      "Epoch 107/200\n",
      "17/17 [==============================] - 0s 2ms/step - loss: 20.9312 - val_loss: 23.7890\n",
      "Epoch 108/200\n",
      "17/17 [==============================] - 0s 2ms/step - loss: 21.8673 - val_loss: 27.7862\n",
      "Epoch 109/200\n",
      "17/17 [==============================] - 0s 2ms/step - loss: 19.5791 - val_loss: 25.5064\n",
      "Epoch 110/200\n",
      "17/17 [==============================] - 0s 2ms/step - loss: 20.7028 - val_loss: 24.5315\n",
      "Epoch 111/200\n",
      "17/17 [==============================] - 0s 2ms/step - loss: 19.8221 - val_loss: 25.2260\n",
      "Epoch 112/200\n",
      "17/17 [==============================] - 0s 2ms/step - loss: 21.1454 - val_loss: 25.2235\n",
      "Epoch 113/200\n",
      "17/17 [==============================] - 0s 2ms/step - loss: 20.9090 - val_loss: 24.1762\n",
      "Epoch 114/200\n",
      "17/17 [==============================] - 0s 2ms/step - loss: 20.1420 - val_loss: 24.2690\n",
      "Epoch 115/200\n",
      "17/17 [==============================] - 0s 2ms/step - loss: 20.0858 - val_loss: 24.1063\n",
      "Epoch 116/200\n",
      "17/17 [==============================] - 0s 2ms/step - loss: 23.4279 - val_loss: 24.0047\n",
      "Epoch 117/200\n",
      "17/17 [==============================] - 0s 2ms/step - loss: 20.4841 - val_loss: 24.2503\n",
      "Epoch 118/200\n",
      "17/17 [==============================] - 0s 2ms/step - loss: 21.1527 - val_loss: 24.9434\n",
      "Epoch 119/200\n",
      "17/17 [==============================] - 0s 2ms/step - loss: 20.5324 - val_loss: 24.0135\n",
      "Epoch 120/200\n",
      "17/17 [==============================] - 0s 2ms/step - loss: 20.0183 - val_loss: 24.3336\n",
      "Epoch 121/200\n",
      "17/17 [==============================] - 0s 2ms/step - loss: 20.1769 - val_loss: 24.8955\n",
      "Epoch 122/200\n",
      "17/17 [==============================] - 0s 2ms/step - loss: 22.3940 - val_loss: 24.7406\n",
      "Epoch 123/200\n",
      "17/17 [==============================] - 0s 2ms/step - loss: 21.3905 - val_loss: 24.0508\n",
      "Epoch 124/200\n",
      "17/17 [==============================] - 0s 2ms/step - loss: 21.2884 - val_loss: 24.2499\n",
      "Epoch 125/200\n",
      "17/17 [==============================] - 0s 2ms/step - loss: 19.9474 - val_loss: 24.5681\n",
      "Epoch 126/200\n",
      "17/17 [==============================] - 0s 2ms/step - loss: 21.1465 - val_loss: 26.6157\n",
      "Epoch 127/200\n",
      "17/17 [==============================] - 0s 2ms/step - loss: 21.6525 - val_loss: 26.6465\n",
      "Epoch 128/200\n",
      "17/17 [==============================] - 0s 2ms/step - loss: 21.0188 - val_loss: 29.5379\n",
      "Epoch 129/200\n",
      "17/17 [==============================] - 0s 2ms/step - loss: 21.1083 - val_loss: 24.1831\n",
      "Epoch 130/200\n",
      "17/17 [==============================] - 0s 2ms/step - loss: 19.4240 - val_loss: 24.6329\n",
      "Epoch 131/200\n",
      "17/17 [==============================] - 0s 2ms/step - loss: 18.7990 - val_loss: 26.6501\n",
      "Epoch 132/200\n",
      "17/17 [==============================] - 0s 2ms/step - loss: 20.8464 - val_loss: 25.5617\n",
      "Epoch 133/200\n",
      "17/17 [==============================] - 0s 2ms/step - loss: 20.3717 - val_loss: 24.2394\n",
      "Epoch 134/200\n",
      "17/17 [==============================] - 0s 2ms/step - loss: 20.1432 - val_loss: 24.7828\n",
      "Epoch 135/200\n",
      "17/17 [==============================] - 0s 2ms/step - loss: 20.3688 - val_loss: 24.7008\n",
      "Epoch 136/200\n",
      "17/17 [==============================] - 0s 2ms/step - loss: 20.7589 - val_loss: 25.7115\n",
      "Epoch 137/200\n",
      "17/17 [==============================] - 0s 2ms/step - loss: 20.0234 - val_loss: 25.1626\n",
      "Epoch 138/200\n",
      "17/17 [==============================] - 0s 2ms/step - loss: 20.1467 - val_loss: 24.8728\n",
      "Epoch 139/200\n",
      "17/17 [==============================] - 0s 2ms/step - loss: 20.0566 - val_loss: 24.4704\n",
      "Epoch 140/200\n",
      "17/17 [==============================] - 0s 2ms/step - loss: 19.5197 - val_loss: 24.3873\n",
      "Epoch 141/200\n",
      "17/17 [==============================] - 0s 2ms/step - loss: 19.7637 - val_loss: 24.5492\n",
      "Epoch 142/200\n",
      "17/17 [==============================] - 0s 2ms/step - loss: 20.2288 - val_loss: 24.0552\n",
      "Epoch 143/200\n",
      "17/17 [==============================] - 0s 2ms/step - loss: 20.1901 - val_loss: 23.7648\n",
      "Epoch 144/200\n",
      "17/17 [==============================] - 0s 2ms/step - loss: 20.5457 - val_loss: 24.1266\n",
      "Epoch 145/200\n",
      "17/17 [==============================] - 0s 2ms/step - loss: 20.0462 - val_loss: 23.3070\n",
      "Epoch 146/200\n",
      "17/17 [==============================] - 0s 2ms/step - loss: 20.8707 - val_loss: 24.7422\n",
      "Epoch 147/200\n",
      "17/17 [==============================] - 0s 2ms/step - loss: 19.4188 - val_loss: 25.9415\n",
      "Epoch 148/200\n",
      "17/17 [==============================] - 0s 2ms/step - loss: 19.9531 - val_loss: 27.2941\n",
      "Epoch 149/200\n",
      "17/17 [==============================] - 0s 2ms/step - loss: 20.1373 - val_loss: 26.1916\n",
      "Epoch 150/200\n",
      "17/17 [==============================] - 0s 2ms/step - loss: 20.2145 - val_loss: 23.6737\n",
      "Epoch 151/200\n",
      "17/17 [==============================] - 0s 2ms/step - loss: 21.4220 - val_loss: 23.5968\n",
      "Epoch 152/200\n",
      "17/17 [==============================] - 0s 2ms/step - loss: 21.5471 - val_loss: 24.0998\n",
      "Epoch 153/200\n",
      "17/17 [==============================] - 0s 2ms/step - loss: 20.0269 - val_loss: 24.1297\n",
      "Epoch 154/200\n",
      "17/17 [==============================] - 0s 2ms/step - loss: 19.3349 - val_loss: 24.0800\n",
      "Epoch 155/200\n",
      "17/17 [==============================] - 0s 2ms/step - loss: 19.8969 - val_loss: 25.5135\n",
      "Epoch 156/200\n",
      "17/17 [==============================] - 0s 2ms/step - loss: 21.3417 - val_loss: 23.9151\n",
      "Epoch 157/200\n",
      "17/17 [==============================] - 0s 2ms/step - loss: 21.7563 - val_loss: 24.6717\n",
      "Epoch 158/200\n",
      "17/17 [==============================] - 0s 2ms/step - loss: 19.2438 - val_loss: 24.2444\n",
      "Epoch 159/200\n",
      "17/17 [==============================] - 0s 2ms/step - loss: 19.1894 - val_loss: 23.6544\n",
      "Epoch 160/200\n",
      "17/17 [==============================] - 0s 2ms/step - loss: 19.8152 - val_loss: 24.4578\n",
      "Epoch 161/200\n",
      "17/17 [==============================] - 0s 2ms/step - loss: 19.4242 - val_loss: 24.2118\n",
      "Epoch 162/200\n",
      "17/17 [==============================] - 0s 2ms/step - loss: 22.7001 - val_loss: 24.6085\n",
      "Epoch 163/200\n",
      "17/17 [==============================] - 0s 2ms/step - loss: 21.4034 - val_loss: 24.0952\n",
      "Epoch 164/200\n",
      "17/17 [==============================] - 0s 2ms/step - loss: 19.5246 - val_loss: 24.7638\n",
      "Epoch 165/200\n",
      "17/17 [==============================] - 0s 2ms/step - loss: 19.7172 - val_loss: 24.1306\n",
      "Epoch 166/200\n",
      "17/17 [==============================] - 0s 2ms/step - loss: 20.0338 - val_loss: 24.6215\n",
      "Epoch 167/200\n",
      "17/17 [==============================] - 0s 2ms/step - loss: 22.5586 - val_loss: 23.9473\n",
      "Epoch 168/200\n",
      "17/17 [==============================] - 0s 2ms/step - loss: 20.8534 - val_loss: 24.5691\n",
      "Epoch 169/200\n",
      "17/17 [==============================] - 0s 4ms/step - loss: 19.8106 - val_loss: 25.8120\n",
      "Epoch 170/200\n",
      "17/17 [==============================] - 0s 2ms/step - loss: 19.7692 - val_loss: 24.0544\n",
      "Epoch 171/200\n",
      "17/17 [==============================] - 0s 2ms/step - loss: 19.4953 - val_loss: 24.1645\n",
      "Epoch 172/200\n",
      "17/17 [==============================] - 0s 2ms/step - loss: 20.1052 - val_loss: 24.2367\n",
      "Epoch 173/200\n",
      "17/17 [==============================] - 0s 2ms/step - loss: 19.9490 - val_loss: 26.3880\n",
      "Epoch 174/200\n",
      "17/17 [==============================] - 0s 2ms/step - loss: 19.0926 - val_loss: 23.0848\n",
      "Epoch 175/200\n",
      "17/17 [==============================] - 0s 2ms/step - loss: 19.2714 - val_loss: 23.8521\n",
      "Epoch 176/200\n",
      "17/17 [==============================] - 0s 2ms/step - loss: 19.5008 - val_loss: 23.8076\n",
      "Epoch 177/200\n",
      "17/17 [==============================] - 0s 2ms/step - loss: 19.1451 - val_loss: 24.4760\n",
      "Epoch 178/200\n",
      "17/17 [==============================] - 0s 2ms/step - loss: 19.4982 - val_loss: 24.1265\n",
      "Epoch 179/200\n",
      "17/17 [==============================] - 0s 2ms/step - loss: 19.3229 - val_loss: 24.0829\n",
      "Epoch 180/200\n",
      "17/17 [==============================] - 0s 2ms/step - loss: 19.0611 - val_loss: 24.3170\n",
      "Epoch 181/200\n",
      "17/17 [==============================] - 0s 2ms/step - loss: 19.6017 - val_loss: 23.5325\n",
      "Epoch 182/200\n",
      "17/17 [==============================] - 0s 2ms/step - loss: 18.8492 - val_loss: 23.8194\n",
      "Epoch 183/200\n",
      "17/17 [==============================] - 0s 2ms/step - loss: 19.0548 - val_loss: 23.0996\n",
      "Epoch 184/200\n",
      "17/17 [==============================] - 0s 2ms/step - loss: 19.0791 - val_loss: 24.7355\n",
      "Epoch 185/200\n",
      "17/17 [==============================] - 0s 2ms/step - loss: 19.6252 - val_loss: 24.0313\n",
      "Epoch 186/200\n",
      "17/17 [==============================] - 0s 2ms/step - loss: 18.4858 - val_loss: 25.9607\n",
      "Epoch 187/200\n",
      "17/17 [==============================] - 0s 2ms/step - loss: 19.6510 - val_loss: 22.9480\n",
      "Epoch 188/200\n",
      "17/17 [==============================] - 0s 2ms/step - loss: 20.1341 - val_loss: 23.3869\n",
      "Epoch 189/200\n",
      "17/17 [==============================] - 0s 2ms/step - loss: 19.4543 - val_loss: 23.8928\n",
      "Epoch 190/200\n",
      "17/17 [==============================] - 0s 2ms/step - loss: 19.3753 - val_loss: 23.9701\n",
      "Epoch 191/200\n",
      "17/17 [==============================] - 0s 2ms/step - loss: 19.9055 - val_loss: 23.1527\n",
      "Epoch 192/200\n",
      "17/17 [==============================] - 0s 2ms/step - loss: 23.5205 - val_loss: 25.6803\n",
      "Epoch 193/200\n",
      "17/17 [==============================] - 0s 2ms/step - loss: 20.1533 - val_loss: 25.9241\n",
      "Epoch 194/200\n",
      "17/17 [==============================] - 0s 2ms/step - loss: 20.7188 - val_loss: 23.8618\n",
      "Epoch 195/200\n",
      "17/17 [==============================] - 0s 2ms/step - loss: 18.8477 - val_loss: 24.0692\n",
      "Epoch 196/200\n",
      "17/17 [==============================] - 0s 2ms/step - loss: 19.0110 - val_loss: 23.4718\n",
      "Epoch 197/200\n",
      "17/17 [==============================] - 0s 2ms/step - loss: 20.9131 - val_loss: 24.6889\n",
      "Epoch 198/200\n",
      "17/17 [==============================] - 0s 2ms/step - loss: 19.3365 - val_loss: 25.3423\n",
      "Epoch 199/200\n",
      "17/17 [==============================] - 0s 2ms/step - loss: 19.3621 - val_loss: 25.5639\n",
      "Epoch 200/200\n",
      "17/17 [==============================] - 0s 2ms/step - loss: 19.8110 - val_loss: 24.4811\n"
     ]
    }
   ],
   "source": [
    "history = model.fit(\n",
    "    x_train,\n",
    "    y_train,\n",
    "    validation_data=(x_test, y_test),\n",
    "    epochs=200,\n",
    "    batch_size=16\n",
    ")"
   ]
  },
  {
   "cell_type": "code",
   "execution_count": 73,
   "metadata": {},
   "outputs": [
    {
     "data": {
      "application/vnd.plotly.v1+json": {
       "config": {
        "plotlyServerURL": "https://plot.ly"
       },
       "data": [
        {
         "name": "Training Loss",
         "type": "scatter",
         "y": [
          22.02742576599121,
          20.71005630493164,
          21.54924774169922,
          20.897104263305664,
          20.641620635986328,
          20.910287857055664,
          22.4227294921875,
          22.800798416137695,
          22.930767059326172,
          20.963693618774414,
          22.054304122924805,
          23.253982543945312,
          21.052846908569336,
          20.100990295410156,
          20.292280197143555,
          20.87223243713379,
          20.47698211669922,
          20.297252655029297,
          20.93674659729004,
          21.22124481201172,
          21.682104110717773,
          20.777109146118164,
          21.36638069152832,
          21.61272621154785,
          20.97711753845215,
          22.120079040527344,
          20.46596908569336,
          20.2568416595459,
          20.826921463012695,
          21.44052505493164,
          22.051021575927734,
          20.01447296142578,
          20.564441680908203,
          21.25118637084961,
          20.46675682067871,
          22.98044204711914,
          20.512277603149414,
          20.703840255737305,
          20.765871047973633,
          20.938655853271484,
          21.154247283935547,
          20.69077491760254,
          20.431049346923828,
          21.239126205444336,
          21.086002349853516,
          21.266565322875977,
          21.469867706298828,
          20.661529541015625,
          21.290016174316406,
          21.266677856445312,
          21.029895782470703,
          21.043865203857422,
          20.236223220825195,
          21.62545394897461,
          22.40275764465332,
          24.190603256225586,
          20.603811264038086,
          20.962594985961914,
          19.64234733581543,
          20.415706634521484,
          20.030841827392578,
          19.9085636138916,
          20.33208656311035,
          20.9083309173584,
          19.967273712158203,
          20.546552658081055,
          21.263782501220703,
          21.357397079467773,
          19.819318771362305,
          20.94614601135254,
          20.37312889099121,
          22.21885871887207,
          21.370676040649414,
          20.20831298828125,
          19.854816436767578,
          19.510719299316406,
          19.82240104675293,
          19.768861770629883,
          19.963071823120117,
          20.270854949951172,
          20.832748413085938,
          20.3779296875,
          21.744043350219727,
          21.510541915893555,
          20.551502227783203,
          21.213375091552734,
          20.237924575805664,
          21.485441207885742,
          20.022470474243164,
          20.139291763305664,
          21.583599090576172,
          19.903301239013672,
          21.84100914001465,
          20.33602523803711,
          19.80213165283203,
          19.872159957885742,
          20.019123077392578,
          19.97163200378418,
          20.31077003479004,
          20.71457862854004,
          20.882144927978516,
          19.784931182861328,
          19.989587783813477,
          21.774682998657227,
          20.026611328125,
          20.32396125793457,
          20.931203842163086,
          21.86726188659668,
          19.579059600830078,
          20.70283317565918,
          19.82213592529297,
          21.14537811279297,
          20.90898323059082,
          20.14198875427246,
          20.085771560668945,
          23.427865982055664,
          20.48406219482422,
          21.15271759033203,
          20.532384872436523,
          20.018285751342773,
          20.17690086364746,
          22.393978118896484,
          21.39047622680664,
          21.288381576538086,
          19.947383880615234,
          21.146482467651367,
          21.65250015258789,
          21.018829345703125,
          21.10834312438965,
          19.424007415771484,
          18.799049377441406,
          20.846412658691406,
          20.37168312072754,
          20.14315414428711,
          20.3687686920166,
          20.75885581970215,
          20.023433685302734,
          20.146717071533203,
          20.056575775146484,
          19.519672393798828,
          19.76368522644043,
          20.228797912597656,
          20.190139770507812,
          20.545698165893555,
          20.046171188354492,
          20.870744705200195,
          19.418794631958008,
          19.95313835144043,
          20.13728904724121,
          20.214468002319336,
          21.422025680541992,
          21.54714584350586,
          20.026857376098633,
          19.33489990234375,
          19.896867752075195,
          21.34171485900879,
          21.756277084350586,
          19.243793487548828,
          19.18940544128418,
          19.815196990966797,
          19.42422103881836,
          22.700101852416992,
          21.40337562561035,
          19.52464485168457,
          19.71719741821289,
          20.033842086791992,
          22.558584213256836,
          20.853416442871094,
          19.81056785583496,
          19.769197463989258,
          19.495309829711914,
          20.105192184448242,
          19.948984146118164,
          19.092628479003906,
          19.271425247192383,
          19.500762939453125,
          19.14512825012207,
          19.498241424560547,
          19.3228702545166,
          19.061134338378906,
          19.601661682128906,
          18.849206924438477,
          19.0548038482666,
          19.079071044921875,
          19.6252384185791,
          18.485790252685547,
          19.65095329284668,
          20.134056091308594,
          19.454282760620117,
          19.375267028808594,
          19.905519485473633,
          23.520496368408203,
          20.153308868408203,
          20.71875,
          18.84772300720215,
          19.01101303100586,
          20.913135528564453,
          19.336503982543945,
          19.362133026123047,
          19.81104278564453
         ]
        },
        {
         "name": "Validation Loss",
         "type": "scatter",
         "y": [
          25.247055053710938,
          25.004053115844727,
          24.243921279907227,
          25.81793785095215,
          24.264726638793945,
          25.738248825073242,
          26.625534057617188,
          26.977142333984375,
          24.705204010009766,
          24.658815383911133,
          24.627588272094727,
          24.36757469177246,
          24.163362503051758,
          24.309526443481445,
          24.52008056640625,
          24.690160751342773,
          23.903593063354492,
          24.973237991333008,
          24.742063522338867,
          26.329158782958984,
          26.057466506958008,
          24.72857666015625,
          24.238584518432617,
          25.069738388061523,
          25.172019958496094,
          24.053911209106445,
          24.53685188293457,
          24.360021591186523,
          24.527435302734375,
          24.085922241210938,
          24.013660430908203,
          25.284931182861328,
          25.334531784057617,
          24.21616554260254,
          26.192249298095703,
          24.911375045776367,
          24.337705612182617,
          23.649097442626953,
          25.241559982299805,
          23.928539276123047,
          26.13669204711914,
          26.85344886779785,
          25.698333740234375,
          24.25035858154297,
          26.566320419311523,
          24.160274505615234,
          25.459524154663086,
          26.2028865814209,
          26.35141944885254,
          24.004966735839844,
          26.521127700805664,
          24.897974014282227,
          23.511005401611328,
          27.610515594482422,
          27.97017478942871,
          24.827449798583984,
          25.31964683532715,
          24.808218002319336,
          24.03173828125,
          24.03360366821289,
          25.089645385742188,
          24.72098731994629,
          25.229028701782227,
          24.15852165222168,
          24.56684112548828,
          24.21057891845703,
          23.72439956665039,
          24.01392936706543,
          24.918779373168945,
          25.301254272460938,
          27.01276969909668,
          24.854312896728516,
          23.834774017333984,
          24.750520706176758,
          24.40061378479004,
          25.3569393157959,
          24.37161636352539,
          24.38351058959961,
          24.20050048828125,
          24.07257080078125,
          24.082395553588867,
          24.45194435119629,
          24.741302490234375,
          24.057096481323242,
          24.388370513916016,
          24.787368774414062,
          23.591129302978516,
          24.591785430908203,
          24.198930740356445,
          25.923892974853516,
          24.326080322265625,
          26.564830780029297,
          25.474365234375,
          24.120927810668945,
          25.688152313232422,
          24.74465560913086,
          24.66286849975586,
          26.08414077758789,
          24.539709091186523,
          26.522165298461914,
          24.782148361206055,
          24.01656150817871,
          24.415328979492188,
          24.25704002380371,
          24.22384262084961,
          24.52640151977539,
          23.788982391357422,
          27.786243438720703,
          25.50640869140625,
          24.53150177001953,
          25.225975036621094,
          25.223472595214844,
          24.17619514465332,
          24.2690486907959,
          24.10625457763672,
          24.004722595214844,
          24.25027084350586,
          24.94338607788086,
          24.013538360595703,
          24.333568572998047,
          24.89550018310547,
          24.740625381469727,
          24.05078125,
          24.249940872192383,
          24.568130493164062,
          26.61571502685547,
          26.646486282348633,
          29.537860870361328,
          24.1830997467041,
          24.632892608642578,
          26.650121688842773,
          25.561670303344727,
          24.239370346069336,
          24.78278923034668,
          24.700841903686523,
          25.711477279663086,
          25.16257667541504,
          24.8728084564209,
          24.470386505126953,
          24.387279510498047,
          24.549203872680664,
          24.055164337158203,
          23.76483917236328,
          24.12664222717285,
          23.30702781677246,
          24.742244720458984,
          25.941471099853516,
          27.294105529785156,
          26.19164276123047,
          23.673736572265625,
          23.596757888793945,
          24.099842071533203,
          24.129724502563477,
          24.079971313476562,
          25.513513565063477,
          23.91510009765625,
          24.671701431274414,
          24.244441986083984,
          23.654401779174805,
          24.457836151123047,
          24.211833953857422,
          24.60854148864746,
          24.09520149230957,
          24.763778686523438,
          24.130640029907227,
          24.621463775634766,
          23.947322845458984,
          24.569053649902344,
          25.81200408935547,
          24.054357528686523,
          24.16451644897461,
          24.236705780029297,
          26.387977600097656,
          23.08478355407715,
          23.852144241333008,
          23.807588577270508,
          24.475969314575195,
          24.126510620117188,
          24.082855224609375,
          24.31700897216797,
          23.532543182373047,
          23.81938362121582,
          23.09962272644043,
          24.735450744628906,
          24.031293869018555,
          25.960718154907227,
          22.948030471801758,
          23.386865615844727,
          23.892841339111328,
          23.970069885253906,
          23.152658462524414,
          25.680349349975586,
          25.924118041992188,
          23.861804962158203,
          24.06919288635254,
          23.471790313720703,
          24.688926696777344,
          25.342287063598633,
          25.563907623291016,
          24.481067657470703
         ]
        }
       ],
       "layout": {
        "template": {
         "data": {
          "bar": [
           {
            "error_x": {
             "color": "#2a3f5f"
            },
            "error_y": {
             "color": "#2a3f5f"
            },
            "marker": {
             "line": {
              "color": "#E5ECF6",
              "width": 0.5
             },
             "pattern": {
              "fillmode": "overlay",
              "size": 10,
              "solidity": 0.2
             }
            },
            "type": "bar"
           }
          ],
          "barpolar": [
           {
            "marker": {
             "line": {
              "color": "#E5ECF6",
              "width": 0.5
             },
             "pattern": {
              "fillmode": "overlay",
              "size": 10,
              "solidity": 0.2
             }
            },
            "type": "barpolar"
           }
          ],
          "carpet": [
           {
            "aaxis": {
             "endlinecolor": "#2a3f5f",
             "gridcolor": "white",
             "linecolor": "white",
             "minorgridcolor": "white",
             "startlinecolor": "#2a3f5f"
            },
            "baxis": {
             "endlinecolor": "#2a3f5f",
             "gridcolor": "white",
             "linecolor": "white",
             "minorgridcolor": "white",
             "startlinecolor": "#2a3f5f"
            },
            "type": "carpet"
           }
          ],
          "choropleth": [
           {
            "colorbar": {
             "outlinewidth": 0,
             "ticks": ""
            },
            "type": "choropleth"
           }
          ],
          "contour": [
           {
            "colorbar": {
             "outlinewidth": 0,
             "ticks": ""
            },
            "colorscale": [
             [
              0,
              "#0d0887"
             ],
             [
              0.1111111111111111,
              "#46039f"
             ],
             [
              0.2222222222222222,
              "#7201a8"
             ],
             [
              0.3333333333333333,
              "#9c179e"
             ],
             [
              0.4444444444444444,
              "#bd3786"
             ],
             [
              0.5555555555555556,
              "#d8576b"
             ],
             [
              0.6666666666666666,
              "#ed7953"
             ],
             [
              0.7777777777777778,
              "#fb9f3a"
             ],
             [
              0.8888888888888888,
              "#fdca26"
             ],
             [
              1,
              "#f0f921"
             ]
            ],
            "type": "contour"
           }
          ],
          "contourcarpet": [
           {
            "colorbar": {
             "outlinewidth": 0,
             "ticks": ""
            },
            "type": "contourcarpet"
           }
          ],
          "heatmap": [
           {
            "colorbar": {
             "outlinewidth": 0,
             "ticks": ""
            },
            "colorscale": [
             [
              0,
              "#0d0887"
             ],
             [
              0.1111111111111111,
              "#46039f"
             ],
             [
              0.2222222222222222,
              "#7201a8"
             ],
             [
              0.3333333333333333,
              "#9c179e"
             ],
             [
              0.4444444444444444,
              "#bd3786"
             ],
             [
              0.5555555555555556,
              "#d8576b"
             ],
             [
              0.6666666666666666,
              "#ed7953"
             ],
             [
              0.7777777777777778,
              "#fb9f3a"
             ],
             [
              0.8888888888888888,
              "#fdca26"
             ],
             [
              1,
              "#f0f921"
             ]
            ],
            "type": "heatmap"
           }
          ],
          "heatmapgl": [
           {
            "colorbar": {
             "outlinewidth": 0,
             "ticks": ""
            },
            "colorscale": [
             [
              0,
              "#0d0887"
             ],
             [
              0.1111111111111111,
              "#46039f"
             ],
             [
              0.2222222222222222,
              "#7201a8"
             ],
             [
              0.3333333333333333,
              "#9c179e"
             ],
             [
              0.4444444444444444,
              "#bd3786"
             ],
             [
              0.5555555555555556,
              "#d8576b"
             ],
             [
              0.6666666666666666,
              "#ed7953"
             ],
             [
              0.7777777777777778,
              "#fb9f3a"
             ],
             [
              0.8888888888888888,
              "#fdca26"
             ],
             [
              1,
              "#f0f921"
             ]
            ],
            "type": "heatmapgl"
           }
          ],
          "histogram": [
           {
            "marker": {
             "pattern": {
              "fillmode": "overlay",
              "size": 10,
              "solidity": 0.2
             }
            },
            "type": "histogram"
           }
          ],
          "histogram2d": [
           {
            "colorbar": {
             "outlinewidth": 0,
             "ticks": ""
            },
            "colorscale": [
             [
              0,
              "#0d0887"
             ],
             [
              0.1111111111111111,
              "#46039f"
             ],
             [
              0.2222222222222222,
              "#7201a8"
             ],
             [
              0.3333333333333333,
              "#9c179e"
             ],
             [
              0.4444444444444444,
              "#bd3786"
             ],
             [
              0.5555555555555556,
              "#d8576b"
             ],
             [
              0.6666666666666666,
              "#ed7953"
             ],
             [
              0.7777777777777778,
              "#fb9f3a"
             ],
             [
              0.8888888888888888,
              "#fdca26"
             ],
             [
              1,
              "#f0f921"
             ]
            ],
            "type": "histogram2d"
           }
          ],
          "histogram2dcontour": [
           {
            "colorbar": {
             "outlinewidth": 0,
             "ticks": ""
            },
            "colorscale": [
             [
              0,
              "#0d0887"
             ],
             [
              0.1111111111111111,
              "#46039f"
             ],
             [
              0.2222222222222222,
              "#7201a8"
             ],
             [
              0.3333333333333333,
              "#9c179e"
             ],
             [
              0.4444444444444444,
              "#bd3786"
             ],
             [
              0.5555555555555556,
              "#d8576b"
             ],
             [
              0.6666666666666666,
              "#ed7953"
             ],
             [
              0.7777777777777778,
              "#fb9f3a"
             ],
             [
              0.8888888888888888,
              "#fdca26"
             ],
             [
              1,
              "#f0f921"
             ]
            ],
            "type": "histogram2dcontour"
           }
          ],
          "mesh3d": [
           {
            "colorbar": {
             "outlinewidth": 0,
             "ticks": ""
            },
            "type": "mesh3d"
           }
          ],
          "parcoords": [
           {
            "line": {
             "colorbar": {
              "outlinewidth": 0,
              "ticks": ""
             }
            },
            "type": "parcoords"
           }
          ],
          "pie": [
           {
            "automargin": true,
            "type": "pie"
           }
          ],
          "scatter": [
           {
            "fillpattern": {
             "fillmode": "overlay",
             "size": 10,
             "solidity": 0.2
            },
            "type": "scatter"
           }
          ],
          "scatter3d": [
           {
            "line": {
             "colorbar": {
              "outlinewidth": 0,
              "ticks": ""
             }
            },
            "marker": {
             "colorbar": {
              "outlinewidth": 0,
              "ticks": ""
             }
            },
            "type": "scatter3d"
           }
          ],
          "scattercarpet": [
           {
            "marker": {
             "colorbar": {
              "outlinewidth": 0,
              "ticks": ""
             }
            },
            "type": "scattercarpet"
           }
          ],
          "scattergeo": [
           {
            "marker": {
             "colorbar": {
              "outlinewidth": 0,
              "ticks": ""
             }
            },
            "type": "scattergeo"
           }
          ],
          "scattergl": [
           {
            "marker": {
             "colorbar": {
              "outlinewidth": 0,
              "ticks": ""
             }
            },
            "type": "scattergl"
           }
          ],
          "scattermapbox": [
           {
            "marker": {
             "colorbar": {
              "outlinewidth": 0,
              "ticks": ""
             }
            },
            "type": "scattermapbox"
           }
          ],
          "scatterpolar": [
           {
            "marker": {
             "colorbar": {
              "outlinewidth": 0,
              "ticks": ""
             }
            },
            "type": "scatterpolar"
           }
          ],
          "scatterpolargl": [
           {
            "marker": {
             "colorbar": {
              "outlinewidth": 0,
              "ticks": ""
             }
            },
            "type": "scatterpolargl"
           }
          ],
          "scatterternary": [
           {
            "marker": {
             "colorbar": {
              "outlinewidth": 0,
              "ticks": ""
             }
            },
            "type": "scatterternary"
           }
          ],
          "surface": [
           {
            "colorbar": {
             "outlinewidth": 0,
             "ticks": ""
            },
            "colorscale": [
             [
              0,
              "#0d0887"
             ],
             [
              0.1111111111111111,
              "#46039f"
             ],
             [
              0.2222222222222222,
              "#7201a8"
             ],
             [
              0.3333333333333333,
              "#9c179e"
             ],
             [
              0.4444444444444444,
              "#bd3786"
             ],
             [
              0.5555555555555556,
              "#d8576b"
             ],
             [
              0.6666666666666666,
              "#ed7953"
             ],
             [
              0.7777777777777778,
              "#fb9f3a"
             ],
             [
              0.8888888888888888,
              "#fdca26"
             ],
             [
              1,
              "#f0f921"
             ]
            ],
            "type": "surface"
           }
          ],
          "table": [
           {
            "cells": {
             "fill": {
              "color": "#EBF0F8"
             },
             "line": {
              "color": "white"
             }
            },
            "header": {
             "fill": {
              "color": "#C8D4E3"
             },
             "line": {
              "color": "white"
             }
            },
            "type": "table"
           }
          ]
         },
         "layout": {
          "annotationdefaults": {
           "arrowcolor": "#2a3f5f",
           "arrowhead": 0,
           "arrowwidth": 1
          },
          "autotypenumbers": "strict",
          "coloraxis": {
           "colorbar": {
            "outlinewidth": 0,
            "ticks": ""
           }
          },
          "colorscale": {
           "diverging": [
            [
             0,
             "#8e0152"
            ],
            [
             0.1,
             "#c51b7d"
            ],
            [
             0.2,
             "#de77ae"
            ],
            [
             0.3,
             "#f1b6da"
            ],
            [
             0.4,
             "#fde0ef"
            ],
            [
             0.5,
             "#f7f7f7"
            ],
            [
             0.6,
             "#e6f5d0"
            ],
            [
             0.7,
             "#b8e186"
            ],
            [
             0.8,
             "#7fbc41"
            ],
            [
             0.9,
             "#4d9221"
            ],
            [
             1,
             "#276419"
            ]
           ],
           "sequential": [
            [
             0,
             "#0d0887"
            ],
            [
             0.1111111111111111,
             "#46039f"
            ],
            [
             0.2222222222222222,
             "#7201a8"
            ],
            [
             0.3333333333333333,
             "#9c179e"
            ],
            [
             0.4444444444444444,
             "#bd3786"
            ],
            [
             0.5555555555555556,
             "#d8576b"
            ],
            [
             0.6666666666666666,
             "#ed7953"
            ],
            [
             0.7777777777777778,
             "#fb9f3a"
            ],
            [
             0.8888888888888888,
             "#fdca26"
            ],
            [
             1,
             "#f0f921"
            ]
           ],
           "sequentialminus": [
            [
             0,
             "#0d0887"
            ],
            [
             0.1111111111111111,
             "#46039f"
            ],
            [
             0.2222222222222222,
             "#7201a8"
            ],
            [
             0.3333333333333333,
             "#9c179e"
            ],
            [
             0.4444444444444444,
             "#bd3786"
            ],
            [
             0.5555555555555556,
             "#d8576b"
            ],
            [
             0.6666666666666666,
             "#ed7953"
            ],
            [
             0.7777777777777778,
             "#fb9f3a"
            ],
            [
             0.8888888888888888,
             "#fdca26"
            ],
            [
             1,
             "#f0f921"
            ]
           ]
          },
          "colorway": [
           "#636efa",
           "#EF553B",
           "#00cc96",
           "#ab63fa",
           "#FFA15A",
           "#19d3f3",
           "#FF6692",
           "#B6E880",
           "#FF97FF",
           "#FECB52"
          ],
          "font": {
           "color": "#2a3f5f"
          },
          "geo": {
           "bgcolor": "white",
           "lakecolor": "white",
           "landcolor": "#E5ECF6",
           "showlakes": true,
           "showland": true,
           "subunitcolor": "white"
          },
          "hoverlabel": {
           "align": "left"
          },
          "hovermode": "closest",
          "mapbox": {
           "style": "light"
          },
          "paper_bgcolor": "white",
          "plot_bgcolor": "#E5ECF6",
          "polar": {
           "angularaxis": {
            "gridcolor": "white",
            "linecolor": "white",
            "ticks": ""
           },
           "bgcolor": "#E5ECF6",
           "radialaxis": {
            "gridcolor": "white",
            "linecolor": "white",
            "ticks": ""
           }
          },
          "scene": {
           "xaxis": {
            "backgroundcolor": "#E5ECF6",
            "gridcolor": "white",
            "gridwidth": 2,
            "linecolor": "white",
            "showbackground": true,
            "ticks": "",
            "zerolinecolor": "white"
           },
           "yaxis": {
            "backgroundcolor": "#E5ECF6",
            "gridcolor": "white",
            "gridwidth": 2,
            "linecolor": "white",
            "showbackground": true,
            "ticks": "",
            "zerolinecolor": "white"
           },
           "zaxis": {
            "backgroundcolor": "#E5ECF6",
            "gridcolor": "white",
            "gridwidth": 2,
            "linecolor": "white",
            "showbackground": true,
            "ticks": "",
            "zerolinecolor": "white"
           }
          },
          "shapedefaults": {
           "line": {
            "color": "#2a3f5f"
           }
          },
          "ternary": {
           "aaxis": {
            "gridcolor": "white",
            "linecolor": "white",
            "ticks": ""
           },
           "baxis": {
            "gridcolor": "white",
            "linecolor": "white",
            "ticks": ""
           },
           "bgcolor": "#E5ECF6",
           "caxis": {
            "gridcolor": "white",
            "linecolor": "white",
            "ticks": ""
           }
          },
          "title": {
           "x": 0.05
          },
          "xaxis": {
           "automargin": true,
           "gridcolor": "white",
           "linecolor": "white",
           "ticks": "",
           "title": {
            "standoff": 15
           },
           "zerolinecolor": "white",
           "zerolinewidth": 2
          },
          "yaxis": {
           "automargin": true,
           "gridcolor": "white",
           "linecolor": "white",
           "ticks": "",
           "title": {
            "standoff": 15
           },
           "zerolinecolor": "white",
           "zerolinewidth": 2
          }
         }
        },
        "title": {
         "text": "Training and Validation Loss"
        },
        "xaxis": {
         "title": {
          "text": "Epoch"
         }
        },
        "yaxis": {
         "title": {
          "text": "Loss"
         }
        }
       }
      }
     },
     "metadata": {},
     "output_type": "display_data"
    }
   ],
   "source": [
    "# Plot training and validation loss\n",
    "fig = go.Figure()\n",
    "fig.add_trace(go.Scatter(\n",
    "    y=history.history[\"loss\"],\n",
    "    name=\"Training Loss\"\n",
    "))\n",
    "fig.add_trace(go.Scatter(\n",
    "    y=history.history[\"val_loss\"],\n",
    "    name=\"Validation Loss\"\n",
    "))\n",
    "fig.update_layout(\n",
    "    title=\"Training and Validation Loss\",\n",
    "    xaxis_title=\"Epoch\",\n",
    "    yaxis_title=\"Loss\"\n",
    ")\n",
    "fig.show()"
   ]
  },
  {
   "cell_type": "code",
   "execution_count": 75,
   "metadata": {},
   "outputs": [
    {
     "name": "stdout",
     "output_type": "stream",
     "text": [
      "3/3 [==============================] - 0s 1ms/step\n"
     ]
    }
   ],
   "source": [
    "preds = model.predict(x_test)"
   ]
  },
  {
   "cell_type": "code",
   "execution_count": 76,
   "metadata": {},
   "outputs": [],
   "source": [
    "diff = preds.flatten() - y_test\n",
    "percent_diff = (diff / y_test) * 100\n",
    "abs_percent_diff = np.abs(percent_diff)\n",
    "\n",
    "mean = np.mean(abs_percent_diff)\n",
    "std = np.std(abs_percent_diff)"
   ]
  },
  {
   "cell_type": "code",
   "execution_count": 79,
   "metadata": {},
   "outputs": [
    {
     "name": "stdout",
     "output_type": "stream",
     "text": [
      "avg. house price: $533,388.27\n",
      "mean: 24.48%, std: 21.28%\n"
     ]
    }
   ],
   "source": [
    "locale.setlocale(locale.LC_ALL, \"en_US.UTF-8\")\n",
    "print(f\"avg. house price: {locale.currency(df['price'].mean(), grouping=True)}\")\n",
    "print(f\"mean: {mean:.2f}%, std: {std:.2f}%\")"
   ]
  },
  {
   "cell_type": "code",
   "execution_count": null,
   "metadata": {},
   "outputs": [],
   "source": []
  }
 ],
 "metadata": {
  "kernelspec": {
   "display_name": "house_price_prediction",
   "language": "python",
   "name": "python3"
  },
  "language_info": {
   "codemirror_mode": {
    "name": "ipython",
    "version": 3
   },
   "file_extension": ".py",
   "mimetype": "text/x-python",
   "name": "python",
   "nbconvert_exporter": "python",
   "pygments_lexer": "ipython3",
   "version": "3.10.9 (main, Dec 19 2022, 17:35:49) [GCC 12.2.0]"
  },
  "orig_nbformat": 4,
  "vscode": {
   "interpreter": {
    "hash": "88e49f460336e1c7d0a72da31c4f88d2cb5680c60f51d185b02bf3e0f879382d"
   }
  }
 },
 "nbformat": 4,
 "nbformat_minor": 2
}
