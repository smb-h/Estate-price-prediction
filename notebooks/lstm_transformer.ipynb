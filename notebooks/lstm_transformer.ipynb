{
 "cells": [
  {
   "cell_type": "code",
   "execution_count": 1,
   "metadata": {},
   "outputs": [],
   "source": [
    "import pandas as pd\n",
    "import numpy as np\n",
    "from datetime import datetime\n",
    "import jdatetime\n",
    "from sklearn.model_selection import train_test_split\n",
    "from sklearn.metrics import (\n",
    "    mean_squared_error, mean_absolute_error, \n",
    "    r2_score, mean_absolute_percentage_error\n",
    ")\n",
    "from sklearn.preprocessing import MinMaxScaler\n",
    "from torch.utils.data import TensorDataset, DataLoader\n",
    "import plotly.express as px\n",
    "import plotly.graph_objects as go\n",
    "from tqdm import tqdm\n",
    "import torch\n",
    "from torch import nn\n",
    "import torch.optim as optim"
   ]
  },
  {
   "cell_type": "code",
   "execution_count": 2,
   "metadata": {},
   "outputs": [
    {
     "data": {
      "text/html": [
       "<div>\n",
       "<style scoped>\n",
       "    .dataframe tbody tr th:only-of-type {\n",
       "        vertical-align: middle;\n",
       "    }\n",
       "\n",
       "    .dataframe tbody tr th {\n",
       "        vertical-align: top;\n",
       "    }\n",
       "\n",
       "    .dataframe thead th {\n",
       "        text-align: right;\n",
       "    }\n",
       "</style>\n",
       "<table border=\"1\" class=\"dataframe\">\n",
       "  <thead>\n",
       "    <tr style=\"text-align: right;\">\n",
       "      <th></th>\n",
       "      <th>Date</th>\n",
       "      <th>b1</th>\n",
       "      <th>b2</th>\n",
       "      <th>b3</th>\n",
       "      <th>b4</th>\n",
       "      <th>b5</th>\n",
       "      <th>b7</th>\n",
       "      <th>b8</th>\n",
       "      <th>b9</th>\n",
       "      <th>b10</th>\n",
       "      <th>b14</th>\n",
       "      <th>b17</th>\n",
       "      <th>b18</th>\n",
       "      <th>B-23</th>\n",
       "      <th>B-24</th>\n",
       "    </tr>\n",
       "  </thead>\n",
       "  <tbody>\n",
       "    <tr>\n",
       "      <th>0</th>\n",
       "      <td>1360-01-01</td>\n",
       "      <td>2806.0</td>\n",
       "      <td>NaN</td>\n",
       "      <td>918.0</td>\n",
       "      <td>4380.0</td>\n",
       "      <td>25.1</td>\n",
       "      <td>17.0</td>\n",
       "      <td>19.0</td>\n",
       "      <td>77.7</td>\n",
       "      <td>270.0</td>\n",
       "      <td>1078.5</td>\n",
       "      <td>NaN</td>\n",
       "      <td>NaN</td>\n",
       "      <td>NaN</td>\n",
       "      <td>NaN</td>\n",
       "    </tr>\n",
       "    <tr>\n",
       "      <th>1</th>\n",
       "      <td>1360-04-01</td>\n",
       "      <td>2437.0</td>\n",
       "      <td>NaN</td>\n",
       "      <td>834.0</td>\n",
       "      <td>4552.0</td>\n",
       "      <td>20.8</td>\n",
       "      <td>18.0</td>\n",
       "      <td>19.0</td>\n",
       "      <td>81.3</td>\n",
       "      <td>270.0</td>\n",
       "      <td>1191.1</td>\n",
       "      <td>NaN</td>\n",
       "      <td>NaN</td>\n",
       "      <td>NaN</td>\n",
       "      <td>NaN</td>\n",
       "    </tr>\n",
       "    <tr>\n",
       "      <th>2</th>\n",
       "      <td>1360-07-01</td>\n",
       "      <td>2600.0</td>\n",
       "      <td>NaN</td>\n",
       "      <td>720.0</td>\n",
       "      <td>4653.8</td>\n",
       "      <td>23.3</td>\n",
       "      <td>18.0</td>\n",
       "      <td>20.0</td>\n",
       "      <td>79.6</td>\n",
       "      <td>270.0</td>\n",
       "      <td>1246.2</td>\n",
       "      <td>NaN</td>\n",
       "      <td>NaN</td>\n",
       "      <td>NaN</td>\n",
       "      <td>NaN</td>\n",
       "    </tr>\n",
       "    <tr>\n",
       "      <th>3</th>\n",
       "      <td>1360-10-01</td>\n",
       "      <td>2355.0</td>\n",
       "      <td>NaN</td>\n",
       "      <td>750.0</td>\n",
       "      <td>5236.1</td>\n",
       "      <td>18.4</td>\n",
       "      <td>20.0</td>\n",
       "      <td>19.0</td>\n",
       "      <td>80.8</td>\n",
       "      <td>270.0</td>\n",
       "      <td>1408.1</td>\n",
       "      <td>NaN</td>\n",
       "      <td>NaN</td>\n",
       "      <td>NaN</td>\n",
       "      <td>NaN</td>\n",
       "    </tr>\n",
       "    <tr>\n",
       "      <th>4</th>\n",
       "      <td>1361-01-01</td>\n",
       "      <td>2332.0</td>\n",
       "      <td>NaN</td>\n",
       "      <td>850.0</td>\n",
       "      <td>5250.2</td>\n",
       "      <td>44.8</td>\n",
       "      <td>20.0</td>\n",
       "      <td>22.0</td>\n",
       "      <td>82.4</td>\n",
       "      <td>350.0</td>\n",
       "      <td>1324.9</td>\n",
       "      <td>0.5</td>\n",
       "      <td>0.5</td>\n",
       "      <td>0.233333</td>\n",
       "      <td>NaN</td>\n",
       "    </tr>\n",
       "  </tbody>\n",
       "</table>\n",
       "</div>"
      ],
      "text/plain": [
       "         Date      b1  b2     b3      b4    b5    b7    b8    b9    b10  \\\n",
       "0  1360-01-01  2806.0 NaN  918.0  4380.0  25.1  17.0  19.0  77.7  270.0   \n",
       "1  1360-04-01  2437.0 NaN  834.0  4552.0  20.8  18.0  19.0  81.3  270.0   \n",
       "2  1360-07-01  2600.0 NaN  720.0  4653.8  23.3  18.0  20.0  79.6  270.0   \n",
       "3  1360-10-01  2355.0 NaN  750.0  5236.1  18.4  20.0  19.0  80.8  270.0   \n",
       "4  1361-01-01  2332.0 NaN  850.0  5250.2  44.8  20.0  22.0  82.4  350.0   \n",
       "\n",
       "      b14  b17  b18      B-23  B-24  \n",
       "0  1078.5  NaN  NaN       NaN   NaN  \n",
       "1  1191.1  NaN  NaN       NaN   NaN  \n",
       "2  1246.2  NaN  NaN       NaN   NaN  \n",
       "3  1408.1  NaN  NaN       NaN   NaN  \n",
       "4  1324.9  0.5  0.5  0.233333   NaN  "
      ]
     },
     "execution_count": 2,
     "metadata": {},
     "output_type": "execute_result"
    }
   ],
   "source": [
    "df = pd.read_csv('../data/processed/economics.csv')\n",
    "df.head()"
   ]
  },
  {
   "cell_type": "code",
   "execution_count": 3,
   "metadata": {},
   "outputs": [
    {
     "data": {
      "text/html": [
       "<div>\n",
       "<style scoped>\n",
       "    .dataframe tbody tr th:only-of-type {\n",
       "        vertical-align: middle;\n",
       "    }\n",
       "\n",
       "    .dataframe tbody tr th {\n",
       "        vertical-align: top;\n",
       "    }\n",
       "\n",
       "    .dataframe thead th {\n",
       "        text-align: right;\n",
       "    }\n",
       "</style>\n",
       "<table border=\"1\" class=\"dataframe\">\n",
       "  <thead>\n",
       "    <tr style=\"text-align: right;\">\n",
       "      <th></th>\n",
       "      <th>Date</th>\n",
       "      <th>b1</th>\n",
       "      <th>b2</th>\n",
       "      <th>b3</th>\n",
       "      <th>b4</th>\n",
       "      <th>b5</th>\n",
       "      <th>b7</th>\n",
       "      <th>b8</th>\n",
       "      <th>b9</th>\n",
       "      <th>b10</th>\n",
       "      <th>b14</th>\n",
       "      <th>b17</th>\n",
       "      <th>b18</th>\n",
       "      <th>B-23</th>\n",
       "      <th>B-24</th>\n",
       "    </tr>\n",
       "  </thead>\n",
       "  <tbody>\n",
       "    <tr>\n",
       "      <th>0</th>\n",
       "      <td>1981-03-21</td>\n",
       "      <td>2806.0</td>\n",
       "      <td>NaN</td>\n",
       "      <td>918.0</td>\n",
       "      <td>4380.0</td>\n",
       "      <td>25.1</td>\n",
       "      <td>17.0</td>\n",
       "      <td>19.0</td>\n",
       "      <td>77.7</td>\n",
       "      <td>270.0</td>\n",
       "      <td>1078.5</td>\n",
       "      <td>NaN</td>\n",
       "      <td>NaN</td>\n",
       "      <td>NaN</td>\n",
       "      <td>NaN</td>\n",
       "    </tr>\n",
       "    <tr>\n",
       "      <th>1</th>\n",
       "      <td>1981-06-22</td>\n",
       "      <td>2437.0</td>\n",
       "      <td>NaN</td>\n",
       "      <td>834.0</td>\n",
       "      <td>4552.0</td>\n",
       "      <td>20.8</td>\n",
       "      <td>18.0</td>\n",
       "      <td>19.0</td>\n",
       "      <td>81.3</td>\n",
       "      <td>270.0</td>\n",
       "      <td>1191.1</td>\n",
       "      <td>NaN</td>\n",
       "      <td>NaN</td>\n",
       "      <td>NaN</td>\n",
       "      <td>NaN</td>\n",
       "    </tr>\n",
       "    <tr>\n",
       "      <th>2</th>\n",
       "      <td>1981-09-23</td>\n",
       "      <td>2600.0</td>\n",
       "      <td>NaN</td>\n",
       "      <td>720.0</td>\n",
       "      <td>4653.8</td>\n",
       "      <td>23.3</td>\n",
       "      <td>18.0</td>\n",
       "      <td>20.0</td>\n",
       "      <td>79.6</td>\n",
       "      <td>270.0</td>\n",
       "      <td>1246.2</td>\n",
       "      <td>NaN</td>\n",
       "      <td>NaN</td>\n",
       "      <td>NaN</td>\n",
       "      <td>NaN</td>\n",
       "    </tr>\n",
       "    <tr>\n",
       "      <th>3</th>\n",
       "      <td>1981-12-22</td>\n",
       "      <td>2355.0</td>\n",
       "      <td>NaN</td>\n",
       "      <td>750.0</td>\n",
       "      <td>5236.1</td>\n",
       "      <td>18.4</td>\n",
       "      <td>20.0</td>\n",
       "      <td>19.0</td>\n",
       "      <td>80.8</td>\n",
       "      <td>270.0</td>\n",
       "      <td>1408.1</td>\n",
       "      <td>NaN</td>\n",
       "      <td>NaN</td>\n",
       "      <td>NaN</td>\n",
       "      <td>NaN</td>\n",
       "    </tr>\n",
       "    <tr>\n",
       "      <th>4</th>\n",
       "      <td>1982-03-21</td>\n",
       "      <td>2332.0</td>\n",
       "      <td>NaN</td>\n",
       "      <td>850.0</td>\n",
       "      <td>5250.2</td>\n",
       "      <td>44.8</td>\n",
       "      <td>20.0</td>\n",
       "      <td>22.0</td>\n",
       "      <td>82.4</td>\n",
       "      <td>350.0</td>\n",
       "      <td>1324.9</td>\n",
       "      <td>0.5</td>\n",
       "      <td>0.5</td>\n",
       "      <td>0.233333</td>\n",
       "      <td>NaN</td>\n",
       "    </tr>\n",
       "  </tbody>\n",
       "</table>\n",
       "</div>"
      ],
      "text/plain": [
       "        Date      b1  b2     b3      b4    b5    b7    b8    b9    b10  \\\n",
       "0 1981-03-21  2806.0 NaN  918.0  4380.0  25.1  17.0  19.0  77.7  270.0   \n",
       "1 1981-06-22  2437.0 NaN  834.0  4552.0  20.8  18.0  19.0  81.3  270.0   \n",
       "2 1981-09-23  2600.0 NaN  720.0  4653.8  23.3  18.0  20.0  79.6  270.0   \n",
       "3 1981-12-22  2355.0 NaN  750.0  5236.1  18.4  20.0  19.0  80.8  270.0   \n",
       "4 1982-03-21  2332.0 NaN  850.0  5250.2  44.8  20.0  22.0  82.4  350.0   \n",
       "\n",
       "      b14  b17  b18      B-23  B-24  \n",
       "0  1078.5  NaN  NaN       NaN   NaN  \n",
       "1  1191.1  NaN  NaN       NaN   NaN  \n",
       "2  1246.2  NaN  NaN       NaN   NaN  \n",
       "3  1408.1  NaN  NaN       NaN   NaN  \n",
       "4  1324.9  0.5  0.5  0.233333   NaN  "
      ]
     },
     "execution_count": 3,
     "metadata": {},
     "output_type": "execute_result"
    }
   ],
   "source": [
    "df['Date'] = df['Date'].apply(lambda x: jdatetime.datetime.strptime(x, '%Y-%m-%d'))\n",
    "df['Date'] = df['Date'].apply(lambda x: x.togregorian())\n",
    "df.head()"
   ]
  },
  {
   "cell_type": "code",
   "execution_count": 4,
   "metadata": {},
   "outputs": [
    {
     "data": {
      "text/html": [
       "<div>\n",
       "<style scoped>\n",
       "    .dataframe tbody tr th:only-of-type {\n",
       "        vertical-align: middle;\n",
       "    }\n",
       "\n",
       "    .dataframe tbody tr th {\n",
       "        vertical-align: top;\n",
       "    }\n",
       "\n",
       "    .dataframe thead th {\n",
       "        text-align: right;\n",
       "    }\n",
       "</style>\n",
       "<table border=\"1\" class=\"dataframe\">\n",
       "  <thead>\n",
       "    <tr style=\"text-align: right;\">\n",
       "      <th></th>\n",
       "      <th>Date</th>\n",
       "      <th>b1</th>\n",
       "      <th>b2</th>\n",
       "      <th>b3</th>\n",
       "      <th>b4</th>\n",
       "      <th>b5</th>\n",
       "      <th>b7</th>\n",
       "      <th>b8</th>\n",
       "      <th>b9</th>\n",
       "      <th>b10</th>\n",
       "      <th>b14</th>\n",
       "      <th>b17</th>\n",
       "      <th>b18</th>\n",
       "      <th>B-23</th>\n",
       "      <th>B-24</th>\n",
       "    </tr>\n",
       "  </thead>\n",
       "  <tbody>\n",
       "    <tr>\n",
       "      <th>0</th>\n",
       "      <td>353980800.0</td>\n",
       "      <td>2806.0</td>\n",
       "      <td>NaN</td>\n",
       "      <td>918.0</td>\n",
       "      <td>4380.0</td>\n",
       "      <td>25.1</td>\n",
       "      <td>17.0</td>\n",
       "      <td>19.0</td>\n",
       "      <td>77.7</td>\n",
       "      <td>270.0</td>\n",
       "      <td>1078.5</td>\n",
       "      <td>NaN</td>\n",
       "      <td>NaN</td>\n",
       "      <td>NaN</td>\n",
       "      <td>NaN</td>\n",
       "    </tr>\n",
       "    <tr>\n",
       "      <th>1</th>\n",
       "      <td>362016000.0</td>\n",
       "      <td>2437.0</td>\n",
       "      <td>NaN</td>\n",
       "      <td>834.0</td>\n",
       "      <td>4552.0</td>\n",
       "      <td>20.8</td>\n",
       "      <td>18.0</td>\n",
       "      <td>19.0</td>\n",
       "      <td>81.3</td>\n",
       "      <td>270.0</td>\n",
       "      <td>1191.1</td>\n",
       "      <td>NaN</td>\n",
       "      <td>NaN</td>\n",
       "      <td>NaN</td>\n",
       "      <td>NaN</td>\n",
       "    </tr>\n",
       "    <tr>\n",
       "      <th>2</th>\n",
       "      <td>370051200.0</td>\n",
       "      <td>2600.0</td>\n",
       "      <td>NaN</td>\n",
       "      <td>720.0</td>\n",
       "      <td>4653.8</td>\n",
       "      <td>23.3</td>\n",
       "      <td>18.0</td>\n",
       "      <td>20.0</td>\n",
       "      <td>79.6</td>\n",
       "      <td>270.0</td>\n",
       "      <td>1246.2</td>\n",
       "      <td>NaN</td>\n",
       "      <td>NaN</td>\n",
       "      <td>NaN</td>\n",
       "      <td>NaN</td>\n",
       "    </tr>\n",
       "    <tr>\n",
       "      <th>3</th>\n",
       "      <td>377827200.0</td>\n",
       "      <td>2355.0</td>\n",
       "      <td>NaN</td>\n",
       "      <td>750.0</td>\n",
       "      <td>5236.1</td>\n",
       "      <td>18.4</td>\n",
       "      <td>20.0</td>\n",
       "      <td>19.0</td>\n",
       "      <td>80.8</td>\n",
       "      <td>270.0</td>\n",
       "      <td>1408.1</td>\n",
       "      <td>NaN</td>\n",
       "      <td>NaN</td>\n",
       "      <td>NaN</td>\n",
       "      <td>NaN</td>\n",
       "    </tr>\n",
       "    <tr>\n",
       "      <th>4</th>\n",
       "      <td>385516800.0</td>\n",
       "      <td>2332.0</td>\n",
       "      <td>NaN</td>\n",
       "      <td>850.0</td>\n",
       "      <td>5250.2</td>\n",
       "      <td>44.8</td>\n",
       "      <td>20.0</td>\n",
       "      <td>22.0</td>\n",
       "      <td>82.4</td>\n",
       "      <td>350.0</td>\n",
       "      <td>1324.9</td>\n",
       "      <td>0.5</td>\n",
       "      <td>0.5</td>\n",
       "      <td>0.233333</td>\n",
       "      <td>NaN</td>\n",
       "    </tr>\n",
       "  </tbody>\n",
       "</table>\n",
       "</div>"
      ],
      "text/plain": [
       "          Date      b1  b2     b3      b4    b5    b7    b8    b9    b10  \\\n",
       "0  353980800.0  2806.0 NaN  918.0  4380.0  25.1  17.0  19.0  77.7  270.0   \n",
       "1  362016000.0  2437.0 NaN  834.0  4552.0  20.8  18.0  19.0  81.3  270.0   \n",
       "2  370051200.0  2600.0 NaN  720.0  4653.8  23.3  18.0  20.0  79.6  270.0   \n",
       "3  377827200.0  2355.0 NaN  750.0  5236.1  18.4  20.0  19.0  80.8  270.0   \n",
       "4  385516800.0  2332.0 NaN  850.0  5250.2  44.8  20.0  22.0  82.4  350.0   \n",
       "\n",
       "      b14  b17  b18      B-23  B-24  \n",
       "0  1078.5  NaN  NaN       NaN   NaN  \n",
       "1  1191.1  NaN  NaN       NaN   NaN  \n",
       "2  1246.2  NaN  NaN       NaN   NaN  \n",
       "3  1408.1  NaN  NaN       NaN   NaN  \n",
       "4  1324.9  0.5  0.5  0.233333   NaN  "
      ]
     },
     "execution_count": 4,
     "metadata": {},
     "output_type": "execute_result"
    }
   ],
   "source": [
    "# Date to Unix timestamp\n",
    "df['Date'] = pd.to_datetime(df['Date']).astype(int) / 10**9\n",
    "df.head()"
   ]
  },
  {
   "cell_type": "code",
   "execution_count": 5,
   "metadata": {},
   "outputs": [
    {
     "data": {
      "text/plain": [
       "Date    float64\n",
       "b1      float64\n",
       "b2      float64\n",
       "b3      float64\n",
       "b4      float64\n",
       "b5      float64\n",
       "b7      float64\n",
       "b8      float64\n",
       "b9      float64\n",
       "b10     float64\n",
       "b14     float64\n",
       "b17     float64\n",
       "b18     float64\n",
       "B-23    float64\n",
       "B-24    float64\n",
       "dtype: object"
      ]
     },
     "execution_count": 5,
     "metadata": {},
     "output_type": "execute_result"
    }
   ],
   "source": [
    "df.dtypes"
   ]
  },
  {
   "cell_type": "code",
   "execution_count": 6,
   "metadata": {},
   "outputs": [
    {
     "data": {
      "text/plain": [
       "Date    0.000000\n",
       "b1      0.046512\n",
       "b2      0.255814\n",
       "b3      0.046512\n",
       "b4      0.046512\n",
       "b5      0.046512\n",
       "b7      0.046512\n",
       "b8      0.000000\n",
       "b9      0.046512\n",
       "b10     0.046512\n",
       "b14     0.046512\n",
       "b17     0.069767\n",
       "b18     0.069767\n",
       "B-23    0.069767\n",
       "B-24    0.279070\n",
       "dtype: float64"
      ]
     },
     "execution_count": 6,
     "metadata": {},
     "output_type": "execute_result"
    }
   ],
   "source": [
    "df['b8'] = df['b8'].fillna(method='ffill')\n",
    "df.isna().sum() / len(df)"
   ]
  },
  {
   "cell_type": "code",
   "execution_count": 7,
   "metadata": {},
   "outputs": [
    {
     "data": {
      "text/html": [
       "<div>\n",
       "<style scoped>\n",
       "    .dataframe tbody tr th:only-of-type {\n",
       "        vertical-align: middle;\n",
       "    }\n",
       "\n",
       "    .dataframe tbody tr th {\n",
       "        vertical-align: top;\n",
       "    }\n",
       "\n",
       "    .dataframe thead th {\n",
       "        text-align: right;\n",
       "    }\n",
       "</style>\n",
       "<table border=\"1\" class=\"dataframe\">\n",
       "  <thead>\n",
       "    <tr style=\"text-align: right;\">\n",
       "      <th></th>\n",
       "      <th>Date</th>\n",
       "      <th>b1</th>\n",
       "      <th>b2</th>\n",
       "      <th>b3</th>\n",
       "      <th>b4</th>\n",
       "      <th>b5</th>\n",
       "      <th>b7</th>\n",
       "      <th>b8</th>\n",
       "      <th>b9</th>\n",
       "      <th>b10</th>\n",
       "      <th>b14</th>\n",
       "      <th>b17</th>\n",
       "      <th>b18</th>\n",
       "      <th>B-23</th>\n",
       "      <th>B-24</th>\n",
       "    </tr>\n",
       "  </thead>\n",
       "  <tbody>\n",
       "    <tr>\n",
       "      <th>0</th>\n",
       "      <td>-1.000000</td>\n",
       "      <td>-0.664623</td>\n",
       "      <td>NaN</td>\n",
       "      <td>-0.965079</td>\n",
       "      <td>-1.000000</td>\n",
       "      <td>-0.999941</td>\n",
       "      <td>-1.000000</td>\n",
       "      <td>-1.000000</td>\n",
       "      <td>-0.999380</td>\n",
       "      <td>-1.000000</td>\n",
       "      <td>-1.000000</td>\n",
       "      <td>NaN</td>\n",
       "      <td>NaN</td>\n",
       "      <td>NaN</td>\n",
       "      <td>NaN</td>\n",
       "    </tr>\n",
       "    <tr>\n",
       "      <th>1</th>\n",
       "      <td>-0.988089</td>\n",
       "      <td>-0.745403</td>\n",
       "      <td>NaN</td>\n",
       "      <td>-0.979894</td>\n",
       "      <td>-0.999993</td>\n",
       "      <td>-0.999978</td>\n",
       "      <td>-0.999971</td>\n",
       "      <td>-1.000000</td>\n",
       "      <td>-0.999211</td>\n",
       "      <td>-1.000000</td>\n",
       "      <td>-0.999739</td>\n",
       "      <td>NaN</td>\n",
       "      <td>NaN</td>\n",
       "      <td>NaN</td>\n",
       "      <td>NaN</td>\n",
       "    </tr>\n",
       "    <tr>\n",
       "      <th>2</th>\n",
       "      <td>-0.976178</td>\n",
       "      <td>-0.709720</td>\n",
       "      <td>NaN</td>\n",
       "      <td>-1.000000</td>\n",
       "      <td>-0.999989</td>\n",
       "      <td>-0.999956</td>\n",
       "      <td>-0.999971</td>\n",
       "      <td>-0.999977</td>\n",
       "      <td>-0.999291</td>\n",
       "      <td>-1.000000</td>\n",
       "      <td>-0.999611</td>\n",
       "      <td>NaN</td>\n",
       "      <td>NaN</td>\n",
       "      <td>NaN</td>\n",
       "      <td>NaN</td>\n",
       "    </tr>\n",
       "    <tr>\n",
       "      <th>3</th>\n",
       "      <td>-0.964652</td>\n",
       "      <td>-0.763354</td>\n",
       "      <td>NaN</td>\n",
       "      <td>-0.994709</td>\n",
       "      <td>-0.999965</td>\n",
       "      <td>-0.999998</td>\n",
       "      <td>-0.999912</td>\n",
       "      <td>-1.000000</td>\n",
       "      <td>-0.999234</td>\n",
       "      <td>-1.000000</td>\n",
       "      <td>-0.999236</td>\n",
       "      <td>NaN</td>\n",
       "      <td>NaN</td>\n",
       "      <td>NaN</td>\n",
       "      <td>NaN</td>\n",
       "    </tr>\n",
       "    <tr>\n",
       "      <th>4</th>\n",
       "      <td>-0.953253</td>\n",
       "      <td>-0.768389</td>\n",
       "      <td>NaN</td>\n",
       "      <td>-0.977072</td>\n",
       "      <td>-0.999964</td>\n",
       "      <td>-0.999772</td>\n",
       "      <td>-0.999912</td>\n",
       "      <td>-0.999932</td>\n",
       "      <td>-0.999159</td>\n",
       "      <td>-0.999422</td>\n",
       "      <td>-0.999429</td>\n",
       "      <td>-1.0</td>\n",
       "      <td>-1.0</td>\n",
       "      <td>-0.999861</td>\n",
       "      <td>NaN</td>\n",
       "    </tr>\n",
       "  </tbody>\n",
       "</table>\n",
       "</div>"
      ],
      "text/plain": [
       "       Date        b1  b2        b3        b4        b5        b7        b8  \\\n",
       "0 -1.000000 -0.664623 NaN -0.965079 -1.000000 -0.999941 -1.000000 -1.000000   \n",
       "1 -0.988089 -0.745403 NaN -0.979894 -0.999993 -0.999978 -0.999971 -1.000000   \n",
       "2 -0.976178 -0.709720 NaN -1.000000 -0.999989 -0.999956 -0.999971 -0.999977   \n",
       "3 -0.964652 -0.763354 NaN -0.994709 -0.999965 -0.999998 -0.999912 -1.000000   \n",
       "4 -0.953253 -0.768389 NaN -0.977072 -0.999964 -0.999772 -0.999912 -0.999932   \n",
       "\n",
       "         b9       b10       b14  b17  b18      B-23  B-24  \n",
       "0 -0.999380 -1.000000 -1.000000  NaN  NaN       NaN   NaN  \n",
       "1 -0.999211 -1.000000 -0.999739  NaN  NaN       NaN   NaN  \n",
       "2 -0.999291 -1.000000 -0.999611  NaN  NaN       NaN   NaN  \n",
       "3 -0.999234 -1.000000 -0.999236  NaN  NaN       NaN   NaN  \n",
       "4 -0.999159 -0.999422 -0.999429 -1.0 -1.0 -0.999861   NaN  "
      ]
     },
     "execution_count": 7,
     "metadata": {},
     "output_type": "execute_result"
    }
   ],
   "source": [
    "# normalize the data\n",
    "scaler = MinMaxScaler(feature_range=(-1, 1))\n",
    "\n",
    "df_cols = df.columns\n",
    "\n",
    "df = scaler.fit_transform(df)\n",
    "\n",
    "df = pd.DataFrame(df, columns=df_cols)\n",
    "df.head()"
   ]
  },
  {
   "cell_type": "code",
   "execution_count": 9,
   "metadata": {},
   "outputs": [
    {
     "name": "stdout",
     "output_type": "stream",
     "text": [
      "(124,) (124,) (22,) (22,) (26,) (26,)\n"
     ]
    }
   ],
   "source": [
    "# split data to train and test\n",
    "# x_train, x_test, y_train, y_test = train_test_split(\n",
    "#     df[[c for c in df if c not in ['y']]], df['y'], test_size=0.2, random_state=42\n",
    "# )\n",
    "x_train, x_test, y_train, y_test = train_test_split(\n",
    "    df['Date'], df['b8'], test_size=0.15, random_state=42\n",
    ")\n",
    "x_train, x_val, y_train, y_val = train_test_split(\n",
    "    x_train, y_train, test_size=0.15, random_state=42\n",
    ")\n",
    "\n",
    "print(x_train.shape, y_train.shape, x_val.shape, y_val.shape, x_test.shape, y_test.shape)"
   ]
  },
  {
   "cell_type": "code",
   "execution_count": 10,
   "metadata": {},
   "outputs": [],
   "source": [
    "x_train_normalized = scaler.fit_transform(x_train.values.reshape(-1, 1))\n",
    "x_val_normalized = scaler.transform(x_val.values.reshape(-1, 1))\n",
    "x_test_normalized = scaler.transform(x_test.values.reshape(-1, 1))\n",
    "\n",
    "# Reshape data from [samples, features] to [samples, timesteps, features] \n",
    "x_train_final = x_train_normalized.reshape(-1, 1, 1)\n",
    "x_val_final = x_val_normalized.reshape(-1, 1, 1)\n",
    "x_test_final = x_test_normalized.reshape(-1, 1, 1)\n",
    "\n",
    "x_train_tensor = torch.from_numpy(x_train_final).float()\n",
    "y_train_tensor = torch.from_numpy(y_train.values).float()\n",
    "x_val_tensor = torch.from_numpy(x_val_final).float()\n",
    "y_val_tensor = torch.from_numpy(y_val.values).float()\n",
    "x_test_tensor = torch.from_numpy(x_test_final).float()\n",
    "y_test_tensor = torch.from_numpy(y_test.values).float()\n",
    "\n",
    "train_data = TensorDataset(x_train_tensor, y_train_tensor)\n",
    "train_loader = DataLoader(train_data, batch_size=32)\n",
    "val_data = TensorDataset(x_val_tensor, y_val_tensor)\n",
    "val_loader = DataLoader(val_data, batch_size=32)\n",
    "test_data = TensorDataset(x_test_tensor, y_test_tensor)\n",
    "test_loader = DataLoader(test_data, batch_size=32)"
   ]
  },
  {
   "cell_type": "code",
   "execution_count": 11,
   "metadata": {},
   "outputs": [],
   "source": [
    "class Model(nn.Module):\n",
    "    def __init__(self, feature_size, num_layers, dropout=0.1):\n",
    "        super(Model, self).__init__()\n",
    "        self.lstm = nn.LSTM(feature_size, feature_size, num_layers=num_layers, batch_first=True)\n",
    "        transformer_layer = nn.TransformerEncoderLayer(d_model=feature_size, nhead=1, dropout=dropout)\n",
    "        self.transformer = nn.TransformerEncoder(transformer_layer, num_layers=num_layers)\n",
    "        self.fc = nn.Linear(feature_size, 1)\n",
    "\n",
    "    def forward(self, x):\n",
    "        x, _ = self.lstm(x)\n",
    "        x = self.transformer(x)\n",
    "        x = self.fc(x)\n",
    "        return x"
   ]
  },
  {
   "cell_type": "code",
   "execution_count": 15,
   "metadata": {},
   "outputs": [
    {
     "name": "stderr",
     "output_type": "stream",
     "text": [
      "/home/smbh/.venvs/house-price-prediction/lib/python3.11/site-packages/torch/nn/modules/loss.py:536: UserWarning: Using a target size (torch.Size([32])) that is different to the input size (torch.Size([32, 1, 1])). This will likely lead to incorrect results due to broadcasting. Please ensure they have the same size.\n",
      "  return F.mse_loss(input, target, reduction=self.reduction)\n",
      "/home/smbh/.venvs/house-price-prediction/lib/python3.11/site-packages/torch/nn/modules/loss.py:536: UserWarning: Using a target size (torch.Size([28])) that is different to the input size (torch.Size([28, 1, 1])). This will likely lead to incorrect results due to broadcasting. Please ensure they have the same size.\n",
      "  return F.mse_loss(input, target, reduction=self.reduction)\n",
      "/home/smbh/.venvs/house-price-prediction/lib/python3.11/site-packages/torch/nn/modules/loss.py:536: UserWarning: Using a target size (torch.Size([22])) that is different to the input size (torch.Size([22, 1, 1])). This will likely lead to incorrect results due to broadcasting. Please ensure they have the same size.\n",
      "  return F.mse_loss(input, target, reduction=self.reduction)\n"
     ]
    },
    {
     "name": "stdout",
     "output_type": "stream",
     "text": [
      "Epoch 1/256, Train Loss: 0.3837, Val Loss: 0.5236\n",
      "Epoch 2/256, Train Loss: 0.3780, Val Loss: 0.5197\n",
      "Epoch 3/256, Train Loss: 0.3724, Val Loss: 0.5160\n",
      "Epoch 4/256, Train Loss: 0.3668, Val Loss: 0.5123\n",
      "Epoch 5/256, Train Loss: 0.3613, Val Loss: 0.5087\n",
      "Epoch 6/256, Train Loss: 0.3560, Val Loss: 0.5052\n",
      "Epoch 7/256, Train Loss: 0.3507, Val Loss: 0.5018\n",
      "Epoch 8/256, Train Loss: 0.3455, Val Loss: 0.4985\n",
      "Epoch 9/256, Train Loss: 0.3404, Val Loss: 0.4953\n",
      "Epoch 10/256, Train Loss: 0.3354, Val Loss: 0.4922\n",
      "Epoch 11/256, Train Loss: 0.3306, Val Loss: 0.4892\n",
      "Epoch 12/256, Train Loss: 0.3258, Val Loss: 0.4863\n",
      "Epoch 13/256, Train Loss: 0.3211, Val Loss: 0.4835\n",
      "Epoch 14/256, Train Loss: 0.3166, Val Loss: 0.4808\n",
      "Epoch 15/256, Train Loss: 0.3121, Val Loss: 0.4783\n",
      "Epoch 16/256, Train Loss: 0.3078, Val Loss: 0.4758\n",
      "Epoch 17/256, Train Loss: 0.3036, Val Loss: 0.4734\n",
      "Epoch 18/256, Train Loss: 0.2995, Val Loss: 0.4711\n",
      "Epoch 19/256, Train Loss: 0.2955, Val Loss: 0.4690\n",
      "Epoch 20/256, Train Loss: 0.2916, Val Loss: 0.4669\n",
      "Epoch 21/256, Train Loss: 0.2878, Val Loss: 0.4649\n",
      "Epoch 22/256, Train Loss: 0.2842, Val Loss: 0.4631\n",
      "Epoch 23/256, Train Loss: 0.2806, Val Loss: 0.4613\n",
      "Epoch 24/256, Train Loss: 0.2772, Val Loss: 0.4596\n",
      "Epoch 25/256, Train Loss: 0.2738, Val Loss: 0.4580\n",
      "Epoch 26/256, Train Loss: 0.2706, Val Loss: 0.4565\n",
      "Epoch 27/256, Train Loss: 0.2675, Val Loss: 0.4552\n",
      "Epoch 28/256, Train Loss: 0.2645, Val Loss: 0.4539\n",
      "Epoch 29/256, Train Loss: 0.2616, Val Loss: 0.4527\n",
      "Epoch 30/256, Train Loss: 0.2588, Val Loss: 0.4515\n",
      "Epoch 31/256, Train Loss: 0.2561, Val Loss: 0.4505\n",
      "Epoch 32/256, Train Loss: 0.2535, Val Loss: 0.4496\n",
      "Epoch 33/256, Train Loss: 0.2511, Val Loss: 0.4487\n",
      "Epoch 34/256, Train Loss: 0.2487, Val Loss: 0.4479\n",
      "Epoch 35/256, Train Loss: 0.2464, Val Loss: 0.4472\n",
      "Epoch 36/256, Train Loss: 0.2442, Val Loss: 0.4466\n",
      "Epoch 37/256, Train Loss: 0.2421, Val Loss: 0.4460\n",
      "Epoch 38/256, Train Loss: 0.2401, Val Loss: 0.4455\n",
      "Epoch 39/256, Train Loss: 0.2382, Val Loss: 0.4451\n",
      "Epoch 40/256, Train Loss: 0.2364, Val Loss: 0.4447\n",
      "Epoch 41/256, Train Loss: 0.2347, Val Loss: 0.4444\n",
      "Epoch 42/256, Train Loss: 0.2330, Val Loss: 0.4442\n",
      "Epoch 43/256, Train Loss: 0.2314, Val Loss: 0.4440\n",
      "Epoch 44/256, Train Loss: 0.2300, Val Loss: 0.4439\n",
      "Epoch 45/256, Train Loss: 0.2286, Val Loss: 0.4438\n",
      "Epoch 46/256, Train Loss: 0.2272, Val Loss: 0.4438\n",
      "Epoch 47/256, Train Loss: 0.2260, Val Loss: 0.4438\n",
      "Epoch 48/256, Train Loss: 0.2248, Val Loss: 0.4438\n",
      "Epoch 49/256, Train Loss: 0.2237, Val Loss: 0.4439\n",
      "Epoch 50/256, Train Loss: 0.2226, Val Loss: 0.4440\n",
      "Epoch 51/256, Train Loss: 0.2216, Val Loss: 0.4442\n",
      "Epoch 52/256, Train Loss: 0.2207, Val Loss: 0.4444\n",
      "Epoch 53/256, Train Loss: 0.2198, Val Loss: 0.4446\n",
      "Epoch 54/256, Train Loss: 0.2190, Val Loss: 0.4449\n",
      "Epoch 55/256, Train Loss: 0.2182, Val Loss: 0.4452\n",
      "Epoch 56/256, Train Loss: 0.2175, Val Loss: 0.4454\n",
      "Epoch 57/256, Train Loss: 0.2168, Val Loss: 0.4458\n",
      "Epoch 58/256, Train Loss: 0.2162, Val Loss: 0.4461\n",
      "Epoch 59/256, Train Loss: 0.2156, Val Loss: 0.4464\n",
      "Epoch 60/256, Train Loss: 0.2151, Val Loss: 0.4468\n",
      "Epoch 61/256, Train Loss: 0.2146, Val Loss: 0.4472\n",
      "Epoch 62/256, Train Loss: 0.2141, Val Loss: 0.4475\n",
      "Epoch 63/256, Train Loss: 0.2137, Val Loss: 0.4479\n",
      "Epoch 64/256, Train Loss: 0.2133, Val Loss: 0.4483\n",
      "Epoch 65/256, Train Loss: 0.2129, Val Loss: 0.4487\n",
      "Epoch 66/256, Train Loss: 0.2125, Val Loss: 0.4491\n",
      "Epoch 67/256, Train Loss: 0.2122, Val Loss: 0.4495\n",
      "Epoch 68/256, Train Loss: 0.2119, Val Loss: 0.4499\n",
      "Epoch 69/256, Train Loss: 0.2117, Val Loss: 0.4503\n",
      "Epoch 70/256, Train Loss: 0.2114, Val Loss: 0.4506\n",
      "Epoch 71/256, Train Loss: 0.2112, Val Loss: 0.4510\n",
      "Epoch 72/256, Train Loss: 0.2110, Val Loss: 0.4514\n",
      "Epoch 73/256, Train Loss: 0.2108, Val Loss: 0.4518\n",
      "Epoch 74/256, Train Loss: 0.2106, Val Loss: 0.4521\n",
      "Epoch 75/256, Train Loss: 0.2105, Val Loss: 0.4525\n",
      "Epoch 76/256, Train Loss: 0.2103, Val Loss: 0.4529\n",
      "Epoch 77/256, Train Loss: 0.2102, Val Loss: 0.4532\n",
      "Epoch 78/256, Train Loss: 0.2101, Val Loss: 0.4535\n",
      "Epoch 79/256, Train Loss: 0.2100, Val Loss: 0.4539\n",
      "Epoch 80/256, Train Loss: 0.2099, Val Loss: 0.4542\n",
      "Epoch 81/256, Train Loss: 0.2098, Val Loss: 0.4545\n",
      "Epoch 82/256, Train Loss: 0.2097, Val Loss: 0.4548\n",
      "Epoch 83/256, Train Loss: 0.2096, Val Loss: 0.4551\n",
      "Epoch 84/256, Train Loss: 0.2096, Val Loss: 0.4553\n",
      "Epoch 85/256, Train Loss: 0.2095, Val Loss: 0.4556\n",
      "Epoch 86/256, Train Loss: 0.2094, Val Loss: 0.4558\n",
      "Epoch 87/256, Train Loss: 0.2094, Val Loss: 0.4561\n",
      "Epoch 88/256, Train Loss: 0.2093, Val Loss: 0.4563\n",
      "Epoch 89/256, Train Loss: 0.2093, Val Loss: 0.4566\n",
      "Epoch 90/256, Train Loss: 0.2093, Val Loss: 0.4568\n",
      "Epoch 91/256, Train Loss: 0.2092, Val Loss: 0.4570\n",
      "Epoch 92/256, Train Loss: 0.2092, Val Loss: 0.4572\n",
      "Epoch 93/256, Train Loss: 0.2092, Val Loss: 0.4574\n",
      "Epoch 94/256, Train Loss: 0.2091, Val Loss: 0.4576\n",
      "Epoch 95/256, Train Loss: 0.2091, Val Loss: 0.4578\n",
      "Epoch 96/256, Train Loss: 0.2091, Val Loss: 0.4579\n",
      "Epoch 97/256, Train Loss: 0.2091, Val Loss: 0.4581\n",
      "Epoch 98/256, Train Loss: 0.2091, Val Loss: 0.4583\n",
      "Epoch 99/256, Train Loss: 0.2091, Val Loss: 0.4584\n",
      "Epoch 100/256, Train Loss: 0.2091, Val Loss: 0.4586\n",
      "Epoch 101/256, Train Loss: 0.2090, Val Loss: 0.4587\n",
      "Epoch 102/256, Train Loss: 0.2090, Val Loss: 0.4588\n",
      "Epoch 103/256, Train Loss: 0.2090, Val Loss: 0.4589\n",
      "Epoch 104/256, Train Loss: 0.2090, Val Loss: 0.4591\n",
      "Epoch 105/256, Train Loss: 0.2090, Val Loss: 0.4591\n",
      "Epoch 106/256, Train Loss: 0.2090, Val Loss: 0.4592\n",
      "Epoch 107/256, Train Loss: 0.2090, Val Loss: 0.4593\n",
      "Epoch 108/256, Train Loss: 0.2090, Val Loss: 0.4595\n",
      "Epoch 109/256, Train Loss: 0.2090, Val Loss: 0.4595\n",
      "Epoch 110/256, Train Loss: 0.2090, Val Loss: 0.4596\n",
      "Epoch 111/256, Train Loss: 0.2090, Val Loss: 0.4597\n",
      "Epoch 112/256, Train Loss: 0.2090, Val Loss: 0.4598\n",
      "Epoch 113/256, Train Loss: 0.2090, Val Loss: 0.4598\n",
      "Epoch 114/256, Train Loss: 0.2090, Val Loss: 0.4599\n",
      "Epoch 115/256, Train Loss: 0.2090, Val Loss: 0.4599\n",
      "Epoch 116/256, Train Loss: 0.2090, Val Loss: 0.4600\n",
      "Epoch 117/256, Train Loss: 0.2090, Val Loss: 0.4601\n",
      "Epoch 118/256, Train Loss: 0.2090, Val Loss: 0.4601\n",
      "Epoch 119/256, Train Loss: 0.2090, Val Loss: 0.4602\n",
      "Epoch 120/256, Train Loss: 0.2090, Val Loss: 0.4603\n",
      "Epoch 121/256, Train Loss: 0.2090, Val Loss: 0.4603\n",
      "Epoch 122/256, Train Loss: 0.2090, Val Loss: 0.4603\n",
      "Epoch 123/256, Train Loss: 0.2090, Val Loss: 0.4604\n",
      "Epoch 124/256, Train Loss: 0.2090, Val Loss: 0.4604\n",
      "Epoch 125/256, Train Loss: 0.2090, Val Loss: 0.4604\n",
      "Epoch 126/256, Train Loss: 0.2090, Val Loss: 0.4604\n",
      "Epoch 127/256, Train Loss: 0.2090, Val Loss: 0.4605\n",
      "Epoch 128/256, Train Loss: 0.2090, Val Loss: 0.4605\n",
      "Epoch 129/256, Train Loss: 0.2090, Val Loss: 0.4605\n",
      "Epoch 130/256, Train Loss: 0.2090, Val Loss: 0.4605\n",
      "Epoch 131/256, Train Loss: 0.2090, Val Loss: 0.4606\n",
      "Epoch 132/256, Train Loss: 0.2090, Val Loss: 0.4606\n",
      "Epoch 133/256, Train Loss: 0.2090, Val Loss: 0.4606\n",
      "Epoch 134/256, Train Loss: 0.2090, Val Loss: 0.4607\n",
      "Epoch 135/256, Train Loss: 0.2090, Val Loss: 0.4607\n",
      "Epoch 136/256, Train Loss: 0.2090, Val Loss: 0.4607\n",
      "Epoch 137/256, Train Loss: 0.2090, Val Loss: 0.4607\n",
      "Epoch 138/256, Train Loss: 0.2090, Val Loss: 0.4607\n",
      "Epoch 139/256, Train Loss: 0.2090, Val Loss: 0.4608\n",
      "Epoch 140/256, Train Loss: 0.2090, Val Loss: 0.4608\n",
      "Epoch 141/256, Train Loss: 0.2090, Val Loss: 0.4608\n",
      "Epoch 142/256, Train Loss: 0.2090, Val Loss: 0.4608\n",
      "Epoch 143/256, Train Loss: 0.2090, Val Loss: 0.4608\n",
      "Epoch 144/256, Train Loss: 0.2090, Val Loss: 0.4608\n",
      "Epoch 145/256, Train Loss: 0.2090, Val Loss: 0.4608\n",
      "Epoch 146/256, Train Loss: 0.2090, Val Loss: 0.4608\n",
      "Epoch 147/256, Train Loss: 0.2090, Val Loss: 0.4608\n",
      "Epoch 148/256, Train Loss: 0.2090, Val Loss: 0.4608\n",
      "Epoch 149/256, Train Loss: 0.2090, Val Loss: 0.4608\n",
      "Epoch 150/256, Train Loss: 0.2090, Val Loss: 0.4608\n",
      "Epoch 151/256, Train Loss: 0.2090, Val Loss: 0.4609\n",
      "Epoch 152/256, Train Loss: 0.2090, Val Loss: 0.4608\n",
      "Epoch 153/256, Train Loss: 0.2090, Val Loss: 0.4608\n",
      "Epoch 154/256, Train Loss: 0.2090, Val Loss: 0.4609\n",
      "Epoch 155/256, Train Loss: 0.2090, Val Loss: 0.4608\n",
      "Epoch 156/256, Train Loss: 0.2090, Val Loss: 0.4609\n",
      "Epoch 157/256, Train Loss: 0.2090, Val Loss: 0.4609\n",
      "Epoch 158/256, Train Loss: 0.2090, Val Loss: 0.4609\n",
      "Epoch 159/256, Train Loss: 0.2090, Val Loss: 0.4609\n",
      "Epoch 160/256, Train Loss: 0.2090, Val Loss: 0.4609\n",
      "Epoch 161/256, Train Loss: 0.2090, Val Loss: 0.4609\n",
      "Epoch 162/256, Train Loss: 0.2090, Val Loss: 0.4609\n",
      "Epoch 163/256, Train Loss: 0.2090, Val Loss: 0.4609\n",
      "Epoch 164/256, Train Loss: 0.2090, Val Loss: 0.4609\n",
      "Epoch 165/256, Train Loss: 0.2090, Val Loss: 0.4609\n",
      "Epoch 166/256, Train Loss: 0.2090, Val Loss: 0.4609\n",
      "Epoch 167/256, Train Loss: 0.2090, Val Loss: 0.4609\n",
      "Epoch 168/256, Train Loss: 0.2090, Val Loss: 0.4609\n",
      "Epoch 169/256, Train Loss: 0.2090, Val Loss: 0.4609\n",
      "Epoch 170/256, Train Loss: 0.2090, Val Loss: 0.4609\n",
      "Epoch 171/256, Train Loss: 0.2090, Val Loss: 0.4609\n",
      "Epoch 172/256, Train Loss: 0.2090, Val Loss: 0.4609\n",
      "Epoch 173/256, Train Loss: 0.2090, Val Loss: 0.4609\n",
      "Epoch 174/256, Train Loss: 0.2090, Val Loss: 0.4609\n",
      "Epoch 175/256, Train Loss: 0.2090, Val Loss: 0.4609\n",
      "Epoch 176/256, Train Loss: 0.2090, Val Loss: 0.4609\n",
      "Epoch 177/256, Train Loss: 0.2090, Val Loss: 0.4609\n",
      "Epoch 178/256, Train Loss: 0.2090, Val Loss: 0.4609\n",
      "Epoch 179/256, Train Loss: 0.2090, Val Loss: 0.4609\n",
      "Epoch 180/256, Train Loss: 0.2090, Val Loss: 0.4609\n",
      "Epoch 181/256, Train Loss: 0.2090, Val Loss: 0.4609\n",
      "Epoch 182/256, Train Loss: 0.2090, Val Loss: 0.4609\n",
      "Epoch 183/256, Train Loss: 0.2090, Val Loss: 0.4609\n",
      "Epoch 184/256, Train Loss: 0.2090, Val Loss: 0.4609\n",
      "Epoch 185/256, Train Loss: 0.2090, Val Loss: 0.4609\n",
      "Epoch 186/256, Train Loss: 0.2090, Val Loss: 0.4609\n",
      "Epoch 187/256, Train Loss: 0.2090, Val Loss: 0.4609\n",
      "Epoch 188/256, Train Loss: 0.2090, Val Loss: 0.4609\n",
      "Epoch 189/256, Train Loss: 0.2090, Val Loss: 0.4609\n",
      "Epoch 190/256, Train Loss: 0.2090, Val Loss: 0.4609\n",
      "Epoch 191/256, Train Loss: 0.2090, Val Loss: 0.4609\n",
      "Epoch 192/256, Train Loss: 0.2090, Val Loss: 0.4609\n",
      "Epoch 193/256, Train Loss: 0.2090, Val Loss: 0.4609\n",
      "Epoch 194/256, Train Loss: 0.2090, Val Loss: 0.4609\n",
      "Epoch 195/256, Train Loss: 0.2090, Val Loss: 0.4609\n",
      "Epoch 196/256, Train Loss: 0.2090, Val Loss: 0.4609\n",
      "Epoch 197/256, Train Loss: 0.2090, Val Loss: 0.4609\n",
      "Epoch 198/256, Train Loss: 0.2090, Val Loss: 0.4609\n",
      "Epoch 199/256, Train Loss: 0.2090, Val Loss: 0.4609\n",
      "Epoch 200/256, Train Loss: 0.2090, Val Loss: 0.4609\n",
      "Epoch 201/256, Train Loss: 0.2090, Val Loss: 0.4609\n",
      "Epoch 202/256, Train Loss: 0.2090, Val Loss: 0.4609\n",
      "Epoch 203/256, Train Loss: 0.2090, Val Loss: 0.4609\n",
      "Epoch 204/256, Train Loss: 0.2090, Val Loss: 0.4609\n",
      "Epoch 205/256, Train Loss: 0.2090, Val Loss: 0.4609\n",
      "Epoch 206/256, Train Loss: 0.2090, Val Loss: 0.4609\n",
      "Epoch 207/256, Train Loss: 0.2090, Val Loss: 0.4609\n",
      "Epoch 208/256, Train Loss: 0.2090, Val Loss: 0.4609\n",
      "Epoch 209/256, Train Loss: 0.2090, Val Loss: 0.4609\n",
      "Epoch 210/256, Train Loss: 0.2090, Val Loss: 0.4609\n",
      "Epoch 211/256, Train Loss: 0.2090, Val Loss: 0.4609\n",
      "Epoch 212/256, Train Loss: 0.2090, Val Loss: 0.4609\n",
      "Epoch 213/256, Train Loss: 0.2090, Val Loss: 0.4609\n",
      "Epoch 214/256, Train Loss: 0.2090, Val Loss: 0.4609\n",
      "Epoch 215/256, Train Loss: 0.2090, Val Loss: 0.4609\n",
      "Epoch 216/256, Train Loss: 0.2090, Val Loss: 0.4609\n",
      "Epoch 217/256, Train Loss: 0.2090, Val Loss: 0.4609\n",
      "Epoch 218/256, Train Loss: 0.2090, Val Loss: 0.4609\n",
      "Epoch 219/256, Train Loss: 0.2090, Val Loss: 0.4609\n",
      "Epoch 220/256, Train Loss: 0.2090, Val Loss: 0.4609\n",
      "Epoch 221/256, Train Loss: 0.2090, Val Loss: 0.4609\n",
      "Epoch 222/256, Train Loss: 0.2090, Val Loss: 0.4609\n",
      "Epoch 223/256, Train Loss: 0.2090, Val Loss: 0.4609\n",
      "Epoch 224/256, Train Loss: 0.2090, Val Loss: 0.4609\n",
      "Epoch 225/256, Train Loss: 0.2090, Val Loss: 0.4609\n",
      "Epoch 226/256, Train Loss: 0.2090, Val Loss: 0.4609\n",
      "Epoch 227/256, Train Loss: 0.2090, Val Loss: 0.4609\n",
      "Epoch 228/256, Train Loss: 0.2090, Val Loss: 0.4609\n",
      "Epoch 229/256, Train Loss: 0.2090, Val Loss: 0.4609\n",
      "Epoch 230/256, Train Loss: 0.2090, Val Loss: 0.4609\n",
      "Epoch 231/256, Train Loss: 0.2090, Val Loss: 0.4609\n",
      "Epoch 232/256, Train Loss: 0.2090, Val Loss: 0.4609\n",
      "Epoch 233/256, Train Loss: 0.2090, Val Loss: 0.4609\n",
      "Epoch 234/256, Train Loss: 0.2090, Val Loss: 0.4609\n",
      "Epoch 235/256, Train Loss: 0.2090, Val Loss: 0.4609\n",
      "Epoch 236/256, Train Loss: 0.2090, Val Loss: 0.4609\n",
      "Epoch 237/256, Train Loss: 0.2090, Val Loss: 0.4609\n",
      "Epoch 238/256, Train Loss: 0.2090, Val Loss: 0.4609\n",
      "Epoch 239/256, Train Loss: 0.2090, Val Loss: 0.4609\n",
      "Epoch 240/256, Train Loss: 0.2090, Val Loss: 0.4609\n",
      "Epoch 241/256, Train Loss: 0.2090, Val Loss: 0.4609\n",
      "Epoch 242/256, Train Loss: 0.2090, Val Loss: 0.4609\n",
      "Epoch 243/256, Train Loss: 0.2090, Val Loss: 0.4609\n",
      "Epoch 244/256, Train Loss: 0.2090, Val Loss: 0.4609\n",
      "Epoch 245/256, Train Loss: 0.2090, Val Loss: 0.4609\n",
      "Epoch 246/256, Train Loss: 0.2090, Val Loss: 0.4609\n",
      "Epoch 247/256, Train Loss: 0.2090, Val Loss: 0.4609\n",
      "Epoch 248/256, Train Loss: 0.2090, Val Loss: 0.4609\n",
      "Epoch 249/256, Train Loss: 0.2090, Val Loss: 0.4609\n",
      "Epoch 250/256, Train Loss: 0.2090, Val Loss: 0.4609\n",
      "Epoch 251/256, Train Loss: 0.2090, Val Loss: 0.4609\n",
      "Epoch 252/256, Train Loss: 0.2090, Val Loss: 0.4609\n",
      "Epoch 253/256, Train Loss: 0.2090, Val Loss: 0.4609\n",
      "Epoch 254/256, Train Loss: 0.2090, Val Loss: 0.4609\n",
      "Epoch 255/256, Train Loss: 0.2090, Val Loss: 0.4609\n",
      "Epoch 256/256, Train Loss: 0.2090, Val Loss: 0.4609\n"
     ]
    }
   ],
   "source": [
    "model = Model(feature_size=1, num_layers=10, dropout=0.1)\n",
    "optimizer = optim.Adam(model.parameters(), lr=0.001)\n",
    "criterion = nn.MSELoss()\n",
    "\n",
    "num_epochs = 256\n",
    "device = torch.device(\"cuda\" if torch.cuda.is_available() else \"cpu\")\n",
    "model = model.to(device)\n",
    "\n",
    "train_losses = []\n",
    "val_losses = []\n",
    "\n",
    "# Training loop\n",
    "for epoch in range(num_epochs):\n",
    "    model.train() \n",
    "    train_loss = 0\n",
    "    for batch in train_loader:\n",
    "        inputs, labels = batch\n",
    "        inputs = inputs.to(device)\n",
    "        labels = labels.to(device)\n",
    "\n",
    "        # Forward pass\n",
    "        outputs = model(inputs)\n",
    "        loss = criterion(outputs, labels)\n",
    "        train_loss += loss.item()\n",
    "\n",
    "        # Backward pass and optimizations\n",
    "        optimizer.zero_grad()\n",
    "        loss.backward()\n",
    "        optimizer.step()\n",
    "\n",
    "    avg_train_loss = train_loss / len(train_loader)\n",
    "    train_losses.append(avg_train_loss)\n",
    "\n",
    "    # Validation loop\n",
    "    model.eval()\n",
    "    val_loss = 0\n",
    "    with torch.no_grad():\n",
    "        for batch in val_loader:\n",
    "            inputs, labels = batch\n",
    "            inputs = inputs.to(device)\n",
    "            labels = labels.to(device)\n",
    "\n",
    "            outputs = model(inputs)\n",
    "            loss = criterion(outputs, labels)\n",
    "            val_loss += loss.item()\n",
    "\n",
    "    avg_val_loss = val_loss / len(val_loader)\n",
    "    val_losses.append(avg_val_loss)\n",
    "\n",
    "    print(f'Epoch {epoch+1}/{num_epochs}, Train Loss: {avg_train_loss:.4f}, Val Loss: {avg_val_loss:.4f}')"
   ]
  },
  {
   "cell_type": "code",
   "execution_count": 18,
   "metadata": {},
   "outputs": [
    {
     "data": {
      "application/vnd.plotly.v1+json": {
       "config": {
        "plotlyServerURL": "https://plot.ly"
       },
       "data": [
        {
         "mode": "lines",
         "name": "training loss",
         "type": "scatter",
         "x": [
          0,
          1,
          2,
          3,
          4,
          5,
          6,
          7,
          8,
          9,
          10,
          11,
          12,
          13,
          14,
          15,
          16,
          17,
          18,
          19,
          20,
          21,
          22,
          23,
          24,
          25,
          26,
          27,
          28,
          29,
          30,
          31,
          32,
          33,
          34,
          35,
          36,
          37,
          38,
          39,
          40,
          41,
          42,
          43,
          44,
          45,
          46,
          47,
          48,
          49,
          50,
          51,
          52,
          53,
          54,
          55,
          56,
          57,
          58,
          59,
          60,
          61,
          62,
          63,
          64,
          65,
          66,
          67,
          68,
          69,
          70,
          71,
          72,
          73,
          74,
          75,
          76,
          77,
          78,
          79,
          80,
          81,
          82,
          83,
          84,
          85,
          86,
          87,
          88,
          89,
          90,
          91,
          92,
          93,
          94,
          95,
          96,
          97,
          98,
          99,
          100,
          101,
          102,
          103,
          104,
          105,
          106,
          107,
          108,
          109,
          110,
          111,
          112,
          113,
          114,
          115,
          116,
          117,
          118,
          119,
          120,
          121,
          122,
          123,
          124,
          125,
          126,
          127,
          128,
          129,
          130,
          131,
          132,
          133,
          134,
          135,
          136,
          137,
          138,
          139,
          140,
          141,
          142,
          143,
          144,
          145,
          146,
          147,
          148,
          149,
          150,
          151,
          152,
          153,
          154,
          155,
          156,
          157,
          158,
          159,
          160,
          161,
          162,
          163,
          164,
          165,
          166,
          167,
          168,
          169,
          170,
          171,
          172,
          173,
          174,
          175,
          176,
          177,
          178,
          179,
          180,
          181,
          182,
          183,
          184,
          185,
          186,
          187,
          188,
          189,
          190,
          191,
          192,
          193,
          194,
          195,
          196,
          197,
          198,
          199,
          200,
          201,
          202,
          203,
          204,
          205,
          206,
          207,
          208,
          209,
          210,
          211,
          212,
          213,
          214,
          215,
          216,
          217,
          218,
          219,
          220,
          221,
          222,
          223,
          224,
          225,
          226,
          227,
          228,
          229,
          230,
          231,
          232,
          233,
          234,
          235,
          236,
          237,
          238,
          239,
          240,
          241,
          242,
          243,
          244,
          245,
          246,
          247,
          248,
          249,
          250,
          251,
          252,
          253,
          254,
          255
         ],
         "y": [
          0.38372622430324554,
          0.3780161142349243,
          0.3723767027258873,
          0.36681612581014633,
          0.3613484129309654,
          0.35596588999032974,
          0.3506790027022362,
          0.3454946428537369,
          0.3404114618897438,
          0.3354353830218315,
          0.33056480437517166,
          0.32579395174980164,
          0.32113436982035637,
          0.31658852845430374,
          0.3121492490172386,
          0.3078191317617893,
          0.30359744653105736,
          0.2994888052344322,
          0.2954915054142475,
          0.29161006584763527,
          0.28783248737454414,
          0.2841706685721874,
          0.28061818704009056,
          0.2771778292953968,
          0.2738425135612488,
          0.27062268927693367,
          0.26750660315155983,
          0.2645030617713928,
          0.26160528510808945,
          0.2588154748082161,
          0.2561257518827915,
          0.2535391002893448,
          0.2510554753243923,
          0.24867454916238785,
          0.2463913895189762,
          0.2442038208246231,
          0.24211231246590614,
          0.24011473916471004,
          0.23820771649479866,
          0.23639071360230446,
          0.23465314507484436,
          0.23301402665674686,
          0.23144106939435005,
          0.2299632653594017,
          0.22855882719159126,
          0.2272266112267971,
          0.22596616856753826,
          0.22477659583091736,
          0.2236564587801695,
          0.22259692661464214,
          0.2216101698577404,
          0.22067442536354065,
          0.21979760937392712,
          0.2189744897186756,
          0.2182080391794443,
          0.21748660132288933,
          0.2168174060061574,
          0.21619241312146187,
          0.21560757514089346,
          0.2150677815079689,
          0.21456357464194298,
          0.21409387048333883,
          0.21365724690258503,
          0.21326085086911917,
          0.212890955619514,
          0.21254653763026,
          0.2122307838872075,
          0.2119415933266282,
          0.21167306415736675,
          0.21142756566405296,
          0.2111995629966259,
          0.2109961537644267,
          0.21080465149134398,
          0.21062873862683773,
          0.21047283429652452,
          0.21032504457980394,
          0.21019332204014063,
          0.2100745653733611,
          0.20996780786663294,
          0.20986429415643215,
          0.20977249648422003,
          0.20969325490295887,
          0.2096201814711094,
          0.209552857093513,
          0.20949115231633186,
          0.20943509694188833,
          0.209387113340199,
          0.20934267062693834,
          0.2093016505241394,
          0.2092649657279253,
          0.209232734516263,
          0.20920288376510143,
          0.20917955972254276,
          0.20914987288415432,
          0.20913448557257652,
          0.20911163091659546,
          0.20909601636230946,
          0.20907823648303747,
          0.20906329434365034,
          0.2090547075495124,
          0.20904397778213024,
          0.2090327963232994,
          0.209022618830204,
          0.20901774056255817,
          0.20900931674987078,
          0.20900406874716282,
          0.20899744890630245,
          0.20899517554789782,
          0.20899147167801857,
          0.20898529514670372,
          0.20898223668336868,
          0.20897975284606218,
          0.2089747004210949,
          0.2089750375598669,
          0.20897249318659306,
          0.20896858535706997,
          0.2089663315564394,
          0.2089688889682293,
          0.20896649081259966,
          0.2089653518050909,
          0.20896236412227154,
          0.20896193385124207,
          0.2089637527242303,
          0.20895989146083593,
          0.2089592362754047,
          0.20895997807383537,
          0.20895918551832438,
          0.20895607070997357,
          0.20895800832659006,
          0.20895788446068764,
          0.20895938761532307,
          0.20895750122144818,
          0.20896106492727995,
          0.20895736571401358,
          0.20895871054381132,
          0.20895686140283942,
          0.20895841950550675,
          0.20895714638754725,
          0.20895387325435877,
          0.20895516918972135,
          0.20895901462063193,
          0.208956943359226,
          0.2089556474238634,
          0.20895743649452925,
          0.20895558781921864,
          0.20895473333075643,
          0.20895555103197694,
          0.20895749609917402,
          0.20895759155973792,
          0.20895880414173007,
          0.20895584020763636,
          0.2089576660655439,
          0.20895585138350725,
          0.20895743649452925,
          0.2089561801403761,
          0.2089557726867497,
          0.2089549945667386,
          0.20895589608699083,
          0.2089568474330008,
          0.20895466580986977,
          0.20895850379019976,
          0.20895365625619888,
          0.2089556660503149,
          0.20895672589540482,
          0.20895778574049473,
          0.20895476872101426,
          0.20895881159231067,
          0.2089583007618785,
          0.20895790308713913,
          0.20895878272131085,
          0.20895831007510424,
          0.20895740622654557,
          0.2089574597775936,
          0.2089567012153566,
          0.20895778201520443,
          0.2089574597775936,
          0.2089569102972746,
          0.2089581354521215,
          0.2089564106427133,
          0.20895883673802018,
          0.20895748771727085,
          0.20895875245332718,
          0.2089560772292316,
          0.2089566234499216,
          0.208956865593791,
          0.2089550979435444,
          0.2089572106488049,
          0.20895968424156308,
          0.20895756408572197,
          0.2089570388197899,
          0.20895654149353504,
          0.20895974384620786,
          0.2089577028527856,
          0.20895714359357953,
          0.208957904484123,
          0.2089590011164546,
          0.2089570937678218,
          0.20895804883912206,
          0.2089582635089755,
          0.20895728142932057,
          0.20895800879225135,
          0.2089580027386546,
          0.20895788352936506,
          0.2089577903971076,
          0.20895752776414156,
          0.20895839296281338,
          0.20895746629685163,
          0.20895879669114947,
          0.20895760133862495,
          0.208958035800606,
          0.20895870123058558,
          0.2089583519846201,
          0.2089573428966105,
          0.2089576874859631,
          0.2089583701454103,
          0.2089578602463007,
          0.2089577135629952,
          0.20895793614909053,
          0.20895810099318624,
          0.20895932149142027,
          0.20895830309018493,
          0.20895875059068203,
          0.20895922649651766,
          0.2089571887627244,
          0.2089595440775156,
          0.20895993616431952,
          0.20895899459719658,
          0.20895814895629883,
          0.2089588651433587,
          0.20895852195098996,
          0.20895835850387812,
          0.20895862067118287,
          0.20895952498540282,
          0.2089584982022643,
          0.20895842462778091,
          0.2089586486108601,
          0.20895829424262047,
          0.2089580618776381,
          0.2089575482532382,
          0.20895819226279855,
          0.20895967539399862,
          0.2089592064730823,
          0.20895882602781057,
          0.2089596390724182,
          0.20895949937403202,
          0.20895942486822605,
          0.20895963488146663,
          0.2089591845870018,
          0.20895908353850245,
          0.2089594271965325,
          0.2089590858668089,
          0.20895921532064676,
          0.20895936898887157,
          0.2089593494310975,
          0.20895957620814443,
          0.20895912311971188
         ]
        },
        {
         "mode": "lines",
         "name": "validation loss",
         "type": "scatter",
         "x": [
          0,
          1,
          2,
          3,
          4,
          5,
          6,
          7,
          8,
          9,
          10,
          11,
          12,
          13,
          14,
          15,
          16,
          17,
          18,
          19,
          20,
          21,
          22,
          23,
          24,
          25,
          26,
          27,
          28,
          29,
          30,
          31,
          32,
          33,
          34,
          35,
          36,
          37,
          38,
          39,
          40,
          41,
          42,
          43,
          44,
          45,
          46,
          47,
          48,
          49,
          50,
          51,
          52,
          53,
          54,
          55,
          56,
          57,
          58,
          59,
          60,
          61,
          62,
          63,
          64,
          65,
          66,
          67,
          68,
          69,
          70,
          71,
          72,
          73,
          74,
          75,
          76,
          77,
          78,
          79,
          80,
          81,
          82,
          83,
          84,
          85,
          86,
          87,
          88,
          89,
          90,
          91,
          92,
          93,
          94,
          95,
          96,
          97,
          98,
          99,
          100,
          101,
          102,
          103,
          104,
          105,
          106,
          107,
          108,
          109,
          110,
          111,
          112,
          113,
          114,
          115,
          116,
          117,
          118,
          119,
          120,
          121,
          122,
          123,
          124,
          125,
          126,
          127,
          128,
          129,
          130,
          131,
          132,
          133,
          134,
          135,
          136,
          137,
          138,
          139,
          140,
          141,
          142,
          143,
          144,
          145,
          146,
          147,
          148,
          149,
          150,
          151,
          152,
          153,
          154,
          155,
          156,
          157,
          158,
          159,
          160,
          161,
          162,
          163,
          164,
          165,
          166,
          167,
          168,
          169,
          170,
          171,
          172,
          173,
          174,
          175,
          176,
          177,
          178,
          179,
          180,
          181,
          182,
          183,
          184,
          185,
          186,
          187,
          188,
          189,
          190,
          191,
          192,
          193,
          194,
          195,
          196,
          197,
          198,
          199,
          200,
          201,
          202,
          203,
          204,
          205,
          206,
          207,
          208,
          209,
          210,
          211,
          212,
          213,
          214,
          215,
          216,
          217,
          218,
          219,
          220,
          221,
          222,
          223,
          224,
          225,
          226,
          227,
          228,
          229,
          230,
          231,
          232,
          233,
          234,
          235,
          236,
          237,
          238,
          239,
          240,
          241,
          242,
          243,
          244,
          245,
          246,
          247,
          248,
          249,
          250,
          251,
          252,
          253,
          254,
          255
         ],
         "y": [
          0.5236009359359741,
          0.5197489857673645,
          0.5159687399864197,
          0.5122878551483154,
          0.5087004899978638,
          0.5051920413970947,
          0.5018081068992615,
          0.49852463603019714,
          0.49530574679374695,
          0.4922112226486206,
          0.48920491337776184,
          0.48632389307022095,
          0.48354268074035645,
          0.4808484613895416,
          0.4782772362232208,
          0.47578150033950806,
          0.4734063148498535,
          0.4711245000362396,
          0.4689616560935974,
          0.46690213680267334,
          0.46493974328041077,
          0.46307501196861267,
          0.4612967371940613,
          0.45961809158325195,
          0.45803990960121155,
          0.45654526352882385,
          0.45517203211784363,
          0.45386797189712524,
          0.4526599049568176,
          0.4515373408794403,
          0.4505106508731842,
          0.4495563805103302,
          0.44869253039360046,
          0.4479113519191742,
          0.44719764590263367,
          0.44656363129615784,
          0.4459957778453827,
          0.44550424814224243,
          0.44508352875709534,
          0.44471633434295654,
          0.4444166421890259,
          0.4441779851913452,
          0.4439952075481415,
          0.44386664032936096,
          0.4437844455242157,
          0.443752646446228,
          0.4437658488750458,
          0.44382011890411377,
          0.4439143240451813,
          0.444041907787323,
          0.44420745968818665,
          0.444404661655426,
          0.4446302056312561,
          0.44487541913986206,
          0.44515639543533325,
          0.44544661045074463,
          0.4457637369632721,
          0.446084588766098,
          0.4464303255081177,
          0.44678977131843567,
          0.4471687078475952,
          0.4475419223308563,
          0.44790178537368774,
          0.44829046726226807,
          0.44870665669441223,
          0.4490965008735657,
          0.44948524236679077,
          0.44987809658050537,
          0.45026442408561707,
          0.45062145590782166,
          0.4510376453399658,
          0.451409250497818,
          0.4517507553100586,
          0.4521496593952179,
          0.4524853229522705,
          0.45286238193511963,
          0.4531896710395813,
          0.45351269841194153,
          0.45386049151420593,
          0.4541548490524292,
          0.4544752538204193,
          0.454761803150177,
          0.45507994294166565,
          0.45534583926200867,
          0.4556090533733368,
          0.4558478593826294,
          0.4561162292957306,
          0.4563480615615845,
          0.4565873444080353,
          0.4568132758140564,
          0.45701712369918823,
          0.45720696449279785,
          0.45738938450813293,
          0.45759305357933044,
          0.4577927887439728,
          0.4579455256462097,
          0.4581064283847809,
          0.45828375220298767,
          0.45842432975769043,
          0.45857465267181396,
          0.45868369936943054,
          0.45881128311157227,
          0.4589464068412781,
          0.45906633138656616,
          0.4591491222381592,
          0.4592450261116028,
          0.45934152603149414,
          0.45945408940315247,
          0.4595274031162262,
          0.45960018038749695,
          0.4597285985946655,
          0.45979127287864685,
          0.4598470628261566,
          0.4599190652370453,
          0.4599444270133972,
          0.4600205719470978,
          0.4600701630115509,
          0.4601229429244995,
          0.4602050483226776,
          0.46026450395584106,
          0.4602871835231781,
          0.4602949917316437,
          0.46035268902778625,
          0.4603845775127411,
          0.4604050815105438,
          0.4604244530200958,
          0.4604870080947876,
          0.4605086147785187,
          0.4605467915534973,
          0.460549533367157,
          0.4605877995491028,
          0.4606257677078247,
          0.4606494605541229,
          0.4606640040874481,
          0.46067488193511963,
          0.4607122242450714,
          0.4606866240501404,
          0.460718035697937,
          0.46075311303138733,
          0.4607722759246826,
          0.4607810080051422,
          0.4607639014720917,
          0.46075671911239624,
          0.46078526973724365,
          0.4608018100261688,
          0.4607837498188019,
          0.46081218123435974,
          0.46084094047546387,
          0.46083229780197144,
          0.4608118236064911,
          0.4608526825904846,
          0.46084922552108765,
          0.46083202958106995,
          0.46087706089019775,
          0.46084001660346985,
          0.46088120341300964,
          0.46087583899497986,
          0.46088624000549316,
          0.46085023880004883,
          0.460871160030365,
          0.46088966727256775,
          0.46090686321258545,
          0.46091228723526,
          0.46087974309921265,
          0.46091851592063904,
          0.46087154746055603,
          0.46093109250068665,
          0.4609042704105377,
          0.46089819073677063,
          0.46090877056121826,
          0.4608997702598572,
          0.4609200358390808,
          0.4609081447124481,
          0.4609035849571228,
          0.4609207808971405,
          0.46092575788497925,
          0.4609050154685974,
          0.4608948826789856,
          0.4608895182609558,
          0.46090465784072876,
          0.46093565225601196,
          0.46094173192977905,
          0.4609222114086151,
          0.4608963131904602,
          0.460905522108078,
          0.46093666553497314,
          0.4609212875366211,
          0.46093642711639404,
          0.4609174430370331,
          0.4609419107437134,
          0.4609042704105377,
          0.4609299302101135,
          0.46092498302459717,
          0.46091797947883606,
          0.4609317183494568,
          0.46091514825820923,
          0.46092092990875244,
          0.46090805530548096,
          0.4609018862247467,
          0.46092113852500916,
          0.4609220027923584,
          0.46092134714126587,
          0.4609105885028839,
          0.4609256088733673,
          0.46091708540916443,
          0.46092504262924194,
          0.46091607213020325,
          0.46091580390930176,
          0.46091991662979126,
          0.4609217047691345,
          0.46091973781585693,
          0.4609144628047943,
          0.46092528104782104,
          0.4609227478504181,
          0.4609204828739166,
          0.460921049118042,
          0.4609186351299286,
          0.4609237015247345,
          0.46092846989631653,
          0.4609096348285675,
          0.4609256088733673,
          0.46092092990875244,
          0.46092042326927185,
          0.4609186351299286,
          0.4609072208404541,
          0.46092456579208374,
          0.4609186351299286,
          0.46091678738594055,
          0.4609105885028839,
          0.4609273076057434,
          0.4609312117099762,
          0.4609096050262451,
          0.460903525352478,
          0.460910826921463,
          0.4609265625476837,
          0.4609161913394928,
          0.4609221816062927,
          0.4609365165233612,
          0.460915207862854,
          0.46092110872268677,
          0.46091991662979126,
          0.4609207808971405,
          0.4609220325946808,
          0.4609260559082031,
          0.46092256903648376,
          0.4609207808971405,
          0.46092063188552856,
          0.46092352271080017,
          0.46091920137405396,
          0.4609156847000122,
          0.46092167496681213,
          0.4609202742576599,
          0.46091973781585693,
          0.46091899275779724,
          0.4609227180480957,
          0.4609185457229614
         ]
        }
       ],
       "layout": {
        "template": {
         "data": {
          "bar": [
           {
            "error_x": {
             "color": "#2a3f5f"
            },
            "error_y": {
             "color": "#2a3f5f"
            },
            "marker": {
             "line": {
              "color": "#E5ECF6",
              "width": 0.5
             },
             "pattern": {
              "fillmode": "overlay",
              "size": 10,
              "solidity": 0.2
             }
            },
            "type": "bar"
           }
          ],
          "barpolar": [
           {
            "marker": {
             "line": {
              "color": "#E5ECF6",
              "width": 0.5
             },
             "pattern": {
              "fillmode": "overlay",
              "size": 10,
              "solidity": 0.2
             }
            },
            "type": "barpolar"
           }
          ],
          "carpet": [
           {
            "aaxis": {
             "endlinecolor": "#2a3f5f",
             "gridcolor": "white",
             "linecolor": "white",
             "minorgridcolor": "white",
             "startlinecolor": "#2a3f5f"
            },
            "baxis": {
             "endlinecolor": "#2a3f5f",
             "gridcolor": "white",
             "linecolor": "white",
             "minorgridcolor": "white",
             "startlinecolor": "#2a3f5f"
            },
            "type": "carpet"
           }
          ],
          "choropleth": [
           {
            "colorbar": {
             "outlinewidth": 0,
             "ticks": ""
            },
            "type": "choropleth"
           }
          ],
          "contour": [
           {
            "colorbar": {
             "outlinewidth": 0,
             "ticks": ""
            },
            "colorscale": [
             [
              0,
              "#0d0887"
             ],
             [
              0.1111111111111111,
              "#46039f"
             ],
             [
              0.2222222222222222,
              "#7201a8"
             ],
             [
              0.3333333333333333,
              "#9c179e"
             ],
             [
              0.4444444444444444,
              "#bd3786"
             ],
             [
              0.5555555555555556,
              "#d8576b"
             ],
             [
              0.6666666666666666,
              "#ed7953"
             ],
             [
              0.7777777777777778,
              "#fb9f3a"
             ],
             [
              0.8888888888888888,
              "#fdca26"
             ],
             [
              1,
              "#f0f921"
             ]
            ],
            "type": "contour"
           }
          ],
          "contourcarpet": [
           {
            "colorbar": {
             "outlinewidth": 0,
             "ticks": ""
            },
            "type": "contourcarpet"
           }
          ],
          "heatmap": [
           {
            "colorbar": {
             "outlinewidth": 0,
             "ticks": ""
            },
            "colorscale": [
             [
              0,
              "#0d0887"
             ],
             [
              0.1111111111111111,
              "#46039f"
             ],
             [
              0.2222222222222222,
              "#7201a8"
             ],
             [
              0.3333333333333333,
              "#9c179e"
             ],
             [
              0.4444444444444444,
              "#bd3786"
             ],
             [
              0.5555555555555556,
              "#d8576b"
             ],
             [
              0.6666666666666666,
              "#ed7953"
             ],
             [
              0.7777777777777778,
              "#fb9f3a"
             ],
             [
              0.8888888888888888,
              "#fdca26"
             ],
             [
              1,
              "#f0f921"
             ]
            ],
            "type": "heatmap"
           }
          ],
          "heatmapgl": [
           {
            "colorbar": {
             "outlinewidth": 0,
             "ticks": ""
            },
            "colorscale": [
             [
              0,
              "#0d0887"
             ],
             [
              0.1111111111111111,
              "#46039f"
             ],
             [
              0.2222222222222222,
              "#7201a8"
             ],
             [
              0.3333333333333333,
              "#9c179e"
             ],
             [
              0.4444444444444444,
              "#bd3786"
             ],
             [
              0.5555555555555556,
              "#d8576b"
             ],
             [
              0.6666666666666666,
              "#ed7953"
             ],
             [
              0.7777777777777778,
              "#fb9f3a"
             ],
             [
              0.8888888888888888,
              "#fdca26"
             ],
             [
              1,
              "#f0f921"
             ]
            ],
            "type": "heatmapgl"
           }
          ],
          "histogram": [
           {
            "marker": {
             "pattern": {
              "fillmode": "overlay",
              "size": 10,
              "solidity": 0.2
             }
            },
            "type": "histogram"
           }
          ],
          "histogram2d": [
           {
            "colorbar": {
             "outlinewidth": 0,
             "ticks": ""
            },
            "colorscale": [
             [
              0,
              "#0d0887"
             ],
             [
              0.1111111111111111,
              "#46039f"
             ],
             [
              0.2222222222222222,
              "#7201a8"
             ],
             [
              0.3333333333333333,
              "#9c179e"
             ],
             [
              0.4444444444444444,
              "#bd3786"
             ],
             [
              0.5555555555555556,
              "#d8576b"
             ],
             [
              0.6666666666666666,
              "#ed7953"
             ],
             [
              0.7777777777777778,
              "#fb9f3a"
             ],
             [
              0.8888888888888888,
              "#fdca26"
             ],
             [
              1,
              "#f0f921"
             ]
            ],
            "type": "histogram2d"
           }
          ],
          "histogram2dcontour": [
           {
            "colorbar": {
             "outlinewidth": 0,
             "ticks": ""
            },
            "colorscale": [
             [
              0,
              "#0d0887"
             ],
             [
              0.1111111111111111,
              "#46039f"
             ],
             [
              0.2222222222222222,
              "#7201a8"
             ],
             [
              0.3333333333333333,
              "#9c179e"
             ],
             [
              0.4444444444444444,
              "#bd3786"
             ],
             [
              0.5555555555555556,
              "#d8576b"
             ],
             [
              0.6666666666666666,
              "#ed7953"
             ],
             [
              0.7777777777777778,
              "#fb9f3a"
             ],
             [
              0.8888888888888888,
              "#fdca26"
             ],
             [
              1,
              "#f0f921"
             ]
            ],
            "type": "histogram2dcontour"
           }
          ],
          "mesh3d": [
           {
            "colorbar": {
             "outlinewidth": 0,
             "ticks": ""
            },
            "type": "mesh3d"
           }
          ],
          "parcoords": [
           {
            "line": {
             "colorbar": {
              "outlinewidth": 0,
              "ticks": ""
             }
            },
            "type": "parcoords"
           }
          ],
          "pie": [
           {
            "automargin": true,
            "type": "pie"
           }
          ],
          "scatter": [
           {
            "fillpattern": {
             "fillmode": "overlay",
             "size": 10,
             "solidity": 0.2
            },
            "type": "scatter"
           }
          ],
          "scatter3d": [
           {
            "line": {
             "colorbar": {
              "outlinewidth": 0,
              "ticks": ""
             }
            },
            "marker": {
             "colorbar": {
              "outlinewidth": 0,
              "ticks": ""
             }
            },
            "type": "scatter3d"
           }
          ],
          "scattercarpet": [
           {
            "marker": {
             "colorbar": {
              "outlinewidth": 0,
              "ticks": ""
             }
            },
            "type": "scattercarpet"
           }
          ],
          "scattergeo": [
           {
            "marker": {
             "colorbar": {
              "outlinewidth": 0,
              "ticks": ""
             }
            },
            "type": "scattergeo"
           }
          ],
          "scattergl": [
           {
            "marker": {
             "colorbar": {
              "outlinewidth": 0,
              "ticks": ""
             }
            },
            "type": "scattergl"
           }
          ],
          "scattermapbox": [
           {
            "marker": {
             "colorbar": {
              "outlinewidth": 0,
              "ticks": ""
             }
            },
            "type": "scattermapbox"
           }
          ],
          "scatterpolar": [
           {
            "marker": {
             "colorbar": {
              "outlinewidth": 0,
              "ticks": ""
             }
            },
            "type": "scatterpolar"
           }
          ],
          "scatterpolargl": [
           {
            "marker": {
             "colorbar": {
              "outlinewidth": 0,
              "ticks": ""
             }
            },
            "type": "scatterpolargl"
           }
          ],
          "scatterternary": [
           {
            "marker": {
             "colorbar": {
              "outlinewidth": 0,
              "ticks": ""
             }
            },
            "type": "scatterternary"
           }
          ],
          "surface": [
           {
            "colorbar": {
             "outlinewidth": 0,
             "ticks": ""
            },
            "colorscale": [
             [
              0,
              "#0d0887"
             ],
             [
              0.1111111111111111,
              "#46039f"
             ],
             [
              0.2222222222222222,
              "#7201a8"
             ],
             [
              0.3333333333333333,
              "#9c179e"
             ],
             [
              0.4444444444444444,
              "#bd3786"
             ],
             [
              0.5555555555555556,
              "#d8576b"
             ],
             [
              0.6666666666666666,
              "#ed7953"
             ],
             [
              0.7777777777777778,
              "#fb9f3a"
             ],
             [
              0.8888888888888888,
              "#fdca26"
             ],
             [
              1,
              "#f0f921"
             ]
            ],
            "type": "surface"
           }
          ],
          "table": [
           {
            "cells": {
             "fill": {
              "color": "#EBF0F8"
             },
             "line": {
              "color": "white"
             }
            },
            "header": {
             "fill": {
              "color": "#C8D4E3"
             },
             "line": {
              "color": "white"
             }
            },
            "type": "table"
           }
          ]
         },
         "layout": {
          "annotationdefaults": {
           "arrowcolor": "#2a3f5f",
           "arrowhead": 0,
           "arrowwidth": 1
          },
          "autotypenumbers": "strict",
          "coloraxis": {
           "colorbar": {
            "outlinewidth": 0,
            "ticks": ""
           }
          },
          "colorscale": {
           "diverging": [
            [
             0,
             "#8e0152"
            ],
            [
             0.1,
             "#c51b7d"
            ],
            [
             0.2,
             "#de77ae"
            ],
            [
             0.3,
             "#f1b6da"
            ],
            [
             0.4,
             "#fde0ef"
            ],
            [
             0.5,
             "#f7f7f7"
            ],
            [
             0.6,
             "#e6f5d0"
            ],
            [
             0.7,
             "#b8e186"
            ],
            [
             0.8,
             "#7fbc41"
            ],
            [
             0.9,
             "#4d9221"
            ],
            [
             1,
             "#276419"
            ]
           ],
           "sequential": [
            [
             0,
             "#0d0887"
            ],
            [
             0.1111111111111111,
             "#46039f"
            ],
            [
             0.2222222222222222,
             "#7201a8"
            ],
            [
             0.3333333333333333,
             "#9c179e"
            ],
            [
             0.4444444444444444,
             "#bd3786"
            ],
            [
             0.5555555555555556,
             "#d8576b"
            ],
            [
             0.6666666666666666,
             "#ed7953"
            ],
            [
             0.7777777777777778,
             "#fb9f3a"
            ],
            [
             0.8888888888888888,
             "#fdca26"
            ],
            [
             1,
             "#f0f921"
            ]
           ],
           "sequentialminus": [
            [
             0,
             "#0d0887"
            ],
            [
             0.1111111111111111,
             "#46039f"
            ],
            [
             0.2222222222222222,
             "#7201a8"
            ],
            [
             0.3333333333333333,
             "#9c179e"
            ],
            [
             0.4444444444444444,
             "#bd3786"
            ],
            [
             0.5555555555555556,
             "#d8576b"
            ],
            [
             0.6666666666666666,
             "#ed7953"
            ],
            [
             0.7777777777777778,
             "#fb9f3a"
            ],
            [
             0.8888888888888888,
             "#fdca26"
            ],
            [
             1,
             "#f0f921"
            ]
           ]
          },
          "colorway": [
           "#636efa",
           "#EF553B",
           "#00cc96",
           "#ab63fa",
           "#FFA15A",
           "#19d3f3",
           "#FF6692",
           "#B6E880",
           "#FF97FF",
           "#FECB52"
          ],
          "font": {
           "color": "#2a3f5f"
          },
          "geo": {
           "bgcolor": "white",
           "lakecolor": "white",
           "landcolor": "#E5ECF6",
           "showlakes": true,
           "showland": true,
           "subunitcolor": "white"
          },
          "hoverlabel": {
           "align": "left"
          },
          "hovermode": "closest",
          "mapbox": {
           "style": "light"
          },
          "paper_bgcolor": "white",
          "plot_bgcolor": "#E5ECF6",
          "polar": {
           "angularaxis": {
            "gridcolor": "white",
            "linecolor": "white",
            "ticks": ""
           },
           "bgcolor": "#E5ECF6",
           "radialaxis": {
            "gridcolor": "white",
            "linecolor": "white",
            "ticks": ""
           }
          },
          "scene": {
           "xaxis": {
            "backgroundcolor": "#E5ECF6",
            "gridcolor": "white",
            "gridwidth": 2,
            "linecolor": "white",
            "showbackground": true,
            "ticks": "",
            "zerolinecolor": "white"
           },
           "yaxis": {
            "backgroundcolor": "#E5ECF6",
            "gridcolor": "white",
            "gridwidth": 2,
            "linecolor": "white",
            "showbackground": true,
            "ticks": "",
            "zerolinecolor": "white"
           },
           "zaxis": {
            "backgroundcolor": "#E5ECF6",
            "gridcolor": "white",
            "gridwidth": 2,
            "linecolor": "white",
            "showbackground": true,
            "ticks": "",
            "zerolinecolor": "white"
           }
          },
          "shapedefaults": {
           "line": {
            "color": "#2a3f5f"
           }
          },
          "ternary": {
           "aaxis": {
            "gridcolor": "white",
            "linecolor": "white",
            "ticks": ""
           },
           "baxis": {
            "gridcolor": "white",
            "linecolor": "white",
            "ticks": ""
           },
           "bgcolor": "#E5ECF6",
           "caxis": {
            "gridcolor": "white",
            "linecolor": "white",
            "ticks": ""
           }
          },
          "title": {
           "x": 0.05
          },
          "xaxis": {
           "automargin": true,
           "gridcolor": "white",
           "linecolor": "white",
           "ticks": "",
           "title": {
            "standoff": 15
           },
           "zerolinecolor": "white",
           "zerolinewidth": 2
          },
          "yaxis": {
           "automargin": true,
           "gridcolor": "white",
           "linecolor": "white",
           "ticks": "",
           "title": {
            "standoff": 15
           },
           "zerolinecolor": "white",
           "zerolinewidth": 2
          }
         }
        },
        "title": {
         "text": "Training and Validation Losses"
        },
        "xaxis": {
         "title": {
          "text": "Epochs"
         }
        },
        "yaxis": {
         "title": {
          "text": "Loss"
         }
        }
       }
      }
     },
     "metadata": {},
     "output_type": "display_data"
    }
   ],
   "source": [
    "fig = go.Figure()\n",
    "fig.add_trace(go.Scatter(x=list(range(num_epochs)), y=train_losses,\n",
    "                    mode='lines',\n",
    "                    name='training loss'))\n",
    "fig.add_trace(go.Scatter(x=list(range(num_epochs)), y=val_losses,\n",
    "                    mode='lines',\n",
    "                    name='validation loss'))\n",
    "\n",
    "fig.update_layout(title='Training and Validation Losses',\n",
    "                   xaxis_title='Epochs',\n",
    "                   yaxis_title='Loss')\n",
    "fig.show()\n"
   ]
  },
  {
   "cell_type": "code",
   "execution_count": 19,
   "metadata": {},
   "outputs": [
    {
     "name": "stdout",
     "output_type": "stream",
     "text": [
      "Validation Loss: 0.4609185457229614\n",
      "Mean Squared Error: 0.46091702580451965\n",
      "Mean Absolute Error: 0.367571622133255\n",
      "R^2 Score: -0.038682118194598214\n"
     ]
    },
    {
     "name": "stderr",
     "output_type": "stream",
     "text": [
      "/home/smbh/.venvs/house-price-prediction/lib/python3.11/site-packages/torch/nn/modules/loss.py:536: UserWarning:\n",
      "\n",
      "Using a target size (torch.Size([22])) that is different to the input size (torch.Size([22, 1, 1])). This will likely lead to incorrect results due to broadcasting. Please ensure they have the same size.\n",
      "\n"
     ]
    }
   ],
   "source": [
    "# Evaluation loop\n",
    "model.eval()\n",
    "total_loss = 0\n",
    "predictions = []\n",
    "actuals = []\n",
    "with torch.no_grad():\n",
    "    for batch in val_loader:\n",
    "        inputs, labels = batch\n",
    "        inputs = inputs.to(device)\n",
    "        labels = labels.to(device)\n",
    "        \n",
    "        outputs = model(inputs)\n",
    "        loss = criterion(outputs, labels)\n",
    "        total_loss += loss.item()\n",
    "\n",
    "        predictions.extend(outputs.view(-1).cpu().numpy())\n",
    "        actuals.extend(labels.view(-1).cpu().numpy())\n",
    "\n",
    "avg_val_loss = total_loss / len(val_loader)\n",
    "print(f'Validation Loss: {avg_val_loss}')\n",
    "\n",
    "# Convert lists to numpy arrays\n",
    "predictions = np.array(predictions)\n",
    "actuals = np.array(actuals)\n",
    "\n",
    "# Compute metrics\n",
    "mse = mean_squared_error(actuals, predictions)\n",
    "mae = mean_absolute_error(actuals, predictions)\n",
    "r2 = r2_score(actuals, predictions)\n",
    "\n",
    "print(f'Mean Squared Error: {mse}')\n",
    "print(f'Mean Absolute Error: {mae}')\n",
    "print(f'R^2 Score: {r2}')"
   ]
  },
  {
   "cell_type": "code",
   "execution_count": null,
   "metadata": {},
   "outputs": [],
   "source": []
  }
 ],
 "metadata": {
  "kernelspec": {
   "display_name": "house-price-prediction",
   "language": "python",
   "name": "python3"
  },
  "language_info": {
   "codemirror_mode": {
    "name": "ipython",
    "version": 3
   },
   "file_extension": ".py",
   "mimetype": "text/x-python",
   "name": "python",
   "nbconvert_exporter": "python",
   "pygments_lexer": "ipython3",
   "version": "3.11.3"
  },
  "orig_nbformat": 4
 },
 "nbformat": 4,
 "nbformat_minor": 2
}
