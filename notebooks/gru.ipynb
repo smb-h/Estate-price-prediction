{
 "cells": [
  {
   "cell_type": "code",
   "execution_count": 15,
   "metadata": {},
   "outputs": [],
   "source": [
    "import pandas as pd\n",
    "import numpy as np\n",
    "from datetime import datetime\n",
    "import jdatetime\n",
    "from sklearn.model_selection import train_test_split\n",
    "from sklearn.metrics import (\n",
    "    mean_squared_error, mean_absolute_error, \n",
    "    r2_score, mean_absolute_percentage_error\n",
    ")\n",
    "import plotly.express as px\n",
    "import plotly.graph_objects as go\n",
    "from tqdm import tqdm\n",
    "from tensorflow import keras"
   ]
  },
  {
   "cell_type": "code",
   "execution_count": 16,
   "metadata": {},
   "outputs": [
    {
     "data": {
      "text/html": [
       "<div>\n",
       "<style scoped>\n",
       "    .dataframe tbody tr th:only-of-type {\n",
       "        vertical-align: middle;\n",
       "    }\n",
       "\n",
       "    .dataframe tbody tr th {\n",
       "        vertical-align: top;\n",
       "    }\n",
       "\n",
       "    .dataframe thead th {\n",
       "        text-align: right;\n",
       "    }\n",
       "</style>\n",
       "<table border=\"1\" class=\"dataframe\">\n",
       "  <thead>\n",
       "    <tr style=\"text-align: right;\">\n",
       "      <th></th>\n",
       "      <th>start_date</th>\n",
       "      <th>end_date</th>\n",
       "      <th>project_duration</th>\n",
       "      <th>x1</th>\n",
       "      <th>x2</th>\n",
       "      <th>x3</th>\n",
       "      <th>x5</th>\n",
       "      <th>x51</th>\n",
       "      <th>y</th>\n",
       "    </tr>\n",
       "  </thead>\n",
       "  <tbody>\n",
       "    <tr>\n",
       "      <th>0</th>\n",
       "      <td>1396-01-01</td>\n",
       "      <td>1400-01-01</td>\n",
       "      <td>48</td>\n",
       "      <td>3150.0</td>\n",
       "      <td>920.0</td>\n",
       "      <td>1</td>\n",
       "      <td>1703.672462</td>\n",
       "      <td>16</td>\n",
       "      <td>9979.795043</td>\n",
       "    </tr>\n",
       "    <tr>\n",
       "      <th>1</th>\n",
       "      <td>1395-01-01</td>\n",
       "      <td>1400-10-01</td>\n",
       "      <td>69</td>\n",
       "      <td>7600.0</td>\n",
       "      <td>1140.0</td>\n",
       "      <td>1</td>\n",
       "      <td>1446.077707</td>\n",
       "      <td>23</td>\n",
       "      <td>16362.045147</td>\n",
       "    </tr>\n",
       "    <tr>\n",
       "      <th>2</th>\n",
       "      <td>1398-01-01</td>\n",
       "      <td>1401-10-01</td>\n",
       "      <td>45</td>\n",
       "      <td>4800.0</td>\n",
       "      <td>840.0</td>\n",
       "      <td>1</td>\n",
       "      <td>2376.845399</td>\n",
       "      <td>15</td>\n",
       "      <td>14120.093280</td>\n",
       "    </tr>\n",
       "    <tr>\n",
       "      <th>3</th>\n",
       "      <td>1397-04-01</td>\n",
       "      <td>1398-04-01</td>\n",
       "      <td>12</td>\n",
       "      <td>685.0</td>\n",
       "      <td>202.0</td>\n",
       "      <td>1</td>\n",
       "      <td>1207.741141</td>\n",
       "      <td>4</td>\n",
       "      <td>2560.672748</td>\n",
       "    </tr>\n",
       "    <tr>\n",
       "      <th>4</th>\n",
       "      <td>1387-01-01</td>\n",
       "      <td>1390-04-01</td>\n",
       "      <td>39</td>\n",
       "      <td>3000.0</td>\n",
       "      <td>800.0</td>\n",
       "      <td>1</td>\n",
       "      <td>410.000000</td>\n",
       "      <td>13</td>\n",
       "      <td>700.000000</td>\n",
       "    </tr>\n",
       "  </tbody>\n",
       "</table>\n",
       "</div>"
      ],
      "text/plain": [
       "   start_date    end_date  project_duration      x1      x2  x3           x5  \\\n",
       "0  1396-01-01  1400-01-01                48  3150.0   920.0   1  1703.672462   \n",
       "1  1395-01-01  1400-10-01                69  7600.0  1140.0   1  1446.077707   \n",
       "2  1398-01-01  1401-10-01                45  4800.0   840.0   1  2376.845399   \n",
       "3  1397-04-01  1398-04-01                12   685.0   202.0   1  1207.741141   \n",
       "4  1387-01-01  1390-04-01                39  3000.0   800.0   1   410.000000   \n",
       "\n",
       "   x51             y  \n",
       "0   16   9979.795043  \n",
       "1   23  16362.045147  \n",
       "2   15  14120.093280  \n",
       "3    4   2560.672748  \n",
       "4   13    700.000000  "
      ]
     },
     "execution_count": 16,
     "metadata": {},
     "output_type": "execute_result"
    }
   ],
   "source": [
    "df = pd.read_csv('../data/processed/main_feats.csv')\n",
    "df.head()"
   ]
  },
  {
   "cell_type": "code",
   "execution_count": 17,
   "metadata": {},
   "outputs": [
    {
     "data": {
      "text/html": [
       "<div>\n",
       "<style scoped>\n",
       "    .dataframe tbody tr th:only-of-type {\n",
       "        vertical-align: middle;\n",
       "    }\n",
       "\n",
       "    .dataframe tbody tr th {\n",
       "        vertical-align: top;\n",
       "    }\n",
       "\n",
       "    .dataframe thead th {\n",
       "        text-align: right;\n",
       "    }\n",
       "</style>\n",
       "<table border=\"1\" class=\"dataframe\">\n",
       "  <thead>\n",
       "    <tr style=\"text-align: right;\">\n",
       "      <th></th>\n",
       "      <th>Date</th>\n",
       "      <th>b1</th>\n",
       "      <th>b2</th>\n",
       "      <th>b3</th>\n",
       "      <th>b4</th>\n",
       "      <th>b5</th>\n",
       "      <th>b6</th>\n",
       "      <th>b7</th>\n",
       "      <th>b8</th>\n",
       "      <th>b9</th>\n",
       "      <th>...</th>\n",
       "      <th>Sin b6</th>\n",
       "      <th>Sin b7</th>\n",
       "      <th>Sin b8</th>\n",
       "      <th>Sin b9</th>\n",
       "      <th>Sin b10</th>\n",
       "      <th>Sin b14</th>\n",
       "      <th>Sin b17</th>\n",
       "      <th>Sin b18</th>\n",
       "      <th>Sin B-23</th>\n",
       "      <th>Sin B-24</th>\n",
       "    </tr>\n",
       "  </thead>\n",
       "  <tbody>\n",
       "    <tr>\n",
       "      <th>0</th>\n",
       "      <td>1360-01-01</td>\n",
       "      <td>-0.312302</td>\n",
       "      <td>-0.573053</td>\n",
       "      <td>-1.008179</td>\n",
       "      <td>-0.486658</td>\n",
       "      <td>-0.519259</td>\n",
       "      <td>-0.550486</td>\n",
       "      <td>-0.524004</td>\n",
       "      <td>-0.474211</td>\n",
       "      <td>-0.763966</td>\n",
       "      <td>...</td>\n",
       "      <td>-0.760378</td>\n",
       "      <td>-0.519490</td>\n",
       "      <td>-0.536372</td>\n",
       "      <td>-0.881368</td>\n",
       "      <td>-0.592062</td>\n",
       "      <td>-0.674918</td>\n",
       "      <td>-0.894974</td>\n",
       "      <td>-0.765731</td>\n",
       "      <td>-0.739974</td>\n",
       "      <td>-0.624255</td>\n",
       "    </tr>\n",
       "    <tr>\n",
       "      <th>1</th>\n",
       "      <td>1360-04-01</td>\n",
       "      <td>-0.526017</td>\n",
       "      <td>-0.573053</td>\n",
       "      <td>-1.045895</td>\n",
       "      <td>-0.486639</td>\n",
       "      <td>-0.519352</td>\n",
       "      <td>-0.550486</td>\n",
       "      <td>-0.523908</td>\n",
       "      <td>-0.474211</td>\n",
       "      <td>-0.763704</td>\n",
       "      <td>...</td>\n",
       "      <td>-0.760378</td>\n",
       "      <td>-0.519405</td>\n",
       "      <td>-0.536372</td>\n",
       "      <td>-0.881702</td>\n",
       "      <td>-0.592062</td>\n",
       "      <td>-0.674918</td>\n",
       "      <td>-0.894543</td>\n",
       "      <td>-0.765731</td>\n",
       "      <td>-0.739974</td>\n",
       "      <td>-0.624255</td>\n",
       "    </tr>\n",
       "    <tr>\n",
       "      <th>2</th>\n",
       "      <td>1360-07-01</td>\n",
       "      <td>-0.431611</td>\n",
       "      <td>-0.573053</td>\n",
       "      <td>-1.097080</td>\n",
       "      <td>-0.486628</td>\n",
       "      <td>-0.519297</td>\n",
       "      <td>-0.550486</td>\n",
       "      <td>-0.523908</td>\n",
       "      <td>-0.474146</td>\n",
       "      <td>-0.763828</td>\n",
       "      <td>...</td>\n",
       "      <td>-0.760378</td>\n",
       "      <td>-0.519405</td>\n",
       "      <td>-0.536306</td>\n",
       "      <td>-0.881544</td>\n",
       "      <td>-0.592062</td>\n",
       "      <td>-0.674918</td>\n",
       "      <td>-0.894332</td>\n",
       "      <td>-0.765731</td>\n",
       "      <td>-0.739974</td>\n",
       "      <td>-0.624255</td>\n",
       "    </tr>\n",
       "    <tr>\n",
       "      <th>3</th>\n",
       "      <td>1360-10-01</td>\n",
       "      <td>-0.573509</td>\n",
       "      <td>-0.573053</td>\n",
       "      <td>-1.083610</td>\n",
       "      <td>-0.486563</td>\n",
       "      <td>-0.519403</td>\n",
       "      <td>-0.550486</td>\n",
       "      <td>-0.523716</td>\n",
       "      <td>-0.474211</td>\n",
       "      <td>-0.763741</td>\n",
       "      <td>...</td>\n",
       "      <td>-0.760378</td>\n",
       "      <td>-0.519234</td>\n",
       "      <td>-0.536372</td>\n",
       "      <td>-0.881655</td>\n",
       "      <td>-0.592062</td>\n",
       "      <td>-0.674918</td>\n",
       "      <td>-0.893711</td>\n",
       "      <td>-0.765731</td>\n",
       "      <td>-0.739974</td>\n",
       "      <td>-0.624255</td>\n",
       "    </tr>\n",
       "    <tr>\n",
       "      <th>4</th>\n",
       "      <td>1361-01-01</td>\n",
       "      <td>-0.586830</td>\n",
       "      <td>-0.573053</td>\n",
       "      <td>-1.038711</td>\n",
       "      <td>-0.486562</td>\n",
       "      <td>-0.518833</td>\n",
       "      <td>-0.550486</td>\n",
       "      <td>-0.523716</td>\n",
       "      <td>-0.474015</td>\n",
       "      <td>-0.763624</td>\n",
       "      <td>...</td>\n",
       "      <td>-0.760378</td>\n",
       "      <td>-0.519234</td>\n",
       "      <td>-0.536175</td>\n",
       "      <td>-0.881803</td>\n",
       "      <td>-0.590450</td>\n",
       "      <td>-0.674918</td>\n",
       "      <td>-0.894031</td>\n",
       "      <td>-0.765731</td>\n",
       "      <td>-0.739974</td>\n",
       "      <td>-0.624255</td>\n",
       "    </tr>\n",
       "  </tbody>\n",
       "</table>\n",
       "<p>5 rows × 46 columns</p>\n",
       "</div>"
      ],
      "text/plain": [
       "         Date        b1        b2        b3        b4        b5        b6  \\\n",
       "0  1360-01-01 -0.312302 -0.573053 -1.008179 -0.486658 -0.519259 -0.550486   \n",
       "1  1360-04-01 -0.526017 -0.573053 -1.045895 -0.486639 -0.519352 -0.550486   \n",
       "2  1360-07-01 -0.431611 -0.573053 -1.097080 -0.486628 -0.519297 -0.550486   \n",
       "3  1360-10-01 -0.573509 -0.573053 -1.083610 -0.486563 -0.519403 -0.550486   \n",
       "4  1361-01-01 -0.586830 -0.573053 -1.038711 -0.486562 -0.518833 -0.550486   \n",
       "\n",
       "         b7        b8        b9  ...    Sin b6    Sin b7    Sin b8    Sin b9  \\\n",
       "0 -0.524004 -0.474211 -0.763966  ... -0.760378 -0.519490 -0.536372 -0.881368   \n",
       "1 -0.523908 -0.474211 -0.763704  ... -0.760378 -0.519405 -0.536372 -0.881702   \n",
       "2 -0.523908 -0.474146 -0.763828  ... -0.760378 -0.519405 -0.536306 -0.881544   \n",
       "3 -0.523716 -0.474211 -0.763741  ... -0.760378 -0.519234 -0.536372 -0.881655   \n",
       "4 -0.523716 -0.474015 -0.763624  ... -0.760378 -0.519234 -0.536175 -0.881803   \n",
       "\n",
       "    Sin b10   Sin b14   Sin b17   Sin b18  Sin B-23  Sin B-24  \n",
       "0 -0.592062 -0.674918 -0.894974 -0.765731 -0.739974 -0.624255  \n",
       "1 -0.592062 -0.674918 -0.894543 -0.765731 -0.739974 -0.624255  \n",
       "2 -0.592062 -0.674918 -0.894332 -0.765731 -0.739974 -0.624255  \n",
       "3 -0.592062 -0.674918 -0.893711 -0.765731 -0.739974 -0.624255  \n",
       "4 -0.590450 -0.674918 -0.894031 -0.765731 -0.739974 -0.624255  \n",
       "\n",
       "[5 rows x 46 columns]"
      ]
     },
     "execution_count": 17,
     "metadata": {},
     "output_type": "execute_result"
    }
   ],
   "source": [
    "df_economics = pd.read_csv('../data/processed/cubic_imputated_economics.csv')\n",
    "df_economics.head()"
   ]
  },
  {
   "cell_type": "code",
   "execution_count": 18,
   "metadata": {},
   "outputs": [
    {
     "name": "stdout",
     "output_type": "stream",
     "text": [
      "(400, 54)\n"
     ]
    },
    {
     "data": {
      "text/html": [
       "<div>\n",
       "<style scoped>\n",
       "    .dataframe tbody tr th:only-of-type {\n",
       "        vertical-align: middle;\n",
       "    }\n",
       "\n",
       "    .dataframe tbody tr th {\n",
       "        vertical-align: top;\n",
       "    }\n",
       "\n",
       "    .dataframe thead th {\n",
       "        text-align: right;\n",
       "    }\n",
       "</style>\n",
       "<table border=\"1\" class=\"dataframe\">\n",
       "  <thead>\n",
       "    <tr style=\"text-align: right;\">\n",
       "      <th></th>\n",
       "      <th>start_date</th>\n",
       "      <th>end_date</th>\n",
       "      <th>project_duration</th>\n",
       "      <th>x1</th>\n",
       "      <th>x2</th>\n",
       "      <th>x3</th>\n",
       "      <th>x5</th>\n",
       "      <th>x51</th>\n",
       "      <th>b1</th>\n",
       "      <th>b2</th>\n",
       "      <th>...</th>\n",
       "      <th>Sin b7</th>\n",
       "      <th>Sin b8</th>\n",
       "      <th>Sin b9</th>\n",
       "      <th>Sin b10</th>\n",
       "      <th>Sin b14</th>\n",
       "      <th>Sin b17</th>\n",
       "      <th>Sin b18</th>\n",
       "      <th>Sin B-23</th>\n",
       "      <th>Sin B-24</th>\n",
       "      <th>y</th>\n",
       "    </tr>\n",
       "  </thead>\n",
       "  <tbody>\n",
       "    <tr>\n",
       "      <th>0</th>\n",
       "      <td>1396-01-01</td>\n",
       "      <td>1400-01-01</td>\n",
       "      <td>48</td>\n",
       "      <td>3150.0</td>\n",
       "      <td>920.0</td>\n",
       "      <td>1</td>\n",
       "      <td>1703.672462</td>\n",
       "      <td>16</td>\n",
       "      <td>-0.627952</td>\n",
       "      <td>0.512964</td>\n",
       "      <td>...</td>\n",
       "      <td>0.473973</td>\n",
       "      <td>0.263595</td>\n",
       "      <td>-9.090529e-01</td>\n",
       "      <td>0.294251</td>\n",
       "      <td>-0.124358</td>\n",
       "      <td>0.975063</td>\n",
       "      <td>0.964070</td>\n",
       "      <td>0.954525</td>\n",
       "      <td>0.769512</td>\n",
       "      <td>9979.795043</td>\n",
       "    </tr>\n",
       "    <tr>\n",
       "      <th>1</th>\n",
       "      <td>1395-01-01</td>\n",
       "      <td>1400-10-01</td>\n",
       "      <td>69</td>\n",
       "      <td>7600.0</td>\n",
       "      <td>1140.0</td>\n",
       "      <td>1</td>\n",
       "      <td>1446.077707</td>\n",
       "      <td>23</td>\n",
       "      <td>-0.903059</td>\n",
       "      <td>0.432169</td>\n",
       "      <td>...</td>\n",
       "      <td>0.383201</td>\n",
       "      <td>0.210828</td>\n",
       "      <td>-6.687348e-01</td>\n",
       "      <td>0.225918</td>\n",
       "      <td>-0.221708</td>\n",
       "      <td>0.999795</td>\n",
       "      <td>0.905790</td>\n",
       "      <td>0.901170</td>\n",
       "      <td>0.658368</td>\n",
       "      <td>16362.045147</td>\n",
       "    </tr>\n",
       "    <tr>\n",
       "      <th>2</th>\n",
       "      <td>1398-01-01</td>\n",
       "      <td>1401-10-01</td>\n",
       "      <td>45</td>\n",
       "      <td>4800.0</td>\n",
       "      <td>840.0</td>\n",
       "      <td>1</td>\n",
       "      <td>2376.845399</td>\n",
       "      <td>15</td>\n",
       "      <td>-0.660964</td>\n",
       "      <td>1.126800</td>\n",
       "      <td>...</td>\n",
       "      <td>0.929428</td>\n",
       "      <td>0.999566</td>\n",
       "      <td>-1.262291e-01</td>\n",
       "      <td>0.307541</td>\n",
       "      <td>0.975338</td>\n",
       "      <td>-0.041006</td>\n",
       "      <td>0.865552</td>\n",
       "      <td>0.931351</td>\n",
       "      <td>0.889746</td>\n",
       "      <td>14120.093280</td>\n",
       "    </tr>\n",
       "    <tr>\n",
       "      <th>3</th>\n",
       "      <td>1397-04-01</td>\n",
       "      <td>1398-04-01</td>\n",
       "      <td>12</td>\n",
       "      <td>685.0</td>\n",
       "      <td>202.0</td>\n",
       "      <td>1</td>\n",
       "      <td>1207.741141</td>\n",
       "      <td>4</td>\n",
       "      <td>-0.268284</td>\n",
       "      <td>0.718625</td>\n",
       "      <td>...</td>\n",
       "      <td>0.653622</td>\n",
       "      <td>0.586774</td>\n",
       "      <td>-2.449294e-16</td>\n",
       "      <td>0.756817</td>\n",
       "      <td>0.921560</td>\n",
       "      <td>0.433860</td>\n",
       "      <td>0.996015</td>\n",
       "      <td>0.999972</td>\n",
       "      <td>0.954203</td>\n",
       "      <td>2560.672748</td>\n",
       "    </tr>\n",
       "    <tr>\n",
       "      <th>4</th>\n",
       "      <td>1387-01-01</td>\n",
       "      <td>1390-04-01</td>\n",
       "      <td>39</td>\n",
       "      <td>3000.0</td>\n",
       "      <td>800.0</td>\n",
       "      <td>1</td>\n",
       "      <td>410.000000</td>\n",
       "      <td>13</td>\n",
       "      <td>1.995128</td>\n",
       "      <td>-0.328568</td>\n",
       "      <td>...</td>\n",
       "      <td>-0.258078</td>\n",
       "      <td>-0.278387</td>\n",
       "      <td>-2.820141e-01</td>\n",
       "      <td>-0.397584</td>\n",
       "      <td>-0.609905</td>\n",
       "      <td>-0.503466</td>\n",
       "      <td>-0.134573</td>\n",
       "      <td>-0.134950</td>\n",
       "      <td>-0.311864</td>\n",
       "      <td>700.000000</td>\n",
       "    </tr>\n",
       "  </tbody>\n",
       "</table>\n",
       "<p>5 rows × 54 columns</p>\n",
       "</div>"
      ],
      "text/plain": [
       "   start_date    end_date  project_duration      x1      x2  x3           x5  \\\n",
       "0  1396-01-01  1400-01-01                48  3150.0   920.0   1  1703.672462   \n",
       "1  1395-01-01  1400-10-01                69  7600.0  1140.0   1  1446.077707   \n",
       "2  1398-01-01  1401-10-01                45  4800.0   840.0   1  2376.845399   \n",
       "3  1397-04-01  1398-04-01                12   685.0   202.0   1  1207.741141   \n",
       "4  1387-01-01  1390-04-01                39  3000.0   800.0   1   410.000000   \n",
       "\n",
       "   x51        b1        b2  ...    Sin b7    Sin b8        Sin b9   Sin b10  \\\n",
       "0   16 -0.627952  0.512964  ...  0.473973  0.263595 -9.090529e-01  0.294251   \n",
       "1   23 -0.903059  0.432169  ...  0.383201  0.210828 -6.687348e-01  0.225918   \n",
       "2   15 -0.660964  1.126800  ...  0.929428  0.999566 -1.262291e-01  0.307541   \n",
       "3    4 -0.268284  0.718625  ...  0.653622  0.586774 -2.449294e-16  0.756817   \n",
       "4   13  1.995128 -0.328568  ... -0.258078 -0.278387 -2.820141e-01 -0.397584   \n",
       "\n",
       "    Sin b14   Sin b17   Sin b18  Sin B-23  Sin B-24             y  \n",
       "0 -0.124358  0.975063  0.964070  0.954525  0.769512   9979.795043  \n",
       "1 -0.221708  0.999795  0.905790  0.901170  0.658368  16362.045147  \n",
       "2  0.975338 -0.041006  0.865552  0.931351  0.889746  14120.093280  \n",
       "3  0.921560  0.433860  0.996015  0.999972  0.954203   2560.672748  \n",
       "4 -0.609905 -0.503466 -0.134573 -0.134950 -0.311864    700.000000  \n",
       "\n",
       "[5 rows x 54 columns]"
      ]
     },
     "execution_count": 18,
     "metadata": {},
     "output_type": "execute_result"
    }
   ],
   "source": [
    "# filter df_economics drop extera rows for now (TODO: Add seasonal and  lag later)\n",
    "df_economics = df_economics[df_economics['Date'].isin(df['start_date'])]\n",
    "df = pd.merge(df, df_economics, how='left', left_on='start_date', right_on='Date')\n",
    "del df_economics\n",
    "df = df[[c for c in df if c not in ['y']] + ['y']]\n",
    "# drop Date column\n",
    "df = df.drop(['Date'], axis=1)\n",
    "print(df.shape)\n",
    "df.head()"
   ]
  },
  {
   "cell_type": "code",
   "execution_count": 19,
   "metadata": {},
   "outputs": [
    {
     "name": "stdout",
     "output_type": "stream",
     "text": [
      "(400, 24)\n"
     ]
    },
    {
     "data": {
      "text/html": [
       "<div>\n",
       "<style scoped>\n",
       "    .dataframe tbody tr th:only-of-type {\n",
       "        vertical-align: middle;\n",
       "    }\n",
       "\n",
       "    .dataframe tbody tr th {\n",
       "        vertical-align: top;\n",
       "    }\n",
       "\n",
       "    .dataframe thead th {\n",
       "        text-align: right;\n",
       "    }\n",
       "</style>\n",
       "<table border=\"1\" class=\"dataframe\">\n",
       "  <thead>\n",
       "    <tr style=\"text-align: right;\">\n",
       "      <th></th>\n",
       "      <th>start_date</th>\n",
       "      <th>end_date</th>\n",
       "      <th>project_duration</th>\n",
       "      <th>x1</th>\n",
       "      <th>x2</th>\n",
       "      <th>x3</th>\n",
       "      <th>x5</th>\n",
       "      <th>x51</th>\n",
       "      <th>b1</th>\n",
       "      <th>b2</th>\n",
       "      <th>...</th>\n",
       "      <th>b7</th>\n",
       "      <th>b8</th>\n",
       "      <th>b9</th>\n",
       "      <th>b10</th>\n",
       "      <th>b14</th>\n",
       "      <th>b17</th>\n",
       "      <th>b18</th>\n",
       "      <th>B-23</th>\n",
       "      <th>B-24</th>\n",
       "      <th>y</th>\n",
       "    </tr>\n",
       "  </thead>\n",
       "  <tbody>\n",
       "    <tr>\n",
       "      <th>0</th>\n",
       "      <td>1396-01-01</td>\n",
       "      <td>1400-01-01</td>\n",
       "      <td>48</td>\n",
       "      <td>3150.0</td>\n",
       "      <td>920.0</td>\n",
       "      <td>1</td>\n",
       "      <td>1703.672462</td>\n",
       "      <td>16</td>\n",
       "      <td>-0.627952</td>\n",
       "      <td>0.512964</td>\n",
       "      <td>...</td>\n",
       "      <td>0.473683</td>\n",
       "      <td>0.223436</td>\n",
       "      <td>1.586044</td>\n",
       "      <td>0.212582</td>\n",
       "      <td>-0.078869</td>\n",
       "      <td>1.076990</td>\n",
       "      <td>0.977018</td>\n",
       "      <td>0.980000</td>\n",
       "      <td>0.686014</td>\n",
       "      <td>9979.795043</td>\n",
       "    </tr>\n",
       "    <tr>\n",
       "      <th>1</th>\n",
       "      <td>1395-01-01</td>\n",
       "      <td>1400-10-01</td>\n",
       "      <td>69</td>\n",
       "      <td>7600.0</td>\n",
       "      <td>1140.0</td>\n",
       "      <td>1</td>\n",
       "      <td>1446.077707</td>\n",
       "      <td>23</td>\n",
       "      <td>-0.903059</td>\n",
       "      <td>0.432169</td>\n",
       "      <td>...</td>\n",
       "      <td>0.377241</td>\n",
       "      <td>0.177932</td>\n",
       "      <td>1.434758</td>\n",
       "      <td>0.162199</td>\n",
       "      <td>-0.141420</td>\n",
       "      <td>0.930535</td>\n",
       "      <td>0.850433</td>\n",
       "      <td>0.867476</td>\n",
       "      <td>0.561457</td>\n",
       "      <td>16362.045147</td>\n",
       "    </tr>\n",
       "    <tr>\n",
       "      <th>2</th>\n",
       "      <td>1398-01-01</td>\n",
       "      <td>1401-10-01</td>\n",
       "      <td>45</td>\n",
       "      <td>4800.0</td>\n",
       "      <td>840.0</td>\n",
       "      <td>1</td>\n",
       "      <td>2376.845399</td>\n",
       "      <td>15</td>\n",
       "      <td>-0.660964</td>\n",
       "      <td>1.126800</td>\n",
       "      <td>...</td>\n",
       "      <td>1.144272</td>\n",
       "      <td>1.340417</td>\n",
       "      <td>2.280080</td>\n",
       "      <td>2.013554</td>\n",
       "      <td>1.134411</td>\n",
       "      <td>1.909989</td>\n",
       "      <td>1.572436</td>\n",
       "      <td>1.501990</td>\n",
       "      <td>1.597541</td>\n",
       "      <td>14120.093280</td>\n",
       "    </tr>\n",
       "    <tr>\n",
       "      <th>3</th>\n",
       "      <td>1397-04-01</td>\n",
       "      <td>1398-04-01</td>\n",
       "      <td>12</td>\n",
       "      <td>685.0</td>\n",
       "      <td>202.0</td>\n",
       "      <td>1</td>\n",
       "      <td>1207.741141</td>\n",
       "      <td>4</td>\n",
       "      <td>-0.268284</td>\n",
       "      <td>0.718625</td>\n",
       "      <td>...</td>\n",
       "      <td>0.683344</td>\n",
       "      <td>0.525254</td>\n",
       "      <td>2.326954</td>\n",
       "      <td>1.625061</td>\n",
       "      <td>0.741419</td>\n",
       "      <td>1.616050</td>\n",
       "      <td>1.245815</td>\n",
       "      <td>1.208175</td>\n",
       "      <td>0.989856</td>\n",
       "      <td>2560.672748</td>\n",
       "    </tr>\n",
       "    <tr>\n",
       "      <th>4</th>\n",
       "      <td>1387-01-01</td>\n",
       "      <td>1390-04-01</td>\n",
       "      <td>39</td>\n",
       "      <td>3000.0</td>\n",
       "      <td>800.0</td>\n",
       "      <td>1</td>\n",
       "      <td>410.000000</td>\n",
       "      <td>13</td>\n",
       "      <td>1.995128</td>\n",
       "      <td>-0.328568</td>\n",
       "      <td>...</td>\n",
       "      <td>-0.250400</td>\n",
       "      <td>-0.236309</td>\n",
       "      <td>-0.105879</td>\n",
       "      <td>-0.291025</td>\n",
       "      <td>-0.414927</td>\n",
       "      <td>-0.316633</td>\n",
       "      <td>-0.101297</td>\n",
       "      <td>-0.104613</td>\n",
       "      <td>-0.247783</td>\n",
       "      <td>700.000000</td>\n",
       "    </tr>\n",
       "  </tbody>\n",
       "</table>\n",
       "<p>5 rows × 24 columns</p>\n",
       "</div>"
      ],
      "text/plain": [
       "   start_date    end_date  project_duration      x1      x2  x3           x5  \\\n",
       "0  1396-01-01  1400-01-01                48  3150.0   920.0   1  1703.672462   \n",
       "1  1395-01-01  1400-10-01                69  7600.0  1140.0   1  1446.077707   \n",
       "2  1398-01-01  1401-10-01                45  4800.0   840.0   1  2376.845399   \n",
       "3  1397-04-01  1398-04-01                12   685.0   202.0   1  1207.741141   \n",
       "4  1387-01-01  1390-04-01                39  3000.0   800.0   1   410.000000   \n",
       "\n",
       "   x51        b1        b2  ...        b7        b8        b9       b10  \\\n",
       "0   16 -0.627952  0.512964  ...  0.473683  0.223436  1.586044  0.212582   \n",
       "1   23 -0.903059  0.432169  ...  0.377241  0.177932  1.434758  0.162199   \n",
       "2   15 -0.660964  1.126800  ...  1.144272  1.340417  2.280080  2.013554   \n",
       "3    4 -0.268284  0.718625  ...  0.683344  0.525254  2.326954  1.625061   \n",
       "4   13  1.995128 -0.328568  ... -0.250400 -0.236309 -0.105879 -0.291025   \n",
       "\n",
       "        b14       b17       b18      B-23      B-24             y  \n",
       "0 -0.078869  1.076990  0.977018  0.980000  0.686014   9979.795043  \n",
       "1 -0.141420  0.930535  0.850433  0.867476  0.561457  16362.045147  \n",
       "2  1.134411  1.909989  1.572436  1.501990  1.597541  14120.093280  \n",
       "3  0.741419  1.616050  1.245815  1.208175  0.989856   2560.672748  \n",
       "4 -0.414927 -0.316633 -0.101297 -0.104613 -0.247783    700.000000  \n",
       "\n",
       "[5 rows x 24 columns]"
      ]
     },
     "execution_count": 19,
     "metadata": {},
     "output_type": "execute_result"
    }
   ],
   "source": [
    "df = df[[c for c in df if 'Sin' not in c]]\n",
    "df = df[[c for c in df if 'Cosine' not in c]]\n",
    "print(df.shape)\n",
    "df.head()"
   ]
  },
  {
   "cell_type": "code",
   "execution_count": 20,
   "metadata": {},
   "outputs": [
    {
     "data": {
      "text/html": [
       "<div>\n",
       "<style scoped>\n",
       "    .dataframe tbody tr th:only-of-type {\n",
       "        vertical-align: middle;\n",
       "    }\n",
       "\n",
       "    .dataframe tbody tr th {\n",
       "        vertical-align: top;\n",
       "    }\n",
       "\n",
       "    .dataframe thead th {\n",
       "        text-align: right;\n",
       "    }\n",
       "</style>\n",
       "<table border=\"1\" class=\"dataframe\">\n",
       "  <thead>\n",
       "    <tr style=\"text-align: right;\">\n",
       "      <th></th>\n",
       "      <th>start_date</th>\n",
       "      <th>end_date</th>\n",
       "      <th>project_duration</th>\n",
       "      <th>x1</th>\n",
       "      <th>x2</th>\n",
       "      <th>x3</th>\n",
       "      <th>x5</th>\n",
       "      <th>x51</th>\n",
       "      <th>b1</th>\n",
       "      <th>b2</th>\n",
       "      <th>...</th>\n",
       "      <th>b7</th>\n",
       "      <th>b8</th>\n",
       "      <th>b9</th>\n",
       "      <th>b10</th>\n",
       "      <th>b14</th>\n",
       "      <th>b17</th>\n",
       "      <th>b18</th>\n",
       "      <th>B-23</th>\n",
       "      <th>B-24</th>\n",
       "      <th>y</th>\n",
       "    </tr>\n",
       "  </thead>\n",
       "  <tbody>\n",
       "    <tr>\n",
       "      <th>0</th>\n",
       "      <td>2017-03-21</td>\n",
       "      <td>2021-03-21</td>\n",
       "      <td>48</td>\n",
       "      <td>3150.0</td>\n",
       "      <td>920.0</td>\n",
       "      <td>1</td>\n",
       "      <td>1703.672462</td>\n",
       "      <td>16</td>\n",
       "      <td>-0.627952</td>\n",
       "      <td>0.512964</td>\n",
       "      <td>...</td>\n",
       "      <td>0.473683</td>\n",
       "      <td>0.223436</td>\n",
       "      <td>1.586044</td>\n",
       "      <td>0.212582</td>\n",
       "      <td>-0.078869</td>\n",
       "      <td>1.076990</td>\n",
       "      <td>0.977018</td>\n",
       "      <td>0.980000</td>\n",
       "      <td>0.686014</td>\n",
       "      <td>9979.795043</td>\n",
       "    </tr>\n",
       "    <tr>\n",
       "      <th>1</th>\n",
       "      <td>2016-03-20</td>\n",
       "      <td>2021-12-22</td>\n",
       "      <td>69</td>\n",
       "      <td>7600.0</td>\n",
       "      <td>1140.0</td>\n",
       "      <td>1</td>\n",
       "      <td>1446.077707</td>\n",
       "      <td>23</td>\n",
       "      <td>-0.903059</td>\n",
       "      <td>0.432169</td>\n",
       "      <td>...</td>\n",
       "      <td>0.377241</td>\n",
       "      <td>0.177932</td>\n",
       "      <td>1.434758</td>\n",
       "      <td>0.162199</td>\n",
       "      <td>-0.141420</td>\n",
       "      <td>0.930535</td>\n",
       "      <td>0.850433</td>\n",
       "      <td>0.867476</td>\n",
       "      <td>0.561457</td>\n",
       "      <td>16362.045147</td>\n",
       "    </tr>\n",
       "    <tr>\n",
       "      <th>2</th>\n",
       "      <td>2019-03-21</td>\n",
       "      <td>2022-12-22</td>\n",
       "      <td>45</td>\n",
       "      <td>4800.0</td>\n",
       "      <td>840.0</td>\n",
       "      <td>1</td>\n",
       "      <td>2376.845399</td>\n",
       "      <td>15</td>\n",
       "      <td>-0.660964</td>\n",
       "      <td>1.126800</td>\n",
       "      <td>...</td>\n",
       "      <td>1.144272</td>\n",
       "      <td>1.340417</td>\n",
       "      <td>2.280080</td>\n",
       "      <td>2.013554</td>\n",
       "      <td>1.134411</td>\n",
       "      <td>1.909989</td>\n",
       "      <td>1.572436</td>\n",
       "      <td>1.501990</td>\n",
       "      <td>1.597541</td>\n",
       "      <td>14120.093280</td>\n",
       "    </tr>\n",
       "    <tr>\n",
       "      <th>3</th>\n",
       "      <td>2018-06-22</td>\n",
       "      <td>2019-06-22</td>\n",
       "      <td>12</td>\n",
       "      <td>685.0</td>\n",
       "      <td>202.0</td>\n",
       "      <td>1</td>\n",
       "      <td>1207.741141</td>\n",
       "      <td>4</td>\n",
       "      <td>-0.268284</td>\n",
       "      <td>0.718625</td>\n",
       "      <td>...</td>\n",
       "      <td>0.683344</td>\n",
       "      <td>0.525254</td>\n",
       "      <td>2.326954</td>\n",
       "      <td>1.625061</td>\n",
       "      <td>0.741419</td>\n",
       "      <td>1.616050</td>\n",
       "      <td>1.245815</td>\n",
       "      <td>1.208175</td>\n",
       "      <td>0.989856</td>\n",
       "      <td>2560.672748</td>\n",
       "    </tr>\n",
       "    <tr>\n",
       "      <th>4</th>\n",
       "      <td>2008-03-20</td>\n",
       "      <td>2011-06-22</td>\n",
       "      <td>39</td>\n",
       "      <td>3000.0</td>\n",
       "      <td>800.0</td>\n",
       "      <td>1</td>\n",
       "      <td>410.000000</td>\n",
       "      <td>13</td>\n",
       "      <td>1.995128</td>\n",
       "      <td>-0.328568</td>\n",
       "      <td>...</td>\n",
       "      <td>-0.250400</td>\n",
       "      <td>-0.236309</td>\n",
       "      <td>-0.105879</td>\n",
       "      <td>-0.291025</td>\n",
       "      <td>-0.414927</td>\n",
       "      <td>-0.316633</td>\n",
       "      <td>-0.101297</td>\n",
       "      <td>-0.104613</td>\n",
       "      <td>-0.247783</td>\n",
       "      <td>700.000000</td>\n",
       "    </tr>\n",
       "  </tbody>\n",
       "</table>\n",
       "<p>5 rows × 24 columns</p>\n",
       "</div>"
      ],
      "text/plain": [
       "  start_date   end_date  project_duration      x1      x2  x3           x5  \\\n",
       "0 2017-03-21 2021-03-21                48  3150.0   920.0   1  1703.672462   \n",
       "1 2016-03-20 2021-12-22                69  7600.0  1140.0   1  1446.077707   \n",
       "2 2019-03-21 2022-12-22                45  4800.0   840.0   1  2376.845399   \n",
       "3 2018-06-22 2019-06-22                12   685.0   202.0   1  1207.741141   \n",
       "4 2008-03-20 2011-06-22                39  3000.0   800.0   1   410.000000   \n",
       "\n",
       "   x51        b1        b2  ...        b7        b8        b9       b10  \\\n",
       "0   16 -0.627952  0.512964  ...  0.473683  0.223436  1.586044  0.212582   \n",
       "1   23 -0.903059  0.432169  ...  0.377241  0.177932  1.434758  0.162199   \n",
       "2   15 -0.660964  1.126800  ...  1.144272  1.340417  2.280080  2.013554   \n",
       "3    4 -0.268284  0.718625  ...  0.683344  0.525254  2.326954  1.625061   \n",
       "4   13  1.995128 -0.328568  ... -0.250400 -0.236309 -0.105879 -0.291025   \n",
       "\n",
       "        b14       b17       b18      B-23      B-24             y  \n",
       "0 -0.078869  1.076990  0.977018  0.980000  0.686014   9979.795043  \n",
       "1 -0.141420  0.930535  0.850433  0.867476  0.561457  16362.045147  \n",
       "2  1.134411  1.909989  1.572436  1.501990  1.597541  14120.093280  \n",
       "3  0.741419  1.616050  1.245815  1.208175  0.989856   2560.672748  \n",
       "4 -0.414927 -0.316633 -0.101297 -0.104613 -0.247783    700.000000  \n",
       "\n",
       "[5 rows x 24 columns]"
      ]
     },
     "execution_count": 20,
     "metadata": {},
     "output_type": "execute_result"
    }
   ],
   "source": [
    "# convert start_date and end_date to jdatetime\n",
    "df['start_date'] = df['start_date'].apply(lambda x: jdatetime.datetime.strptime(x, '%Y-%m-%d'))\n",
    "df['end_date'] = df['end_date'].apply(lambda x: jdatetime.datetime.strptime(x, '%Y-%m-%d'))\n",
    "# convert start_date and end_date to gregorian\n",
    "df['start_date'] = df['start_date'].apply(lambda x: x.togregorian())\n",
    "df['end_date'] = df['end_date'].apply(lambda x: x.togregorian())\n",
    "df.head()"
   ]
  },
  {
   "cell_type": "code",
   "execution_count": 21,
   "metadata": {},
   "outputs": [
    {
     "name": "stdout",
     "output_type": "stream",
     "text": [
      "(400, 24)\n"
     ]
    },
    {
     "data": {
      "text/html": [
       "<div>\n",
       "<style scoped>\n",
       "    .dataframe tbody tr th:only-of-type {\n",
       "        vertical-align: middle;\n",
       "    }\n",
       "\n",
       "    .dataframe tbody tr th {\n",
       "        vertical-align: top;\n",
       "    }\n",
       "\n",
       "    .dataframe thead th {\n",
       "        text-align: right;\n",
       "    }\n",
       "</style>\n",
       "<table border=\"1\" class=\"dataframe\">\n",
       "  <thead>\n",
       "    <tr style=\"text-align: right;\">\n",
       "      <th></th>\n",
       "      <th>start_date</th>\n",
       "      <th>end_date</th>\n",
       "      <th>project_duration</th>\n",
       "      <th>x1</th>\n",
       "      <th>x2</th>\n",
       "      <th>x3</th>\n",
       "      <th>x5</th>\n",
       "      <th>x51</th>\n",
       "      <th>b1</th>\n",
       "      <th>b2</th>\n",
       "      <th>...</th>\n",
       "      <th>b7</th>\n",
       "      <th>b8</th>\n",
       "      <th>b9</th>\n",
       "      <th>b10</th>\n",
       "      <th>b14</th>\n",
       "      <th>b17</th>\n",
       "      <th>b18</th>\n",
       "      <th>B-23</th>\n",
       "      <th>B-24</th>\n",
       "      <th>y</th>\n",
       "    </tr>\n",
       "  </thead>\n",
       "  <tbody>\n",
       "    <tr>\n",
       "      <th>0</th>\n",
       "      <td>1490054400</td>\n",
       "      <td>1616284800</td>\n",
       "      <td>48</td>\n",
       "      <td>3150.0</td>\n",
       "      <td>920.0</td>\n",
       "      <td>1</td>\n",
       "      <td>1703.672462</td>\n",
       "      <td>16</td>\n",
       "      <td>-0.627952</td>\n",
       "      <td>0.512964</td>\n",
       "      <td>...</td>\n",
       "      <td>0.473683</td>\n",
       "      <td>0.223436</td>\n",
       "      <td>1.586044</td>\n",
       "      <td>0.212582</td>\n",
       "      <td>-0.078869</td>\n",
       "      <td>1.076990</td>\n",
       "      <td>0.977018</td>\n",
       "      <td>0.980000</td>\n",
       "      <td>0.686014</td>\n",
       "      <td>9979.795043</td>\n",
       "    </tr>\n",
       "    <tr>\n",
       "      <th>1</th>\n",
       "      <td>1458432000</td>\n",
       "      <td>1640131200</td>\n",
       "      <td>69</td>\n",
       "      <td>7600.0</td>\n",
       "      <td>1140.0</td>\n",
       "      <td>1</td>\n",
       "      <td>1446.077707</td>\n",
       "      <td>23</td>\n",
       "      <td>-0.903059</td>\n",
       "      <td>0.432169</td>\n",
       "      <td>...</td>\n",
       "      <td>0.377241</td>\n",
       "      <td>0.177932</td>\n",
       "      <td>1.434758</td>\n",
       "      <td>0.162199</td>\n",
       "      <td>-0.141420</td>\n",
       "      <td>0.930535</td>\n",
       "      <td>0.850433</td>\n",
       "      <td>0.867476</td>\n",
       "      <td>0.561457</td>\n",
       "      <td>16362.045147</td>\n",
       "    </tr>\n",
       "    <tr>\n",
       "      <th>2</th>\n",
       "      <td>1553126400</td>\n",
       "      <td>1671667200</td>\n",
       "      <td>45</td>\n",
       "      <td>4800.0</td>\n",
       "      <td>840.0</td>\n",
       "      <td>1</td>\n",
       "      <td>2376.845399</td>\n",
       "      <td>15</td>\n",
       "      <td>-0.660964</td>\n",
       "      <td>1.126800</td>\n",
       "      <td>...</td>\n",
       "      <td>1.144272</td>\n",
       "      <td>1.340417</td>\n",
       "      <td>2.280080</td>\n",
       "      <td>2.013554</td>\n",
       "      <td>1.134411</td>\n",
       "      <td>1.909989</td>\n",
       "      <td>1.572436</td>\n",
       "      <td>1.501990</td>\n",
       "      <td>1.597541</td>\n",
       "      <td>14120.093280</td>\n",
       "    </tr>\n",
       "    <tr>\n",
       "      <th>3</th>\n",
       "      <td>1529625600</td>\n",
       "      <td>1561161600</td>\n",
       "      <td>12</td>\n",
       "      <td>685.0</td>\n",
       "      <td>202.0</td>\n",
       "      <td>1</td>\n",
       "      <td>1207.741141</td>\n",
       "      <td>4</td>\n",
       "      <td>-0.268284</td>\n",
       "      <td>0.718625</td>\n",
       "      <td>...</td>\n",
       "      <td>0.683344</td>\n",
       "      <td>0.525254</td>\n",
       "      <td>2.326954</td>\n",
       "      <td>1.625061</td>\n",
       "      <td>0.741419</td>\n",
       "      <td>1.616050</td>\n",
       "      <td>1.245815</td>\n",
       "      <td>1.208175</td>\n",
       "      <td>0.989856</td>\n",
       "      <td>2560.672748</td>\n",
       "    </tr>\n",
       "    <tr>\n",
       "      <th>4</th>\n",
       "      <td>1205971200</td>\n",
       "      <td>1308700800</td>\n",
       "      <td>39</td>\n",
       "      <td>3000.0</td>\n",
       "      <td>800.0</td>\n",
       "      <td>1</td>\n",
       "      <td>410.000000</td>\n",
       "      <td>13</td>\n",
       "      <td>1.995128</td>\n",
       "      <td>-0.328568</td>\n",
       "      <td>...</td>\n",
       "      <td>-0.250400</td>\n",
       "      <td>-0.236309</td>\n",
       "      <td>-0.105879</td>\n",
       "      <td>-0.291025</td>\n",
       "      <td>-0.414927</td>\n",
       "      <td>-0.316633</td>\n",
       "      <td>-0.101297</td>\n",
       "      <td>-0.104613</td>\n",
       "      <td>-0.247783</td>\n",
       "      <td>700.000000</td>\n",
       "    </tr>\n",
       "  </tbody>\n",
       "</table>\n",
       "<p>5 rows × 24 columns</p>\n",
       "</div>"
      ],
      "text/plain": [
       "   start_date    end_date  project_duration      x1      x2  x3           x5  \\\n",
       "0  1490054400  1616284800                48  3150.0   920.0   1  1703.672462   \n",
       "1  1458432000  1640131200                69  7600.0  1140.0   1  1446.077707   \n",
       "2  1553126400  1671667200                45  4800.0   840.0   1  2376.845399   \n",
       "3  1529625600  1561161600                12   685.0   202.0   1  1207.741141   \n",
       "4  1205971200  1308700800                39  3000.0   800.0   1   410.000000   \n",
       "\n",
       "   x51        b1        b2  ...        b7        b8        b9       b10  \\\n",
       "0   16 -0.627952  0.512964  ...  0.473683  0.223436  1.586044  0.212582   \n",
       "1   23 -0.903059  0.432169  ...  0.377241  0.177932  1.434758  0.162199   \n",
       "2   15 -0.660964  1.126800  ...  1.144272  1.340417  2.280080  2.013554   \n",
       "3    4 -0.268284  0.718625  ...  0.683344  0.525254  2.326954  1.625061   \n",
       "4   13  1.995128 -0.328568  ... -0.250400 -0.236309 -0.105879 -0.291025   \n",
       "\n",
       "        b14       b17       b18      B-23      B-24             y  \n",
       "0 -0.078869  1.076990  0.977018  0.980000  0.686014   9979.795043  \n",
       "1 -0.141420  0.930535  0.850433  0.867476  0.561457  16362.045147  \n",
       "2  1.134411  1.909989  1.572436  1.501990  1.597541  14120.093280  \n",
       "3  0.741419  1.616050  1.245815  1.208175  0.989856   2560.672748  \n",
       "4 -0.414927 -0.316633 -0.101297 -0.104613 -0.247783    700.000000  \n",
       "\n",
       "[5 rows x 24 columns]"
      ]
     },
     "execution_count": 21,
     "metadata": {},
     "output_type": "execute_result"
    }
   ],
   "source": [
    "# convert start_date and end_date to UNIX timestamp\n",
    "df['start_date'] = pd.to_datetime(df['start_date']).astype(np.int64) // 10**9\n",
    "df['end_date'] = pd.to_datetime(df['end_date']).astype(np.int64) // 10**9\n",
    "print(df.shape)\n",
    "df.head()"
   ]
  },
  {
   "cell_type": "code",
   "execution_count": 22,
   "metadata": {},
   "outputs": [
    {
     "data": {
      "text/plain": [
       "start_date            int64\n",
       "end_date              int64\n",
       "project_duration      int64\n",
       "x1                  float64\n",
       "x2                  float64\n",
       "x3                    int64\n",
       "x5                  float64\n",
       "x51                   int64\n",
       "b1                  float64\n",
       "b2                  float64\n",
       "b3                  float64\n",
       "b4                  float64\n",
       "b5                  float64\n",
       "b6                  float64\n",
       "b7                  float64\n",
       "b8                  float64\n",
       "b9                  float64\n",
       "b10                 float64\n",
       "b14                 float64\n",
       "b17                 float64\n",
       "b18                 float64\n",
       "B-23                float64\n",
       "B-24                float64\n",
       "y                   float64\n",
       "dtype: object"
      ]
     },
     "execution_count": 22,
     "metadata": {},
     "output_type": "execute_result"
    }
   ],
   "source": [
    "df.dtypes"
   ]
  },
  {
   "cell_type": "code",
   "execution_count": 23,
   "metadata": {},
   "outputs": [
    {
     "data": {
      "text/plain": [
       "start_date          float64\n",
       "end_date            float64\n",
       "project_duration    float64\n",
       "x1                  float64\n",
       "x2                  float64\n",
       "x3                  float64\n",
       "x5                  float64\n",
       "x51                 float64\n",
       "b1                  float64\n",
       "b2                  float64\n",
       "b3                  float64\n",
       "b4                  float64\n",
       "b5                  float64\n",
       "b6                  float64\n",
       "b7                  float64\n",
       "b8                  float64\n",
       "b9                  float64\n",
       "b10                 float64\n",
       "b14                 float64\n",
       "b17                 float64\n",
       "b18                 float64\n",
       "B-23                float64\n",
       "B-24                float64\n",
       "y                   float64\n",
       "dtype: object"
      ]
     },
     "execution_count": 23,
     "metadata": {},
     "output_type": "execute_result"
    }
   ],
   "source": [
    "# start_date, end_date, project_duration, x3, x51 to float\n",
    "df['start_date'] = df['start_date'].astype(np.float64)\n",
    "df['end_date'] = df['end_date'].astype(np.float64)\n",
    "df['project_duration'] = df['project_duration'].astype(np.float64)\n",
    "df['x3'] = df['x3'].astype(np.float64)\n",
    "df['x51'] = df['x51'].astype(np.float64)\n",
    "df.dtypes"
   ]
  },
  {
   "cell_type": "code",
   "execution_count": 24,
   "metadata": {},
   "outputs": [
    {
     "name": "stdout",
     "output_type": "stream",
     "text": [
      "(320, 23) (80, 23) (320,) (80,)\n"
     ]
    }
   ],
   "source": [
    "# split data to train and test\n",
    "x_train, x_test, y_train, y_test = train_test_split(\n",
    "    df[[c for c in df if c not in ['y']]], df['y'], test_size=0.2, random_state=42\n",
    ")\n",
    "print(x_train.shape, x_test.shape, y_train.shape, y_test.shape)"
   ]
  },
  {
   "cell_type": "code",
   "execution_count": 25,
   "metadata": {},
   "outputs": [
    {
     "name": "stdout",
     "output_type": "stream",
     "text": [
      "Model: \"sequential_1\"\n",
      "_________________________________________________________________\n",
      " Layer (type)                Output Shape              Param #   \n",
      "=================================================================\n",
      " gru_2 (GRU)                 (None, 23, 128)           50304     \n",
      "                                                                 \n",
      " gru_3 (GRU)                 (None, 64)                37248     \n",
      "                                                                 \n",
      " dense_1 (Dense)             (None, 1)                 65        \n",
      "                                                                 \n",
      "=================================================================\n",
      "Total params: 87,617\n",
      "Trainable params: 87,617\n",
      "Non-trainable params: 0\n",
      "_________________________________________________________________\n"
     ]
    },
    {
     "name": "stderr",
     "output_type": "stream",
     "text": [
      "2023-07-16 22:13:08.752122: I tensorflow/core/common_runtime/executor.cc:1197] [/device:CPU:0] (DEBUG INFO) Executor start aborting (this does not indicate an error and you can ignore this message): INVALID_ARGUMENT: You must feed a value for placeholder tensor 'gradients/split_2_grad/concat/split_2/split_dim' with dtype int32\n",
      "\t [[{{node gradients/split_2_grad/concat/split_2/split_dim}}]]\n",
      "2023-07-16 22:13:08.753018: I tensorflow/core/common_runtime/executor.cc:1197] [/device:CPU:0] (DEBUG INFO) Executor start aborting (this does not indicate an error and you can ignore this message): INVALID_ARGUMENT: You must feed a value for placeholder tensor 'gradients/split_grad/concat/split/split_dim' with dtype int32\n",
      "\t [[{{node gradients/split_grad/concat/split/split_dim}}]]\n",
      "2023-07-16 22:13:08.753686: I tensorflow/core/common_runtime/executor.cc:1197] [/device:CPU:0] (DEBUG INFO) Executor start aborting (this does not indicate an error and you can ignore this message): INVALID_ARGUMENT: You must feed a value for placeholder tensor 'gradients/split_1_grad/concat/split_1/split_dim' with dtype int32\n",
      "\t [[{{node gradients/split_1_grad/concat/split_1/split_dim}}]]\n",
      "2023-07-16 22:13:08.875096: I tensorflow/core/common_runtime/executor.cc:1197] [/device:CPU:0] (DEBUG INFO) Executor start aborting (this does not indicate an error and you can ignore this message): INVALID_ARGUMENT: You must feed a value for placeholder tensor 'gradients/split_2_grad/concat/split_2/split_dim' with dtype int32\n",
      "\t [[{{node gradients/split_2_grad/concat/split_2/split_dim}}]]\n",
      "2023-07-16 22:13:08.876031: I tensorflow/core/common_runtime/executor.cc:1197] [/device:CPU:0] (DEBUG INFO) Executor start aborting (this does not indicate an error and you can ignore this message): INVALID_ARGUMENT: You must feed a value for placeholder tensor 'gradients/split_grad/concat/split/split_dim' with dtype int32\n",
      "\t [[{{node gradients/split_grad/concat/split/split_dim}}]]\n",
      "2023-07-16 22:13:08.876811: I tensorflow/core/common_runtime/executor.cc:1197] [/device:CPU:0] (DEBUG INFO) Executor start aborting (this does not indicate an error and you can ignore this message): INVALID_ARGUMENT: You must feed a value for placeholder tensor 'gradients/split_1_grad/concat/split_1/split_dim' with dtype int32\n",
      "\t [[{{node gradients/split_1_grad/concat/split_1/split_dim}}]]\n"
     ]
    }
   ],
   "source": [
    "# Create a nerual network with 1 GRU and 1 drop out\n",
    "model = keras.Sequential()\n",
    "model.add(keras.layers.GRU(128, input_shape=(df.shape[1]-1, 1), return_sequences=True))\n",
    "# model.add(keras.layers.Dropout(0.2))\n",
    "model.add(keras.layers.GRU(64, return_sequences=False))\n",
    "# model.add(keras.layers.Dropout(0.2))\n",
    "model.add(keras.layers.Dense(1))\n",
    "model.compile(loss='mse', optimizer='adam')\n",
    "model.summary()"
   ]
  },
  {
   "cell_type": "code",
   "execution_count": 26,
   "metadata": {},
   "outputs": [
    {
     "name": "stdout",
     "output_type": "stream",
     "text": [
      "Epoch 1/100\n"
     ]
    },
    {
     "name": "stderr",
     "output_type": "stream",
     "text": [
      "2023-07-16 22:13:09.040702: I tensorflow/core/common_runtime/executor.cc:1197] [/device:CPU:0] (DEBUG INFO) Executor start aborting (this does not indicate an error and you can ignore this message): INVALID_ARGUMENT: You must feed a value for placeholder tensor 'gradients/split_2_grad/concat/split_2/split_dim' with dtype int32\n",
      "\t [[{{node gradients/split_2_grad/concat/split_2/split_dim}}]]\n",
      "2023-07-16 22:13:09.041739: I tensorflow/core/common_runtime/executor.cc:1197] [/device:CPU:0] (DEBUG INFO) Executor start aborting (this does not indicate an error and you can ignore this message): INVALID_ARGUMENT: You must feed a value for placeholder tensor 'gradients/split_grad/concat/split/split_dim' with dtype int32\n",
      "\t [[{{node gradients/split_grad/concat/split/split_dim}}]]\n",
      "2023-07-16 22:13:09.043084: I tensorflow/core/common_runtime/executor.cc:1197] [/device:CPU:0] (DEBUG INFO) Executor start aborting (this does not indicate an error and you can ignore this message): INVALID_ARGUMENT: You must feed a value for placeholder tensor 'gradients/split_1_grad/concat/split_1/split_dim' with dtype int32\n",
      "\t [[{{node gradients/split_1_grad/concat/split_1/split_dim}}]]\n",
      "2023-07-16 22:13:09.153448: I tensorflow/core/common_runtime/executor.cc:1197] [/device:CPU:0] (DEBUG INFO) Executor start aborting (this does not indicate an error and you can ignore this message): INVALID_ARGUMENT: You must feed a value for placeholder tensor 'gradients/split_2_grad/concat/split_2/split_dim' with dtype int32\n",
      "\t [[{{node gradients/split_2_grad/concat/split_2/split_dim}}]]\n",
      "2023-07-16 22:13:09.154243: I tensorflow/core/common_runtime/executor.cc:1197] [/device:CPU:0] (DEBUG INFO) Executor start aborting (this does not indicate an error and you can ignore this message): INVALID_ARGUMENT: You must feed a value for placeholder tensor 'gradients/split_grad/concat/split/split_dim' with dtype int32\n",
      "\t [[{{node gradients/split_grad/concat/split/split_dim}}]]\n",
      "2023-07-16 22:13:09.155005: I tensorflow/core/common_runtime/executor.cc:1197] [/device:CPU:0] (DEBUG INFO) Executor start aborting (this does not indicate an error and you can ignore this message): INVALID_ARGUMENT: You must feed a value for placeholder tensor 'gradients/split_1_grad/concat/split_1/split_dim' with dtype int32\n",
      "\t [[{{node gradients/split_1_grad/concat/split_1/split_dim}}]]\n",
      "2023-07-16 22:13:09.549145: I tensorflow/core/common_runtime/executor.cc:1197] [/device:CPU:0] (DEBUG INFO) Executor start aborting (this does not indicate an error and you can ignore this message): INVALID_ARGUMENT: You must feed a value for placeholder tensor 'gradients/split_2_grad/concat/split_2/split_dim' with dtype int32\n",
      "\t [[{{node gradients/split_2_grad/concat/split_2/split_dim}}]]\n",
      "2023-07-16 22:13:09.550525: I tensorflow/core/common_runtime/executor.cc:1197] [/device:CPU:0] (DEBUG INFO) Executor start aborting (this does not indicate an error and you can ignore this message): INVALID_ARGUMENT: You must feed a value for placeholder tensor 'gradients/split_grad/concat/split/split_dim' with dtype int32\n",
      "\t [[{{node gradients/split_grad/concat/split/split_dim}}]]\n",
      "2023-07-16 22:13:09.551311: I tensorflow/core/common_runtime/executor.cc:1197] [/device:CPU:0] (DEBUG INFO) Executor start aborting (this does not indicate an error and you can ignore this message): INVALID_ARGUMENT: You must feed a value for placeholder tensor 'gradients/split_1_grad/concat/split_1/split_dim' with dtype int32\n",
      "\t [[{{node gradients/split_1_grad/concat/split_1/split_dim}}]]\n",
      "2023-07-16 22:13:09.656785: I tensorflow/core/common_runtime/executor.cc:1197] [/device:CPU:0] (DEBUG INFO) Executor start aborting (this does not indicate an error and you can ignore this message): INVALID_ARGUMENT: You must feed a value for placeholder tensor 'gradients/split_2_grad/concat/split_2/split_dim' with dtype int32\n",
      "\t [[{{node gradients/split_2_grad/concat/split_2/split_dim}}]]\n",
      "2023-07-16 22:13:09.657624: I tensorflow/core/common_runtime/executor.cc:1197] [/device:CPU:0] (DEBUG INFO) Executor start aborting (this does not indicate an error and you can ignore this message): INVALID_ARGUMENT: You must feed a value for placeholder tensor 'gradients/split_grad/concat/split/split_dim' with dtype int32\n",
      "\t [[{{node gradients/split_grad/concat/split/split_dim}}]]\n",
      "2023-07-16 22:13:09.658371: I tensorflow/core/common_runtime/executor.cc:1197] [/device:CPU:0] (DEBUG INFO) Executor start aborting (this does not indicate an error and you can ignore this message): INVALID_ARGUMENT: You must feed a value for placeholder tensor 'gradients/split_1_grad/concat/split_1/split_dim' with dtype int32\n",
      "\t [[{{node gradients/split_1_grad/concat/split_1/split_dim}}]]\n"
     ]
    },
    {
     "name": "stdout",
     "output_type": "stream",
     "text": [
      "6/8 [=====================>........] - ETA: 0s - loss: 44400076.0000"
     ]
    },
    {
     "name": "stderr",
     "output_type": "stream",
     "text": [
      "2023-07-16 22:13:10.589259: I tensorflow/core/common_runtime/executor.cc:1197] [/device:CPU:0] (DEBUG INFO) Executor start aborting (this does not indicate an error and you can ignore this message): INVALID_ARGUMENT: You must feed a value for placeholder tensor 'gradients/split_2_grad/concat/split_2/split_dim' with dtype int32\n",
      "\t [[{{node gradients/split_2_grad/concat/split_2/split_dim}}]]\n",
      "2023-07-16 22:13:10.590557: I tensorflow/core/common_runtime/executor.cc:1197] [/device:CPU:0] (DEBUG INFO) Executor start aborting (this does not indicate an error and you can ignore this message): INVALID_ARGUMENT: You must feed a value for placeholder tensor 'gradients/split_grad/concat/split/split_dim' with dtype int32\n",
      "\t [[{{node gradients/split_grad/concat/split/split_dim}}]]\n",
      "2023-07-16 22:13:10.591412: I tensorflow/core/common_runtime/executor.cc:1197] [/device:CPU:0] (DEBUG INFO) Executor start aborting (this does not indicate an error and you can ignore this message): INVALID_ARGUMENT: You must feed a value for placeholder tensor 'gradients/split_1_grad/concat/split_1/split_dim' with dtype int32\n",
      "\t [[{{node gradients/split_1_grad/concat/split_1/split_dim}}]]\n",
      "2023-07-16 22:13:10.709860: I tensorflow/core/common_runtime/executor.cc:1197] [/device:CPU:0] (DEBUG INFO) Executor start aborting (this does not indicate an error and you can ignore this message): INVALID_ARGUMENT: You must feed a value for placeholder tensor 'gradients/split_2_grad/concat/split_2/split_dim' with dtype int32\n",
      "\t [[{{node gradients/split_2_grad/concat/split_2/split_dim}}]]\n",
      "2023-07-16 22:13:10.710677: I tensorflow/core/common_runtime/executor.cc:1197] [/device:CPU:0] (DEBUG INFO) Executor start aborting (this does not indicate an error and you can ignore this message): INVALID_ARGUMENT: You must feed a value for placeholder tensor 'gradients/split_grad/concat/split/split_dim' with dtype int32\n",
      "\t [[{{node gradients/split_grad/concat/split/split_dim}}]]\n",
      "2023-07-16 22:13:10.711516: I tensorflow/core/common_runtime/executor.cc:1197] [/device:CPU:0] (DEBUG INFO) Executor start aborting (this does not indicate an error and you can ignore this message): INVALID_ARGUMENT: You must feed a value for placeholder tensor 'gradients/split_1_grad/concat/split_1/split_dim' with dtype int32\n",
      "\t [[{{node gradients/split_1_grad/concat/split_1/split_dim}}]]\n"
     ]
    },
    {
     "name": "stdout",
     "output_type": "stream",
     "text": [
      "8/8 [==============================] - 2s 71ms/step - loss: 40401700.0000 - val_loss: 47974512.0000\n",
      "Epoch 2/100\n",
      "8/8 [==============================] - 0s 12ms/step - loss: 40353784.0000 - val_loss: 47907424.0000\n",
      "Epoch 3/100\n",
      "8/8 [==============================] - 0s 12ms/step - loss: 40317272.0000 - val_loss: 47894152.0000\n",
      "Epoch 4/100\n",
      "8/8 [==============================] - 0s 12ms/step - loss: 40309832.0000 - val_loss: 47887940.0000\n",
      "Epoch 5/100\n",
      "8/8 [==============================] - 0s 12ms/step - loss: 40304424.0000 - val_loss: 47881912.0000\n",
      "Epoch 6/100\n",
      "8/8 [==============================] - 0s 15ms/step - loss: 40299388.0000 - val_loss: 47876512.0000\n",
      "Epoch 7/100\n",
      "8/8 [==============================] - 0s 13ms/step - loss: 40294548.0000 - val_loss: 47871136.0000\n",
      "Epoch 8/100\n",
      "8/8 [==============================] - 0s 14ms/step - loss: 40289552.0000 - val_loss: 47865936.0000\n",
      "Epoch 9/100\n",
      "8/8 [==============================] - 0s 12ms/step - loss: 40284928.0000 - val_loss: 47860752.0000\n",
      "Epoch 10/100\n",
      "8/8 [==============================] - 0s 12ms/step - loss: 40280364.0000 - val_loss: 47855568.0000\n",
      "Epoch 11/100\n",
      "8/8 [==============================] - 0s 12ms/step - loss: 40275572.0000 - val_loss: 47850560.0000\n",
      "Epoch 12/100\n",
      "8/8 [==============================] - 0s 13ms/step - loss: 40271304.0000 - val_loss: 47845376.0000\n",
      "Epoch 13/100\n",
      "8/8 [==============================] - 0s 12ms/step - loss: 40266524.0000 - val_loss: 47840428.0000\n",
      "Epoch 14/100\n",
      "8/8 [==============================] - 0s 12ms/step - loss: 40262080.0000 - val_loss: 47835460.0000\n",
      "Epoch 15/100\n",
      "8/8 [==============================] - 0s 12ms/step - loss: 40257556.0000 - val_loss: 47830544.0000\n",
      "Epoch 16/100\n",
      "8/8 [==============================] - 0s 13ms/step - loss: 40253164.0000 - val_loss: 47825592.0000\n",
      "Epoch 17/100\n",
      "8/8 [==============================] - 0s 12ms/step - loss: 40248724.0000 - val_loss: 47820648.0000\n",
      "Epoch 18/100\n",
      "8/8 [==============================] - 0s 12ms/step - loss: 40244360.0000 - val_loss: 47815672.0000\n",
      "Epoch 19/100\n",
      "8/8 [==============================] - 0s 12ms/step - loss: 40239840.0000 - val_loss: 47810832.0000\n",
      "Epoch 20/100\n",
      "8/8 [==============================] - 0s 12ms/step - loss: 40235444.0000 - val_loss: 47805992.0000\n",
      "Epoch 21/100\n",
      "8/8 [==============================] - 0s 12ms/step - loss: 40231208.0000 - val_loss: 47801056.0000\n",
      "Epoch 22/100\n",
      "8/8 [==============================] - 0s 12ms/step - loss: 40226744.0000 - val_loss: 47796208.0000\n",
      "Epoch 23/100\n",
      "8/8 [==============================] - 0s 13ms/step - loss: 40222296.0000 - val_loss: 47791452.0000\n",
      "Epoch 24/100\n",
      "8/8 [==============================] - 0s 12ms/step - loss: 40218024.0000 - val_loss: 47786632.0000\n",
      "Epoch 25/100\n",
      "8/8 [==============================] - 0s 12ms/step - loss: 40213736.0000 - val_loss: 47781776.0000\n",
      "Epoch 26/100\n",
      "8/8 [==============================] - 0s 12ms/step - loss: 40209332.0000 - val_loss: 47776976.0000\n",
      "Epoch 27/100\n",
      "8/8 [==============================] - 0s 12ms/step - loss: 40205108.0000 - val_loss: 47772116.0000\n",
      "Epoch 28/100\n",
      "8/8 [==============================] - 0s 14ms/step - loss: 40200652.0000 - val_loss: 47767368.0000\n",
      "Epoch 29/100\n",
      "8/8 [==============================] - 0s 12ms/step - loss: 40196432.0000 - val_loss: 47762552.0000\n",
      "Epoch 30/100\n",
      "8/8 [==============================] - 0s 12ms/step - loss: 40192228.0000 - val_loss: 47757664.0000\n",
      "Epoch 31/100\n",
      "8/8 [==============================] - 0s 12ms/step - loss: 40187808.0000 - val_loss: 47752892.0000\n",
      "Epoch 32/100\n",
      "8/8 [==============================] - 0s 12ms/step - loss: 40183492.0000 - val_loss: 47748128.0000\n",
      "Epoch 33/100\n",
      "8/8 [==============================] - 0s 12ms/step - loss: 40179224.0000 - val_loss: 47743364.0000\n",
      "Epoch 34/100\n",
      "8/8 [==============================] - 0s 12ms/step - loss: 40174796.0000 - val_loss: 47738716.0000\n",
      "Epoch 35/100\n",
      "8/8 [==============================] - 0s 11ms/step - loss: 40170592.0000 - val_loss: 47734000.0000\n",
      "Epoch 36/100\n",
      "8/8 [==============================] - 0s 12ms/step - loss: 40166368.0000 - val_loss: 47729232.0000\n",
      "Epoch 37/100\n",
      "8/8 [==============================] - 0s 11ms/step - loss: 40162164.0000 - val_loss: 47724408.0000\n",
      "Epoch 38/100\n",
      "8/8 [==============================] - 0s 12ms/step - loss: 40157908.0000 - val_loss: 47719584.0000\n",
      "Epoch 39/100\n",
      "8/8 [==============================] - 0s 12ms/step - loss: 40153424.0000 - val_loss: 47714932.0000\n",
      "Epoch 40/100\n",
      "8/8 [==============================] - 0s 12ms/step - loss: 40149260.0000 - val_loss: 47710200.0000\n",
      "Epoch 41/100\n",
      "8/8 [==============================] - 0s 12ms/step - loss: 40144968.0000 - val_loss: 47705496.0000\n",
      "Epoch 42/100\n",
      "8/8 [==============================] - 0s 12ms/step - loss: 40140940.0000 - val_loss: 47700612.0000\n",
      "Epoch 43/100\n",
      "8/8 [==============================] - 0s 12ms/step - loss: 40136468.0000 - val_loss: 47695912.0000\n",
      "Epoch 44/100\n",
      "8/8 [==============================] - 0s 12ms/step - loss: 40132136.0000 - val_loss: 47691272.0000\n",
      "Epoch 45/100\n",
      "8/8 [==============================] - 0s 12ms/step - loss: 40127908.0000 - val_loss: 47686616.0000\n",
      "Epoch 46/100\n",
      "8/8 [==============================] - 0s 12ms/step - loss: 40123880.0000 - val_loss: 47681776.0000\n",
      "Epoch 47/100\n",
      "8/8 [==============================] - 0s 12ms/step - loss: 40119516.0000 - val_loss: 47677040.0000\n",
      "Epoch 48/100\n",
      "8/8 [==============================] - 0s 12ms/step - loss: 40115272.0000 - val_loss: 47672308.0000\n",
      "Epoch 49/100\n",
      "8/8 [==============================] - 0s 12ms/step - loss: 40110968.0000 - val_loss: 47667628.0000\n",
      "Epoch 50/100\n",
      "8/8 [==============================] - 0s 12ms/step - loss: 40106880.0000 - val_loss: 47662832.0000\n",
      "Epoch 51/100\n",
      "8/8 [==============================] - 0s 12ms/step - loss: 40102536.0000 - val_loss: 47658128.0000\n",
      "Epoch 52/100\n",
      "8/8 [==============================] - 0s 12ms/step - loss: 40098164.0000 - val_loss: 47653552.0000\n",
      "Epoch 53/100\n",
      "8/8 [==============================] - 0s 12ms/step - loss: 40094192.0000 - val_loss: 47648764.0000\n",
      "Epoch 54/100\n",
      "8/8 [==============================] - 0s 12ms/step - loss: 40089836.0000 - val_loss: 47644080.0000\n",
      "Epoch 55/100\n",
      "8/8 [==============================] - 0s 12ms/step - loss: 40085552.0000 - val_loss: 47639444.0000\n",
      "Epoch 56/100\n",
      "8/8 [==============================] - 0s 12ms/step - loss: 40081428.0000 - val_loss: 47634732.0000\n",
      "Epoch 57/100\n",
      "8/8 [==============================] - 0s 12ms/step - loss: 40077240.0000 - val_loss: 47629984.0000\n",
      "Epoch 58/100\n",
      "8/8 [==============================] - 0s 12ms/step - loss: 40072912.0000 - val_loss: 47625344.0000\n",
      "Epoch 59/100\n",
      "8/8 [==============================] - 0s 12ms/step - loss: 40068744.0000 - val_loss: 47620656.0000\n",
      "Epoch 60/100\n",
      "8/8 [==============================] - 0s 12ms/step - loss: 40064516.0000 - val_loss: 47615976.0000\n",
      "Epoch 61/100\n",
      "8/8 [==============================] - 0s 12ms/step - loss: 40060348.0000 - val_loss: 47611256.0000\n",
      "Epoch 62/100\n",
      "8/8 [==============================] - 0s 12ms/step - loss: 40056144.0000 - val_loss: 47606536.0000\n",
      "Epoch 63/100\n",
      "8/8 [==============================] - 0s 12ms/step - loss: 40051916.0000 - val_loss: 47601840.0000\n",
      "Epoch 64/100\n",
      "8/8 [==============================] - 0s 12ms/step - loss: 40047616.0000 - val_loss: 47597220.0000\n",
      "Epoch 65/100\n",
      "8/8 [==============================] - 0s 12ms/step - loss: 40043552.0000 - val_loss: 47592488.0000\n",
      "Epoch 66/100\n",
      "8/8 [==============================] - 0s 12ms/step - loss: 40039280.0000 - val_loss: 47587820.0000\n",
      "Epoch 67/100\n",
      "8/8 [==============================] - 0s 12ms/step - loss: 40035068.0000 - val_loss: 47583152.0000\n",
      "Epoch 68/100\n",
      "8/8 [==============================] - 0s 12ms/step - loss: 40030908.0000 - val_loss: 47578468.0000\n",
      "Epoch 69/100\n",
      "8/8 [==============================] - 0s 12ms/step - loss: 40026496.0000 - val_loss: 47573968.0000\n",
      "Epoch 70/100\n",
      "8/8 [==============================] - 0s 12ms/step - loss: 40022520.0000 - val_loss: 47569268.0000\n",
      "Epoch 71/100\n",
      "8/8 [==============================] - 0s 12ms/step - loss: 40018240.0000 - val_loss: 47564648.0000\n",
      "Epoch 72/100\n",
      "8/8 [==============================] - 0s 12ms/step - loss: 40014132.0000 - val_loss: 47559944.0000\n",
      "Epoch 73/100\n",
      "8/8 [==============================] - 0s 12ms/step - loss: 40009920.0000 - val_loss: 47555264.0000\n",
      "Epoch 74/100\n",
      "8/8 [==============================] - 0s 12ms/step - loss: 40005648.0000 - val_loss: 47550656.0000\n",
      "Epoch 75/100\n",
      "8/8 [==============================] - 0s 12ms/step - loss: 40001596.0000 - val_loss: 47545936.0000\n",
      "Epoch 76/100\n",
      "8/8 [==============================] - 0s 15ms/step - loss: 39997376.0000 - val_loss: 47541244.0000\n",
      "Epoch 77/100\n",
      "8/8 [==============================] - 0s 12ms/step - loss: 39993132.0000 - val_loss: 47536600.0000\n",
      "Epoch 78/100\n",
      "8/8 [==============================] - 0s 12ms/step - loss: 39988944.0000 - val_loss: 47531968.0000\n",
      "Epoch 79/100\n",
      "8/8 [==============================] - 0s 12ms/step - loss: 39984816.0000 - val_loss: 47527288.0000\n",
      "Epoch 80/100\n",
      "8/8 [==============================] - 0s 12ms/step - loss: 39980620.0000 - val_loss: 47522620.0000\n",
      "Epoch 81/100\n",
      "8/8 [==============================] - 0s 12ms/step - loss: 39976380.0000 - val_loss: 47518008.0000\n",
      "Epoch 82/100\n",
      "8/8 [==============================] - 0s 13ms/step - loss: 39972144.0000 - val_loss: 47513448.0000\n",
      "Epoch 83/100\n",
      "8/8 [==============================] - 0s 12ms/step - loss: 39968064.0000 - val_loss: 47508804.0000\n",
      "Epoch 84/100\n",
      "8/8 [==============================] - 0s 12ms/step - loss: 39963932.0000 - val_loss: 47504112.0000\n",
      "Epoch 85/100\n",
      "8/8 [==============================] - 0s 12ms/step - loss: 39959720.0000 - val_loss: 47499468.0000\n",
      "Epoch 86/100\n",
      "8/8 [==============================] - 0s 12ms/step - loss: 39955440.0000 - val_loss: 47494908.0000\n",
      "Epoch 87/100\n",
      "8/8 [==============================] - 0s 12ms/step - loss: 39951388.0000 - val_loss: 47490240.0000\n",
      "Epoch 88/100\n",
      "8/8 [==============================] - 0s 12ms/step - loss: 39947224.0000 - val_loss: 47485568.0000\n",
      "Epoch 89/100\n",
      "8/8 [==============================] - 0s 12ms/step - loss: 39943100.0000 - val_loss: 47480864.0000\n",
      "Epoch 90/100\n",
      "8/8 [==============================] - 0s 12ms/step - loss: 39938964.0000 - val_loss: 47476128.0000\n",
      "Epoch 91/100\n",
      "8/8 [==============================] - 0s 12ms/step - loss: 39934616.0000 - val_loss: 47471560.0000\n",
      "Epoch 92/100\n",
      "8/8 [==============================] - 0s 12ms/step - loss: 39930464.0000 - val_loss: 47466964.0000\n",
      "Epoch 93/100\n",
      "8/8 [==============================] - 0s 12ms/step - loss: 39926436.0000 - val_loss: 47462256.0000\n",
      "Epoch 94/100\n",
      "8/8 [==============================] - 0s 12ms/step - loss: 39922044.0000 - val_loss: 47457744.0000\n",
      "Epoch 95/100\n",
      "8/8 [==============================] - 0s 12ms/step - loss: 39918072.0000 - val_loss: 47453060.0000\n",
      "Epoch 96/100\n",
      "8/8 [==============================] - 0s 12ms/step - loss: 39913920.0000 - val_loss: 47448364.0000\n",
      "Epoch 97/100\n",
      "8/8 [==============================] - 0s 12ms/step - loss: 39909640.0000 - val_loss: 47443780.0000\n",
      "Epoch 98/100\n",
      "8/8 [==============================] - 0s 12ms/step - loss: 39905408.0000 - val_loss: 47439256.0000\n",
      "Epoch 99/100\n",
      "8/8 [==============================] - 0s 12ms/step - loss: 39901424.0000 - val_loss: 47434584.0000\n",
      "Epoch 100/100\n",
      "8/8 [==============================] - 0s 12ms/step - loss: 39897328.0000 - val_loss: 47429848.0000\n"
     ]
    }
   ],
   "source": [
    "# fit model\n",
    "history = model.fit(\n",
    "    x_train.values.reshape(x_train.shape[0], x_train.shape[1], 1), y_train,\n",
    "    epochs=100, batch_size=32, validation_split=0.2, verbose=1,\n",
    "    callbacks=[\n",
    "        keras.callbacks.EarlyStopping(\n",
    "            monitor='val_loss', min_delta=0, patience=10, verbose=1, mode='auto',\n",
    "            baseline=None, restore_best_weights=True\n",
    "        )\n",
    "    ]\n",
    ")"
   ]
  },
  {
   "cell_type": "code",
   "execution_count": 27,
   "metadata": {},
   "outputs": [
    {
     "data": {
      "application/vnd.plotly.v1+json": {
       "config": {
        "plotlyServerURL": "https://plot.ly"
       },
       "data": [
        {
         "mode": "lines",
         "name": "train",
         "type": "scatter",
         "y": [
          40401700,
          40353784,
          40317272,
          40309832,
          40304424,
          40299388,
          40294548,
          40289552,
          40284928,
          40280364,
          40275572,
          40271304,
          40266524,
          40262080,
          40257556,
          40253164,
          40248724,
          40244360,
          40239840,
          40235444,
          40231208,
          40226744,
          40222296,
          40218024,
          40213736,
          40209332,
          40205108,
          40200652,
          40196432,
          40192228,
          40187808,
          40183492,
          40179224,
          40174796,
          40170592,
          40166368,
          40162164,
          40157908,
          40153424,
          40149260,
          40144968,
          40140940,
          40136468,
          40132136,
          40127908,
          40123880,
          40119516,
          40115272,
          40110968,
          40106880,
          40102536,
          40098164,
          40094192,
          40089836,
          40085552,
          40081428,
          40077240,
          40072912,
          40068744,
          40064516,
          40060348,
          40056144,
          40051916,
          40047616,
          40043552,
          40039280,
          40035068,
          40030908,
          40026496,
          40022520,
          40018240,
          40014132,
          40009920,
          40005648,
          40001596,
          39997376,
          39993132,
          39988944,
          39984816,
          39980620,
          39976380,
          39972144,
          39968064,
          39963932,
          39959720,
          39955440,
          39951388,
          39947224,
          39943100,
          39938964,
          39934616,
          39930464,
          39926436,
          39922044,
          39918072,
          39913920,
          39909640,
          39905408,
          39901424,
          39897328
         ]
        },
        {
         "mode": "lines",
         "name": "validation",
         "type": "scatter",
         "y": [
          47974512,
          47907424,
          47894152,
          47887940,
          47881912,
          47876512,
          47871136,
          47865936,
          47860752,
          47855568,
          47850560,
          47845376,
          47840428,
          47835460,
          47830544,
          47825592,
          47820648,
          47815672,
          47810832,
          47805992,
          47801056,
          47796208,
          47791452,
          47786632,
          47781776,
          47776976,
          47772116,
          47767368,
          47762552,
          47757664,
          47752892,
          47748128,
          47743364,
          47738716,
          47734000,
          47729232,
          47724408,
          47719584,
          47714932,
          47710200,
          47705496,
          47700612,
          47695912,
          47691272,
          47686616,
          47681776,
          47677040,
          47672308,
          47667628,
          47662832,
          47658128,
          47653552,
          47648764,
          47644080,
          47639444,
          47634732,
          47629984,
          47625344,
          47620656,
          47615976,
          47611256,
          47606536,
          47601840,
          47597220,
          47592488,
          47587820,
          47583152,
          47578468,
          47573968,
          47569268,
          47564648,
          47559944,
          47555264,
          47550656,
          47545936,
          47541244,
          47536600,
          47531968,
          47527288,
          47522620,
          47518008,
          47513448,
          47508804,
          47504112,
          47499468,
          47494908,
          47490240,
          47485568,
          47480864,
          47476128,
          47471560,
          47466964,
          47462256,
          47457744,
          47453060,
          47448364,
          47443780,
          47439256,
          47434584,
          47429848
         ]
        }
       ],
       "layout": {
        "template": {
         "data": {
          "bar": [
           {
            "error_x": {
             "color": "#2a3f5f"
            },
            "error_y": {
             "color": "#2a3f5f"
            },
            "marker": {
             "line": {
              "color": "#E5ECF6",
              "width": 0.5
             },
             "pattern": {
              "fillmode": "overlay",
              "size": 10,
              "solidity": 0.2
             }
            },
            "type": "bar"
           }
          ],
          "barpolar": [
           {
            "marker": {
             "line": {
              "color": "#E5ECF6",
              "width": 0.5
             },
             "pattern": {
              "fillmode": "overlay",
              "size": 10,
              "solidity": 0.2
             }
            },
            "type": "barpolar"
           }
          ],
          "carpet": [
           {
            "aaxis": {
             "endlinecolor": "#2a3f5f",
             "gridcolor": "white",
             "linecolor": "white",
             "minorgridcolor": "white",
             "startlinecolor": "#2a3f5f"
            },
            "baxis": {
             "endlinecolor": "#2a3f5f",
             "gridcolor": "white",
             "linecolor": "white",
             "minorgridcolor": "white",
             "startlinecolor": "#2a3f5f"
            },
            "type": "carpet"
           }
          ],
          "choropleth": [
           {
            "colorbar": {
             "outlinewidth": 0,
             "ticks": ""
            },
            "type": "choropleth"
           }
          ],
          "contour": [
           {
            "colorbar": {
             "outlinewidth": 0,
             "ticks": ""
            },
            "colorscale": [
             [
              0,
              "#0d0887"
             ],
             [
              0.1111111111111111,
              "#46039f"
             ],
             [
              0.2222222222222222,
              "#7201a8"
             ],
             [
              0.3333333333333333,
              "#9c179e"
             ],
             [
              0.4444444444444444,
              "#bd3786"
             ],
             [
              0.5555555555555556,
              "#d8576b"
             ],
             [
              0.6666666666666666,
              "#ed7953"
             ],
             [
              0.7777777777777778,
              "#fb9f3a"
             ],
             [
              0.8888888888888888,
              "#fdca26"
             ],
             [
              1,
              "#f0f921"
             ]
            ],
            "type": "contour"
           }
          ],
          "contourcarpet": [
           {
            "colorbar": {
             "outlinewidth": 0,
             "ticks": ""
            },
            "type": "contourcarpet"
           }
          ],
          "heatmap": [
           {
            "colorbar": {
             "outlinewidth": 0,
             "ticks": ""
            },
            "colorscale": [
             [
              0,
              "#0d0887"
             ],
             [
              0.1111111111111111,
              "#46039f"
             ],
             [
              0.2222222222222222,
              "#7201a8"
             ],
             [
              0.3333333333333333,
              "#9c179e"
             ],
             [
              0.4444444444444444,
              "#bd3786"
             ],
             [
              0.5555555555555556,
              "#d8576b"
             ],
             [
              0.6666666666666666,
              "#ed7953"
             ],
             [
              0.7777777777777778,
              "#fb9f3a"
             ],
             [
              0.8888888888888888,
              "#fdca26"
             ],
             [
              1,
              "#f0f921"
             ]
            ],
            "type": "heatmap"
           }
          ],
          "heatmapgl": [
           {
            "colorbar": {
             "outlinewidth": 0,
             "ticks": ""
            },
            "colorscale": [
             [
              0,
              "#0d0887"
             ],
             [
              0.1111111111111111,
              "#46039f"
             ],
             [
              0.2222222222222222,
              "#7201a8"
             ],
             [
              0.3333333333333333,
              "#9c179e"
             ],
             [
              0.4444444444444444,
              "#bd3786"
             ],
             [
              0.5555555555555556,
              "#d8576b"
             ],
             [
              0.6666666666666666,
              "#ed7953"
             ],
             [
              0.7777777777777778,
              "#fb9f3a"
             ],
             [
              0.8888888888888888,
              "#fdca26"
             ],
             [
              1,
              "#f0f921"
             ]
            ],
            "type": "heatmapgl"
           }
          ],
          "histogram": [
           {
            "marker": {
             "pattern": {
              "fillmode": "overlay",
              "size": 10,
              "solidity": 0.2
             }
            },
            "type": "histogram"
           }
          ],
          "histogram2d": [
           {
            "colorbar": {
             "outlinewidth": 0,
             "ticks": ""
            },
            "colorscale": [
             [
              0,
              "#0d0887"
             ],
             [
              0.1111111111111111,
              "#46039f"
             ],
             [
              0.2222222222222222,
              "#7201a8"
             ],
             [
              0.3333333333333333,
              "#9c179e"
             ],
             [
              0.4444444444444444,
              "#bd3786"
             ],
             [
              0.5555555555555556,
              "#d8576b"
             ],
             [
              0.6666666666666666,
              "#ed7953"
             ],
             [
              0.7777777777777778,
              "#fb9f3a"
             ],
             [
              0.8888888888888888,
              "#fdca26"
             ],
             [
              1,
              "#f0f921"
             ]
            ],
            "type": "histogram2d"
           }
          ],
          "histogram2dcontour": [
           {
            "colorbar": {
             "outlinewidth": 0,
             "ticks": ""
            },
            "colorscale": [
             [
              0,
              "#0d0887"
             ],
             [
              0.1111111111111111,
              "#46039f"
             ],
             [
              0.2222222222222222,
              "#7201a8"
             ],
             [
              0.3333333333333333,
              "#9c179e"
             ],
             [
              0.4444444444444444,
              "#bd3786"
             ],
             [
              0.5555555555555556,
              "#d8576b"
             ],
             [
              0.6666666666666666,
              "#ed7953"
             ],
             [
              0.7777777777777778,
              "#fb9f3a"
             ],
             [
              0.8888888888888888,
              "#fdca26"
             ],
             [
              1,
              "#f0f921"
             ]
            ],
            "type": "histogram2dcontour"
           }
          ],
          "mesh3d": [
           {
            "colorbar": {
             "outlinewidth": 0,
             "ticks": ""
            },
            "type": "mesh3d"
           }
          ],
          "parcoords": [
           {
            "line": {
             "colorbar": {
              "outlinewidth": 0,
              "ticks": ""
             }
            },
            "type": "parcoords"
           }
          ],
          "pie": [
           {
            "automargin": true,
            "type": "pie"
           }
          ],
          "scatter": [
           {
            "fillpattern": {
             "fillmode": "overlay",
             "size": 10,
             "solidity": 0.2
            },
            "type": "scatter"
           }
          ],
          "scatter3d": [
           {
            "line": {
             "colorbar": {
              "outlinewidth": 0,
              "ticks": ""
             }
            },
            "marker": {
             "colorbar": {
              "outlinewidth": 0,
              "ticks": ""
             }
            },
            "type": "scatter3d"
           }
          ],
          "scattercarpet": [
           {
            "marker": {
             "colorbar": {
              "outlinewidth": 0,
              "ticks": ""
             }
            },
            "type": "scattercarpet"
           }
          ],
          "scattergeo": [
           {
            "marker": {
             "colorbar": {
              "outlinewidth": 0,
              "ticks": ""
             }
            },
            "type": "scattergeo"
           }
          ],
          "scattergl": [
           {
            "marker": {
             "colorbar": {
              "outlinewidth": 0,
              "ticks": ""
             }
            },
            "type": "scattergl"
           }
          ],
          "scattermapbox": [
           {
            "marker": {
             "colorbar": {
              "outlinewidth": 0,
              "ticks": ""
             }
            },
            "type": "scattermapbox"
           }
          ],
          "scatterpolar": [
           {
            "marker": {
             "colorbar": {
              "outlinewidth": 0,
              "ticks": ""
             }
            },
            "type": "scatterpolar"
           }
          ],
          "scatterpolargl": [
           {
            "marker": {
             "colorbar": {
              "outlinewidth": 0,
              "ticks": ""
             }
            },
            "type": "scatterpolargl"
           }
          ],
          "scatterternary": [
           {
            "marker": {
             "colorbar": {
              "outlinewidth": 0,
              "ticks": ""
             }
            },
            "type": "scatterternary"
           }
          ],
          "surface": [
           {
            "colorbar": {
             "outlinewidth": 0,
             "ticks": ""
            },
            "colorscale": [
             [
              0,
              "#0d0887"
             ],
             [
              0.1111111111111111,
              "#46039f"
             ],
             [
              0.2222222222222222,
              "#7201a8"
             ],
             [
              0.3333333333333333,
              "#9c179e"
             ],
             [
              0.4444444444444444,
              "#bd3786"
             ],
             [
              0.5555555555555556,
              "#d8576b"
             ],
             [
              0.6666666666666666,
              "#ed7953"
             ],
             [
              0.7777777777777778,
              "#fb9f3a"
             ],
             [
              0.8888888888888888,
              "#fdca26"
             ],
             [
              1,
              "#f0f921"
             ]
            ],
            "type": "surface"
           }
          ],
          "table": [
           {
            "cells": {
             "fill": {
              "color": "#EBF0F8"
             },
             "line": {
              "color": "white"
             }
            },
            "header": {
             "fill": {
              "color": "#C8D4E3"
             },
             "line": {
              "color": "white"
             }
            },
            "type": "table"
           }
          ]
         },
         "layout": {
          "annotationdefaults": {
           "arrowcolor": "#2a3f5f",
           "arrowhead": 0,
           "arrowwidth": 1
          },
          "autotypenumbers": "strict",
          "coloraxis": {
           "colorbar": {
            "outlinewidth": 0,
            "ticks": ""
           }
          },
          "colorscale": {
           "diverging": [
            [
             0,
             "#8e0152"
            ],
            [
             0.1,
             "#c51b7d"
            ],
            [
             0.2,
             "#de77ae"
            ],
            [
             0.3,
             "#f1b6da"
            ],
            [
             0.4,
             "#fde0ef"
            ],
            [
             0.5,
             "#f7f7f7"
            ],
            [
             0.6,
             "#e6f5d0"
            ],
            [
             0.7,
             "#b8e186"
            ],
            [
             0.8,
             "#7fbc41"
            ],
            [
             0.9,
             "#4d9221"
            ],
            [
             1,
             "#276419"
            ]
           ],
           "sequential": [
            [
             0,
             "#0d0887"
            ],
            [
             0.1111111111111111,
             "#46039f"
            ],
            [
             0.2222222222222222,
             "#7201a8"
            ],
            [
             0.3333333333333333,
             "#9c179e"
            ],
            [
             0.4444444444444444,
             "#bd3786"
            ],
            [
             0.5555555555555556,
             "#d8576b"
            ],
            [
             0.6666666666666666,
             "#ed7953"
            ],
            [
             0.7777777777777778,
             "#fb9f3a"
            ],
            [
             0.8888888888888888,
             "#fdca26"
            ],
            [
             1,
             "#f0f921"
            ]
           ],
           "sequentialminus": [
            [
             0,
             "#0d0887"
            ],
            [
             0.1111111111111111,
             "#46039f"
            ],
            [
             0.2222222222222222,
             "#7201a8"
            ],
            [
             0.3333333333333333,
             "#9c179e"
            ],
            [
             0.4444444444444444,
             "#bd3786"
            ],
            [
             0.5555555555555556,
             "#d8576b"
            ],
            [
             0.6666666666666666,
             "#ed7953"
            ],
            [
             0.7777777777777778,
             "#fb9f3a"
            ],
            [
             0.8888888888888888,
             "#fdca26"
            ],
            [
             1,
             "#f0f921"
            ]
           ]
          },
          "colorway": [
           "#636efa",
           "#EF553B",
           "#00cc96",
           "#ab63fa",
           "#FFA15A",
           "#19d3f3",
           "#FF6692",
           "#B6E880",
           "#FF97FF",
           "#FECB52"
          ],
          "font": {
           "color": "#2a3f5f"
          },
          "geo": {
           "bgcolor": "white",
           "lakecolor": "white",
           "landcolor": "#E5ECF6",
           "showlakes": true,
           "showland": true,
           "subunitcolor": "white"
          },
          "hoverlabel": {
           "align": "left"
          },
          "hovermode": "closest",
          "mapbox": {
           "style": "light"
          },
          "paper_bgcolor": "white",
          "plot_bgcolor": "#E5ECF6",
          "polar": {
           "angularaxis": {
            "gridcolor": "white",
            "linecolor": "white",
            "ticks": ""
           },
           "bgcolor": "#E5ECF6",
           "radialaxis": {
            "gridcolor": "white",
            "linecolor": "white",
            "ticks": ""
           }
          },
          "scene": {
           "xaxis": {
            "backgroundcolor": "#E5ECF6",
            "gridcolor": "white",
            "gridwidth": 2,
            "linecolor": "white",
            "showbackground": true,
            "ticks": "",
            "zerolinecolor": "white"
           },
           "yaxis": {
            "backgroundcolor": "#E5ECF6",
            "gridcolor": "white",
            "gridwidth": 2,
            "linecolor": "white",
            "showbackground": true,
            "ticks": "",
            "zerolinecolor": "white"
           },
           "zaxis": {
            "backgroundcolor": "#E5ECF6",
            "gridcolor": "white",
            "gridwidth": 2,
            "linecolor": "white",
            "showbackground": true,
            "ticks": "",
            "zerolinecolor": "white"
           }
          },
          "shapedefaults": {
           "line": {
            "color": "#2a3f5f"
           }
          },
          "ternary": {
           "aaxis": {
            "gridcolor": "white",
            "linecolor": "white",
            "ticks": ""
           },
           "baxis": {
            "gridcolor": "white",
            "linecolor": "white",
            "ticks": ""
           },
           "bgcolor": "#E5ECF6",
           "caxis": {
            "gridcolor": "white",
            "linecolor": "white",
            "ticks": ""
           }
          },
          "title": {
           "x": 0.05
          },
          "xaxis": {
           "automargin": true,
           "gridcolor": "white",
           "linecolor": "white",
           "ticks": "",
           "title": {
            "standoff": 15
           },
           "zerolinecolor": "white",
           "zerolinewidth": 2
          },
          "yaxis": {
           "automargin": true,
           "gridcolor": "white",
           "linecolor": "white",
           "ticks": "",
           "title": {
            "standoff": 15
           },
           "zerolinecolor": "white",
           "zerolinewidth": 2
          }
         }
        },
        "title": {
         "text": "Loss"
        },
        "xaxis": {
         "title": {
          "text": "Epoch"
         }
        },
        "yaxis": {
         "title": {
          "text": "Loss"
         }
        }
       }
      }
     },
     "metadata": {},
     "output_type": "display_data"
    }
   ],
   "source": [
    "# plot loss\n",
    "fig = go.Figure()\n",
    "fig.add_trace(go.Scatter(y=history.history['loss'], mode='lines', name='train'))\n",
    "fig.add_trace(go.Scatter(y=history.history['val_loss'], mode='lines', name='validation'))\n",
    "fig.update_layout(title='Loss', xaxis_title='Epoch', yaxis_title='Loss')\n",
    "fig.show()"
   ]
  },
  {
   "cell_type": "code",
   "execution_count": 28,
   "metadata": {},
   "outputs": [
    {
     "name": "stderr",
     "output_type": "stream",
     "text": [
      "2023-07-16 22:13:20.297035: I tensorflow/core/common_runtime/executor.cc:1197] [/device:CPU:0] (DEBUG INFO) Executor start aborting (this does not indicate an error and you can ignore this message): INVALID_ARGUMENT: You must feed a value for placeholder tensor 'gradients/split_2_grad/concat/split_2/split_dim' with dtype int32\n",
      "\t [[{{node gradients/split_2_grad/concat/split_2/split_dim}}]]\n",
      "2023-07-16 22:13:20.298038: I tensorflow/core/common_runtime/executor.cc:1197] [/device:CPU:0] (DEBUG INFO) Executor start aborting (this does not indicate an error and you can ignore this message): INVALID_ARGUMENT: You must feed a value for placeholder tensor 'gradients/split_grad/concat/split/split_dim' with dtype int32\n",
      "\t [[{{node gradients/split_grad/concat/split/split_dim}}]]\n",
      "2023-07-16 22:13:20.298768: I tensorflow/core/common_runtime/executor.cc:1197] [/device:CPU:0] (DEBUG INFO) Executor start aborting (this does not indicate an error and you can ignore this message): INVALID_ARGUMENT: You must feed a value for placeholder tensor 'gradients/split_1_grad/concat/split_1/split_dim' with dtype int32\n",
      "\t [[{{node gradients/split_1_grad/concat/split_1/split_dim}}]]\n",
      "2023-07-16 22:13:20.401111: I tensorflow/core/common_runtime/executor.cc:1197] [/device:CPU:0] (DEBUG INFO) Executor start aborting (this does not indicate an error and you can ignore this message): INVALID_ARGUMENT: You must feed a value for placeholder tensor 'gradients/split_2_grad/concat/split_2/split_dim' with dtype int32\n",
      "\t [[{{node gradients/split_2_grad/concat/split_2/split_dim}}]]\n",
      "2023-07-16 22:13:20.401926: I tensorflow/core/common_runtime/executor.cc:1197] [/device:CPU:0] (DEBUG INFO) Executor start aborting (this does not indicate an error and you can ignore this message): INVALID_ARGUMENT: You must feed a value for placeholder tensor 'gradients/split_grad/concat/split/split_dim' with dtype int32\n",
      "\t [[{{node gradients/split_grad/concat/split/split_dim}}]]\n",
      "2023-07-16 22:13:20.402703: I tensorflow/core/common_runtime/executor.cc:1197] [/device:CPU:0] (DEBUG INFO) Executor start aborting (this does not indicate an error and you can ignore this message): INVALID_ARGUMENT: You must feed a value for placeholder tensor 'gradients/split_1_grad/concat/split_1/split_dim' with dtype int32\n",
      "\t [[{{node gradients/split_1_grad/concat/split_1/split_dim}}]]\n"
     ]
    },
    {
     "name": "stdout",
     "output_type": "stream",
     "text": [
      "3/3 [==============================] - 0s 4ms/step\n",
      "MSE: 26584682.877065472\n",
      "MAE: 3973.231064874143\n",
      "R2: -1.4619737782689772\n",
      "MAPE: 0.9679333225846165\n"
     ]
    }
   ],
   "source": [
    "# evaluate model\n",
    "y_pred = model.predict(x_test.values.reshape(x_test.shape[0], x_test.shape[1], 1))\n",
    "print('MSE:', mean_squared_error(y_test, y_pred))\n",
    "print('MAE:', mean_absolute_error(y_test, y_pred))\n",
    "print('R2:', r2_score(y_test, y_pred))\n",
    "print('MAPE:', mean_absolute_percentage_error(y_test, y_pred))"
   ]
  },
  {
   "cell_type": "code",
   "execution_count": null,
   "metadata": {},
   "outputs": [],
   "source": []
  }
 ],
 "metadata": {
  "kernelspec": {
   "display_name": "house-price-prediction",
   "language": "python",
   "name": "python3"
  },
  "language_info": {
   "codemirror_mode": {
    "name": "ipython",
    "version": 3
   },
   "file_extension": ".py",
   "mimetype": "text/x-python",
   "name": "python",
   "nbconvert_exporter": "python",
   "pygments_lexer": "ipython3",
   "version": "3.11.3"
  },
  "orig_nbformat": 4
 },
 "nbformat": 4,
 "nbformat_minor": 2
}
