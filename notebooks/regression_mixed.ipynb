{
 "cells": [
  {
   "cell_type": "code",
   "execution_count": 24,
   "metadata": {},
   "outputs": [],
   "source": [
    "import os\n",
    "import glob\n",
    "import pandas as pd\n",
    "import numpy as np\n",
    "import cv2\n",
    "import locale\n",
    "import tensorflow as tf\n",
    "from tensorflow.keras.models import Model\n",
    "from tensorflow.keras import Input, Sequential\n",
    "from tensorflow.keras.layers import (\n",
    "    Conv2D, MaxPooling2D, Activation, \n",
    "    Flatten, Dropout, Dense, \n",
    "    Input, BatchNormalization, concatenate\n",
    ")\n",
    "from tensorflow.keras.optimizers import Adam\n",
    "from sklearn.preprocessing import LabelBinarizer, MinMaxScaler\n",
    "from sklearn.model_selection import train_test_split\n",
    "from matplotlib import pyplot as plt\n",
    "\n",
    "import plotly.express as px\n",
    "import plotly.graph_objects as go"
   ]
  },
  {
   "cell_type": "code",
   "execution_count": 2,
   "metadata": {},
   "outputs": [],
   "source": [
    "dataset_path = \"/home/smbh/Projects/house-price-prediction/data/raw/houses-dataset/houses_dataset\""
   ]
  },
  {
   "cell_type": "code",
   "execution_count": 3,
   "metadata": {},
   "outputs": [
    {
     "data": {
      "text/html": [
       "<div>\n",
       "<style scoped>\n",
       "    .dataframe tbody tr th:only-of-type {\n",
       "        vertical-align: middle;\n",
       "    }\n",
       "\n",
       "    .dataframe tbody tr th {\n",
       "        vertical-align: top;\n",
       "    }\n",
       "\n",
       "    .dataframe thead th {\n",
       "        text-align: right;\n",
       "    }\n",
       "</style>\n",
       "<table border=\"1\" class=\"dataframe\">\n",
       "  <thead>\n",
       "    <tr style=\"text-align: right;\">\n",
       "      <th></th>\n",
       "      <th>bedrooms</th>\n",
       "      <th>bathrooms</th>\n",
       "      <th>area</th>\n",
       "      <th>zipcode</th>\n",
       "      <th>price</th>\n",
       "    </tr>\n",
       "  </thead>\n",
       "  <tbody>\n",
       "    <tr>\n",
       "      <th>0</th>\n",
       "      <td>4</td>\n",
       "      <td>4.0</td>\n",
       "      <td>4053</td>\n",
       "      <td>85255</td>\n",
       "      <td>869500</td>\n",
       "    </tr>\n",
       "    <tr>\n",
       "      <th>1</th>\n",
       "      <td>4</td>\n",
       "      <td>3.0</td>\n",
       "      <td>3343</td>\n",
       "      <td>36372</td>\n",
       "      <td>865200</td>\n",
       "    </tr>\n",
       "    <tr>\n",
       "      <th>2</th>\n",
       "      <td>3</td>\n",
       "      <td>4.0</td>\n",
       "      <td>3923</td>\n",
       "      <td>85266</td>\n",
       "      <td>889000</td>\n",
       "    </tr>\n",
       "    <tr>\n",
       "      <th>3</th>\n",
       "      <td>5</td>\n",
       "      <td>5.0</td>\n",
       "      <td>4022</td>\n",
       "      <td>85262</td>\n",
       "      <td>910000</td>\n",
       "    </tr>\n",
       "    <tr>\n",
       "      <th>4</th>\n",
       "      <td>3</td>\n",
       "      <td>4.0</td>\n",
       "      <td>4116</td>\n",
       "      <td>85266</td>\n",
       "      <td>971226</td>\n",
       "    </tr>\n",
       "  </tbody>\n",
       "</table>\n",
       "</div>"
      ],
      "text/plain": [
       "   bedrooms  bathrooms  area  zipcode   price\n",
       "0         4        4.0  4053    85255  869500\n",
       "1         4        3.0  3343    36372  865200\n",
       "2         3        4.0  3923    85266  889000\n",
       "3         5        5.0  4022    85262  910000\n",
       "4         3        4.0  4116    85266  971226"
      ]
     },
     "execution_count": 3,
     "metadata": {},
     "output_type": "execute_result"
    }
   ],
   "source": [
    "cols = [\n",
    "    \"bedrooms\",\n",
    "    \"bathrooms\",\n",
    "    \"area\",\n",
    "    \"zipcode\",\n",
    "    \"price\"\n",
    "]\n",
    "df = pd.read_csv(dataset_path + \"/HousesInfo.txt\", sep=\" \", header=None, names=cols)\n",
    "df.head()"
   ]
  },
  {
   "cell_type": "code",
   "execution_count": 4,
   "metadata": {},
   "outputs": [],
   "source": [
    "# zipcode to categorical\n",
    "df[\"zipcode\"] = df[\"zipcode\"].astype(\"str\")"
   ]
  },
  {
   "cell_type": "code",
   "execution_count": 5,
   "metadata": {},
   "outputs": [
    {
     "data": {
      "text/plain": [
       "(535, 5)"
      ]
     },
     "execution_count": 5,
     "metadata": {},
     "output_type": "execute_result"
    }
   ],
   "source": [
    "zipcodes, count = np.unique(\n",
    "    df[\"zipcode\"],\n",
    "    return_counts=True\n",
    ")\n",
    "# dict(zip(zipcodes, count))\n",
    "df.shape"
   ]
  },
  {
   "cell_type": "code",
   "execution_count": 6,
   "metadata": {},
   "outputs": [
    {
     "data": {
      "application/vnd.plotly.v1+json": {
       "config": {
        "plotlyServerURL": "https://plot.ly"
       },
       "data": [
        {
         "alignmentgroup": "True",
         "bingroup": "x",
         "hovertemplate": "zipcode=%{x}<br>count=%{y}<extra></extra>",
         "legendgroup": "",
         "marker": {
          "color": "#636efa",
          "pattern": {
           "shape": ""
          }
         },
         "name": "",
         "nbinsx": 70,
         "offsetgroup": "",
         "orientation": "v",
         "showlegend": false,
         "type": "histogram",
         "x": [
          "85255",
          "36372",
          "85266",
          "85262",
          "85266",
          "85266",
          "85262",
          "85266",
          "85255",
          "85262",
          "85266",
          "85255",
          "85266",
          "85266",
          "85266",
          "85255",
          "85331",
          "85255",
          "85255",
          "85266",
          "85255",
          "85262",
          "85255",
          "85377",
          "85262",
          "85262",
          "85262",
          "85266",
          "85377",
          "85266",
          "93446",
          "85255",
          "93446",
          "85262",
          "85377",
          "85255",
          "85262",
          "85255",
          "85255",
          "93446",
          "98021",
          "98021",
          "98021",
          "98021",
          "81524",
          "81524",
          "81524",
          "81524",
          "81418",
          "81418",
          "81521",
          "81524",
          "81524",
          "81524",
          "81524",
          "81524",
          "81524",
          "81524",
          "62214",
          "62234",
          "62034",
          "62025",
          "62025",
          "62088",
          "62234",
          "62234",
          "62234",
          "62234",
          "62234",
          "62249",
          "62234",
          "62214",
          "62214",
          "60002",
          "60002",
          "62214",
          "60002",
          "60046",
          "60016",
          "60016",
          "91901",
          "91901",
          "91901",
          "91901",
          "91901",
          "91901",
          "91901",
          "91901",
          "91901",
          "91901",
          "91901",
          "91901",
          "91901",
          "91901",
          "91901",
          "91901",
          "91901",
          "91901",
          "93446",
          "91901",
          "91901",
          "91901",
          "91901",
          "91901",
          "91901",
          "91901",
          "93446",
          "91901",
          "91901",
          "91901",
          "91901",
          "91901",
          "91901",
          "91901",
          "92021",
          "92021",
          "92021",
          "92021",
          "92021",
          "92021",
          "92021",
          "92021",
          "92021",
          "92021",
          "92021",
          "92677",
          "92677",
          "92677",
          "92677",
          "92677",
          "92677",
          "92677",
          "92677",
          "92677",
          "92677",
          "92677",
          "92677",
          "92677",
          "92677",
          "92677",
          "92677",
          "92677",
          "92677",
          "92677",
          "92677",
          "92677",
          "92677",
          "92677",
          "92677",
          "92677",
          "92677",
          "96019",
          "96019",
          "96019",
          "96019",
          "96019",
          "96019",
          "96019",
          "96019",
          "96019",
          "96019",
          "96019",
          "96019",
          "95220",
          "95220",
          "95220",
          "95220",
          "95220",
          "95220",
          "95220",
          "95220",
          "95220",
          "95220",
          "94501",
          "94501",
          "94501",
          "94501",
          "94501",
          "94501",
          "94501",
          "94501",
          "94501",
          "94501",
          "94501",
          "94501",
          "94501",
          "94501",
          "94501",
          "94501",
          "94501",
          "94501",
          "94501",
          "94501",
          "94501",
          "94501",
          "94501",
          "94501",
          "94501",
          "94501",
          "94501",
          "94501",
          "93446",
          "94501",
          "94501",
          "94501",
          "94501",
          "94501",
          "94501",
          "94501",
          "94501",
          "94501",
          "94501",
          "94501",
          "94501",
          "94501",
          "93111",
          "93111",
          "93111",
          "93111",
          "93111",
          "93111",
          "93105",
          "93111",
          "93111",
          "93111",
          "93111",
          "93111",
          "92880",
          "92880",
          "92880",
          "92880",
          "92880",
          "92880",
          "92880",
          "92880",
          "91752",
          "92880",
          "92880",
          "92880",
          "92880",
          "92880",
          "92880",
          "92880",
          "92880",
          "92880",
          "92880",
          "92880",
          "92880",
          "92880",
          "92880",
          "92880",
          "92880",
          "92543",
          "92253",
          "94568",
          "90211",
          "92040",
          "93720",
          "92880",
          "92692",
          "93924",
          "90265",
          "92692",
          "92253",
          "93314",
          "92880",
          "90038",
          "92880",
          "90803",
          "92880",
          "95008",
          "94565",
          "92880",
          "91915",
          "92880",
          "92880",
          "91752",
          "92880",
          "92880",
          "92880",
          "92880",
          "92880",
          "91752",
          "92880",
          "92880",
          "92276",
          "92276",
          "92276",
          "92276",
          "92276",
          "92276",
          "92276",
          "92276",
          "92276",
          "92276",
          "92880",
          "92880",
          "92880",
          "92880",
          "92880",
          "92880",
          "92880",
          "92880",
          "92880",
          "92880",
          "92880",
          "93510",
          "93510",
          "93510",
          "93510",
          "93510",
          "93510",
          "93510",
          "93510",
          "93510",
          "93510",
          "93510",
          "93510",
          "93510",
          "93510",
          "93510",
          "93510",
          "93510",
          "93510",
          "93510",
          "93510",
          "93510",
          "93510",
          "93510",
          "93510",
          "92276",
          "92276",
          "92276",
          "92276",
          "92276",
          "92276",
          "92276",
          "92276",
          "92276",
          "92276",
          "92276",
          "92276",
          "92276",
          "92276",
          "92276",
          "92276",
          "92276",
          "92276",
          "92276",
          "92276",
          "92276",
          "92276",
          "92276",
          "92276",
          "92276",
          "92276",
          "92276",
          "92276",
          "92276",
          "92276",
          "92276",
          "92276",
          "92276",
          "92276",
          "92276",
          "92276",
          "92276",
          "92276",
          "92276",
          "92276",
          "92276",
          "92276",
          "92276",
          "92276",
          "92276",
          "92276",
          "92276",
          "92276",
          "92276",
          "92276",
          "92276",
          "92276",
          "92276",
          "92276",
          "92276",
          "92276",
          "92276",
          "92276",
          "92276",
          "92276",
          "92276",
          "92276",
          "92276",
          "92276",
          "92276",
          "93446",
          "92276",
          "92276",
          "92276",
          "92276",
          "92276",
          "92276",
          "92276",
          "92276",
          "92276",
          "92276",
          "92276",
          "92276",
          "92276",
          "92276",
          "92276",
          "92276",
          "92276",
          "92276",
          "92276",
          "92276",
          "92276",
          "92276",
          "92276",
          "92276",
          "92276",
          "93510",
          "93510",
          "93510",
          "93510",
          "93510",
          "93510",
          "93510",
          "93510",
          "93510",
          "93510",
          "93510",
          "93510",
          "93510",
          "93510",
          "93510",
          "93510",
          "93510",
          "93510",
          "93510",
          "93510",
          "93510",
          "93510",
          "93510",
          "93510",
          "93510",
          "93510",
          "93510",
          "93510",
          "93510",
          "93510",
          "93510",
          "93510",
          "93510",
          "93510",
          "93510",
          "93510",
          "93446",
          "93446",
          "93446",
          "93446",
          "93446",
          "93446",
          "93446",
          "93446",
          "93446",
          "93446",
          "93446",
          "93446",
          "93446",
          "93446",
          "93446",
          "93446",
          "93446",
          "93446",
          "93446",
          "93446",
          "93446",
          "93446",
          "93446",
          "93446",
          "93446",
          "93446",
          "93446",
          "93446",
          "93446",
          "93446",
          "93446",
          "93446",
          "93446",
          "93446",
          "93446",
          "93446",
          "93446",
          "93446",
          "93446",
          "93446",
          "93446",
          "93446",
          "93446",
          "93446",
          "93446",
          "93446",
          "93446",
          "92802",
          "92802",
          "92802",
          "92802",
          "92802",
          "92802",
          "92802",
          "92802",
          "92802",
          "94531",
          "94531",
          "94531",
          "94531",
          "94531",
          "94531",
          "94531",
          "94531",
          "94531",
          "94531",
          "94531",
          "94531",
          "94531",
          "94531",
          "94531",
          "94531",
          "94531",
          "94531",
          "94531",
          "94531",
          "94531",
          "94531"
         ],
         "xaxis": "x",
         "yaxis": "y"
        }
       ],
       "layout": {
        "barmode": "relative",
        "legend": {
         "tracegroupgap": 0
        },
        "template": {
         "data": {
          "bar": [
           {
            "error_x": {
             "color": "#2a3f5f"
            },
            "error_y": {
             "color": "#2a3f5f"
            },
            "marker": {
             "line": {
              "color": "#E5ECF6",
              "width": 0.5
             },
             "pattern": {
              "fillmode": "overlay",
              "size": 10,
              "solidity": 0.2
             }
            },
            "type": "bar"
           }
          ],
          "barpolar": [
           {
            "marker": {
             "line": {
              "color": "#E5ECF6",
              "width": 0.5
             },
             "pattern": {
              "fillmode": "overlay",
              "size": 10,
              "solidity": 0.2
             }
            },
            "type": "barpolar"
           }
          ],
          "carpet": [
           {
            "aaxis": {
             "endlinecolor": "#2a3f5f",
             "gridcolor": "white",
             "linecolor": "white",
             "minorgridcolor": "white",
             "startlinecolor": "#2a3f5f"
            },
            "baxis": {
             "endlinecolor": "#2a3f5f",
             "gridcolor": "white",
             "linecolor": "white",
             "minorgridcolor": "white",
             "startlinecolor": "#2a3f5f"
            },
            "type": "carpet"
           }
          ],
          "choropleth": [
           {
            "colorbar": {
             "outlinewidth": 0,
             "ticks": ""
            },
            "type": "choropleth"
           }
          ],
          "contour": [
           {
            "colorbar": {
             "outlinewidth": 0,
             "ticks": ""
            },
            "colorscale": [
             [
              0,
              "#0d0887"
             ],
             [
              0.1111111111111111,
              "#46039f"
             ],
             [
              0.2222222222222222,
              "#7201a8"
             ],
             [
              0.3333333333333333,
              "#9c179e"
             ],
             [
              0.4444444444444444,
              "#bd3786"
             ],
             [
              0.5555555555555556,
              "#d8576b"
             ],
             [
              0.6666666666666666,
              "#ed7953"
             ],
             [
              0.7777777777777778,
              "#fb9f3a"
             ],
             [
              0.8888888888888888,
              "#fdca26"
             ],
             [
              1,
              "#f0f921"
             ]
            ],
            "type": "contour"
           }
          ],
          "contourcarpet": [
           {
            "colorbar": {
             "outlinewidth": 0,
             "ticks": ""
            },
            "type": "contourcarpet"
           }
          ],
          "heatmap": [
           {
            "colorbar": {
             "outlinewidth": 0,
             "ticks": ""
            },
            "colorscale": [
             [
              0,
              "#0d0887"
             ],
             [
              0.1111111111111111,
              "#46039f"
             ],
             [
              0.2222222222222222,
              "#7201a8"
             ],
             [
              0.3333333333333333,
              "#9c179e"
             ],
             [
              0.4444444444444444,
              "#bd3786"
             ],
             [
              0.5555555555555556,
              "#d8576b"
             ],
             [
              0.6666666666666666,
              "#ed7953"
             ],
             [
              0.7777777777777778,
              "#fb9f3a"
             ],
             [
              0.8888888888888888,
              "#fdca26"
             ],
             [
              1,
              "#f0f921"
             ]
            ],
            "type": "heatmap"
           }
          ],
          "heatmapgl": [
           {
            "colorbar": {
             "outlinewidth": 0,
             "ticks": ""
            },
            "colorscale": [
             [
              0,
              "#0d0887"
             ],
             [
              0.1111111111111111,
              "#46039f"
             ],
             [
              0.2222222222222222,
              "#7201a8"
             ],
             [
              0.3333333333333333,
              "#9c179e"
             ],
             [
              0.4444444444444444,
              "#bd3786"
             ],
             [
              0.5555555555555556,
              "#d8576b"
             ],
             [
              0.6666666666666666,
              "#ed7953"
             ],
             [
              0.7777777777777778,
              "#fb9f3a"
             ],
             [
              0.8888888888888888,
              "#fdca26"
             ],
             [
              1,
              "#f0f921"
             ]
            ],
            "type": "heatmapgl"
           }
          ],
          "histogram": [
           {
            "marker": {
             "pattern": {
              "fillmode": "overlay",
              "size": 10,
              "solidity": 0.2
             }
            },
            "type": "histogram"
           }
          ],
          "histogram2d": [
           {
            "colorbar": {
             "outlinewidth": 0,
             "ticks": ""
            },
            "colorscale": [
             [
              0,
              "#0d0887"
             ],
             [
              0.1111111111111111,
              "#46039f"
             ],
             [
              0.2222222222222222,
              "#7201a8"
             ],
             [
              0.3333333333333333,
              "#9c179e"
             ],
             [
              0.4444444444444444,
              "#bd3786"
             ],
             [
              0.5555555555555556,
              "#d8576b"
             ],
             [
              0.6666666666666666,
              "#ed7953"
             ],
             [
              0.7777777777777778,
              "#fb9f3a"
             ],
             [
              0.8888888888888888,
              "#fdca26"
             ],
             [
              1,
              "#f0f921"
             ]
            ],
            "type": "histogram2d"
           }
          ],
          "histogram2dcontour": [
           {
            "colorbar": {
             "outlinewidth": 0,
             "ticks": ""
            },
            "colorscale": [
             [
              0,
              "#0d0887"
             ],
             [
              0.1111111111111111,
              "#46039f"
             ],
             [
              0.2222222222222222,
              "#7201a8"
             ],
             [
              0.3333333333333333,
              "#9c179e"
             ],
             [
              0.4444444444444444,
              "#bd3786"
             ],
             [
              0.5555555555555556,
              "#d8576b"
             ],
             [
              0.6666666666666666,
              "#ed7953"
             ],
             [
              0.7777777777777778,
              "#fb9f3a"
             ],
             [
              0.8888888888888888,
              "#fdca26"
             ],
             [
              1,
              "#f0f921"
             ]
            ],
            "type": "histogram2dcontour"
           }
          ],
          "mesh3d": [
           {
            "colorbar": {
             "outlinewidth": 0,
             "ticks": ""
            },
            "type": "mesh3d"
           }
          ],
          "parcoords": [
           {
            "line": {
             "colorbar": {
              "outlinewidth": 0,
              "ticks": ""
             }
            },
            "type": "parcoords"
           }
          ],
          "pie": [
           {
            "automargin": true,
            "type": "pie"
           }
          ],
          "scatter": [
           {
            "fillpattern": {
             "fillmode": "overlay",
             "size": 10,
             "solidity": 0.2
            },
            "type": "scatter"
           }
          ],
          "scatter3d": [
           {
            "line": {
             "colorbar": {
              "outlinewidth": 0,
              "ticks": ""
             }
            },
            "marker": {
             "colorbar": {
              "outlinewidth": 0,
              "ticks": ""
             }
            },
            "type": "scatter3d"
           }
          ],
          "scattercarpet": [
           {
            "marker": {
             "colorbar": {
              "outlinewidth": 0,
              "ticks": ""
             }
            },
            "type": "scattercarpet"
           }
          ],
          "scattergeo": [
           {
            "marker": {
             "colorbar": {
              "outlinewidth": 0,
              "ticks": ""
             }
            },
            "type": "scattergeo"
           }
          ],
          "scattergl": [
           {
            "marker": {
             "colorbar": {
              "outlinewidth": 0,
              "ticks": ""
             }
            },
            "type": "scattergl"
           }
          ],
          "scattermapbox": [
           {
            "marker": {
             "colorbar": {
              "outlinewidth": 0,
              "ticks": ""
             }
            },
            "type": "scattermapbox"
           }
          ],
          "scatterpolar": [
           {
            "marker": {
             "colorbar": {
              "outlinewidth": 0,
              "ticks": ""
             }
            },
            "type": "scatterpolar"
           }
          ],
          "scatterpolargl": [
           {
            "marker": {
             "colorbar": {
              "outlinewidth": 0,
              "ticks": ""
             }
            },
            "type": "scatterpolargl"
           }
          ],
          "scatterternary": [
           {
            "marker": {
             "colorbar": {
              "outlinewidth": 0,
              "ticks": ""
             }
            },
            "type": "scatterternary"
           }
          ],
          "surface": [
           {
            "colorbar": {
             "outlinewidth": 0,
             "ticks": ""
            },
            "colorscale": [
             [
              0,
              "#0d0887"
             ],
             [
              0.1111111111111111,
              "#46039f"
             ],
             [
              0.2222222222222222,
              "#7201a8"
             ],
             [
              0.3333333333333333,
              "#9c179e"
             ],
             [
              0.4444444444444444,
              "#bd3786"
             ],
             [
              0.5555555555555556,
              "#d8576b"
             ],
             [
              0.6666666666666666,
              "#ed7953"
             ],
             [
              0.7777777777777778,
              "#fb9f3a"
             ],
             [
              0.8888888888888888,
              "#fdca26"
             ],
             [
              1,
              "#f0f921"
             ]
            ],
            "type": "surface"
           }
          ],
          "table": [
           {
            "cells": {
             "fill": {
              "color": "#EBF0F8"
             },
             "line": {
              "color": "white"
             }
            },
            "header": {
             "fill": {
              "color": "#C8D4E3"
             },
             "line": {
              "color": "white"
             }
            },
            "type": "table"
           }
          ]
         },
         "layout": {
          "annotationdefaults": {
           "arrowcolor": "#2a3f5f",
           "arrowhead": 0,
           "arrowwidth": 1
          },
          "autotypenumbers": "strict",
          "coloraxis": {
           "colorbar": {
            "outlinewidth": 0,
            "ticks": ""
           }
          },
          "colorscale": {
           "diverging": [
            [
             0,
             "#8e0152"
            ],
            [
             0.1,
             "#c51b7d"
            ],
            [
             0.2,
             "#de77ae"
            ],
            [
             0.3,
             "#f1b6da"
            ],
            [
             0.4,
             "#fde0ef"
            ],
            [
             0.5,
             "#f7f7f7"
            ],
            [
             0.6,
             "#e6f5d0"
            ],
            [
             0.7,
             "#b8e186"
            ],
            [
             0.8,
             "#7fbc41"
            ],
            [
             0.9,
             "#4d9221"
            ],
            [
             1,
             "#276419"
            ]
           ],
           "sequential": [
            [
             0,
             "#0d0887"
            ],
            [
             0.1111111111111111,
             "#46039f"
            ],
            [
             0.2222222222222222,
             "#7201a8"
            ],
            [
             0.3333333333333333,
             "#9c179e"
            ],
            [
             0.4444444444444444,
             "#bd3786"
            ],
            [
             0.5555555555555556,
             "#d8576b"
            ],
            [
             0.6666666666666666,
             "#ed7953"
            ],
            [
             0.7777777777777778,
             "#fb9f3a"
            ],
            [
             0.8888888888888888,
             "#fdca26"
            ],
            [
             1,
             "#f0f921"
            ]
           ],
           "sequentialminus": [
            [
             0,
             "#0d0887"
            ],
            [
             0.1111111111111111,
             "#46039f"
            ],
            [
             0.2222222222222222,
             "#7201a8"
            ],
            [
             0.3333333333333333,
             "#9c179e"
            ],
            [
             0.4444444444444444,
             "#bd3786"
            ],
            [
             0.5555555555555556,
             "#d8576b"
            ],
            [
             0.6666666666666666,
             "#ed7953"
            ],
            [
             0.7777777777777778,
             "#fb9f3a"
            ],
            [
             0.8888888888888888,
             "#fdca26"
            ],
            [
             1,
             "#f0f921"
            ]
           ]
          },
          "colorway": [
           "#636efa",
           "#EF553B",
           "#00cc96",
           "#ab63fa",
           "#FFA15A",
           "#19d3f3",
           "#FF6692",
           "#B6E880",
           "#FF97FF",
           "#FECB52"
          ],
          "font": {
           "color": "#2a3f5f"
          },
          "geo": {
           "bgcolor": "white",
           "lakecolor": "white",
           "landcolor": "#E5ECF6",
           "showlakes": true,
           "showland": true,
           "subunitcolor": "white"
          },
          "hoverlabel": {
           "align": "left"
          },
          "hovermode": "closest",
          "mapbox": {
           "style": "light"
          },
          "paper_bgcolor": "white",
          "plot_bgcolor": "#E5ECF6",
          "polar": {
           "angularaxis": {
            "gridcolor": "white",
            "linecolor": "white",
            "ticks": ""
           },
           "bgcolor": "#E5ECF6",
           "radialaxis": {
            "gridcolor": "white",
            "linecolor": "white",
            "ticks": ""
           }
          },
          "scene": {
           "xaxis": {
            "backgroundcolor": "#E5ECF6",
            "gridcolor": "white",
            "gridwidth": 2,
            "linecolor": "white",
            "showbackground": true,
            "ticks": "",
            "zerolinecolor": "white"
           },
           "yaxis": {
            "backgroundcolor": "#E5ECF6",
            "gridcolor": "white",
            "gridwidth": 2,
            "linecolor": "white",
            "showbackground": true,
            "ticks": "",
            "zerolinecolor": "white"
           },
           "zaxis": {
            "backgroundcolor": "#E5ECF6",
            "gridcolor": "white",
            "gridwidth": 2,
            "linecolor": "white",
            "showbackground": true,
            "ticks": "",
            "zerolinecolor": "white"
           }
          },
          "shapedefaults": {
           "line": {
            "color": "#2a3f5f"
           }
          },
          "ternary": {
           "aaxis": {
            "gridcolor": "white",
            "linecolor": "white",
            "ticks": ""
           },
           "baxis": {
            "gridcolor": "white",
            "linecolor": "white",
            "ticks": ""
           },
           "bgcolor": "#E5ECF6",
           "caxis": {
            "gridcolor": "white",
            "linecolor": "white",
            "ticks": ""
           }
          },
          "title": {
           "x": 0.05
          },
          "xaxis": {
           "automargin": true,
           "gridcolor": "white",
           "linecolor": "white",
           "ticks": "",
           "title": {
            "standoff": 15
           },
           "zerolinecolor": "white",
           "zerolinewidth": 2
          },
          "yaxis": {
           "automargin": true,
           "gridcolor": "white",
           "linecolor": "white",
           "ticks": "",
           "title": {
            "standoff": 15
           },
           "zerolinecolor": "white",
           "zerolinewidth": 2
          }
         }
        },
        "title": {
         "text": "Histogram of Zip Codes"
        },
        "xaxis": {
         "anchor": "y",
         "domain": [
          0,
          1
         ],
         "title": {
          "text": "zipcode"
         }
        },
        "yaxis": {
         "anchor": "x",
         "domain": [
          0,
          1
         ],
         "title": {
          "text": "count"
         }
        }
       }
      }
     },
     "metadata": {},
     "output_type": "display_data"
    }
   ],
   "source": [
    "# plot histogram of zip codes\n",
    "fig = px.histogram(\n",
    "    df,\n",
    "    x=\"zipcode\",\n",
    "    nbins=70,\n",
    "    title=\"Histogram of Zip Codes\"\n",
    ")\n",
    "fig.show()"
   ]
  },
  {
   "cell_type": "code",
   "execution_count": 7,
   "metadata": {},
   "outputs": [
    {
     "data": {
      "text/plain": [
       "(362, 5)"
      ]
     },
     "execution_count": 7,
     "metadata": {},
     "output_type": "execute_result"
    }
   ],
   "source": [
    "# delete zip codes with less than 25 houses\n",
    "for (zipcode, count) in zip(zipcodes, count):\n",
    "    if count < 25:\n",
    "        idxs = df[df[\"zipcode\"] == zipcode].index\n",
    "        df.drop(idxs, inplace=True)\n",
    "df.shape"
   ]
  },
  {
   "cell_type": "code",
   "execution_count": 8,
   "metadata": {},
   "outputs": [
    {
     "data": {
      "application/vnd.plotly.v1+json": {
       "config": {
        "plotlyServerURL": "https://plot.ly"
       },
       "data": [
        {
         "alignmentgroup": "True",
         "bingroup": "x",
         "hovertemplate": "zipcode=%{x}<br>count=%{y}<extra></extra>",
         "legendgroup": "",
         "marker": {
          "color": "#636efa",
          "pattern": {
           "shape": ""
          }
         },
         "name": "",
         "nbinsx": 70,
         "offsetgroup": "",
         "orientation": "v",
         "showlegend": false,
         "type": "histogram",
         "x": [
          "93446",
          "93446",
          "93446",
          "91901",
          "91901",
          "91901",
          "91901",
          "91901",
          "91901",
          "91901",
          "91901",
          "91901",
          "91901",
          "91901",
          "91901",
          "91901",
          "91901",
          "91901",
          "91901",
          "91901",
          "91901",
          "93446",
          "91901",
          "91901",
          "91901",
          "91901",
          "91901",
          "91901",
          "91901",
          "93446",
          "91901",
          "91901",
          "91901",
          "91901",
          "91901",
          "91901",
          "91901",
          "92677",
          "92677",
          "92677",
          "92677",
          "92677",
          "92677",
          "92677",
          "92677",
          "92677",
          "92677",
          "92677",
          "92677",
          "92677",
          "92677",
          "92677",
          "92677",
          "92677",
          "92677",
          "92677",
          "92677",
          "92677",
          "92677",
          "92677",
          "92677",
          "92677",
          "92677",
          "94501",
          "94501",
          "94501",
          "94501",
          "94501",
          "94501",
          "94501",
          "94501",
          "94501",
          "94501",
          "94501",
          "94501",
          "94501",
          "94501",
          "94501",
          "94501",
          "94501",
          "94501",
          "94501",
          "94501",
          "94501",
          "94501",
          "94501",
          "94501",
          "94501",
          "94501",
          "94501",
          "94501",
          "93446",
          "94501",
          "94501",
          "94501",
          "94501",
          "94501",
          "94501",
          "94501",
          "94501",
          "94501",
          "94501",
          "94501",
          "94501",
          "94501",
          "92880",
          "92880",
          "92880",
          "92880",
          "92880",
          "92880",
          "92880",
          "92880",
          "92880",
          "92880",
          "92880",
          "92880",
          "92880",
          "92880",
          "92880",
          "92880",
          "92880",
          "92880",
          "92880",
          "92880",
          "92880",
          "92880",
          "92880",
          "92880",
          "92880",
          "92880",
          "92880",
          "92880",
          "92880",
          "92880",
          "92880",
          "92880",
          "92880",
          "92880",
          "92880",
          "92880",
          "92880",
          "92880",
          "92276",
          "92276",
          "92276",
          "92276",
          "92276",
          "92276",
          "92276",
          "92276",
          "92276",
          "92276",
          "92880",
          "92880",
          "92880",
          "92880",
          "92880",
          "92880",
          "92880",
          "92880",
          "92880",
          "92880",
          "92880",
          "93510",
          "93510",
          "93510",
          "93510",
          "93510",
          "93510",
          "93510",
          "93510",
          "93510",
          "93510",
          "93510",
          "93510",
          "93510",
          "93510",
          "93510",
          "93510",
          "93510",
          "93510",
          "93510",
          "93510",
          "93510",
          "93510",
          "93510",
          "93510",
          "92276",
          "92276",
          "92276",
          "92276",
          "92276",
          "92276",
          "92276",
          "92276",
          "92276",
          "92276",
          "92276",
          "92276",
          "92276",
          "92276",
          "92276",
          "92276",
          "92276",
          "92276",
          "92276",
          "92276",
          "92276",
          "92276",
          "92276",
          "92276",
          "92276",
          "92276",
          "92276",
          "92276",
          "92276",
          "92276",
          "92276",
          "92276",
          "92276",
          "92276",
          "92276",
          "92276",
          "92276",
          "92276",
          "92276",
          "92276",
          "92276",
          "92276",
          "92276",
          "92276",
          "92276",
          "92276",
          "92276",
          "92276",
          "92276",
          "92276",
          "92276",
          "92276",
          "92276",
          "92276",
          "92276",
          "92276",
          "92276",
          "92276",
          "92276",
          "92276",
          "92276",
          "92276",
          "92276",
          "92276",
          "92276",
          "93446",
          "92276",
          "92276",
          "92276",
          "92276",
          "92276",
          "92276",
          "92276",
          "92276",
          "92276",
          "92276",
          "92276",
          "92276",
          "92276",
          "92276",
          "92276",
          "92276",
          "92276",
          "92276",
          "92276",
          "92276",
          "92276",
          "92276",
          "92276",
          "92276",
          "92276",
          "93510",
          "93510",
          "93510",
          "93510",
          "93510",
          "93510",
          "93510",
          "93510",
          "93510",
          "93510",
          "93510",
          "93510",
          "93510",
          "93510",
          "93510",
          "93510",
          "93510",
          "93510",
          "93510",
          "93510",
          "93510",
          "93510",
          "93510",
          "93510",
          "93510",
          "93510",
          "93510",
          "93510",
          "93510",
          "93510",
          "93510",
          "93510",
          "93510",
          "93510",
          "93510",
          "93510",
          "93446",
          "93446",
          "93446",
          "93446",
          "93446",
          "93446",
          "93446",
          "93446",
          "93446",
          "93446",
          "93446",
          "93446",
          "93446",
          "93446",
          "93446",
          "93446",
          "93446",
          "93446",
          "93446",
          "93446",
          "93446",
          "93446",
          "93446",
          "93446",
          "93446",
          "93446",
          "93446",
          "93446",
          "93446",
          "93446",
          "93446",
          "93446",
          "93446",
          "93446",
          "93446",
          "93446",
          "93446",
          "93446",
          "93446",
          "93446",
          "93446",
          "93446",
          "93446",
          "93446",
          "93446",
          "93446",
          "93446"
         ],
         "xaxis": "x",
         "yaxis": "y"
        }
       ],
       "layout": {
        "barmode": "relative",
        "legend": {
         "tracegroupgap": 0
        },
        "template": {
         "data": {
          "bar": [
           {
            "error_x": {
             "color": "#2a3f5f"
            },
            "error_y": {
             "color": "#2a3f5f"
            },
            "marker": {
             "line": {
              "color": "#E5ECF6",
              "width": 0.5
             },
             "pattern": {
              "fillmode": "overlay",
              "size": 10,
              "solidity": 0.2
             }
            },
            "type": "bar"
           }
          ],
          "barpolar": [
           {
            "marker": {
             "line": {
              "color": "#E5ECF6",
              "width": 0.5
             },
             "pattern": {
              "fillmode": "overlay",
              "size": 10,
              "solidity": 0.2
             }
            },
            "type": "barpolar"
           }
          ],
          "carpet": [
           {
            "aaxis": {
             "endlinecolor": "#2a3f5f",
             "gridcolor": "white",
             "linecolor": "white",
             "minorgridcolor": "white",
             "startlinecolor": "#2a3f5f"
            },
            "baxis": {
             "endlinecolor": "#2a3f5f",
             "gridcolor": "white",
             "linecolor": "white",
             "minorgridcolor": "white",
             "startlinecolor": "#2a3f5f"
            },
            "type": "carpet"
           }
          ],
          "choropleth": [
           {
            "colorbar": {
             "outlinewidth": 0,
             "ticks": ""
            },
            "type": "choropleth"
           }
          ],
          "contour": [
           {
            "colorbar": {
             "outlinewidth": 0,
             "ticks": ""
            },
            "colorscale": [
             [
              0,
              "#0d0887"
             ],
             [
              0.1111111111111111,
              "#46039f"
             ],
             [
              0.2222222222222222,
              "#7201a8"
             ],
             [
              0.3333333333333333,
              "#9c179e"
             ],
             [
              0.4444444444444444,
              "#bd3786"
             ],
             [
              0.5555555555555556,
              "#d8576b"
             ],
             [
              0.6666666666666666,
              "#ed7953"
             ],
             [
              0.7777777777777778,
              "#fb9f3a"
             ],
             [
              0.8888888888888888,
              "#fdca26"
             ],
             [
              1,
              "#f0f921"
             ]
            ],
            "type": "contour"
           }
          ],
          "contourcarpet": [
           {
            "colorbar": {
             "outlinewidth": 0,
             "ticks": ""
            },
            "type": "contourcarpet"
           }
          ],
          "heatmap": [
           {
            "colorbar": {
             "outlinewidth": 0,
             "ticks": ""
            },
            "colorscale": [
             [
              0,
              "#0d0887"
             ],
             [
              0.1111111111111111,
              "#46039f"
             ],
             [
              0.2222222222222222,
              "#7201a8"
             ],
             [
              0.3333333333333333,
              "#9c179e"
             ],
             [
              0.4444444444444444,
              "#bd3786"
             ],
             [
              0.5555555555555556,
              "#d8576b"
             ],
             [
              0.6666666666666666,
              "#ed7953"
             ],
             [
              0.7777777777777778,
              "#fb9f3a"
             ],
             [
              0.8888888888888888,
              "#fdca26"
             ],
             [
              1,
              "#f0f921"
             ]
            ],
            "type": "heatmap"
           }
          ],
          "heatmapgl": [
           {
            "colorbar": {
             "outlinewidth": 0,
             "ticks": ""
            },
            "colorscale": [
             [
              0,
              "#0d0887"
             ],
             [
              0.1111111111111111,
              "#46039f"
             ],
             [
              0.2222222222222222,
              "#7201a8"
             ],
             [
              0.3333333333333333,
              "#9c179e"
             ],
             [
              0.4444444444444444,
              "#bd3786"
             ],
             [
              0.5555555555555556,
              "#d8576b"
             ],
             [
              0.6666666666666666,
              "#ed7953"
             ],
             [
              0.7777777777777778,
              "#fb9f3a"
             ],
             [
              0.8888888888888888,
              "#fdca26"
             ],
             [
              1,
              "#f0f921"
             ]
            ],
            "type": "heatmapgl"
           }
          ],
          "histogram": [
           {
            "marker": {
             "pattern": {
              "fillmode": "overlay",
              "size": 10,
              "solidity": 0.2
             }
            },
            "type": "histogram"
           }
          ],
          "histogram2d": [
           {
            "colorbar": {
             "outlinewidth": 0,
             "ticks": ""
            },
            "colorscale": [
             [
              0,
              "#0d0887"
             ],
             [
              0.1111111111111111,
              "#46039f"
             ],
             [
              0.2222222222222222,
              "#7201a8"
             ],
             [
              0.3333333333333333,
              "#9c179e"
             ],
             [
              0.4444444444444444,
              "#bd3786"
             ],
             [
              0.5555555555555556,
              "#d8576b"
             ],
             [
              0.6666666666666666,
              "#ed7953"
             ],
             [
              0.7777777777777778,
              "#fb9f3a"
             ],
             [
              0.8888888888888888,
              "#fdca26"
             ],
             [
              1,
              "#f0f921"
             ]
            ],
            "type": "histogram2d"
           }
          ],
          "histogram2dcontour": [
           {
            "colorbar": {
             "outlinewidth": 0,
             "ticks": ""
            },
            "colorscale": [
             [
              0,
              "#0d0887"
             ],
             [
              0.1111111111111111,
              "#46039f"
             ],
             [
              0.2222222222222222,
              "#7201a8"
             ],
             [
              0.3333333333333333,
              "#9c179e"
             ],
             [
              0.4444444444444444,
              "#bd3786"
             ],
             [
              0.5555555555555556,
              "#d8576b"
             ],
             [
              0.6666666666666666,
              "#ed7953"
             ],
             [
              0.7777777777777778,
              "#fb9f3a"
             ],
             [
              0.8888888888888888,
              "#fdca26"
             ],
             [
              1,
              "#f0f921"
             ]
            ],
            "type": "histogram2dcontour"
           }
          ],
          "mesh3d": [
           {
            "colorbar": {
             "outlinewidth": 0,
             "ticks": ""
            },
            "type": "mesh3d"
           }
          ],
          "parcoords": [
           {
            "line": {
             "colorbar": {
              "outlinewidth": 0,
              "ticks": ""
             }
            },
            "type": "parcoords"
           }
          ],
          "pie": [
           {
            "automargin": true,
            "type": "pie"
           }
          ],
          "scatter": [
           {
            "fillpattern": {
             "fillmode": "overlay",
             "size": 10,
             "solidity": 0.2
            },
            "type": "scatter"
           }
          ],
          "scatter3d": [
           {
            "line": {
             "colorbar": {
              "outlinewidth": 0,
              "ticks": ""
             }
            },
            "marker": {
             "colorbar": {
              "outlinewidth": 0,
              "ticks": ""
             }
            },
            "type": "scatter3d"
           }
          ],
          "scattercarpet": [
           {
            "marker": {
             "colorbar": {
              "outlinewidth": 0,
              "ticks": ""
             }
            },
            "type": "scattercarpet"
           }
          ],
          "scattergeo": [
           {
            "marker": {
             "colorbar": {
              "outlinewidth": 0,
              "ticks": ""
             }
            },
            "type": "scattergeo"
           }
          ],
          "scattergl": [
           {
            "marker": {
             "colorbar": {
              "outlinewidth": 0,
              "ticks": ""
             }
            },
            "type": "scattergl"
           }
          ],
          "scattermapbox": [
           {
            "marker": {
             "colorbar": {
              "outlinewidth": 0,
              "ticks": ""
             }
            },
            "type": "scattermapbox"
           }
          ],
          "scatterpolar": [
           {
            "marker": {
             "colorbar": {
              "outlinewidth": 0,
              "ticks": ""
             }
            },
            "type": "scatterpolar"
           }
          ],
          "scatterpolargl": [
           {
            "marker": {
             "colorbar": {
              "outlinewidth": 0,
              "ticks": ""
             }
            },
            "type": "scatterpolargl"
           }
          ],
          "scatterternary": [
           {
            "marker": {
             "colorbar": {
              "outlinewidth": 0,
              "ticks": ""
             }
            },
            "type": "scatterternary"
           }
          ],
          "surface": [
           {
            "colorbar": {
             "outlinewidth": 0,
             "ticks": ""
            },
            "colorscale": [
             [
              0,
              "#0d0887"
             ],
             [
              0.1111111111111111,
              "#46039f"
             ],
             [
              0.2222222222222222,
              "#7201a8"
             ],
             [
              0.3333333333333333,
              "#9c179e"
             ],
             [
              0.4444444444444444,
              "#bd3786"
             ],
             [
              0.5555555555555556,
              "#d8576b"
             ],
             [
              0.6666666666666666,
              "#ed7953"
             ],
             [
              0.7777777777777778,
              "#fb9f3a"
             ],
             [
              0.8888888888888888,
              "#fdca26"
             ],
             [
              1,
              "#f0f921"
             ]
            ],
            "type": "surface"
           }
          ],
          "table": [
           {
            "cells": {
             "fill": {
              "color": "#EBF0F8"
             },
             "line": {
              "color": "white"
             }
            },
            "header": {
             "fill": {
              "color": "#C8D4E3"
             },
             "line": {
              "color": "white"
             }
            },
            "type": "table"
           }
          ]
         },
         "layout": {
          "annotationdefaults": {
           "arrowcolor": "#2a3f5f",
           "arrowhead": 0,
           "arrowwidth": 1
          },
          "autotypenumbers": "strict",
          "coloraxis": {
           "colorbar": {
            "outlinewidth": 0,
            "ticks": ""
           }
          },
          "colorscale": {
           "diverging": [
            [
             0,
             "#8e0152"
            ],
            [
             0.1,
             "#c51b7d"
            ],
            [
             0.2,
             "#de77ae"
            ],
            [
             0.3,
             "#f1b6da"
            ],
            [
             0.4,
             "#fde0ef"
            ],
            [
             0.5,
             "#f7f7f7"
            ],
            [
             0.6,
             "#e6f5d0"
            ],
            [
             0.7,
             "#b8e186"
            ],
            [
             0.8,
             "#7fbc41"
            ],
            [
             0.9,
             "#4d9221"
            ],
            [
             1,
             "#276419"
            ]
           ],
           "sequential": [
            [
             0,
             "#0d0887"
            ],
            [
             0.1111111111111111,
             "#46039f"
            ],
            [
             0.2222222222222222,
             "#7201a8"
            ],
            [
             0.3333333333333333,
             "#9c179e"
            ],
            [
             0.4444444444444444,
             "#bd3786"
            ],
            [
             0.5555555555555556,
             "#d8576b"
            ],
            [
             0.6666666666666666,
             "#ed7953"
            ],
            [
             0.7777777777777778,
             "#fb9f3a"
            ],
            [
             0.8888888888888888,
             "#fdca26"
            ],
            [
             1,
             "#f0f921"
            ]
           ],
           "sequentialminus": [
            [
             0,
             "#0d0887"
            ],
            [
             0.1111111111111111,
             "#46039f"
            ],
            [
             0.2222222222222222,
             "#7201a8"
            ],
            [
             0.3333333333333333,
             "#9c179e"
            ],
            [
             0.4444444444444444,
             "#bd3786"
            ],
            [
             0.5555555555555556,
             "#d8576b"
            ],
            [
             0.6666666666666666,
             "#ed7953"
            ],
            [
             0.7777777777777778,
             "#fb9f3a"
            ],
            [
             0.8888888888888888,
             "#fdca26"
            ],
            [
             1,
             "#f0f921"
            ]
           ]
          },
          "colorway": [
           "#636efa",
           "#EF553B",
           "#00cc96",
           "#ab63fa",
           "#FFA15A",
           "#19d3f3",
           "#FF6692",
           "#B6E880",
           "#FF97FF",
           "#FECB52"
          ],
          "font": {
           "color": "#2a3f5f"
          },
          "geo": {
           "bgcolor": "white",
           "lakecolor": "white",
           "landcolor": "#E5ECF6",
           "showlakes": true,
           "showland": true,
           "subunitcolor": "white"
          },
          "hoverlabel": {
           "align": "left"
          },
          "hovermode": "closest",
          "mapbox": {
           "style": "light"
          },
          "paper_bgcolor": "white",
          "plot_bgcolor": "#E5ECF6",
          "polar": {
           "angularaxis": {
            "gridcolor": "white",
            "linecolor": "white",
            "ticks": ""
           },
           "bgcolor": "#E5ECF6",
           "radialaxis": {
            "gridcolor": "white",
            "linecolor": "white",
            "ticks": ""
           }
          },
          "scene": {
           "xaxis": {
            "backgroundcolor": "#E5ECF6",
            "gridcolor": "white",
            "gridwidth": 2,
            "linecolor": "white",
            "showbackground": true,
            "ticks": "",
            "zerolinecolor": "white"
           },
           "yaxis": {
            "backgroundcolor": "#E5ECF6",
            "gridcolor": "white",
            "gridwidth": 2,
            "linecolor": "white",
            "showbackground": true,
            "ticks": "",
            "zerolinecolor": "white"
           },
           "zaxis": {
            "backgroundcolor": "#E5ECF6",
            "gridcolor": "white",
            "gridwidth": 2,
            "linecolor": "white",
            "showbackground": true,
            "ticks": "",
            "zerolinecolor": "white"
           }
          },
          "shapedefaults": {
           "line": {
            "color": "#2a3f5f"
           }
          },
          "ternary": {
           "aaxis": {
            "gridcolor": "white",
            "linecolor": "white",
            "ticks": ""
           },
           "baxis": {
            "gridcolor": "white",
            "linecolor": "white",
            "ticks": ""
           },
           "bgcolor": "#E5ECF6",
           "caxis": {
            "gridcolor": "white",
            "linecolor": "white",
            "ticks": ""
           }
          },
          "title": {
           "x": 0.05
          },
          "xaxis": {
           "automargin": true,
           "gridcolor": "white",
           "linecolor": "white",
           "ticks": "",
           "title": {
            "standoff": 15
           },
           "zerolinecolor": "white",
           "zerolinewidth": 2
          },
          "yaxis": {
           "automargin": true,
           "gridcolor": "white",
           "linecolor": "white",
           "ticks": "",
           "title": {
            "standoff": 15
           },
           "zerolinecolor": "white",
           "zerolinewidth": 2
          }
         }
        },
        "title": {
         "text": "Histogram of Zip Codes"
        },
        "xaxis": {
         "anchor": "y",
         "domain": [
          0,
          1
         ],
         "title": {
          "text": "zipcode"
         }
        },
        "yaxis": {
         "anchor": "x",
         "domain": [
          0,
          1
         ],
         "title": {
          "text": "count"
         }
        }
       }
      }
     },
     "metadata": {},
     "output_type": "display_data"
    }
   ],
   "source": [
    "# plot histogram of zip codes\n",
    "fig = px.histogram(\n",
    "    df,\n",
    "    x=\"zipcode\",\n",
    "    nbins=70,\n",
    "    title=\"Histogram of Zip Codes\"\n",
    ")\n",
    "fig.show()"
   ]
  },
  {
   "cell_type": "code",
   "execution_count": 9,
   "metadata": {},
   "outputs": [
    {
     "data": {
      "text/plain": [
       "(362, 64, 64, 3)"
      ]
     },
     "execution_count": 9,
     "metadata": {},
     "output_type": "execute_result"
    }
   ],
   "source": [
    "images = []\n",
    "\n",
    "for i in df.index.values:\n",
    "    base_path = os.path.sep.join([dataset_path, \"{}_*\".format(i + 1)])\n",
    "    house_paths = sorted(list(glob.glob(base_path)))\n",
    "    input_images = []\n",
    "    output_images = np.zeros((64, 64, 3), dtype=\"uint8\")\n",
    "    for house_path in house_paths:\n",
    "        image = cv2.imread(house_path)\n",
    "        image = cv2.resize(image, (32, 32))\n",
    "        input_images.append(image)\n",
    "    output_images[0:32, 0:32] = input_images[0]\n",
    "    output_images[0:32, 32:64] = input_images[1]\n",
    "    output_images[32:64, 32:64] = input_images[2]\n",
    "    output_images[32:64, 0:32] = input_images[3]\n",
    "    images.append(output_images)\n",
    "images = np.array(images)\n",
    "images.shape"
   ]
  },
  {
   "cell_type": "code",
   "execution_count": 10,
   "metadata": {},
   "outputs": [
    {
     "data": {
      "text/plain": [
       "<matplotlib.image.AxesImage at 0x7fe806071f60>"
      ]
     },
     "execution_count": 10,
     "metadata": {},
     "output_type": "execute_result"
    },
    {
     "data": {
      "image/png": "[encoded data removed]",
      "text/plain": [
       "<Figure size 640x480 with 1 Axes>"
      ]
     },
     "metadata": {},
     "output_type": "display_data"
    }
   ],
   "source": [
    "plt.imshow(images[37][..., ::-1])"
   ]
  },
  {
   "cell_type": "code",
   "execution_count": 11,
   "metadata": {},
   "outputs": [],
   "source": [
    "images = images / 255.0"
   ]
  },
  {
   "cell_type": "code",
   "execution_count": 12,
   "metadata": {},
   "outputs": [
    {
     "data": {
      "text/plain": [
       "((271, 5), (91, 5), (271, 64, 64, 3), (91, 64, 64, 3))"
      ]
     },
     "execution_count": 12,
     "metadata": {},
     "output_type": "execute_result"
    }
   ],
   "source": [
    "x_train_attr, x_test_attr, x_train_images, x_test_images = train_test_split(\n",
    "    df,\n",
    "    images,\n",
    "    test_size=0.25,\n",
    "    random_state=42\n",
    ")\n",
    "x_train_attr.shape, x_test_attr.shape, x_train_images.shape, x_test_images.shape"
   ]
  },
  {
   "cell_type": "code",
   "execution_count": 13,
   "metadata": {},
   "outputs": [],
   "source": [
    "# Normalization\n",
    "max_price = df[\"price\"].max()\n",
    "y_train = x_train_attr[\"price\"] / max_price\n",
    "y_test = x_test_attr[\"price\"] / max_price\n",
    "# drop price from x_train_attr and x_test_attr\n",
    "x_train_attr.drop(\"price\", axis=1, inplace=True)\n",
    "x_test_attr.drop(\"price\", axis=1, inplace=True)"
   ]
  },
  {
   "cell_type": "code",
   "execution_count": 14,
   "metadata": {},
   "outputs": [],
   "source": [
    "# Normalization\n",
    "scaler = MinMaxScaler()\n",
    "continues_cols = [\"bedrooms\", \"bathrooms\", \"area\"]\n",
    "x_train_continues = scaler.fit_transform(x_train_attr[continues_cols])\n",
    "x_test_continues = scaler.transform(x_test_attr[continues_cols])"
   ]
  },
  {
   "cell_type": "code",
   "execution_count": 15,
   "metadata": {},
   "outputs": [],
   "source": [
    "# one hot encoding of zip codes\n",
    "lb = LabelBinarizer().fit(df[\"zipcode\"])\n",
    "x_train_discrete = lb.transform(x_train_attr[\"zipcode\"])\n",
    "x_test_discrete = lb.transform(x_test_attr[\"zipcode\"])"
   ]
  },
  {
   "cell_type": "code",
   "execution_count": 16,
   "metadata": {},
   "outputs": [
    {
     "name": "stdout",
     "output_type": "stream",
     "text": [
      "(271, 10) (91, 10)\n"
     ]
    }
   ],
   "source": [
    "x_train_attr = np.hstack([x_train_continues, x_train_discrete])\n",
    "x_test_attr = np.hstack([x_test_continues, x_test_discrete])\n",
    "\n",
    "print(x_train_attr.shape, x_test_attr.shape)"
   ]
  },
  {
   "cell_type": "code",
   "execution_count": 19,
   "metadata": {},
   "outputs": [
    {
     "name": "stderr",
     "output_type": "stream",
     "text": [
      "2023-01-29 15:00:53.238671: W tensorflow/compiler/xla/stream_executor/platform/default/dso_loader.cc:64] Could not load dynamic library 'libcuda.so.1'; dlerror: libcuda.so.1: cannot open shared object file: No such file or directory; LD_LIBRARY_PATH: /home/smbh/venvs/house_price_prediction/lib/python3.10/site-packages/cv2/../../lib64:\n",
      "2023-01-29 15:00:53.238936: W tensorflow/compiler/xla/stream_executor/cuda/cuda_driver.cc:265] failed call to cuInit: UNKNOWN ERROR (303)\n",
      "2023-01-29 15:00:53.238952: I tensorflow/compiler/xla/stream_executor/cuda/cuda_diagnostics.cc:156] kernel driver does not appear to be running on this host (hope): /proc/driver/nvidia/version does not exist\n",
      "2023-01-29 15:00:53.239609: I tensorflow/core/platform/cpu_feature_guard.cc:193] This TensorFlow binary is optimized with oneAPI Deep Neural Network Library (oneDNN) to use the following CPU instructions in performance-critical operations:  AVX2 AVX512F AVX512_VNNI FMA\n",
      "To enable them in other operations, rebuild TensorFlow with the appropriate compiler flags.\n"
     ]
    }
   ],
   "source": [
    "mlp = Sequential()\n",
    "mlp.add(Dense(8, input_shape=(x_train_attr.shape[1],), activation=\"relu\"))\n",
    "mlp.add(Dense(4, activation=\"relu\"))"
   ]
  },
  {
   "cell_type": "code",
   "execution_count": 20,
   "metadata": {},
   "outputs": [
    {
     "data": {
      "text/plain": [
       "(64, 64, 3)"
      ]
     },
     "execution_count": 20,
     "metadata": {},
     "output_type": "execute_result"
    }
   ],
   "source": [
    "width, height, depth = x_train_images.shape[1:]\n",
    "width, height, depth"
   ]
  },
  {
   "cell_type": "code",
   "execution_count": 21,
   "metadata": {},
   "outputs": [],
   "source": [
    "filters = (16, 32, 64)\n",
    "input_shape = (width, height, depth)\n",
    "channel_dim = -1"
   ]
  },
  {
   "cell_type": "code",
   "execution_count": 23,
   "metadata": {},
   "outputs": [
    {
     "name": "stdout",
     "output_type": "stream",
     "text": [
      "Model: \"model_1\"\n",
      "_________________________________________________________________\n",
      " Layer (type)                Output Shape              Param #   \n",
      "=================================================================\n",
      " input_2 (InputLayer)        [(None, 64, 64, 3)]       0         \n",
      "                                                                 \n",
      " conv2d_3 (Conv2D)           (None, 64, 64, 16)        448       \n",
      "                                                                 \n",
      " activation_5 (Activation)   (None, 64, 64, 16)        0         \n",
      "                                                                 \n",
      " batch_normalization_4 (Batc  (None, 64, 64, 16)       64        \n",
      " hNormalization)                                                 \n",
      "                                                                 \n",
      " max_pooling2d_3 (MaxPooling  (None, 32, 32, 16)       0         \n",
      " 2D)                                                             \n",
      "                                                                 \n",
      " conv2d_4 (Conv2D)           (None, 32, 32, 32)        4640      \n",
      "                                                                 \n",
      " activation_6 (Activation)   (None, 32, 32, 32)        0         \n",
      "                                                                 \n",
      " batch_normalization_5 (Batc  (None, 32, 32, 32)       128       \n",
      " hNormalization)                                                 \n",
      "                                                                 \n",
      " max_pooling2d_4 (MaxPooling  (None, 16, 16, 32)       0         \n",
      " 2D)                                                             \n",
      "                                                                 \n",
      " conv2d_5 (Conv2D)           (None, 16, 16, 64)        18496     \n",
      "                                                                 \n",
      " activation_7 (Activation)   (None, 16, 16, 64)        0         \n",
      "                                                                 \n",
      " batch_normalization_6 (Batc  (None, 16, 16, 64)       256       \n",
      " hNormalization)                                                 \n",
      "                                                                 \n",
      " max_pooling2d_5 (MaxPooling  (None, 8, 8, 64)         0         \n",
      " 2D)                                                             \n",
      "                                                                 \n",
      " flatten_1 (Flatten)         (None, 4096)              0         \n",
      "                                                                 \n",
      " dense_5 (Dense)             (None, 16)                65552     \n",
      "                                                                 \n",
      " activation_8 (Activation)   (None, 16)                0         \n",
      "                                                                 \n",
      " batch_normalization_7 (Batc  (None, 16)               64        \n",
      " hNormalization)                                                 \n",
      "                                                                 \n",
      " dropout_1 (Dropout)         (None, 16)                0         \n",
      "                                                                 \n",
      " dense_6 (Dense)             (None, 4)                 68        \n",
      "                                                                 \n",
      " activation_9 (Activation)   (None, 4)                 0         \n",
      "                                                                 \n",
      "=================================================================\n",
      "Total params: 89,716\n",
      "Trainable params: 89,460\n",
      "Non-trainable params: 256\n",
      "_________________________________________________________________\n"
     ]
    }
   ],
   "source": [
    "inputs = Input(shape=input_shape)\n",
    "\n",
    "for (i, f) in enumerate(filters):\n",
    "    if i == 0:\n",
    "        x = inputs\n",
    "    # CONV => RELU => BN => POOL\n",
    "    x = Conv2D(f, (3, 3), padding=\"same\")(x)\n",
    "    x = Activation(\"relu\")(x)\n",
    "    x = BatchNormalization(axis=channel_dim)(x)\n",
    "    x = MaxPooling2D(pool_size=(2, 2))(x)\n",
    "\n",
    "# flatten the volume, then FC => RELU => BN => DROPOUT\n",
    "x = Flatten()(x)\n",
    "x = Dense(16)(x)\n",
    "x = Activation(\"relu\")(x)\n",
    "x = BatchNormalization()(x)\n",
    "x = Dropout(0.5)(x)\n",
    "\n",
    "# apply another FC layer, this one to match the number of nodes\n",
    "# coming out of the MLP\n",
    "x = Dense(4)(x)\n",
    "x = Activation(\"relu\")(x)\n",
    "\n",
    "cnn = Model(inputs, x)\n",
    "cnn.summary()"
   ]
  },
  {
   "cell_type": "code",
   "execution_count": 27,
   "metadata": {},
   "outputs": [
    {
     "name": "stdout",
     "output_type": "stream",
     "text": [
      "Model: \"model_3\"\n",
      "__________________________________________________________________________________________________\n",
      " Layer (type)                   Output Shape         Param #     Connected to                     \n",
      "==================================================================================================\n",
      " input_2 (InputLayer)           [(None, 64, 64, 3)]  0           []                               \n",
      "                                                                                                  \n",
      " conv2d_3 (Conv2D)              (None, 64, 64, 16)   448         ['input_2[0][0]']                \n",
      "                                                                                                  \n",
      " activation_5 (Activation)      (None, 64, 64, 16)   0           ['conv2d_3[0][0]']               \n",
      "                                                                                                  \n",
      " batch_normalization_4 (BatchNo  (None, 64, 64, 16)  64          ['activation_5[0][0]']           \n",
      " rmalization)                                                                                     \n",
      "                                                                                                  \n",
      " max_pooling2d_3 (MaxPooling2D)  (None, 32, 32, 16)  0           ['batch_normalization_4[0][0]']  \n",
      "                                                                                                  \n",
      " conv2d_4 (Conv2D)              (None, 32, 32, 32)   4640        ['max_pooling2d_3[0][0]']        \n",
      "                                                                                                  \n",
      " activation_6 (Activation)      (None, 32, 32, 32)   0           ['conv2d_4[0][0]']               \n",
      "                                                                                                  \n",
      " batch_normalization_5 (BatchNo  (None, 32, 32, 32)  128         ['activation_6[0][0]']           \n",
      " rmalization)                                                                                     \n",
      "                                                                                                  \n",
      " max_pooling2d_4 (MaxPooling2D)  (None, 16, 16, 32)  0           ['batch_normalization_5[0][0]']  \n",
      "                                                                                                  \n",
      " conv2d_5 (Conv2D)              (None, 16, 16, 64)   18496       ['max_pooling2d_4[0][0]']        \n",
      "                                                                                                  \n",
      " activation_7 (Activation)      (None, 16, 16, 64)   0           ['conv2d_5[0][0]']               \n",
      "                                                                                                  \n",
      " batch_normalization_6 (BatchNo  (None, 16, 16, 64)  256         ['activation_7[0][0]']           \n",
      " rmalization)                                                                                     \n",
      "                                                                                                  \n",
      " max_pooling2d_5 (MaxPooling2D)  (None, 8, 8, 64)    0           ['batch_normalization_6[0][0]']  \n",
      "                                                                                                  \n",
      " flatten_1 (Flatten)            (None, 4096)         0           ['max_pooling2d_5[0][0]']        \n",
      "                                                                                                  \n",
      " dense_5 (Dense)                (None, 16)           65552       ['flatten_1[0][0]']              \n",
      "                                                                                                  \n",
      " activation_8 (Activation)      (None, 16)           0           ['dense_5[0][0]']                \n",
      "                                                                                                  \n",
      " batch_normalization_7 (BatchNo  (None, 16)          64          ['activation_8[0][0]']           \n",
      " rmalization)                                                                                     \n",
      "                                                                                                  \n",
      " dropout_1 (Dropout)            (None, 16)           0           ['batch_normalization_7[0][0]']  \n",
      "                                                                                                  \n",
      " dense_input (InputLayer)       [(None, 10)]         0           []                               \n",
      "                                                                                                  \n",
      " dense_6 (Dense)                (None, 4)            68          ['dropout_1[0][0]']              \n",
      "                                                                                                  \n",
      " dense (Dense)                  (None, 8)            88          ['dense_input[0][0]']            \n",
      "                                                                                                  \n",
      " activation_9 (Activation)      (None, 4)            0           ['dense_6[0][0]']                \n",
      "                                                                                                  \n",
      " dense_1 (Dense)                (None, 4)            36          ['dense[0][0]']                  \n",
      "                                                                                                  \n",
      " concatenate_1 (Concatenate)    (None, 8)            0           ['activation_9[0][0]',           \n",
      "                                                                  'dense_1[0][0]']                \n",
      "                                                                                                  \n",
      " dense_9 (Dense)                (None, 4)            36          ['concatenate_1[0][0]']          \n",
      "                                                                                                  \n",
      " dense_10 (Dense)               (None, 1)            5           ['dense_9[0][0]']                \n",
      "                                                                                                  \n",
      "==================================================================================================\n",
      "Total params: 89,881\n",
      "Trainable params: 89,625\n",
      "Non-trainable params: 256\n",
      "__________________________________________________________________________________________________\n"
     ]
    }
   ],
   "source": [
    "combined_input = concatenate([cnn.output, mlp.output])\n",
    "x = Dense(4, activation=\"relu\")(combined_input)\n",
    "x = Dense(1, activation=\"linear\")(x)\n",
    "\n",
    "model = Model(inputs=[cnn.input, mlp.input], outputs=x)\n",
    "model.summary()"
   ]
  },
  {
   "cell_type": "code",
   "execution_count": 29,
   "metadata": {},
   "outputs": [],
   "source": [
    "opt = Adam(learning_rate=1e-3, weight_decay=1e-3 / 200)\n",
    "model.compile(loss=\"mean_absolute_percentage_error\", optimizer=opt)"
   ]
  },
  {
   "cell_type": "code",
   "execution_count": 30,
   "metadata": {},
   "outputs": [
    {
     "name": "stdout",
     "output_type": "stream",
     "text": [
      "Epoch 1/200\n",
      "34/34 [==============================] - 2s 12ms/step - loss: 702.1579 - val_loss: 104.2853\n",
      "Epoch 2/200\n",
      "34/34 [==============================] - 0s 8ms/step - loss: 418.5096 - val_loss: 98.0969\n",
      "Epoch 3/200\n",
      "34/34 [==============================] - 0s 8ms/step - loss: 247.3139 - val_loss: 83.6381\n",
      "Epoch 4/200\n",
      "34/34 [==============================] - 0s 7ms/step - loss: 185.3008 - val_loss: 75.1718\n",
      "Epoch 5/200\n",
      "34/34 [==============================] - 0s 8ms/step - loss: 134.7509 - val_loss: 69.1561\n",
      "Epoch 6/200\n",
      "34/34 [==============================] - 0s 8ms/step - loss: 122.1616 - val_loss: 90.0211\n",
      "Epoch 7/200\n",
      "34/34 [==============================] - 0s 8ms/step - loss: 118.1013 - val_loss: 166.9148\n",
      "Epoch 8/200\n",
      "34/34 [==============================] - 0s 7ms/step - loss: 103.7867 - val_loss: 151.4455\n",
      "Epoch 9/200\n",
      "34/34 [==============================] - 0s 7ms/step - loss: 90.7455 - val_loss: 353.9519\n",
      "Epoch 10/200\n",
      "34/34 [==============================] - 0s 7ms/step - loss: 98.4901 - val_loss: 709.8911\n",
      "Epoch 11/200\n",
      "34/34 [==============================] - 0s 7ms/step - loss: 74.0973 - val_loss: 827.0262\n",
      "Epoch 12/200\n",
      "34/34 [==============================] - 0s 7ms/step - loss: 78.1011 - val_loss: 146.1096\n",
      "Epoch 13/200\n",
      "34/34 [==============================] - 0s 7ms/step - loss: 82.1341 - val_loss: 86.0942\n",
      "Epoch 14/200\n",
      "34/34 [==============================] - 0s 7ms/step - loss: 73.7317 - val_loss: 104.1840\n",
      "Epoch 15/200\n",
      "34/34 [==============================] - 0s 8ms/step - loss: 74.8395 - val_loss: 105.1263\n",
      "Epoch 16/200\n",
      "34/34 [==============================] - 0s 7ms/step - loss: 72.3455 - val_loss: 91.8093\n",
      "Epoch 17/200\n",
      "34/34 [==============================] - 0s 7ms/step - loss: 67.0603 - val_loss: 72.4437\n",
      "Epoch 18/200\n",
      "34/34 [==============================] - 0s 8ms/step - loss: 70.7484 - val_loss: 68.2133\n",
      "Epoch 19/200\n",
      "34/34 [==============================] - 0s 8ms/step - loss: 75.4319 - val_loss: 68.1971\n",
      "Epoch 20/200\n",
      "34/34 [==============================] - 0s 7ms/step - loss: 66.3414 - val_loss: 68.4270\n",
      "Epoch 21/200\n",
      "34/34 [==============================] - 0s 7ms/step - loss: 67.3888 - val_loss: 67.3824\n",
      "Epoch 22/200\n",
      "34/34 [==============================] - 0s 7ms/step - loss: 60.1573 - val_loss: 65.7238\n",
      "Epoch 23/200\n",
      "34/34 [==============================] - 0s 7ms/step - loss: 59.3562 - val_loss: 66.6639\n",
      "Epoch 24/200\n",
      "34/34 [==============================] - 0s 7ms/step - loss: 57.5182 - val_loss: 60.9128\n",
      "Epoch 25/200\n",
      "34/34 [==============================] - 0s 8ms/step - loss: 59.1624 - val_loss: 61.1043\n",
      "Epoch 26/200\n",
      "34/34 [==============================] - 0s 8ms/step - loss: 63.8875 - val_loss: 62.2279\n",
      "Epoch 27/200\n",
      "34/34 [==============================] - 0s 9ms/step - loss: 59.2790 - val_loss: 57.5016\n",
      "Epoch 28/200\n",
      "34/34 [==============================] - 0s 8ms/step - loss: 62.1854 - val_loss: 61.1993\n",
      "Epoch 29/200\n",
      "34/34 [==============================] - 0s 8ms/step - loss: 53.3532 - val_loss: 61.6689\n",
      "Epoch 30/200\n",
      "34/34 [==============================] - 0s 7ms/step - loss: 56.0200 - val_loss: 60.7037\n",
      "Epoch 31/200\n",
      "34/34 [==============================] - 0s 7ms/step - loss: 56.0024 - val_loss: 58.0273\n",
      "Epoch 32/200\n",
      "34/34 [==============================] - 0s 8ms/step - loss: 52.3655 - val_loss: 53.5860\n",
      "Epoch 33/200\n",
      "34/34 [==============================] - 0s 8ms/step - loss: 50.2186 - val_loss: 54.2621\n",
      "Epoch 34/200\n",
      "34/34 [==============================] - 0s 8ms/step - loss: 53.9786 - val_loss: 56.7785\n",
      "Epoch 35/200\n",
      "34/34 [==============================] - 0s 7ms/step - loss: 58.7721 - val_loss: 61.7041\n",
      "Epoch 36/200\n",
      "34/34 [==============================] - 0s 7ms/step - loss: 55.6304 - val_loss: 62.8130\n",
      "Epoch 37/200\n",
      "34/34 [==============================] - 0s 7ms/step - loss: 57.1096 - val_loss: 59.8678\n",
      "Epoch 38/200\n",
      "34/34 [==============================] - 0s 7ms/step - loss: 59.6851 - val_loss: 59.9243\n",
      "Epoch 39/200\n",
      "34/34 [==============================] - 0s 7ms/step - loss: 53.8184 - val_loss: 54.2104\n",
      "Epoch 40/200\n",
      "34/34 [==============================] - 0s 7ms/step - loss: 50.9812 - val_loss: 53.8367\n",
      "Epoch 41/200\n",
      "34/34 [==============================] - 0s 8ms/step - loss: 53.9782 - val_loss: 55.1803\n",
      "Epoch 42/200\n",
      "34/34 [==============================] - 0s 7ms/step - loss: 52.9953 - val_loss: 53.1006\n",
      "Epoch 43/200\n",
      "34/34 [==============================] - 0s 8ms/step - loss: 52.2124 - val_loss: 54.4466\n",
      "Epoch 44/200\n",
      "34/34 [==============================] - 0s 7ms/step - loss: 50.4945 - val_loss: 44.3968\n",
      "Epoch 45/200\n",
      "34/34 [==============================] - 0s 7ms/step - loss: 48.6556 - val_loss: 46.5979\n",
      "Epoch 46/200\n",
      "34/34 [==============================] - 0s 7ms/step - loss: 45.5447 - val_loss: 47.3403\n",
      "Epoch 47/200\n",
      "34/34 [==============================] - 0s 7ms/step - loss: 50.8588 - val_loss: 36.3417\n",
      "Epoch 48/200\n",
      "34/34 [==============================] - 0s 8ms/step - loss: 48.3888 - val_loss: 47.4398\n",
      "Epoch 49/200\n",
      "34/34 [==============================] - 0s 7ms/step - loss: 44.4126 - val_loss: 33.5707\n",
      "Epoch 50/200\n",
      "34/34 [==============================] - 0s 7ms/step - loss: 45.7359 - val_loss: 43.5471\n",
      "Epoch 51/200\n",
      "34/34 [==============================] - 0s 7ms/step - loss: 45.2018 - val_loss: 46.3931\n",
      "Epoch 52/200\n",
      "34/34 [==============================] - 0s 7ms/step - loss: 43.0604 - val_loss: 37.7799\n",
      "Epoch 53/200\n",
      "34/34 [==============================] - 0s 8ms/step - loss: 45.1769 - val_loss: 46.6747\n",
      "Epoch 54/200\n",
      "34/34 [==============================] - 0s 7ms/step - loss: 42.3250 - val_loss: 41.7316\n",
      "Epoch 55/200\n",
      "34/34 [==============================] - 0s 7ms/step - loss: 46.4895 - val_loss: 39.5416\n",
      "Epoch 56/200\n",
      "34/34 [==============================] - 0s 7ms/step - loss: 41.5362 - val_loss: 43.2502\n",
      "Epoch 57/200\n",
      "34/34 [==============================] - 0s 7ms/step - loss: 45.0963 - val_loss: 47.1588\n",
      "Epoch 58/200\n",
      "34/34 [==============================] - 0s 7ms/step - loss: 41.4945 - val_loss: 37.0230\n",
      "Epoch 59/200\n",
      "34/34 [==============================] - 0s 7ms/step - loss: 41.6253 - val_loss: 43.8132\n",
      "Epoch 60/200\n",
      "34/34 [==============================] - 0s 8ms/step - loss: 41.5317 - val_loss: 43.9503\n",
      "Epoch 61/200\n",
      "34/34 [==============================] - 0s 8ms/step - loss: 38.6377 - val_loss: 44.0085\n",
      "Epoch 62/200\n",
      "34/34 [==============================] - 0s 8ms/step - loss: 38.4918 - val_loss: 39.8090\n",
      "Epoch 63/200\n",
      "34/34 [==============================] - 0s 9ms/step - loss: 38.4117 - val_loss: 37.8651\n",
      "Epoch 64/200\n",
      "34/34 [==============================] - 0s 7ms/step - loss: 37.6090 - val_loss: 95.9407\n",
      "Epoch 65/200\n",
      "34/34 [==============================] - 0s 8ms/step - loss: 39.1959 - val_loss: 52.7363\n",
      "Epoch 66/200\n",
      "34/34 [==============================] - 0s 8ms/step - loss: 36.5749 - val_loss: 50.1950\n",
      "Epoch 67/200\n",
      "34/34 [==============================] - 0s 8ms/step - loss: 39.3732 - val_loss: 61.4121\n",
      "Epoch 68/200\n",
      "34/34 [==============================] - 0s 8ms/step - loss: 39.7121 - val_loss: 1262.3484\n",
      "Epoch 69/200\n",
      "34/34 [==============================] - 0s 8ms/step - loss: 36.2705 - val_loss: 38.4788\n",
      "Epoch 70/200\n",
      "34/34 [==============================] - 0s 8ms/step - loss: 36.2581 - val_loss: 32.4618\n",
      "Epoch 71/200\n",
      "34/34 [==============================] - 0s 8ms/step - loss: 36.4355 - val_loss: 32.1583\n",
      "Epoch 72/200\n",
      "34/34 [==============================] - 0s 8ms/step - loss: 36.7214 - val_loss: 35.3943\n",
      "Epoch 73/200\n",
      "34/34 [==============================] - 0s 8ms/step - loss: 33.6001 - val_loss: 38.9765\n",
      "Epoch 74/200\n",
      "34/34 [==============================] - 0s 8ms/step - loss: 32.9941 - val_loss: 43.0586\n",
      "Epoch 75/200\n",
      "34/34 [==============================] - 0s 9ms/step - loss: 32.3620 - val_loss: 38.7125\n",
      "Epoch 76/200\n",
      "34/34 [==============================] - 0s 8ms/step - loss: 33.5947 - val_loss: 31.7316\n",
      "Epoch 77/200\n",
      "34/34 [==============================] - 0s 8ms/step - loss: 31.4269 - val_loss: 34.9626\n",
      "Epoch 78/200\n",
      "34/34 [==============================] - 0s 8ms/step - loss: 34.1854 - val_loss: 32.4238\n",
      "Epoch 79/200\n",
      "34/34 [==============================] - 0s 8ms/step - loss: 32.1252 - val_loss: 27.9471\n",
      "Epoch 80/200\n",
      "34/34 [==============================] - 0s 9ms/step - loss: 29.5738 - val_loss: 29.2665\n",
      "Epoch 81/200\n",
      "34/34 [==============================] - 0s 8ms/step - loss: 30.7408 - val_loss: 32.2685\n",
      "Epoch 82/200\n",
      "34/34 [==============================] - 0s 8ms/step - loss: 30.4396 - val_loss: 32.6460\n",
      "Epoch 83/200\n",
      "34/34 [==============================] - 0s 8ms/step - loss: 32.8837 - val_loss: 39.5977\n",
      "Epoch 84/200\n",
      "34/34 [==============================] - 0s 8ms/step - loss: 30.5858 - val_loss: 37.1476\n",
      "Epoch 85/200\n",
      "34/34 [==============================] - 0s 8ms/step - loss: 30.2762 - val_loss: 27.5071\n",
      "Epoch 86/200\n",
      "34/34 [==============================] - 0s 8ms/step - loss: 28.0486 - val_loss: 26.7898\n",
      "Epoch 87/200\n",
      "34/34 [==============================] - 0s 8ms/step - loss: 27.7475 - val_loss: 27.1943\n",
      "Epoch 88/200\n",
      "34/34 [==============================] - 0s 8ms/step - loss: 29.2690 - val_loss: 28.3002\n",
      "Epoch 89/200\n",
      "34/34 [==============================] - 0s 9ms/step - loss: 29.7237 - val_loss: 35.8365\n",
      "Epoch 90/200\n",
      "34/34 [==============================] - 0s 10ms/step - loss: 29.5804 - val_loss: 34.9721\n",
      "Epoch 91/200\n",
      "34/34 [==============================] - 0s 9ms/step - loss: 29.8153 - val_loss: 32.0166\n",
      "Epoch 92/200\n",
      "34/34 [==============================] - 0s 9ms/step - loss: 28.0755 - val_loss: 26.7478\n",
      "Epoch 93/200\n",
      "34/34 [==============================] - 0s 9ms/step - loss: 26.0692 - val_loss: 27.1344\n",
      "Epoch 94/200\n",
      "34/34 [==============================] - 0s 8ms/step - loss: 30.5740 - val_loss: 26.9494\n",
      "Epoch 95/200\n",
      "34/34 [==============================] - 0s 9ms/step - loss: 29.4393 - val_loss: 28.4292\n",
      "Epoch 96/200\n",
      "34/34 [==============================] - 0s 8ms/step - loss: 30.7917 - val_loss: 28.5995\n",
      "Epoch 97/200\n",
      "34/34 [==============================] - 0s 9ms/step - loss: 28.7214 - val_loss: 26.5619\n",
      "Epoch 98/200\n",
      "34/34 [==============================] - 0s 8ms/step - loss: 27.2247 - val_loss: 27.9448\n",
      "Epoch 99/200\n",
      "34/34 [==============================] - 0s 8ms/step - loss: 30.0573 - val_loss: 27.7293\n",
      "Epoch 100/200\n",
      "34/34 [==============================] - 0s 8ms/step - loss: 26.5968 - val_loss: 25.8220\n",
      "Epoch 101/200\n",
      "34/34 [==============================] - 0s 8ms/step - loss: 29.0334 - val_loss: 23.9367\n",
      "Epoch 102/200\n",
      "34/34 [==============================] - 0s 8ms/step - loss: 27.7131 - val_loss: 24.2776\n",
      "Epoch 103/200\n",
      "34/34 [==============================] - 0s 8ms/step - loss: 30.3196 - val_loss: 24.4854\n",
      "Epoch 104/200\n",
      "34/34 [==============================] - 0s 9ms/step - loss: 28.0889 - val_loss: 34.8802\n",
      "Epoch 105/200\n",
      "34/34 [==============================] - 0s 8ms/step - loss: 25.7862 - val_loss: 26.2569\n",
      "Epoch 106/200\n",
      "34/34 [==============================] - 0s 8ms/step - loss: 25.8326 - val_loss: 24.6619\n",
      "Epoch 107/200\n",
      "34/34 [==============================] - 0s 8ms/step - loss: 26.6283 - val_loss: 24.9098\n",
      "Epoch 108/200\n",
      "34/34 [==============================] - 0s 8ms/step - loss: 32.7784 - val_loss: 27.1897\n",
      "Epoch 109/200\n",
      "34/34 [==============================] - 0s 8ms/step - loss: 26.7443 - val_loss: 27.7069\n",
      "Epoch 110/200\n",
      "34/34 [==============================] - 0s 8ms/step - loss: 25.7145 - val_loss: 24.5577\n",
      "Epoch 111/200\n",
      "34/34 [==============================] - 0s 8ms/step - loss: 25.3328 - val_loss: 22.6601\n",
      "Epoch 112/200\n",
      "34/34 [==============================] - 0s 8ms/step - loss: 27.1325 - val_loss: 34.4822\n",
      "Epoch 113/200\n",
      "34/34 [==============================] - 0s 8ms/step - loss: 26.3070 - val_loss: 28.0083\n",
      "Epoch 114/200\n",
      "34/34 [==============================] - 0s 8ms/step - loss: 24.3328 - val_loss: 28.0086\n",
      "Epoch 115/200\n",
      "34/34 [==============================] - 0s 8ms/step - loss: 27.9414 - val_loss: 28.3628\n",
      "Epoch 116/200\n",
      "34/34 [==============================] - 0s 8ms/step - loss: 25.2025 - val_loss: 26.3685\n",
      "Epoch 117/200\n",
      "34/34 [==============================] - 0s 8ms/step - loss: 26.3285 - val_loss: 26.9063\n",
      "Epoch 118/200\n",
      "34/34 [==============================] - 0s 7ms/step - loss: 24.8618 - val_loss: 24.5838\n",
      "Epoch 119/200\n",
      "34/34 [==============================] - 0s 8ms/step - loss: 28.3677 - val_loss: 28.2851\n",
      "Epoch 120/200\n",
      "34/34 [==============================] - 0s 8ms/step - loss: 24.8709 - val_loss: 24.2593\n",
      "Epoch 121/200\n",
      "34/34 [==============================] - 0s 8ms/step - loss: 24.5634 - val_loss: 41.6304\n",
      "Epoch 122/200\n",
      "34/34 [==============================] - 0s 8ms/step - loss: 24.5444 - val_loss: 29.1073\n",
      "Epoch 123/200\n",
      "34/34 [==============================] - 0s 7ms/step - loss: 24.3560 - val_loss: 24.9390\n",
      "Epoch 124/200\n",
      "34/34 [==============================] - 0s 8ms/step - loss: 24.0047 - val_loss: 23.1154\n",
      "Epoch 125/200\n",
      "34/34 [==============================] - 0s 8ms/step - loss: 24.5605 - val_loss: 25.4244\n",
      "Epoch 126/200\n",
      "34/34 [==============================] - 0s 8ms/step - loss: 24.6440 - val_loss: 23.7667\n",
      "Epoch 127/200\n",
      "34/34 [==============================] - 0s 8ms/step - loss: 24.0710 - val_loss: 24.0926\n",
      "Epoch 128/200\n",
      "34/34 [==============================] - 0s 8ms/step - loss: 22.9723 - val_loss: 23.7177\n",
      "Epoch 129/200\n",
      "34/34 [==============================] - 0s 9ms/step - loss: 23.8667 - val_loss: 23.6316\n",
      "Epoch 130/200\n",
      "34/34 [==============================] - 0s 8ms/step - loss: 25.1247 - val_loss: 25.7913\n",
      "Epoch 131/200\n",
      "34/34 [==============================] - 0s 8ms/step - loss: 23.8986 - val_loss: 22.7622\n",
      "Epoch 132/200\n",
      "34/34 [==============================] - 0s 8ms/step - loss: 22.6948 - val_loss: 23.2947\n",
      "Epoch 133/200\n",
      "34/34 [==============================] - 0s 8ms/step - loss: 22.8624 - val_loss: 23.8894\n",
      "Epoch 134/200\n",
      "34/34 [==============================] - 0s 8ms/step - loss: 23.5346 - val_loss: 23.3440\n",
      "Epoch 135/200\n",
      "34/34 [==============================] - 0s 9ms/step - loss: 23.5681 - val_loss: 24.7886\n",
      "Epoch 136/200\n",
      "34/34 [==============================] - 0s 8ms/step - loss: 23.0532 - val_loss: 23.8919\n",
      "Epoch 137/200\n",
      "34/34 [==============================] - 0s 8ms/step - loss: 22.8202 - val_loss: 24.3625\n",
      "Epoch 138/200\n",
      "34/34 [==============================] - 0s 8ms/step - loss: 23.2388 - val_loss: 22.9988\n",
      "Epoch 139/200\n",
      "34/34 [==============================] - 0s 8ms/step - loss: 22.2911 - val_loss: 25.0023\n",
      "Epoch 140/200\n",
      "34/34 [==============================] - 0s 8ms/step - loss: 22.7014 - val_loss: 26.4739\n",
      "Epoch 141/200\n",
      "34/34 [==============================] - 0s 8ms/step - loss: 24.0229 - val_loss: 23.3115\n",
      "Epoch 142/200\n",
      "34/34 [==============================] - 0s 8ms/step - loss: 23.7650 - val_loss: 23.8383\n",
      "Epoch 143/200\n",
      "34/34 [==============================] - 0s 8ms/step - loss: 24.2005 - val_loss: 28.5559\n",
      "Epoch 144/200\n",
      "34/34 [==============================] - 0s 8ms/step - loss: 23.0563 - val_loss: 22.9938\n",
      "Epoch 145/200\n",
      "34/34 [==============================] - 0s 9ms/step - loss: 23.7910 - val_loss: 24.1454\n",
      "Epoch 146/200\n",
      "34/34 [==============================] - 0s 8ms/step - loss: 23.7584 - val_loss: 24.7040\n",
      "Epoch 147/200\n",
      "34/34 [==============================] - 0s 8ms/step - loss: 22.8271 - val_loss: 23.5943\n",
      "Epoch 148/200\n",
      "34/34 [==============================] - 0s 8ms/step - loss: 22.6869 - val_loss: 24.8684\n",
      "Epoch 149/200\n",
      "34/34 [==============================] - 0s 8ms/step - loss: 23.3326 - val_loss: 43.4599\n",
      "Epoch 150/200\n",
      "34/34 [==============================] - 0s 8ms/step - loss: 23.1424 - val_loss: 35.6880\n",
      "Epoch 151/200\n",
      "34/34 [==============================] - 0s 8ms/step - loss: 22.8221 - val_loss: 37.1578\n",
      "Epoch 152/200\n",
      "34/34 [==============================] - 0s 8ms/step - loss: 23.7015 - val_loss: 198.0428\n",
      "Epoch 153/200\n",
      "34/34 [==============================] - 0s 9ms/step - loss: 24.0003 - val_loss: 22.5113\n",
      "Epoch 154/200\n",
      "34/34 [==============================] - 0s 8ms/step - loss: 24.6502 - val_loss: 32.4020\n",
      "Epoch 155/200\n",
      "34/34 [==============================] - 0s 9ms/step - loss: 24.5307 - val_loss: 30.5049\n",
      "Epoch 156/200\n",
      "34/34 [==============================] - 0s 8ms/step - loss: 23.3276 - val_loss: 29.2861\n",
      "Epoch 157/200\n",
      "34/34 [==============================] - 0s 8ms/step - loss: 24.8319 - val_loss: 25.3365\n",
      "Epoch 158/200\n",
      "34/34 [==============================] - 0s 8ms/step - loss: 28.8383 - val_loss: 29.8450\n",
      "Epoch 159/200\n",
      "34/34 [==============================] - 0s 8ms/step - loss: 22.8009 - val_loss: 26.4696\n",
      "Epoch 160/200\n",
      "34/34 [==============================] - 0s 8ms/step - loss: 21.8735 - val_loss: 30.1124\n",
      "Epoch 161/200\n",
      "34/34 [==============================] - 0s 8ms/step - loss: 21.9441 - val_loss: 29.6658\n",
      "Epoch 162/200\n",
      "34/34 [==============================] - 0s 8ms/step - loss: 22.0285 - val_loss: 29.2431\n",
      "Epoch 163/200\n",
      "34/34 [==============================] - 0s 8ms/step - loss: 21.8432 - val_loss: 24.1347\n",
      "Epoch 164/200\n",
      "34/34 [==============================] - 0s 8ms/step - loss: 23.2798 - val_loss: 22.3147\n",
      "Epoch 165/200\n",
      "34/34 [==============================] - 0s 8ms/step - loss: 22.3899 - val_loss: 24.9742\n",
      "Epoch 166/200\n",
      "34/34 [==============================] - 0s 8ms/step - loss: 22.3894 - val_loss: 22.4927\n",
      "Epoch 167/200\n",
      "34/34 [==============================] - 0s 8ms/step - loss: 22.3302 - val_loss: 22.1356\n",
      "Epoch 168/200\n",
      "34/34 [==============================] - 0s 8ms/step - loss: 23.1999 - val_loss: 24.3277\n",
      "Epoch 169/200\n",
      "34/34 [==============================] - 0s 8ms/step - loss: 22.5526 - val_loss: 20.7063\n",
      "Epoch 170/200\n",
      "34/34 [==============================] - 0s 8ms/step - loss: 24.2280 - val_loss: 20.5222\n",
      "Epoch 171/200\n",
      "34/34 [==============================] - 0s 8ms/step - loss: 24.9696 - val_loss: 21.8321\n",
      "Epoch 172/200\n",
      "34/34 [==============================] - 0s 8ms/step - loss: 23.4156 - val_loss: 23.6502\n",
      "Epoch 173/200\n",
      "34/34 [==============================] - 0s 8ms/step - loss: 21.2268 - val_loss: 22.3931\n",
      "Epoch 174/200\n",
      "34/34 [==============================] - 0s 8ms/step - loss: 22.1837 - val_loss: 23.3036\n",
      "Epoch 175/200\n",
      "34/34 [==============================] - 0s 8ms/step - loss: 21.1565 - val_loss: 23.4445\n",
      "Epoch 176/200\n",
      "34/34 [==============================] - 0s 9ms/step - loss: 22.9992 - val_loss: 23.7143\n",
      "Epoch 177/200\n",
      "34/34 [==============================] - 0s 8ms/step - loss: 22.6444 - val_loss: 21.8483\n",
      "Epoch 178/200\n",
      "34/34 [==============================] - 0s 8ms/step - loss: 21.9402 - val_loss: 21.9894\n",
      "Epoch 179/200\n",
      "34/34 [==============================] - 0s 8ms/step - loss: 23.2411 - val_loss: 23.1439\n",
      "Epoch 180/200\n",
      "34/34 [==============================] - 0s 8ms/step - loss: 22.3839 - val_loss: 21.7348\n",
      "Epoch 181/200\n",
      "34/34 [==============================] - 0s 8ms/step - loss: 22.5276 - val_loss: 24.9337\n",
      "Epoch 182/200\n",
      "34/34 [==============================] - 0s 8ms/step - loss: 23.8713 - val_loss: 32.8958\n",
      "Epoch 183/200\n",
      "34/34 [==============================] - 0s 8ms/step - loss: 22.7477 - val_loss: 22.8725\n",
      "Epoch 184/200\n",
      "34/34 [==============================] - 0s 8ms/step - loss: 22.0957 - val_loss: 25.2709\n",
      "Epoch 185/200\n",
      "34/34 [==============================] - 0s 8ms/step - loss: 22.7681 - val_loss: 22.2098\n",
      "Epoch 186/200\n",
      "34/34 [==============================] - 0s 9ms/step - loss: 22.1773 - val_loss: 22.0848\n",
      "Epoch 187/200\n",
      "34/34 [==============================] - 0s 8ms/step - loss: 22.0657 - val_loss: 21.1259\n",
      "Epoch 188/200\n",
      "34/34 [==============================] - 0s 9ms/step - loss: 21.6458 - val_loss: 23.1556\n",
      "Epoch 189/200\n",
      "34/34 [==============================] - 0s 8ms/step - loss: 22.1204 - val_loss: 22.0496\n",
      "Epoch 190/200\n",
      "34/34 [==============================] - 0s 8ms/step - loss: 21.7967 - val_loss: 23.7122\n",
      "Epoch 191/200\n",
      "34/34 [==============================] - 0s 8ms/step - loss: 23.6596 - val_loss: 25.9834\n",
      "Epoch 192/200\n",
      "34/34 [==============================] - 0s 8ms/step - loss: 24.2651 - val_loss: 22.7787\n",
      "Epoch 193/200\n",
      "34/34 [==============================] - 0s 8ms/step - loss: 21.4543 - val_loss: 22.7534\n",
      "Epoch 194/200\n",
      "34/34 [==============================] - 0s 8ms/step - loss: 22.1458 - val_loss: 21.1834\n",
      "Epoch 195/200\n",
      "34/34 [==============================] - 0s 8ms/step - loss: 21.9835 - val_loss: 21.0964\n",
      "Epoch 196/200\n",
      "34/34 [==============================] - 0s 9ms/step - loss: 22.7105 - val_loss: 22.2770\n",
      "Epoch 197/200\n",
      "34/34 [==============================] - 0s 9ms/step - loss: 19.8383 - val_loss: 26.0354\n",
      "Epoch 198/200\n",
      "34/34 [==============================] - 0s 9ms/step - loss: 23.8105 - val_loss: 24.7134\n",
      "Epoch 199/200\n",
      "34/34 [==============================] - 0s 8ms/step - loss: 21.5401 - val_loss: 21.3024\n",
      "Epoch 200/200\n",
      "34/34 [==============================] - 0s 9ms/step - loss: 22.1388 - val_loss: 24.0976\n"
     ]
    }
   ],
   "source": [
    "history = model.fit(\n",
    "    [x_train_images, x_train_attr],\n",
    "    y_train,\n",
    "    validation_data=([x_test_images, x_test_attr], y_test),\n",
    "    epochs=200,\n",
    "    batch_size=8\n",
    ")"
   ]
  },
  {
   "cell_type": "code",
   "execution_count": 31,
   "metadata": {},
   "outputs": [
    {
     "data": {
      "application/vnd.plotly.v1+json": {
       "config": {
        "plotlyServerURL": "https://plot.ly"
       },
       "data": [
        {
         "name": "Training Loss",
         "type": "scatter",
         "y": [
          702.1578979492188,
          418.5096435546875,
          247.3139190673828,
          185.30079650878906,
          134.7508544921875,
          122.16162872314453,
          118.101318359375,
          103.78665924072266,
          90.74547576904297,
          98.49012756347656,
          74.09732818603516,
          78.10111999511719,
          82.1340560913086,
          73.73167419433594,
          74.8394546508789,
          72.34545135498047,
          67.06034088134766,
          70.74840545654297,
          75.43192291259766,
          66.34143829345703,
          67.3887710571289,
          60.157264709472656,
          59.35621643066406,
          57.5181884765625,
          59.16241455078125,
          63.88753128051758,
          59.27898406982422,
          62.1854248046875,
          53.353153228759766,
          56.01995086669922,
          56.00237274169922,
          52.36549758911133,
          50.21855926513672,
          53.97855758666992,
          58.77214050292969,
          55.63035583496094,
          57.10964584350586,
          59.68505096435547,
          53.818397521972656,
          50.981163024902344,
          53.978214263916016,
          52.99532699584961,
          52.21235656738281,
          50.4944953918457,
          48.65555953979492,
          45.54472351074219,
          50.85881042480469,
          48.38880920410156,
          44.41262435913086,
          45.735877990722656,
          45.20180130004883,
          43.060420989990234,
          45.176883697509766,
          42.324981689453125,
          46.489479064941406,
          41.53622817993164,
          45.0963020324707,
          41.49448013305664,
          41.62528991699219,
          41.5317497253418,
          38.63772964477539,
          38.491783142089844,
          38.411659240722656,
          37.609012603759766,
          39.195858001708984,
          36.57493591308594,
          39.373165130615234,
          39.71205139160156,
          36.27047348022461,
          36.25811767578125,
          36.435455322265625,
          36.72142028808594,
          33.600059509277344,
          32.994083404541016,
          32.361968994140625,
          33.594669342041016,
          31.426902770996094,
          34.18540573120117,
          32.125160217285156,
          29.573841094970703,
          30.740781784057617,
          30.439558029174805,
          32.88365173339844,
          30.58580780029297,
          30.276233673095703,
          28.048601150512695,
          27.747528076171875,
          29.268991470336914,
          29.72369956970215,
          29.580354690551758,
          29.815309524536133,
          28.075477600097656,
          26.069236755371094,
          30.573955535888672,
          29.4393310546875,
          30.791683197021484,
          28.721370697021484,
          27.2247371673584,
          30.05733871459961,
          26.596750259399414,
          29.03342628479004,
          27.713111877441406,
          30.319551467895508,
          28.088924407958984,
          25.786245346069336,
          25.83257484436035,
          26.628307342529297,
          32.77837371826172,
          26.74432373046875,
          25.714475631713867,
          25.33281135559082,
          27.132492065429688,
          26.307024002075195,
          24.33283233642578,
          27.941415786743164,
          25.202484130859375,
          26.32847023010254,
          24.861774444580078,
          28.3676700592041,
          24.870880126953125,
          24.563352584838867,
          24.54438018798828,
          24.35603141784668,
          24.00471305847168,
          24.560548782348633,
          24.644025802612305,
          24.070987701416016,
          22.972347259521484,
          23.86670684814453,
          25.124696731567383,
          23.898639678955078,
          22.694780349731445,
          22.862415313720703,
          23.53461456298828,
          23.568050384521484,
          23.053239822387695,
          22.820226669311523,
          23.238780975341797,
          22.29111099243164,
          22.701417922973633,
          24.02294921875,
          23.765037536621094,
          24.200525283813477,
          23.056320190429688,
          23.790950775146484,
          23.75835609436035,
          22.827146530151367,
          22.686939239501953,
          23.33260154724121,
          23.14244270324707,
          22.822072982788086,
          23.701534271240234,
          24.00028419494629,
          24.650217056274414,
          24.530651092529297,
          23.327564239501953,
          24.83190155029297,
          28.83827781677246,
          22.800861358642578,
          21.873470306396484,
          21.94409942626953,
          22.02853775024414,
          21.843238830566406,
          23.279752731323242,
          22.389904022216797,
          22.389354705810547,
          22.330230712890625,
          23.199874877929688,
          22.552640914916992,
          24.228017807006836,
          24.969608306884766,
          23.41559600830078,
          21.22677230834961,
          22.183717727661133,
          21.156543731689453,
          22.999181747436523,
          22.64443588256836,
          21.940185546875,
          23.24106788635254,
          22.38389015197754,
          22.527637481689453,
          23.871347427368164,
          22.747709274291992,
          22.095727920532227,
          22.768104553222656,
          22.17732810974121,
          22.06566619873047,
          21.645780563354492,
          22.120420455932617,
          21.796743392944336,
          23.65955924987793,
          24.26509666442871,
          21.454326629638672,
          22.145845413208008,
          21.98350715637207,
          22.710479736328125,
          19.83832359313965,
          23.810543060302734,
          21.54006576538086,
          22.13877296447754
         ]
        },
        {
         "name": "Validation Loss",
         "type": "scatter",
         "y": [
          104.28530883789062,
          98.096923828125,
          83.63806915283203,
          75.1717529296875,
          69.15611267089844,
          90.02108001708984,
          166.914794921875,
          151.44554138183594,
          353.9519348144531,
          709.89111328125,
          827.0261840820312,
          146.109619140625,
          86.09417724609375,
          104.18403625488281,
          105.12629699707031,
          91.80925750732422,
          72.44373321533203,
          68.21334838867188,
          68.19707489013672,
          68.42701721191406,
          67.38240051269531,
          65.72380828857422,
          66.6639404296875,
          60.91282653808594,
          61.104305267333984,
          62.227935791015625,
          57.50157928466797,
          61.19926834106445,
          61.66886901855469,
          60.703651428222656,
          58.027347564697266,
          53.58595275878906,
          54.262149810791016,
          56.7784538269043,
          61.704071044921875,
          62.81300354003906,
          59.86784362792969,
          59.92431640625,
          54.210411071777344,
          53.83665466308594,
          55.18027877807617,
          53.1005859375,
          54.44662857055664,
          44.39683151245117,
          46.59791564941406,
          47.340301513671875,
          36.341678619384766,
          47.439823150634766,
          33.57072448730469,
          43.54709243774414,
          46.39313507080078,
          37.77987289428711,
          46.67469024658203,
          41.73158645629883,
          39.54158401489258,
          43.25017547607422,
          47.15877151489258,
          37.02300262451172,
          43.81319808959961,
          43.95033645629883,
          44.008453369140625,
          39.808998107910156,
          37.865081787109375,
          95.94074249267578,
          52.73630142211914,
          50.19501876831055,
          61.412086486816406,
          1262.348388671875,
          38.47879409790039,
          32.46177673339844,
          32.15827178955078,
          35.39430618286133,
          38.976539611816406,
          43.058597564697266,
          38.712486267089844,
          31.731584548950195,
          34.962562561035156,
          32.423824310302734,
          27.94709587097168,
          29.266523361206055,
          32.26847457885742,
          32.645999908447266,
          39.59774398803711,
          37.14760208129883,
          27.507125854492188,
          26.78976821899414,
          27.194250106811523,
          28.300188064575195,
          35.83647537231445,
          34.97208023071289,
          32.0165901184082,
          26.747840881347656,
          27.134363174438477,
          26.949356079101562,
          28.4291934967041,
          28.599483489990234,
          26.561925888061523,
          27.944786071777344,
          27.729347229003906,
          25.822046279907227,
          23.936702728271484,
          24.277616500854492,
          24.485429763793945,
          34.88019561767578,
          26.256906509399414,
          24.661911010742188,
          24.909793853759766,
          27.189743041992188,
          27.706918716430664,
          24.557676315307617,
          22.660076141357422,
          34.482242584228516,
          28.00830841064453,
          28.008615493774414,
          28.362760543823242,
          26.368507385253906,
          26.906293869018555,
          24.58381462097168,
          28.285091400146484,
          24.259262084960938,
          41.63043212890625,
          29.107250213623047,
          24.938980102539062,
          23.11543083190918,
          25.42441749572754,
          23.766733169555664,
          24.092554092407227,
          23.71773910522461,
          23.631563186645508,
          25.791284561157227,
          22.762245178222656,
          23.29468536376953,
          23.889423370361328,
          23.34396743774414,
          24.7885684967041,
          23.891910552978516,
          24.362520217895508,
          22.998779296875,
          25.002307891845703,
          26.47386360168457,
          23.311485290527344,
          23.838333129882812,
          28.55592918395996,
          22.993816375732422,
          24.14544105529785,
          24.704036712646484,
          23.594331741333008,
          24.868383407592773,
          43.4598503112793,
          35.688045501708984,
          37.15784454345703,
          198.0427703857422,
          22.511335372924805,
          32.402042388916016,
          30.504867553710938,
          29.28609848022461,
          25.336519241333008,
          29.844982147216797,
          26.469629287719727,
          30.112384796142578,
          29.66578483581543,
          29.243057250976562,
          24.134706497192383,
          22.314722061157227,
          24.974231719970703,
          22.49268341064453,
          22.135560989379883,
          24.327741622924805,
          20.70627784729004,
          20.522201538085938,
          21.832059860229492,
          23.650243759155273,
          22.393138885498047,
          23.303638458251953,
          23.444541931152344,
          23.714284896850586,
          21.848310470581055,
          21.989397048950195,
          23.143869400024414,
          21.734848022460938,
          24.93373680114746,
          32.89584732055664,
          22.872543334960938,
          25.270858764648438,
          22.209781646728516,
          22.0848445892334,
          21.12592887878418,
          23.155574798583984,
          22.04964828491211,
          23.712244033813477,
          25.9833927154541,
          22.77872085571289,
          22.75343894958496,
          21.183401107788086,
          21.09640121459961,
          22.277034759521484,
          26.035398483276367,
          24.713436126708984,
          21.302448272705078,
          24.09762191772461
         ]
        }
       ],
       "layout": {
        "template": {
         "data": {
          "bar": [
           {
            "error_x": {
             "color": "#2a3f5f"
            },
            "error_y": {
             "color": "#2a3f5f"
            },
            "marker": {
             "line": {
              "color": "#E5ECF6",
              "width": 0.5
             },
             "pattern": {
              "fillmode": "overlay",
              "size": 10,
              "solidity": 0.2
             }
            },
            "type": "bar"
           }
          ],
          "barpolar": [
           {
            "marker": {
             "line": {
              "color": "#E5ECF6",
              "width": 0.5
             },
             "pattern": {
              "fillmode": "overlay",
              "size": 10,
              "solidity": 0.2
             }
            },
            "type": "barpolar"
           }
          ],
          "carpet": [
           {
            "aaxis": {
             "endlinecolor": "#2a3f5f",
             "gridcolor": "white",
             "linecolor": "white",
             "minorgridcolor": "white",
             "startlinecolor": "#2a3f5f"
            },
            "baxis": {
             "endlinecolor": "#2a3f5f",
             "gridcolor": "white",
             "linecolor": "white",
             "minorgridcolor": "white",
             "startlinecolor": "#2a3f5f"
            },
            "type": "carpet"
           }
          ],
          "choropleth": [
           {
            "colorbar": {
             "outlinewidth": 0,
             "ticks": ""
            },
            "type": "choropleth"
           }
          ],
          "contour": [
           {
            "colorbar": {
             "outlinewidth": 0,
             "ticks": ""
            },
            "colorscale": [
             [
              0,
              "#0d0887"
             ],
             [
              0.1111111111111111,
              "#46039f"
             ],
             [
              0.2222222222222222,
              "#7201a8"
             ],
             [
              0.3333333333333333,
              "#9c179e"
             ],
             [
              0.4444444444444444,
              "#bd3786"
             ],
             [
              0.5555555555555556,
              "#d8576b"
             ],
             [
              0.6666666666666666,
              "#ed7953"
             ],
             [
              0.7777777777777778,
              "#fb9f3a"
             ],
             [
              0.8888888888888888,
              "#fdca26"
             ],
             [
              1,
              "#f0f921"
             ]
            ],
            "type": "contour"
           }
          ],
          "contourcarpet": [
           {
            "colorbar": {
             "outlinewidth": 0,
             "ticks": ""
            },
            "type": "contourcarpet"
           }
          ],
          "heatmap": [
           {
            "colorbar": {
             "outlinewidth": 0,
             "ticks": ""
            },
            "colorscale": [
             [
              0,
              "#0d0887"
             ],
             [
              0.1111111111111111,
              "#46039f"
             ],
             [
              0.2222222222222222,
              "#7201a8"
             ],
             [
              0.3333333333333333,
              "#9c179e"
             ],
             [
              0.4444444444444444,
              "#bd3786"
             ],
             [
              0.5555555555555556,
              "#d8576b"
             ],
             [
              0.6666666666666666,
              "#ed7953"
             ],
             [
              0.7777777777777778,
              "#fb9f3a"
             ],
             [
              0.8888888888888888,
              "#fdca26"
             ],
             [
              1,
              "#f0f921"
             ]
            ],
            "type": "heatmap"
           }
          ],
          "heatmapgl": [
           {
            "colorbar": {
             "outlinewidth": 0,
             "ticks": ""
            },
            "colorscale": [
             [
              0,
              "#0d0887"
             ],
             [
              0.1111111111111111,
              "#46039f"
             ],
             [
              0.2222222222222222,
              "#7201a8"
             ],
             [
              0.3333333333333333,
              "#9c179e"
             ],
             [
              0.4444444444444444,
              "#bd3786"
             ],
             [
              0.5555555555555556,
              "#d8576b"
             ],
             [
              0.6666666666666666,
              "#ed7953"
             ],
             [
              0.7777777777777778,
              "#fb9f3a"
             ],
             [
              0.8888888888888888,
              "#fdca26"
             ],
             [
              1,
              "#f0f921"
             ]
            ],
            "type": "heatmapgl"
           }
          ],
          "histogram": [
           {
            "marker": {
             "pattern": {
              "fillmode": "overlay",
              "size": 10,
              "solidity": 0.2
             }
            },
            "type": "histogram"
           }
          ],
          "histogram2d": [
           {
            "colorbar": {
             "outlinewidth": 0,
             "ticks": ""
            },
            "colorscale": [
             [
              0,
              "#0d0887"
             ],
             [
              0.1111111111111111,
              "#46039f"
             ],
             [
              0.2222222222222222,
              "#7201a8"
             ],
             [
              0.3333333333333333,
              "#9c179e"
             ],
             [
              0.4444444444444444,
              "#bd3786"
             ],
             [
              0.5555555555555556,
              "#d8576b"
             ],
             [
              0.6666666666666666,
              "#ed7953"
             ],
             [
              0.7777777777777778,
              "#fb9f3a"
             ],
             [
              0.8888888888888888,
              "#fdca26"
             ],
             [
              1,
              "#f0f921"
             ]
            ],
            "type": "histogram2d"
           }
          ],
          "histogram2dcontour": [
           {
            "colorbar": {
             "outlinewidth": 0,
             "ticks": ""
            },
            "colorscale": [
             [
              0,
              "#0d0887"
             ],
             [
              0.1111111111111111,
              "#46039f"
             ],
             [
              0.2222222222222222,
              "#7201a8"
             ],
             [
              0.3333333333333333,
              "#9c179e"
             ],
             [
              0.4444444444444444,
              "#bd3786"
             ],
             [
              0.5555555555555556,
              "#d8576b"
             ],
             [
              0.6666666666666666,
              "#ed7953"
             ],
             [
              0.7777777777777778,
              "#fb9f3a"
             ],
             [
              0.8888888888888888,
              "#fdca26"
             ],
             [
              1,
              "#f0f921"
             ]
            ],
            "type": "histogram2dcontour"
           }
          ],
          "mesh3d": [
           {
            "colorbar": {
             "outlinewidth": 0,
             "ticks": ""
            },
            "type": "mesh3d"
           }
          ],
          "parcoords": [
           {
            "line": {
             "colorbar": {
              "outlinewidth": 0,
              "ticks": ""
             }
            },
            "type": "parcoords"
           }
          ],
          "pie": [
           {
            "automargin": true,
            "type": "pie"
           }
          ],
          "scatter": [
           {
            "fillpattern": {
             "fillmode": "overlay",
             "size": 10,
             "solidity": 0.2
            },
            "type": "scatter"
           }
          ],
          "scatter3d": [
           {
            "line": {
             "colorbar": {
              "outlinewidth": 0,
              "ticks": ""
             }
            },
            "marker": {
             "colorbar": {
              "outlinewidth": 0,
              "ticks": ""
             }
            },
            "type": "scatter3d"
           }
          ],
          "scattercarpet": [
           {
            "marker": {
             "colorbar": {
              "outlinewidth": 0,
              "ticks": ""
             }
            },
            "type": "scattercarpet"
           }
          ],
          "scattergeo": [
           {
            "marker": {
             "colorbar": {
              "outlinewidth": 0,
              "ticks": ""
             }
            },
            "type": "scattergeo"
           }
          ],
          "scattergl": [
           {
            "marker": {
             "colorbar": {
              "outlinewidth": 0,
              "ticks": ""
             }
            },
            "type": "scattergl"
           }
          ],
          "scattermapbox": [
           {
            "marker": {
             "colorbar": {
              "outlinewidth": 0,
              "ticks": ""
             }
            },
            "type": "scattermapbox"
           }
          ],
          "scatterpolar": [
           {
            "marker": {
             "colorbar": {
              "outlinewidth": 0,
              "ticks": ""
             }
            },
            "type": "scatterpolar"
           }
          ],
          "scatterpolargl": [
           {
            "marker": {
             "colorbar": {
              "outlinewidth": 0,
              "ticks": ""
             }
            },
            "type": "scatterpolargl"
           }
          ],
          "scatterternary": [
           {
            "marker": {
             "colorbar": {
              "outlinewidth": 0,
              "ticks": ""
             }
            },
            "type": "scatterternary"
           }
          ],
          "surface": [
           {
            "colorbar": {
             "outlinewidth": 0,
             "ticks": ""
            },
            "colorscale": [
             [
              0,
              "#0d0887"
             ],
             [
              0.1111111111111111,
              "#46039f"
             ],
             [
              0.2222222222222222,
              "#7201a8"
             ],
             [
              0.3333333333333333,
              "#9c179e"
             ],
             [
              0.4444444444444444,
              "#bd3786"
             ],
             [
              0.5555555555555556,
              "#d8576b"
             ],
             [
              0.6666666666666666,
              "#ed7953"
             ],
             [
              0.7777777777777778,
              "#fb9f3a"
             ],
             [
              0.8888888888888888,
              "#fdca26"
             ],
             [
              1,
              "#f0f921"
             ]
            ],
            "type": "surface"
           }
          ],
          "table": [
           {
            "cells": {
             "fill": {
              "color": "#EBF0F8"
             },
             "line": {
              "color": "white"
             }
            },
            "header": {
             "fill": {
              "color": "#C8D4E3"
             },
             "line": {
              "color": "white"
             }
            },
            "type": "table"
           }
          ]
         },
         "layout": {
          "annotationdefaults": {
           "arrowcolor": "#2a3f5f",
           "arrowhead": 0,
           "arrowwidth": 1
          },
          "autotypenumbers": "strict",
          "coloraxis": {
           "colorbar": {
            "outlinewidth": 0,
            "ticks": ""
           }
          },
          "colorscale": {
           "diverging": [
            [
             0,
             "#8e0152"
            ],
            [
             0.1,
             "#c51b7d"
            ],
            [
             0.2,
             "#de77ae"
            ],
            [
             0.3,
             "#f1b6da"
            ],
            [
             0.4,
             "#fde0ef"
            ],
            [
             0.5,
             "#f7f7f7"
            ],
            [
             0.6,
             "#e6f5d0"
            ],
            [
             0.7,
             "#b8e186"
            ],
            [
             0.8,
             "#7fbc41"
            ],
            [
             0.9,
             "#4d9221"
            ],
            [
             1,
             "#276419"
            ]
           ],
           "sequential": [
            [
             0,
             "#0d0887"
            ],
            [
             0.1111111111111111,
             "#46039f"
            ],
            [
             0.2222222222222222,
             "#7201a8"
            ],
            [
             0.3333333333333333,
             "#9c179e"
            ],
            [
             0.4444444444444444,
             "#bd3786"
            ],
            [
             0.5555555555555556,
             "#d8576b"
            ],
            [
             0.6666666666666666,
             "#ed7953"
            ],
            [
             0.7777777777777778,
             "#fb9f3a"
            ],
            [
             0.8888888888888888,
             "#fdca26"
            ],
            [
             1,
             "#f0f921"
            ]
           ],
           "sequentialminus": [
            [
             0,
             "#0d0887"
            ],
            [
             0.1111111111111111,
             "#46039f"
            ],
            [
             0.2222222222222222,
             "#7201a8"
            ],
            [
             0.3333333333333333,
             "#9c179e"
            ],
            [
             0.4444444444444444,
             "#bd3786"
            ],
            [
             0.5555555555555556,
             "#d8576b"
            ],
            [
             0.6666666666666666,
             "#ed7953"
            ],
            [
             0.7777777777777778,
             "#fb9f3a"
            ],
            [
             0.8888888888888888,
             "#fdca26"
            ],
            [
             1,
             "#f0f921"
            ]
           ]
          },
          "colorway": [
           "#636efa",
           "#EF553B",
           "#00cc96",
           "#ab63fa",
           "#FFA15A",
           "#19d3f3",
           "#FF6692",
           "#B6E880",
           "#FF97FF",
           "#FECB52"
          ],
          "font": {
           "color": "#2a3f5f"
          },
          "geo": {
           "bgcolor": "white",
           "lakecolor": "white",
           "landcolor": "#E5ECF6",
           "showlakes": true,
           "showland": true,
           "subunitcolor": "white"
          },
          "hoverlabel": {
           "align": "left"
          },
          "hovermode": "closest",
          "mapbox": {
           "style": "light"
          },
          "paper_bgcolor": "white",
          "plot_bgcolor": "#E5ECF6",
          "polar": {
           "angularaxis": {
            "gridcolor": "white",
            "linecolor": "white",
            "ticks": ""
           },
           "bgcolor": "#E5ECF6",
           "radialaxis": {
            "gridcolor": "white",
            "linecolor": "white",
            "ticks": ""
           }
          },
          "scene": {
           "xaxis": {
            "backgroundcolor": "#E5ECF6",
            "gridcolor": "white",
            "gridwidth": 2,
            "linecolor": "white",
            "showbackground": true,
            "ticks": "",
            "zerolinecolor": "white"
           },
           "yaxis": {
            "backgroundcolor": "#E5ECF6",
            "gridcolor": "white",
            "gridwidth": 2,
            "linecolor": "white",
            "showbackground": true,
            "ticks": "",
            "zerolinecolor": "white"
           },
           "zaxis": {
            "backgroundcolor": "#E5ECF6",
            "gridcolor": "white",
            "gridwidth": 2,
            "linecolor": "white",
            "showbackground": true,
            "ticks": "",
            "zerolinecolor": "white"
           }
          },
          "shapedefaults": {
           "line": {
            "color": "#2a3f5f"
           }
          },
          "ternary": {
           "aaxis": {
            "gridcolor": "white",
            "linecolor": "white",
            "ticks": ""
           },
           "baxis": {
            "gridcolor": "white",
            "linecolor": "white",
            "ticks": ""
           },
           "bgcolor": "#E5ECF6",
           "caxis": {
            "gridcolor": "white",
            "linecolor": "white",
            "ticks": ""
           }
          },
          "title": {
           "x": 0.05
          },
          "xaxis": {
           "automargin": true,
           "gridcolor": "white",
           "linecolor": "white",
           "ticks": "",
           "title": {
            "standoff": 15
           },
           "zerolinecolor": "white",
           "zerolinewidth": 2
          },
          "yaxis": {
           "automargin": true,
           "gridcolor": "white",
           "linecolor": "white",
           "ticks": "",
           "title": {
            "standoff": 15
           },
           "zerolinecolor": "white",
           "zerolinewidth": 2
          }
         }
        },
        "title": {
         "text": "Training and Validation Loss"
        },
        "xaxis": {
         "title": {
          "text": "Epoch"
         }
        },
        "yaxis": {
         "title": {
          "text": "Loss"
         }
        }
       }
      }
     },
     "metadata": {},
     "output_type": "display_data"
    }
   ],
   "source": [
    "# Plot training and validation loss\n",
    "fig = go.Figure()\n",
    "fig.add_trace(go.Scatter(\n",
    "    y=history.history[\"loss\"],\n",
    "    name=\"Training Loss\"\n",
    "))\n",
    "fig.add_trace(go.Scatter(\n",
    "    y=history.history[\"val_loss\"],\n",
    "    name=\"Validation Loss\"\n",
    "))\n",
    "fig.update_layout(\n",
    "    title=\"Training and Validation Loss\",\n",
    "    xaxis_title=\"Epoch\",\n",
    "    yaxis_title=\"Loss\"\n",
    ")\n",
    "fig.show()"
   ]
  },
  {
   "cell_type": "code",
   "execution_count": 33,
   "metadata": {},
   "outputs": [
    {
     "name": "stdout",
     "output_type": "stream",
     "text": [
      "3/3 [==============================] - 0s 8ms/step\n"
     ]
    }
   ],
   "source": [
    "preds = model.predict([x_test_images, x_test_attr])"
   ]
  },
  {
   "cell_type": "code",
   "execution_count": 34,
   "metadata": {},
   "outputs": [],
   "source": [
    "diff = preds.flatten() - y_test\n",
    "percent_diff = (diff / y_test) * 100\n",
    "abs_percent_diff = np.abs(percent_diff)\n",
    "\n",
    "mean = np.mean(abs_percent_diff)\n",
    "std = np.std(abs_percent_diff)"
   ]
  },
  {
   "cell_type": "code",
   "execution_count": 35,
   "metadata": {},
   "outputs": [
    {
     "name": "stdout",
     "output_type": "stream",
     "text": [
      "avg. house price: $533,388.27\n",
      "mean: 24.10%, std: 19.43%\n"
     ]
    }
   ],
   "source": [
    "locale.setlocale(locale.LC_ALL, \"en_US.UTF-8\")\n",
    "print(f\"avg. house price: {locale.currency(df['price'].mean(), grouping=True)}\")\n",
    "print(f\"mean: {mean:.2f}%, std: {std:.2f}%\")"
   ]
  },
  {
   "cell_type": "code",
   "execution_count": null,
   "metadata": {},
   "outputs": [],
   "source": []
  }
 ],
 "metadata": {
  "kernelspec": {
   "display_name": "house_price_prediction",
   "language": "python",
   "name": "python3"
  },
  "language_info": {
   "codemirror_mode": {
    "name": "ipython",
    "version": 3
   },
   "file_extension": ".py",
   "mimetype": "text/x-python",
   "name": "python",
   "nbconvert_exporter": "python",
   "pygments_lexer": "ipython3",
   "version": "3.10.9"
  },
  "orig_nbformat": 4,
  "vscode": {
   "interpreter": {
    "hash": "88e49f460336e1c7d0a72da31c4f88d2cb5680c60f51d185b02bf3e0f879382d"
   }
  }
 },
 "nbformat": 4,
 "nbformat_minor": 2
}
